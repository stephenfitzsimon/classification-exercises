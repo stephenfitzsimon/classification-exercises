{
 "cells": [
  {
   "cell_type": "code",
   "execution_count": 4,
   "id": "c0f940cd",
   "metadata": {},
   "outputs": [],
   "source": [
    "import pydataset\n",
    "import pandas as pd\n",
    "from scipy import stats\n",
    "import matplotlib.pyplot as plt\n",
    "import seaborn as sns\n",
    "\n",
    "# train test split from sklearn\n",
    "from sklearn.model_selection import train_test_split\n",
    "# imputer from sklearn\n",
    "from sklearn.impute import SimpleImputer"
   ]
  },
  {
   "cell_type": "markdown",
   "id": "b11e2f52",
   "metadata": {},
   "source": [
    "# data acquisition"
   ]
  },
  {
   "cell_type": "markdown",
   "id": "13ce8cd2",
   "metadata": {},
   "source": [
    "In a jupyter notebook, classification_exercises.ipynb, use a python module (pydata or seaborn datasets) containing datasets as a source from the iris data. Create a pandas dataframe, df_iris, from this data.\n",
    "\n",
    "- print the first 3 rows\n",
    "- print the number of rows and columns (shape)\n",
    "- print the column names\n",
    "- print the data type of each column\n",
    "- print the summary statistics for each of the numeric variables\n",
    "\n"
   ]
  },
  {
   "cell_type": "code",
   "execution_count": null,
   "id": "cfc66711",
   "metadata": {},
   "outputs": [],
   "source": [
    "df_iris = pydataset.data('iris')"
   ]
  },
  {
   "cell_type": "code",
   "execution_count": null,
   "id": "e502d855",
   "metadata": {},
   "outputs": [],
   "source": [
    "df_iris.head(3)"
   ]
  },
  {
   "cell_type": "code",
   "execution_count": null,
   "id": "281a4167",
   "metadata": {},
   "outputs": [],
   "source": [
    "df_iris.shape"
   ]
  },
  {
   "cell_type": "code",
   "execution_count": null,
   "id": "014ef1e4",
   "metadata": {},
   "outputs": [],
   "source": [
    "df_iris.columns"
   ]
  },
  {
   "cell_type": "code",
   "execution_count": null,
   "id": "24a1c309",
   "metadata": {},
   "outputs": [],
   "source": [
    "df_iris.dtypes"
   ]
  },
  {
   "cell_type": "code",
   "execution_count": null,
   "id": "55d951b0",
   "metadata": {},
   "outputs": [],
   "source": [
    "df_iris.describe()"
   ]
  },
  {
   "cell_type": "markdown",
   "id": "a092bc1f",
   "metadata": {},
   "source": [
    "\n",
    "\n",
    "Read the Table1_CustDetails table from your spreadsheet exercises google sheet into a dataframe named df_google_sheets.\n",
    "\n",
    "Make sure that the spreadsheet is publicly visible under your sharing settings.\n",
    "\n",
    "- assign the first 100 rows to a new dataframe, df_google_sheets_sample\n",
    "- print the number of rows of your original dataframe\n",
    "- print the column names that have a data type of object\n",
    "- compute the range for each of the numeric variables.\n",
    "\n"
   ]
  },
  {
   "cell_type": "code",
   "execution_count": null,
   "id": "f9f07b12",
   "metadata": {},
   "outputs": [],
   "source": [
    "sheet_url = 'https://docs.google.com/spreadsheets/d/10wggtv3PSKYyRMgvTOJ6d9ksuw-FguyU_7yfishNlgk/edit#gid=1023018493'\n",
    "export_sheet_url = sheet_url.replace('/edit#gid=', '/export?format=csv&gid=')\n",
    "df_google_sheet = pd.read_csv(export_sheet_url)\n",
    "df_google_sheet"
   ]
  },
  {
   "cell_type": "code",
   "execution_count": null,
   "id": "2ee0b885",
   "metadata": {},
   "outputs": [],
   "source": [
    "df_google_sheets_sample = df_google_sheet.head(100)"
   ]
  },
  {
   "cell_type": "code",
   "execution_count": null,
   "id": "81fff75b",
   "metadata": {},
   "outputs": [],
   "source": [
    "df_google_sheet.shape"
   ]
  },
  {
   "cell_type": "code",
   "execution_count": null,
   "id": "9a50ad56",
   "metadata": {},
   "outputs": [],
   "source": [
    "df_google_sheet.dtypes[df_google_sheet.dtypes=='object']\n",
    "#alt from class\n",
    "df_google_sheet.select_dtypes(include='object').columns"
   ]
  },
  {
   "cell_type": "code",
   "execution_count": null,
   "id": "36d7189e",
   "metadata": {},
   "outputs": [],
   "source": [
    "df_google_sheet.describe().loc[['max', 'min']]"
   ]
  },
  {
   "cell_type": "code",
   "execution_count": null,
   "id": "5bc434d0",
   "metadata": {},
   "outputs": [],
   "source": [
    "df_google_sheet.describe().loc['max'] - df_google_sheet.describe().loc['min']"
   ]
  },
  {
   "cell_type": "markdown",
   "id": "6d304858",
   "metadata": {},
   "source": [
    "\n",
    "\n",
    "Download your spreadsheet exercises google sheet as an excel file (File → Download → Microsoft Excel). Read the Table1_CustDetails worksheet into a dataframe named df_excel.\n",
    "\n",
    "- assign the first 100 rows to a new dataframe, df_excel_sample\n",
    "- print the number of rows of your original dataframe\n",
    "- print the first 5 column names\n",
    "- print the column names that have a data type of object\n",
    "- compute the range for each of the numeric variables.\n",
    "\n"
   ]
  },
  {
   "cell_type": "code",
   "execution_count": null,
   "id": "ec77add7",
   "metadata": {},
   "outputs": [],
   "source": [
    "df_excel = pd.read_excel('Table1_CustDetails.xlsx')"
   ]
  },
  {
   "cell_type": "code",
   "execution_count": null,
   "id": "f5accb0f",
   "metadata": {},
   "outputs": [],
   "source": [
    "df_excel_sample = df_excel.head(100)"
   ]
  },
  {
   "cell_type": "code",
   "execution_count": null,
   "id": "fd605937",
   "metadata": {},
   "outputs": [],
   "source": [
    "df_excel.shape"
   ]
  },
  {
   "cell_type": "code",
   "execution_count": null,
   "id": "a90c2bdf",
   "metadata": {},
   "outputs": [],
   "source": [
    "df_excel.columns[:5]"
   ]
  },
  {
   "cell_type": "code",
   "execution_count": null,
   "id": "fbba37eb",
   "metadata": {},
   "outputs": [],
   "source": [
    "df_excel.dtypes[df_excel.dtypes=='object']"
   ]
  },
  {
   "cell_type": "code",
   "execution_count": null,
   "id": "283752d0",
   "metadata": {},
   "outputs": [],
   "source": [
    "df_excel.describe().loc[['max', 'min']]"
   ]
  },
  {
   "cell_type": "code",
   "execution_count": null,
   "id": "47403298",
   "metadata": {},
   "outputs": [],
   "source": [
    "(df_excel.describe().loc['max'] - df_excel.describe().loc['min'])[['monthly_charges', 'total_charges', 'tenure']]"
   ]
  },
  {
   "cell_type": "code",
   "execution_count": null,
   "id": "23765c9c",
   "metadata": {},
   "outputs": [],
   "source": [
    "#alt from class: make a transposed data frame\n",
    "stats_excel = df_excel.describe().T\n",
    "stats_excel['range'] = stats_excel['max'] - stats_excel['min']\n",
    "stats_excel['range']"
   ]
  },
  {
   "cell_type": "markdown",
   "id": "7b944ce3",
   "metadata": {},
   "source": [
    "\n",
    "\n",
    "Read the data from this google sheet into a dataframe, df_google.\n",
    "\n",
    "- print the first 3 rows\n",
    "- print the number of rows and columns\n",
    "- print the column names\n",
    "- print the data type of each column\n",
    "- print the summary statistics for each of the numeric variables\n",
    "- print the unique values for each of your categorical variables\n",
    "\n"
   ]
  },
  {
   "cell_type": "code",
   "execution_count": null,
   "id": "10f3f90c",
   "metadata": {},
   "outputs": [],
   "source": [
    "sheet_url = 'https://docs.google.com/spreadsheets/d/1Uhtml8KY19LILuZsrDtlsHHDC9wuDGUSe8LTEwvdI5g/edit#gid=341089357'\n",
    "export_sheet_url = sheet_url.replace('/edit#gid=', '/export?format=csv&gid=')\n",
    "df_google = pd.read_csv(export_sheet_url)\n",
    "df_google"
   ]
  },
  {
   "cell_type": "code",
   "execution_count": null,
   "id": "a64b0677",
   "metadata": {},
   "outputs": [],
   "source": [
    "df_google.shape"
   ]
  },
  {
   "cell_type": "code",
   "execution_count": null,
   "id": "ca96cbbc",
   "metadata": {},
   "outputs": [],
   "source": [
    "df_google.columns"
   ]
  },
  {
   "cell_type": "code",
   "execution_count": null,
   "id": "efba39ab",
   "metadata": {},
   "outputs": [],
   "source": [
    "df_google.dtypes"
   ]
  },
  {
   "cell_type": "code",
   "execution_count": null,
   "id": "2266237b",
   "metadata": {},
   "outputs": [],
   "source": [
    "df_google.describe()"
   ]
  },
  {
   "cell_type": "code",
   "execution_count": null,
   "id": "d8ace736",
   "metadata": {},
   "outputs": [],
   "source": [
    "df_google[['Name', 'Sex', 'Ticket', 'Cabin', 'Embarked']].nunique()"
   ]
  },
  {
   "cell_type": "code",
   "execution_count": null,
   "id": "63330979",
   "metadata": {},
   "outputs": [],
   "source": [
    "df_google.select_dtypes('object')"
   ]
  },
  {
   "cell_type": "markdown",
   "id": "100a0bea",
   "metadata": {},
   "source": [
    "#### acquire file test"
   ]
  },
  {
   "cell_type": "code",
   "execution_count": null,
   "id": "7461cb83",
   "metadata": {},
   "outputs": [],
   "source": [
    "import acquire"
   ]
  },
  {
   "cell_type": "code",
   "execution_count": null,
   "id": "9aa849fe",
   "metadata": {},
   "outputs": [],
   "source": [
    "acquire.get_titanic_data()"
   ]
  },
  {
   "cell_type": "code",
   "execution_count": null,
   "id": "aa8ec057",
   "metadata": {},
   "outputs": [],
   "source": [
    "acquire.get_iris_data()"
   ]
  },
  {
   "cell_type": "code",
   "execution_count": null,
   "id": "a3aa895a",
   "metadata": {},
   "outputs": [],
   "source": [
    "acquire.get_telco_data()"
   ]
  },
  {
   "cell_type": "markdown",
   "id": "f38cf672",
   "metadata": {},
   "source": [
    "# data preperation"
   ]
  },
  {
   "cell_type": "markdown",
   "id": "f3f1f92d",
   "metadata": {},
   "source": [
    "### iris data\n",
    "\n",
    "1. Use the function defined in acquire.py to load the iris data. "
   ]
  },
  {
   "cell_type": "code",
   "execution_count": null,
   "id": "da8411e6",
   "metadata": {
    "scrolled": false
   },
   "outputs": [],
   "source": [
    "iris = acquire.get_iris_data()\n",
    "iris.head()"
   ]
  },
  {
   "cell_type": "markdown",
   "id": "13541b0c",
   "metadata": {},
   "source": [
    "2. Drop the species_id and measurement_id columns. "
   ]
  },
  {
   "cell_type": "code",
   "execution_count": null,
   "id": "b710bc79",
   "metadata": {},
   "outputs": [],
   "source": [
    "iris.drop(columns = ['species_id', 'measurement_id', 'Unnamed: 0'], inplace = True)"
   ]
  },
  {
   "cell_type": "markdown",
   "id": "d1e61aae",
   "metadata": {},
   "source": [
    "3. Rename the species_name column to just species. "
   ]
  },
  {
   "cell_type": "code",
   "execution_count": null,
   "id": "2d0ea778",
   "metadata": {},
   "outputs": [],
   "source": [
    "iris.rename(columns = {'species_name':'species'}, inplace=True)"
   ]
  },
  {
   "cell_type": "markdown",
   "id": "9dcf9229",
   "metadata": {},
   "source": [
    "4. Create dummy variables of the species name and concatenate onto the iris dataframe. (This is for practice, we don't always have to encode the target, but if we used species as a feature, we would need to encode it)."
   ]
  },
  {
   "cell_type": "code",
   "execution_count": null,
   "id": "895441c0",
   "metadata": {},
   "outputs": [],
   "source": [
    "dummy_df = pd.get_dummies(iris[['species']], dummy_na=False, drop_first=True)\n",
    "iris = pd.concat([iris, dummy_df], axis = 1)\n",
    "iris.head()"
   ]
  },
  {
   "cell_type": "markdown",
   "id": "1e02910d",
   "metadata": {},
   "source": [
    "5. Create a function named prep_iris that accepts the untransformed iris data, and returns the data with the transformations above applied."
   ]
  },
  {
   "cell_type": "code",
   "execution_count": null,
   "id": "95e2ad5b",
   "metadata": {},
   "outputs": [],
   "source": [
    "def prep_iris(df):\n",
    "    df.drop(columns = ['species_id', 'measurement_id', 'Unnamed: 0'], inplace = True)\n",
    "    df.rename(columns = {'species_name':'species'}, inplace=True)\n",
    "    dummy_df = pd.get_dummies(iris[['species']], dummy_na=False, drop_first=True)\n",
    "    df = pd.concat([df, dummy_df], axis = 1)\n",
    "    return df\n",
    "\n",
    "iris = prep_iris(acquire.get_iris_data())\n",
    "iris.head()"
   ]
  },
  {
   "cell_type": "markdown",
   "id": "afb643c9",
   "metadata": {},
   "source": [
    "### titanic dataset\n",
    "\n",
    "1. Use the function defined in acquire.py to load the Titanic data"
   ]
  },
  {
   "cell_type": "code",
   "execution_count": null,
   "id": "a5937220",
   "metadata": {},
   "outputs": [],
   "source": [
    "titanic = acquire.get_titanic_data()\n",
    "titanic.head()"
   ]
  },
  {
   "cell_type": "markdown",
   "id": "b6061f19",
   "metadata": {},
   "source": [
    "2. Drop any unnecessary, unhelpful, or duplicated columns."
   ]
  },
  {
   "cell_type": "code",
   "execution_count": null,
   "id": "2f27f04c",
   "metadata": {},
   "outputs": [],
   "source": [
    "titanic.drop(columns = ['Unnamed: 0', 'passenger_id', 'embarked', 'pclass', 'deck'], inplace= True)\n",
    "titanic.rename(columns = {'class': 'pclass'}, inplace = True)\n",
    "titanic.head()"
   ]
  },
  {
   "cell_type": "markdown",
   "id": "95f99317",
   "metadata": {},
   "source": [
    "3. Encode the categorical columns. Create dummy variables of the categorical columns and concatenate them onto the dataframe."
   ]
  },
  {
   "cell_type": "code",
   "execution_count": null,
   "id": "87b49ddb",
   "metadata": {},
   "outputs": [],
   "source": [
    "dummy_df = pd.get_dummies(titanic[['sex', 'embark_town']], dummy_na = False, drop_first = [True, True])\n",
    "titanic = pd.concat([titanic, dummy_df], axis = 1)\n",
    "titanic.head()"
   ]
  },
  {
   "cell_type": "markdown",
   "id": "afdf6703",
   "metadata": {},
   "source": [
    "4. Create a function named prep_titanic that accepts the raw titanic data, and returns the data with the transformations above applied."
   ]
  },
  {
   "cell_type": "code",
   "execution_count": null,
   "id": "25160bd4",
   "metadata": {},
   "outputs": [],
   "source": [
    "def prep_titanic(df):\n",
    "    '''\n",
    "    cleans the titanic data \n",
    "    '''\n",
    "    df.drop_duplicates(inplace=True)\n",
    "    col_to_drop = ['Unnamed: 0','embarked', 'class', 'passenger_id', 'deck']\n",
    "    df = df.drop(columns=col_to_drop)\n",
    "    df['embark_town'] = df.embark_town.fillna(value='Southampton')\n",
    "    dummy_df = pd.get_dummies(df[['sex', 'embark_town']], dummy_na = False, drop_first = [True, True])\n",
    "    df = pd.concat([df, dummy_df], axis = 1)\n",
    "    return df.drop(columns=['sex', 'embark_town'])\n",
    "\n",
    "prep_titanic(acquire.get_titanic_data()).head()"
   ]
  },
  {
   "cell_type": "markdown",
   "id": "3a78d61e",
   "metadata": {},
   "source": [
    "### telco dataset\n",
    "\n",
    "1. Use the function defined in acquire.py to load the Telco data. "
   ]
  },
  {
   "cell_type": "code",
   "execution_count": null,
   "id": "8ef8e017",
   "metadata": {},
   "outputs": [],
   "source": [
    "telco = acquire.get_telco_data()\n",
    "telco.head()"
   ]
  },
  {
   "cell_type": "markdown",
   "id": "50e5ac78",
   "metadata": {},
   "source": [
    "2. Drop any unnecessary, unhelpful, or duplicated columns. This could mean dropping foreign key columns but keeping the corresponding string values, for example."
   ]
  },
  {
   "cell_type": "code",
   "execution_count": null,
   "id": "32dff1be",
   "metadata": {},
   "outputs": [],
   "source": [
    "telco.info()"
   ]
  },
  {
   "cell_type": "code",
   "execution_count": null,
   "id": "70e54def",
   "metadata": {},
   "outputs": [],
   "source": [
    "telco.drop(columns = ['internet_service_type_id', 'contract_type_id', 'payment_type_id', 'Unnamed: 0'], inplace=True)"
   ]
  },
  {
   "cell_type": "markdown",
   "id": "74e60cd3",
   "metadata": {},
   "source": [
    "3. Encode the categorical columns. Create dummy variables of the categorical columns and concatenate them onto the dataframe."
   ]
  },
  {
   "cell_type": "code",
   "execution_count": null,
   "id": "2c073805",
   "metadata": {},
   "outputs": [],
   "source": [
    "# get a list of the object columns, exclude customer_id because it is the foreign key\n",
    "cat_cols = list(telco.select_dtypes('object').iloc[:,1:].columns)\n",
    "cat_cols.remove('total_charges') #this data column will need to be changed to float\n",
    "cat_cols"
   ]
  },
  {
   "cell_type": "code",
   "execution_count": null,
   "id": "24eb7537",
   "metadata": {},
   "outputs": [],
   "source": [
    "dummy_df = pd.get_dummies(telco[cat_cols], dummy_na = False, drop_first = True)\n",
    "telco = pd.concat([telco, dummy_df], axis = 1)\n",
    "telco.head()"
   ]
  },
  {
   "cell_type": "code",
   "execution_count": null,
   "id": "5a573d4e",
   "metadata": {},
   "outputs": [],
   "source": [
    "# replace the ' ' values in the total_charges series with 0.  these customers have a tenure of 0; therefore \n",
    "# monthly_charges * 0 = 0\n",
    "telco.total_charges[telco.total_charges == ' '] = telco.total_charges[telco.total_charges == ' '].replace(' ', 0, inplace=True)\n",
    "telco.total_charges[telco.total_charges == ' ']"
   ]
  },
  {
   "cell_type": "markdown",
   "id": "94a3c8b5",
   "metadata": {},
   "source": [
    "4. Create a function named prep_telco that accepts the raw telco data, and returns the data with the transformations above applied."
   ]
  },
  {
   "cell_type": "code",
   "execution_count": null,
   "id": "dbc585d7",
   "metadata": {
    "scrolled": true
   },
   "outputs": [],
   "source": [
    "def prep_telco(df):\n",
    "    df.drop(columns = ['internet_service_type_id', 'contract_type_id', 'payment_type_id', 'Unnamed: 0'], inplace=True)\n",
    "    cat_cols = list(df.select_dtypes('object').iloc[:,1:].columns)\n",
    "    cat_cols.remove('total_charges') #this data column will need to be changed to floatdummy_df = pd.get_dummies(telco[cat_cols], dummy_na = False, drop_first = True)\n",
    "    dummy_df = pd.get_dummies(df[cat_cols], dummy_na = False, drop_first = True)\n",
    "    df = pd.concat([df, dummy_df], axis = 1)\n",
    "    #drop the empty total_charges rows\n",
    "    df = df[df.total_charges != ' ']\n",
    "    df.total_charges = df.total_charges.astype(float)\n",
    "    return df\n",
    "\n",
    "preped_telco = prep_telco(acquire.get_telco_data())\n",
    "preped_telco.head().info()"
   ]
  },
  {
   "cell_type": "code",
   "execution_count": null,
   "id": "729da488",
   "metadata": {},
   "outputs": [],
   "source": [
    "def split_telco_data(df):\n",
    "    df = prep_telco(df)\n",
    "    train, test = train_test_split(df, train_size = 0.8, stratify = df.churn)\n",
    "    train, validate = train_test_split(train, train_size = 0.7, stratify = train.churn)\n",
    "    return train, test, validate\n",
    "\n",
    "train, test, validate = split_telco_data(acquire.get_telco_data())\n",
    "train.head()"
   ]
  },
  {
   "cell_type": "code",
   "execution_count": null,
   "id": "682e4df8",
   "metadata": {},
   "outputs": [],
   "source": [
    "import prepare\n",
    "import acquire\n",
    "telco_df = acquire.get_telco_data()\n",
    "train, validate, test = prepare.split_telco_data(telco_df)\n",
    "train.head()"
   ]
  },
  {
   "cell_type": "markdown",
   "id": "079ce3d1",
   "metadata": {},
   "source": [
    "# exploratory analysis\n",
    "\n",
    "## iris_db"
   ]
  },
  {
   "cell_type": "markdown",
   "id": "709e8155",
   "metadata": {},
   "source": [
    "1. Acquire, prepare & split your data. "
   ]
  },
  {
   "cell_type": "code",
   "execution_count": 183,
   "id": "76ad30ce",
   "metadata": {
    "scrolled": false
   },
   "outputs": [
    {
     "data": {
      "text/html": [
       "<div>\n",
       "<style scoped>\n",
       "    .dataframe tbody tr th:only-of-type {\n",
       "        vertical-align: middle;\n",
       "    }\n",
       "\n",
       "    .dataframe tbody tr th {\n",
       "        vertical-align: top;\n",
       "    }\n",
       "\n",
       "    .dataframe thead th {\n",
       "        text-align: right;\n",
       "    }\n",
       "</style>\n",
       "<table border=\"1\" class=\"dataframe\">\n",
       "  <thead>\n",
       "    <tr style=\"text-align: right;\">\n",
       "      <th></th>\n",
       "      <th>sepal_length</th>\n",
       "      <th>sepal_width</th>\n",
       "      <th>petal_length</th>\n",
       "      <th>petal_width</th>\n",
       "      <th>species</th>\n",
       "      <th>species_versicolor</th>\n",
       "      <th>species_virginica</th>\n",
       "    </tr>\n",
       "  </thead>\n",
       "  <tbody>\n",
       "    <tr>\n",
       "      <th>135</th>\n",
       "      <td>7.7</td>\n",
       "      <td>3.0</td>\n",
       "      <td>6.1</td>\n",
       "      <td>2.3</td>\n",
       "      <td>virginica</td>\n",
       "      <td>0</td>\n",
       "      <td>1</td>\n",
       "    </tr>\n",
       "    <tr>\n",
       "      <th>107</th>\n",
       "      <td>7.3</td>\n",
       "      <td>2.9</td>\n",
       "      <td>6.3</td>\n",
       "      <td>1.8</td>\n",
       "      <td>virginica</td>\n",
       "      <td>0</td>\n",
       "      <td>1</td>\n",
       "    </tr>\n",
       "    <tr>\n",
       "      <th>86</th>\n",
       "      <td>6.7</td>\n",
       "      <td>3.1</td>\n",
       "      <td>4.7</td>\n",
       "      <td>1.5</td>\n",
       "      <td>versicolor</td>\n",
       "      <td>1</td>\n",
       "      <td>0</td>\n",
       "    </tr>\n",
       "  </tbody>\n",
       "</table>\n",
       "</div>"
      ],
      "text/plain": [
       "     sepal_length  sepal_width  petal_length  petal_width     species  \\\n",
       "135           7.7          3.0           6.1          2.3   virginica   \n",
       "107           7.3          2.9           6.3          1.8   virginica   \n",
       "86            6.7          3.1           4.7          1.5  versicolor   \n",
       "\n",
       "     species_versicolor  species_virginica  \n",
       "135                   0                  1  \n",
       "107                   0                  1  \n",
       "86                    1                  0  "
      ]
     },
     "execution_count": 183,
     "metadata": {},
     "output_type": "execute_result"
    }
   ],
   "source": [
    "import prepare\n",
    "import acquire\n",
    "i_train, i_validate, i_test = prepare.split_iris_data(acquire.get_iris_data())\n",
    "i_train.sample(3)"
   ]
  },
  {
   "cell_type": "markdown",
   "id": "be9c1ea9",
   "metadata": {},
   "source": [
    "2. Univariate Stats\n",
    "\n",
    "- For each measurement type (quantitative variable): create a histogram, boxplot, & compute descriptive statistics (using .describe()).\n",
    "- For each species (categorical variable): create a frequency table and a bar plot of those frequencies.\n",
    "- Document takeaways & any actions."
   ]
  },
  {
   "cell_type": "code",
   "execution_count": 184,
   "id": "188f45e6",
   "metadata": {},
   "outputs": [
    {
     "data": {
      "text/html": [
       "<div>\n",
       "<style scoped>\n",
       "    .dataframe tbody tr th:only-of-type {\n",
       "        vertical-align: middle;\n",
       "    }\n",
       "\n",
       "    .dataframe tbody tr th {\n",
       "        vertical-align: top;\n",
       "    }\n",
       "\n",
       "    .dataframe thead th {\n",
       "        text-align: right;\n",
       "    }\n",
       "</style>\n",
       "<table border=\"1\" class=\"dataframe\">\n",
       "  <thead>\n",
       "    <tr style=\"text-align: right;\">\n",
       "      <th></th>\n",
       "      <th>sepal_length</th>\n",
       "      <th>sepal_width</th>\n",
       "      <th>petal_length</th>\n",
       "      <th>petal_width</th>\n",
       "    </tr>\n",
       "  </thead>\n",
       "  <tbody>\n",
       "    <tr>\n",
       "      <th>count</th>\n",
       "      <td>84.000000</td>\n",
       "      <td>84.000000</td>\n",
       "      <td>84.000000</td>\n",
       "      <td>84.000000</td>\n",
       "    </tr>\n",
       "    <tr>\n",
       "      <th>mean</th>\n",
       "      <td>5.882143</td>\n",
       "      <td>3.040476</td>\n",
       "      <td>3.811905</td>\n",
       "      <td>1.205952</td>\n",
       "    </tr>\n",
       "    <tr>\n",
       "      <th>std</th>\n",
       "      <td>0.853647</td>\n",
       "      <td>0.454196</td>\n",
       "      <td>1.788882</td>\n",
       "      <td>0.758780</td>\n",
       "    </tr>\n",
       "    <tr>\n",
       "      <th>min</th>\n",
       "      <td>4.400000</td>\n",
       "      <td>2.200000</td>\n",
       "      <td>1.300000</td>\n",
       "      <td>0.100000</td>\n",
       "    </tr>\n",
       "    <tr>\n",
       "      <th>25%</th>\n",
       "      <td>5.100000</td>\n",
       "      <td>2.800000</td>\n",
       "      <td>1.600000</td>\n",
       "      <td>0.300000</td>\n",
       "    </tr>\n",
       "    <tr>\n",
       "      <th>50%</th>\n",
       "      <td>5.900000</td>\n",
       "      <td>3.000000</td>\n",
       "      <td>4.400000</td>\n",
       "      <td>1.300000</td>\n",
       "    </tr>\n",
       "    <tr>\n",
       "      <th>75%</th>\n",
       "      <td>6.400000</td>\n",
       "      <td>3.300000</td>\n",
       "      <td>5.200000</td>\n",
       "      <td>1.800000</td>\n",
       "    </tr>\n",
       "    <tr>\n",
       "      <th>max</th>\n",
       "      <td>7.900000</td>\n",
       "      <td>4.400000</td>\n",
       "      <td>6.700000</td>\n",
       "      <td>2.500000</td>\n",
       "    </tr>\n",
       "  </tbody>\n",
       "</table>\n",
       "</div>"
      ],
      "text/plain": [
       "       sepal_length  sepal_width  petal_length  petal_width\n",
       "count     84.000000    84.000000     84.000000    84.000000\n",
       "mean       5.882143     3.040476      3.811905     1.205952\n",
       "std        0.853647     0.454196      1.788882     0.758780\n",
       "min        4.400000     2.200000      1.300000     0.100000\n",
       "25%        5.100000     2.800000      1.600000     0.300000\n",
       "50%        5.900000     3.000000      4.400000     1.300000\n",
       "75%        6.400000     3.300000      5.200000     1.800000\n",
       "max        7.900000     4.400000      6.700000     2.500000"
      ]
     },
     "execution_count": 184,
     "metadata": {},
     "output_type": "execute_result"
    }
   ],
   "source": [
    "i_train.describe().iloc[:,0:4]"
   ]
  },
  {
   "cell_type": "code",
   "execution_count": 185,
   "id": "73ffe648",
   "metadata": {
    "scrolled": true
   },
   "outputs": [
    {
     "data": {
      "text/plain": [
       "Text(0.5, 1.0, 'sepal_length')"
      ]
     },
     "execution_count": 185,
     "metadata": {},
     "output_type": "execute_result"
    },
    {
     "data": {
      "image/png": "[encoded data removed]",
      "text/plain": [
       "<Figure size 432x288 with 1 Axes>"
      ]
     },
     "metadata": {
      "needs_background": "light"
     },
     "output_type": "display_data"
    }
   ],
   "source": [
    "plt.hist(i_train.sepal_length)\n",
    "plt.title('sepal_length')"
   ]
  },
  {
   "cell_type": "code",
   "execution_count": 46,
   "id": "a6e8d03e",
   "metadata": {},
   "outputs": [
    {
     "data": {
      "text/plain": [
       "Text(0.5, 1.0, 'sepal_width')"
      ]
     },
     "execution_count": 46,
     "metadata": {},
     "output_type": "execute_result"
    },
    {
     "data": {
      "image/png": "[encoded data removed]",
      "text/plain": [
       "<Figure size 432x288 with 1 Axes>"
      ]
     },
     "metadata": {
      "needs_background": "light"
     },
     "output_type": "display_data"
    }
   ],
   "source": [
    "plt.hist(i_train.sepal_width)\n",
    "plt.title('sepal_width')"
   ]
  },
  {
   "cell_type": "code",
   "execution_count": 186,
   "id": "192f012c",
   "metadata": {},
   "outputs": [
    {
     "data": {
      "text/plain": [
       "Text(0.5, 1.0, 'petal_length')"
      ]
     },
     "execution_count": 186,
     "metadata": {},
     "output_type": "execute_result"
    },
    {
     "data": {
      "image/png": "[encoded data removed]",
      "text/plain": [
       "<Figure size 432x288 with 1 Axes>"
      ]
     },
     "metadata": {
      "needs_background": "light"
     },
     "output_type": "display_data"
    }
   ],
   "source": [
    "plt.hist(i_train.petal_length)\n",
    "plt.title('petal_length')"
   ]
  },
  {
   "cell_type": "code",
   "execution_count": 48,
   "id": "daf31767",
   "metadata": {},
   "outputs": [
    {
     "data": {
      "text/plain": [
       "Text(0.5, 1.0, 'petal_width')"
      ]
     },
     "execution_count": 48,
     "metadata": {},
     "output_type": "execute_result"
    },
    {
     "data": {
      "image/png": "[encoded data removed]",
      "text/plain": [
       "<Figure size 432x288 with 1 Axes>"
      ]
     },
     "metadata": {
      "needs_background": "light"
     },
     "output_type": "display_data"
    }
   ],
   "source": [
    "plt.hist(i_train.petal_width)\n",
    "plt.title('petal_width')"
   ]
  },
  {
   "cell_type": "code",
   "execution_count": 49,
   "id": "677dfc69",
   "metadata": {},
   "outputs": [
    {
     "data": {
      "text/plain": [
       "<AxesSubplot:xlabel='species', ylabel='sepal_length'>"
      ]
     },
     "execution_count": 49,
     "metadata": {},
     "output_type": "execute_result"
    },
    {
     "data": {
      "image/png": "[encoded data removed]",
      "text/plain": [
       "<Figure size 432x288 with 1 Axes>"
      ]
     },
     "metadata": {
      "needs_background": "light"
     },
     "output_type": "display_data"
    }
   ],
   "source": [
    "sns.boxplot(data = i_train, y= 'sepal_length', x = 'species')"
   ]
  },
  {
   "cell_type": "code",
   "execution_count": 50,
   "id": "d4480970",
   "metadata": {},
   "outputs": [
    {
     "data": {
      "text/plain": [
       "<AxesSubplot:xlabel='species', ylabel='sepal_width'>"
      ]
     },
     "execution_count": 50,
     "metadata": {},
     "output_type": "execute_result"
    },
    {
     "data": {
      "image/png": "[encoded data removed]",
      "text/plain": [
       "<Figure size 432x288 with 1 Axes>"
      ]
     },
     "metadata": {
      "needs_background": "light"
     },
     "output_type": "display_data"
    }
   ],
   "source": [
    "sns.boxplot(data = i_train, y = 'sepal_width', x = 'species')"
   ]
  },
  {
   "cell_type": "code",
   "execution_count": 51,
   "id": "16bc2882",
   "metadata": {},
   "outputs": [
    {
     "data": {
      "text/plain": [
       "<AxesSubplot:xlabel='species', ylabel='petal_length'>"
      ]
     },
     "execution_count": 51,
     "metadata": {},
     "output_type": "execute_result"
    },
    {
     "data": {
      "image/png": "[encoded data removed]",
      "text/plain": [
       "<Figure size 432x288 with 1 Axes>"
      ]
     },
     "metadata": {
      "needs_background": "light"
     },
     "output_type": "display_data"
    }
   ],
   "source": [
    "sns.boxplot(data = i_train, y= 'petal_length', x = 'species')"
   ]
  },
  {
   "cell_type": "code",
   "execution_count": 52,
   "id": "0d60a2a3",
   "metadata": {},
   "outputs": [
    {
     "data": {
      "text/plain": [
       "<AxesSubplot:xlabel='species', ylabel='petal_width'>"
      ]
     },
     "execution_count": 52,
     "metadata": {},
     "output_type": "execute_result"
    },
    {
     "data": {
      "image/png": "[encoded data removed]",
      "text/plain": [
       "<Figure size 432x288 with 1 Axes>"
      ]
     },
     "metadata": {
      "needs_background": "light"
     },
     "output_type": "display_data"
    }
   ],
   "source": [
    "sns.boxplot(data = i_train, y= 'petal_width', x = 'species')"
   ]
  },
  {
   "cell_type": "markdown",
   "id": "458b7119",
   "metadata": {},
   "source": [
    "- For each species (categorical variable): create a frequency table and a bar plot of those frequencies."
   ]
  },
  {
   "cell_type": "code",
   "execution_count": 53,
   "id": "7b367c4e",
   "metadata": {},
   "outputs": [
    {
     "data": {
      "text/plain": [
       "(virginica     28\n",
       " setosa        28\n",
       " versicolor    28\n",
       " Name: species, dtype: int64,\n",
       " virginica     0.333333\n",
       " setosa        0.333333\n",
       " versicolor    0.333333\n",
       " Name: species, dtype: float64)"
      ]
     },
     "execution_count": 53,
     "metadata": {},
     "output_type": "execute_result"
    }
   ],
   "source": [
    "i_train.species.value_counts(), i_train.species.value_counts('normalize')"
   ]
  },
  {
   "cell_type": "code",
   "execution_count": 54,
   "id": "fad49145",
   "metadata": {},
   "outputs": [
    {
     "data": {
      "text/plain": [
       "(array([28.,  0.,  0.,  0.,  0., 28.,  0.,  0.,  0., 28.]),\n",
       " array([0. , 0.2, 0.4, 0.6, 0.8, 1. , 1.2, 1.4, 1.6, 1.8, 2. ]),\n",
       " <BarContainer object of 10 artists>)"
      ]
     },
     "execution_count": 54,
     "metadata": {},
     "output_type": "execute_result"
    },
    {
     "data": {
      "image/png": "[encoded data removed]",
      "text/plain": [
       "<Figure size 432x288 with 1 Axes>"
      ]
     },
     "metadata": {
      "needs_background": "light"
     },
     "output_type": "display_data"
    }
   ],
   "source": [
    "plt.hist(i_train.species)"
   ]
  },
  {
   "cell_type": "markdown",
   "id": "db75b31c",
   "metadata": {},
   "source": [
    "sepal length and width are normal distributed\n",
    "\n",
    "petal width and length are skewed right"
   ]
  },
  {
   "cell_type": "markdown",
   "id": "b0e2ce41",
   "metadata": {},
   "source": [
    "3. Bivariate Stats\n",
    "\n",
    "- Visualize each measurement type (y-axis) with the species variable (x-axis) using barplots, adding a horizontal line showing the overall mean of the metric (y-axis).\n",
    "- For each measurement type, compute the descriptive statistics for each species.\n",
    "- For virginica & versicolor: Compare the mean petal_width using the Mann-Whitney test (scipy.stats.mannwhitneyu) to see if there is a significant difference between the two groups. Do the same for the other measurement types.\n",
    "- Document takeaways & any actions"
   ]
  },
  {
   "cell_type": "code",
   "execution_count": 55,
   "id": "0b5c4145",
   "metadata": {},
   "outputs": [
    {
     "data": {
      "text/plain": [
       "<matplotlib.lines.Line2D at 0x7f79813de220>"
      ]
     },
     "execution_count": 55,
     "metadata": {},
     "output_type": "execute_result"
    },
    {
     "data": {
      "image/png": "[encoded data removed]",
      "text/plain": [
       "<Figure size 432x288 with 1 Axes>"
      ]
     },
     "metadata": {
      "needs_background": "light"
     },
     "output_type": "display_data"
    }
   ],
   "source": [
    "mean_val = i_train.sepal_length.mean()\n",
    "sns.barplot(data=i_train, y='sepal_length', x='species')\n",
    "plt.axhline(mean_val)"
   ]
  },
  {
   "cell_type": "code",
   "execution_count": 56,
   "id": "e7dcb243",
   "metadata": {},
   "outputs": [
    {
     "data": {
      "text/plain": [
       "<matplotlib.lines.Line2D at 0x7f7963c29e20>"
      ]
     },
     "execution_count": 56,
     "metadata": {},
     "output_type": "execute_result"
    },
    {
     "data": {
      "image/png": "[encoded data removed]",
      "text/plain": [
       "<Figure size 432x288 with 1 Axes>"
      ]
     },
     "metadata": {
      "needs_background": "light"
     },
     "output_type": "display_data"
    }
   ],
   "source": [
    "mean_val = i_train.sepal_width.mean()\n",
    "sns.barplot(data=i_train, y='sepal_width', x='species')\n",
    "plt.axhline(mean_val)"
   ]
  },
  {
   "cell_type": "code",
   "execution_count": 57,
   "id": "e5bb1785",
   "metadata": {},
   "outputs": [
    {
     "data": {
      "text/plain": [
       "<matplotlib.lines.Line2D at 0x7f7963c0c7f0>"
      ]
     },
     "execution_count": 57,
     "metadata": {},
     "output_type": "execute_result"
    },
    {
     "data": {
      "image/png": "[encoded data removed]",
      "text/plain": [
       "<Figure size 432x288 with 1 Axes>"
      ]
     },
     "metadata": {
      "needs_background": "light"
     },
     "output_type": "display_data"
    }
   ],
   "source": [
    "mean_val = i_train.petal_length.mean()\n",
    "sns.barplot(data=i_train, y='petal_length', x='species')\n",
    "plt.axhline(mean_val)"
   ]
  },
  {
   "cell_type": "code",
   "execution_count": 58,
   "id": "43274d31",
   "metadata": {},
   "outputs": [
    {
     "data": {
      "text/plain": [
       "<matplotlib.lines.Line2D at 0x7f79704c2550>"
      ]
     },
     "execution_count": 58,
     "metadata": {},
     "output_type": "execute_result"
    },
    {
     "data": {
      "image/png": "[encoded data removed]",
      "text/plain": [
       "<Figure size 432x288 with 1 Axes>"
      ]
     },
     "metadata": {
      "needs_background": "light"
     },
     "output_type": "display_data"
    }
   ],
   "source": [
    "mean_val = i_train.petal_width.mean()\n",
    "sns.barplot(data=i_train, y='petal_width', x='species')\n",
    "plt.axhline(mean_val)"
   ]
  },
  {
   "cell_type": "markdown",
   "id": "beb07449",
   "metadata": {},
   "source": [
    "- For each measurement type, compute the descriptive statistics for each species."
   ]
  },
  {
   "cell_type": "code",
   "execution_count": 59,
   "id": "acc1ef2f",
   "metadata": {},
   "outputs": [
    {
     "data": {
      "text/html": [
       "<div>\n",
       "<style scoped>\n",
       "    .dataframe tbody tr th:only-of-type {\n",
       "        vertical-align: middle;\n",
       "    }\n",
       "\n",
       "    .dataframe tbody tr th {\n",
       "        vertical-align: top;\n",
       "    }\n",
       "\n",
       "    .dataframe thead th {\n",
       "        text-align: right;\n",
       "    }\n",
       "</style>\n",
       "<table border=\"1\" class=\"dataframe\">\n",
       "  <thead>\n",
       "    <tr style=\"text-align: right;\">\n",
       "      <th></th>\n",
       "      <th>species</th>\n",
       "      <th>setosa</th>\n",
       "      <th>versicolor</th>\n",
       "      <th>virginica</th>\n",
       "    </tr>\n",
       "  </thead>\n",
       "  <tbody>\n",
       "    <tr>\n",
       "      <th rowspan=\"8\" valign=\"top\">sepal_length</th>\n",
       "      <th>count</th>\n",
       "      <td>28.000000</td>\n",
       "      <td>28.000000</td>\n",
       "      <td>28.000000</td>\n",
       "    </tr>\n",
       "    <tr>\n",
       "      <th>mean</th>\n",
       "      <td>5.042857</td>\n",
       "      <td>5.917857</td>\n",
       "      <td>6.700000</td>\n",
       "    </tr>\n",
       "    <tr>\n",
       "      <th>std</th>\n",
       "      <td>0.378524</td>\n",
       "      <td>0.461121</td>\n",
       "      <td>0.620633</td>\n",
       "    </tr>\n",
       "    <tr>\n",
       "      <th>min</th>\n",
       "      <td>4.300000</td>\n",
       "      <td>5.000000</td>\n",
       "      <td>5.700000</td>\n",
       "    </tr>\n",
       "    <tr>\n",
       "      <th>25%</th>\n",
       "      <td>4.800000</td>\n",
       "      <td>5.600000</td>\n",
       "      <td>6.275000</td>\n",
       "    </tr>\n",
       "    <tr>\n",
       "      <th>50%</th>\n",
       "      <td>5.100000</td>\n",
       "      <td>5.850000</td>\n",
       "      <td>6.600000</td>\n",
       "    </tr>\n",
       "    <tr>\n",
       "      <th>75%</th>\n",
       "      <td>5.325000</td>\n",
       "      <td>6.125000</td>\n",
       "      <td>7.225000</td>\n",
       "    </tr>\n",
       "    <tr>\n",
       "      <th>max</th>\n",
       "      <td>5.700000</td>\n",
       "      <td>7.000000</td>\n",
       "      <td>7.700000</td>\n",
       "    </tr>\n",
       "    <tr>\n",
       "      <th rowspan=\"8\" valign=\"top\">sepal_width</th>\n",
       "      <th>count</th>\n",
       "      <td>28.000000</td>\n",
       "      <td>28.000000</td>\n",
       "      <td>28.000000</td>\n",
       "    </tr>\n",
       "    <tr>\n",
       "      <th>mean</th>\n",
       "      <td>3.471429</td>\n",
       "      <td>2.796429</td>\n",
       "      <td>2.925000</td>\n",
       "    </tr>\n",
       "    <tr>\n",
       "      <th>std</th>\n",
       "      <td>0.374024</td>\n",
       "      <td>0.317959</td>\n",
       "      <td>0.295177</td>\n",
       "    </tr>\n",
       "    <tr>\n",
       "      <th>min</th>\n",
       "      <td>2.900000</td>\n",
       "      <td>2.200000</td>\n",
       "      <td>2.500000</td>\n",
       "    </tr>\n",
       "    <tr>\n",
       "      <th>25%</th>\n",
       "      <td>3.250000</td>\n",
       "      <td>2.575000</td>\n",
       "      <td>2.700000</td>\n",
       "    </tr>\n",
       "    <tr>\n",
       "      <th>50%</th>\n",
       "      <td>3.400000</td>\n",
       "      <td>2.800000</td>\n",
       "      <td>2.950000</td>\n",
       "    </tr>\n",
       "    <tr>\n",
       "      <th>75%</th>\n",
       "      <td>3.625000</td>\n",
       "      <td>3.000000</td>\n",
       "      <td>3.025000</td>\n",
       "    </tr>\n",
       "    <tr>\n",
       "      <th>max</th>\n",
       "      <td>4.400000</td>\n",
       "      <td>3.400000</td>\n",
       "      <td>3.800000</td>\n",
       "    </tr>\n",
       "    <tr>\n",
       "      <th rowspan=\"8\" valign=\"top\">petal_length</th>\n",
       "      <th>count</th>\n",
       "      <td>28.000000</td>\n",
       "      <td>28.000000</td>\n",
       "      <td>28.000000</td>\n",
       "    </tr>\n",
       "    <tr>\n",
       "      <th>mean</th>\n",
       "      <td>1.467857</td>\n",
       "      <td>4.278571</td>\n",
       "      <td>5.603571</td>\n",
       "    </tr>\n",
       "    <tr>\n",
       "      <th>std</th>\n",
       "      <td>0.178582</td>\n",
       "      <td>0.435768</td>\n",
       "      <td>0.608265</td>\n",
       "    </tr>\n",
       "    <tr>\n",
       "      <th>min</th>\n",
       "      <td>1.000000</td>\n",
       "      <td>3.300000</td>\n",
       "      <td>4.800000</td>\n",
       "    </tr>\n",
       "    <tr>\n",
       "      <th>25%</th>\n",
       "      <td>1.400000</td>\n",
       "      <td>4.000000</td>\n",
       "      <td>5.100000</td>\n",
       "    </tr>\n",
       "    <tr>\n",
       "      <th>50%</th>\n",
       "      <td>1.500000</td>\n",
       "      <td>4.450000</td>\n",
       "      <td>5.600000</td>\n",
       "    </tr>\n",
       "    <tr>\n",
       "      <th>75%</th>\n",
       "      <td>1.525000</td>\n",
       "      <td>4.625000</td>\n",
       "      <td>5.875000</td>\n",
       "    </tr>\n",
       "    <tr>\n",
       "      <th>max</th>\n",
       "      <td>1.900000</td>\n",
       "      <td>5.000000</td>\n",
       "      <td>6.900000</td>\n",
       "    </tr>\n",
       "    <tr>\n",
       "      <th rowspan=\"8\" valign=\"top\">petal_width</th>\n",
       "      <th>count</th>\n",
       "      <td>28.000000</td>\n",
       "      <td>28.000000</td>\n",
       "      <td>28.000000</td>\n",
       "    </tr>\n",
       "    <tr>\n",
       "      <th>mean</th>\n",
       "      <td>0.225000</td>\n",
       "      <td>1.350000</td>\n",
       "      <td>1.996429</td>\n",
       "    </tr>\n",
       "    <tr>\n",
       "      <th>std</th>\n",
       "      <td>0.088715</td>\n",
       "      <td>0.208167</td>\n",
       "      <td>0.244165</td>\n",
       "    </tr>\n",
       "    <tr>\n",
       "      <th>min</th>\n",
       "      <td>0.100000</td>\n",
       "      <td>1.000000</td>\n",
       "      <td>1.400000</td>\n",
       "    </tr>\n",
       "    <tr>\n",
       "      <th>25%</th>\n",
       "      <td>0.200000</td>\n",
       "      <td>1.300000</td>\n",
       "      <td>1.800000</td>\n",
       "    </tr>\n",
       "    <tr>\n",
       "      <th>50%</th>\n",
       "      <td>0.200000</td>\n",
       "      <td>1.300000</td>\n",
       "      <td>2.000000</td>\n",
       "    </tr>\n",
       "    <tr>\n",
       "      <th>75%</th>\n",
       "      <td>0.225000</td>\n",
       "      <td>1.500000</td>\n",
       "      <td>2.225000</td>\n",
       "    </tr>\n",
       "    <tr>\n",
       "      <th>max</th>\n",
       "      <td>0.400000</td>\n",
       "      <td>1.800000</td>\n",
       "      <td>2.400000</td>\n",
       "    </tr>\n",
       "  </tbody>\n",
       "</table>\n",
       "</div>"
      ],
      "text/plain": [
       "species                setosa  versicolor  virginica\n",
       "sepal_length count  28.000000   28.000000  28.000000\n",
       "             mean    5.042857    5.917857   6.700000\n",
       "             std     0.378524    0.461121   0.620633\n",
       "             min     4.300000    5.000000   5.700000\n",
       "             25%     4.800000    5.600000   6.275000\n",
       "             50%     5.100000    5.850000   6.600000\n",
       "             75%     5.325000    6.125000   7.225000\n",
       "             max     5.700000    7.000000   7.700000\n",
       "sepal_width  count  28.000000   28.000000  28.000000\n",
       "             mean    3.471429    2.796429   2.925000\n",
       "             std     0.374024    0.317959   0.295177\n",
       "             min     2.900000    2.200000   2.500000\n",
       "             25%     3.250000    2.575000   2.700000\n",
       "             50%     3.400000    2.800000   2.950000\n",
       "             75%     3.625000    3.000000   3.025000\n",
       "             max     4.400000    3.400000   3.800000\n",
       "petal_length count  28.000000   28.000000  28.000000\n",
       "             mean    1.467857    4.278571   5.603571\n",
       "             std     0.178582    0.435768   0.608265\n",
       "             min     1.000000    3.300000   4.800000\n",
       "             25%     1.400000    4.000000   5.100000\n",
       "             50%     1.500000    4.450000   5.600000\n",
       "             75%     1.525000    4.625000   5.875000\n",
       "             max     1.900000    5.000000   6.900000\n",
       "petal_width  count  28.000000   28.000000  28.000000\n",
       "             mean    0.225000    1.350000   1.996429\n",
       "             std     0.088715    0.208167   0.244165\n",
       "             min     0.100000    1.000000   1.400000\n",
       "             25%     0.200000    1.300000   1.800000\n",
       "             50%     0.200000    1.300000   2.000000\n",
       "             75%     0.225000    1.500000   2.225000\n",
       "             max     0.400000    1.800000   2.400000"
      ]
     },
     "execution_count": 59,
     "metadata": {},
     "output_type": "execute_result"
    }
   ],
   "source": [
    "i_train.groupby('species').describe().T.loc[:'petal_width']"
   ]
  },
  {
   "cell_type": "markdown",
   "id": "c25a2bea",
   "metadata": {},
   "source": [
    "- For virginica & versicolor: Compare the mean petal_width using the Mann-Whitney test (scipy.stats.mannwhitneyu) to see if there is a significant difference between the two groups. Do the same for the other measurement types."
   ]
  },
  {
   "cell_type": "code",
   "execution_count": 71,
   "id": "372ef67e",
   "metadata": {},
   "outputs": [],
   "source": [
    "# H_0 : virginica and versicolor have the same mean of the variable"
   ]
  },
  {
   "cell_type": "code",
   "execution_count": 191,
   "id": "acdb8f6b",
   "metadata": {},
   "outputs": [
    {
     "data": {
      "text/plain": [
       "(True, 7.381727292213524e-10)"
      ]
     },
     "execution_count": 191,
     "metadata": {},
     "output_type": "execute_result"
    }
   ],
   "source": [
    "alpha = 0.05\n",
    "t, p = stats.mannwhitneyu(i_train[i_train.species == 'virginica'].petal_width,\n",
    "                          i_train[i_train.species == 'versicolor'].petal_width)\n",
    "p < alpha, p"
   ]
  },
  {
   "cell_type": "code",
   "execution_count": 192,
   "id": "4d5a674a",
   "metadata": {},
   "outputs": [
    {
     "data": {
      "text/plain": [
       "(True, 3.8648172284131784e-10)"
      ]
     },
     "execution_count": 192,
     "metadata": {},
     "output_type": "execute_result"
    }
   ],
   "source": [
    "alpha = 0.5\n",
    "t, p = stats.mannwhitneyu(i_train[i_train.species == 'virginica'].petal_length,\n",
    "                          i_train[i_train.species == 'versicolor'].petal_length)\n",
    "p < alpha, p"
   ]
  },
  {
   "cell_type": "code",
   "execution_count": 193,
   "id": "2317f3f5",
   "metadata": {},
   "outputs": [
    {
     "data": {
      "text/plain": [
       "(True, 0.0062025869201255395)"
      ]
     },
     "execution_count": 193,
     "metadata": {},
     "output_type": "execute_result"
    }
   ],
   "source": [
    "alpha = 0.5\n",
    "t, p = stats.mannwhitneyu(i_train[i_train.species == 'virginica'].sepal_width,\n",
    "                          i_train[i_train.species == 'versicolor'].sepal_width)\n",
    "p < alpha, p"
   ]
  },
  {
   "cell_type": "code",
   "execution_count": 194,
   "id": "cb700962",
   "metadata": {},
   "outputs": [
    {
     "data": {
      "text/plain": [
       "(True, 1.4054345508944996e-05)"
      ]
     },
     "execution_count": 194,
     "metadata": {},
     "output_type": "execute_result"
    }
   ],
   "source": [
    "alpha = 0.5\n",
    "t, p = stats.mannwhitneyu(i_train[i_train.species == 'virginica'].sepal_length,\n",
    "                          i_train[i_train.species == 'versicolor'].sepal_length)\n",
    "p < alpha, p"
   ]
  },
  {
   "cell_type": "markdown",
   "id": "a20fa7d4",
   "metadata": {},
   "source": [
    "petal dimensions are more extreme in their difference, but there is a statistical difference between all the measurements"
   ]
  },
  {
   "cell_type": "markdown",
   "id": "0fb2e55a",
   "metadata": {},
   "source": [
    "4. Multivariate Stats\n",
    "\n",
    "- Visualize the interaction of each measurement type with the others using a pairplot (or scatter matrix or something similar) and add color to represent species.\n",
    "\n",
    "- Visualize two numeric variables by means of the species. Hint: sns.relplot with hue or col\n",
    "\n",
    "- Create a swarmplot using a melted dataframe of all your numeric variables. The x-axis should be the variable name, the y-axis the measure. Add another dimension using color to represent species. Document takeaways from this visualization.\n",
    "\n",
    "- Ask a specific question of the data, such as: is the sepal area signficantly different in virginica compared to setosa? Answer the question through both a plot and using a mann-whitney or t-test. If you use a t-test, be sure assumptions are met (independence, normality, equal variance).\n",
    "\n",
    "- Document takeaways and any actions."
   ]
  },
  {
   "cell_type": "markdown",
   "id": "90866bd7",
   "metadata": {},
   "source": [
    "Visualize the interaction of each measurement type with the others using a pairplot (or scatter matrix or something similar) and add color to represent species."
   ]
  },
  {
   "cell_type": "code",
   "execution_count": 195,
   "id": "8a6452f4",
   "metadata": {
    "scrolled": false
   },
   "outputs": [
    {
     "data": {
      "text/plain": [
       "<seaborn.axisgrid.PairGrid at 0x7f7930d03580>"
      ]
     },
     "execution_count": 195,
     "metadata": {},
     "output_type": "execute_result"
    },
    {
     "data": {
      "image/png": "[encoded data removed]",
      "text/plain": [
       "<Figure size 1164.75x1080 with 42 Axes>"
      ]
     },
     "metadata": {
      "needs_background": "light"
     },
     "output_type": "display_data"
    }
   ],
   "source": [
    "sns.pairplot(data = i_train, hue='species')"
   ]
  },
  {
   "cell_type": "markdown",
   "id": "88483d98",
   "metadata": {},
   "source": [
    "Visualize two numeric variables by means of the species. Hint: sns.relplot with hue or col"
   ]
  },
  {
   "cell_type": "code",
   "execution_count": 196,
   "id": "da489bcc",
   "metadata": {
    "scrolled": false
   },
   "outputs": [
    {
     "data": {
      "text/plain": [
       "<seaborn.axisgrid.FacetGrid at 0x7f7982ebb970>"
      ]
     },
     "execution_count": 196,
     "metadata": {},
     "output_type": "execute_result"
    },
    {
     "data": {
      "image/png": "[encoded data removed]",
      "text/plain": [
       "<Figure size 444.75x360 with 1 Axes>"
      ]
     },
     "metadata": {
      "needs_background": "light"
     },
     "output_type": "display_data"
    }
   ],
   "source": [
    "sns.relplot(data=i_train, x='petal_length', y='petal_width', hue='species')"
   ]
  },
  {
   "cell_type": "code",
   "execution_count": 197,
   "id": "3414d665",
   "metadata": {
    "scrolled": false
   },
   "outputs": [
    {
     "data": {
      "text/plain": [
       "<seaborn.axisgrid.FacetGrid at 0x7f7982eac8b0>"
      ]
     },
     "execution_count": 197,
     "metadata": {},
     "output_type": "execute_result"
    },
    {
     "data": {
      "image/png": "[encoded data removed]",
      "text/plain": [
       "<Figure size 444.75x360 with 1 Axes>"
      ]
     },
     "metadata": {
      "needs_background": "light"
     },
     "output_type": "display_data"
    }
   ],
   "source": [
    "sns.relplot(data=i_train, x='sepal_length', y='sepal_width', hue='species')"
   ]
  },
  {
   "cell_type": "markdown",
   "id": "317ba0f1",
   "metadata": {},
   "source": [
    "Create a swarmplot using a melted dataframe of all your numeric variables. The x-axis should be the variable name, the y-axis the measure. Add another dimension using color to represent species. Document takeaways from this visualization."
   ]
  },
  {
   "cell_type": "code",
   "execution_count": 182,
   "id": "155b157d",
   "metadata": {
    "scrolled": false
   },
   "outputs": [
    {
     "data": {
      "text/html": [
       "<div>\n",
       "<style scoped>\n",
       "    .dataframe tbody tr th:only-of-type {\n",
       "        vertical-align: middle;\n",
       "    }\n",
       "\n",
       "    .dataframe tbody tr th {\n",
       "        vertical-align: top;\n",
       "    }\n",
       "\n",
       "    .dataframe thead th {\n",
       "        text-align: right;\n",
       "    }\n",
       "</style>\n",
       "<table border=\"1\" class=\"dataframe\">\n",
       "  <thead>\n",
       "    <tr style=\"text-align: right;\">\n",
       "      <th></th>\n",
       "      <th>sepal_length</th>\n",
       "      <th>sepal_width</th>\n",
       "      <th>petal_length</th>\n",
       "      <th>petal_width</th>\n",
       "      <th>species</th>\n",
       "      <th>species_versicolor</th>\n",
       "      <th>species_virginica</th>\n",
       "    </tr>\n",
       "  </thead>\n",
       "  <tbody>\n",
       "    <tr>\n",
       "      <th>79</th>\n",
       "      <td>5.7</td>\n",
       "      <td>2.6</td>\n",
       "      <td>3.5</td>\n",
       "      <td>1.0</td>\n",
       "      <td>versicolor</td>\n",
       "      <td>1</td>\n",
       "      <td>0</td>\n",
       "    </tr>\n",
       "    <tr>\n",
       "      <th>64</th>\n",
       "      <td>5.6</td>\n",
       "      <td>2.9</td>\n",
       "      <td>3.6</td>\n",
       "      <td>1.3</td>\n",
       "      <td>versicolor</td>\n",
       "      <td>1</td>\n",
       "      <td>0</td>\n",
       "    </tr>\n",
       "    <tr>\n",
       "      <th>134</th>\n",
       "      <td>6.1</td>\n",
       "      <td>2.6</td>\n",
       "      <td>5.6</td>\n",
       "      <td>1.4</td>\n",
       "      <td>virginica</td>\n",
       "      <td>0</td>\n",
       "      <td>1</td>\n",
       "    </tr>\n",
       "  </tbody>\n",
       "</table>\n",
       "</div>"
      ],
      "text/plain": [
       "     sepal_length  sepal_width  petal_length  petal_width     species  \\\n",
       "79            5.7          2.6           3.5          1.0  versicolor   \n",
       "64            5.6          2.9           3.6          1.3  versicolor   \n",
       "134           6.1          2.6           5.6          1.4   virginica   \n",
       "\n",
       "     species_versicolor  species_virginica  \n",
       "79                    1                  0  \n",
       "64                    1                  0  \n",
       "134                   0                  1  "
      ]
     },
     "execution_count": 182,
     "metadata": {},
     "output_type": "execute_result"
    }
   ],
   "source": [
    "i_train.sample(3)"
   ]
  },
  {
   "cell_type": "code",
   "execution_count": 135,
   "id": "1e577cfc",
   "metadata": {},
   "outputs": [],
   "source": [
    "melted_iris = pd.melt(i_train, id_vars = 'species')\n",
    "melted_iris  = melted_iris[melted_iris.variable.isin(['sepal_length', 'sepal_width', 'petal_length', 'petal_width', 'species'])]"
   ]
  },
  {
   "cell_type": "code",
   "execution_count": 136,
   "id": "23102cd0",
   "metadata": {},
   "outputs": [
    {
     "data": {
      "text/plain": [
       "<AxesSubplot:xlabel='variable', ylabel='value'>"
      ]
     },
     "execution_count": 136,
     "metadata": {},
     "output_type": "execute_result"
    },
    {
     "data": {
      "image/png": "[encoded data removed]",
      "text/plain": [
       "<Figure size 720x720 with 1 Axes>"
      ]
     },
     "metadata": {
      "needs_background": "light"
     },
     "output_type": "display_data"
    }
   ],
   "source": [
    "plt.figure(figsize=(10,10))\n",
    "sns.swarmplot(data = melted_iris, x= 'variable', y='value', hue='species')"
   ]
  },
  {
   "cell_type": "markdown",
   "id": "3c8958a4",
   "metadata": {},
   "source": [
    "petal dimensions show the most distinct groupings\n",
    "\n",
    "\n",
    "Ask a specific question of the data, such as: is the sepal area signficantly different in virginica compared to setosa? Answer the question through both a plot and using a mann-whitney or t-test. If you use a t-test, be sure assumptions are met (independence, normality, equal variance)."
   ]
  },
  {
   "cell_type": "code",
   "execution_count": 138,
   "id": "72f49852",
   "metadata": {},
   "outputs": [
    {
     "data": {
      "text/plain": [
       "<AxesSubplot:xlabel='species'>"
      ]
     },
     "execution_count": 138,
     "metadata": {},
     "output_type": "execute_result"
    },
    {
     "data": {
      "image/png": "[encoded data removed]",
      "text/plain": [
       "<Figure size 432x288 with 1 Axes>"
      ]
     },
     "metadata": {
      "needs_background": "light"
     },
     "output_type": "display_data"
    }
   ],
   "source": [
    "# Q: Is petal area significant between species?\n",
    "# use a box plot\n",
    "sns.boxplot(data=i_train, x='species',y=i_train.petal_length*i_train.petal_width)\n",
    "#looks like there is a difference"
   ]
  },
  {
   "cell_type": "code",
   "execution_count": 148,
   "id": "bd574f38",
   "metadata": {},
   "outputs": [
    {
     "data": {
      "text/plain": [
       "(0.3346428571428571, 0.30000000000000004)"
      ]
     },
     "execution_count": 148,
     "metadata": {},
     "output_type": "execute_result"
    }
   ],
   "source": [
    "#can use a t-test because species are independent\n",
    "#sample size is almost large enough (28)\n",
    "#look at the distributions\n",
    "setosa = i_train[i_train.species == 'setosa']\n",
    "(setosa.petal_length*setosa.petal_width).mean(), (setosa.petal_length*setosa.petal_width).median()"
   ]
  },
  {
   "cell_type": "code",
   "execution_count": 147,
   "id": "7bc6cbaf",
   "metadata": {},
   "outputs": [
    {
     "data": {
      "text/plain": [
       "(11.220714285714285, 10.89)"
      ]
     },
     "execution_count": 147,
     "metadata": {},
     "output_type": "execute_result"
    }
   ],
   "source": [
    "virginica = i_train[i_train.species == 'virginica']\n",
    "(virginica.petal_length*virginica.petal_width).mean(), (virginica.petal_length*virginica.petal_width).median()\n",
    "#mean and median are very close. most likely normal enough"
   ]
  },
  {
   "cell_type": "code",
   "execution_count": 152,
   "id": "290ba9a9",
   "metadata": {},
   "outputs": [
    {
     "data": {
      "text/plain": [
       "(0.021773941798941796, 4.245984656084655)"
      ]
     },
     "execution_count": 152,
     "metadata": {},
     "output_type": "execute_result"
    }
   ],
   "source": [
    "(setosa.petal_length*setosa.petal_width).var(), (virginica.petal_length*virginica.petal_width).var()"
   ]
  },
  {
   "cell_type": "code",
   "execution_count": 153,
   "id": "713d1b14",
   "metadata": {},
   "outputs": [
    {
     "data": {
      "text/plain": [
       "(-27.8836917026608, 1.3808037315319997e-21)"
      ]
     },
     "execution_count": 153,
     "metadata": {},
     "output_type": "execute_result"
    }
   ],
   "source": [
    "#apply the t-test\n",
    "# H_O : the mean area is not different\n",
    "t, p = stats.ttest_ind(setosa.petal_length*setosa.petal_width, virginica.petal_length*virginica.petal_width, equal_var=False)\n",
    "t, p"
   ]
  },
  {
   "cell_type": "code",
   "execution_count": 151,
   "id": "c2f1a489",
   "metadata": {},
   "outputs": [
    {
     "data": {
      "text/plain": [
       "MannwhitneyuResult(statistic=0.0, pvalue=6.811189715074213e-11)"
      ]
     },
     "execution_count": 151,
     "metadata": {},
     "output_type": "execute_result"
    }
   ],
   "source": [
    "stats.mannwhitneyu(setosa.petal_length*setosa.petal_width, virginica.petal_length*virginica.petal_width, alternative='less')"
   ]
  },
  {
   "cell_type": "markdown",
   "id": "6bc2c426",
   "metadata": {},
   "source": [
    "it looks like the petal dimensions are likely the most important part of the data in determining the species"
   ]
  },
  {
   "cell_type": "markdown",
   "id": "d35c7600",
   "metadata": {},
   "source": [
    "## titanic db"
   ]
  },
  {
   "cell_type": "code",
   "execution_count": 17,
   "id": "4907d10d",
   "metadata": {},
   "outputs": [],
   "source": [
    "import prepare\n",
    "import acquire\n",
    "titanic_train, validata, test = prepare.split_titanic_data(acquire.get_titanic_data())"
   ]
  },
  {
   "cell_type": "code",
   "execution_count": 18,
   "id": "cb0dedaf",
   "metadata": {},
   "outputs": [
    {
     "data": {
      "text/html": [
       "<div>\n",
       "<style scoped>\n",
       "    .dataframe tbody tr th:only-of-type {\n",
       "        vertical-align: middle;\n",
       "    }\n",
       "\n",
       "    .dataframe tbody tr th {\n",
       "        vertical-align: top;\n",
       "    }\n",
       "\n",
       "    .dataframe thead th {\n",
       "        text-align: right;\n",
       "    }\n",
       "</style>\n",
       "<table border=\"1\" class=\"dataframe\">\n",
       "  <thead>\n",
       "    <tr style=\"text-align: right;\">\n",
       "      <th></th>\n",
       "      <th>survived</th>\n",
       "      <th>pclass</th>\n",
       "      <th>age</th>\n",
       "      <th>sibsp</th>\n",
       "      <th>parch</th>\n",
       "      <th>fare</th>\n",
       "      <th>alone</th>\n",
       "      <th>sex_male</th>\n",
       "      <th>embark_town_Queenstown</th>\n",
       "      <th>embark_town_Southampton</th>\n",
       "    </tr>\n",
       "  </thead>\n",
       "  <tbody>\n",
       "    <tr>\n",
       "      <th>789</th>\n",
       "      <td>0</td>\n",
       "      <td>1</td>\n",
       "      <td>46.0</td>\n",
       "      <td>0</td>\n",
       "      <td>0</td>\n",
       "      <td>79.2000</td>\n",
       "      <td>1</td>\n",
       "      <td>1</td>\n",
       "      <td>0</td>\n",
       "      <td>0</td>\n",
       "    </tr>\n",
       "    <tr>\n",
       "      <th>88</th>\n",
       "      <td>1</td>\n",
       "      <td>1</td>\n",
       "      <td>23.0</td>\n",
       "      <td>3</td>\n",
       "      <td>2</td>\n",
       "      <td>263.0000</td>\n",
       "      <td>0</td>\n",
       "      <td>0</td>\n",
       "      <td>0</td>\n",
       "      <td>1</td>\n",
       "    </tr>\n",
       "    <tr>\n",
       "      <th>830</th>\n",
       "      <td>1</td>\n",
       "      <td>3</td>\n",
       "      <td>15.0</td>\n",
       "      <td>1</td>\n",
       "      <td>0</td>\n",
       "      <td>14.4542</td>\n",
       "      <td>0</td>\n",
       "      <td>0</td>\n",
       "      <td>0</td>\n",
       "      <td>0</td>\n",
       "    </tr>\n",
       "    <tr>\n",
       "      <th>728</th>\n",
       "      <td>0</td>\n",
       "      <td>2</td>\n",
       "      <td>25.0</td>\n",
       "      <td>1</td>\n",
       "      <td>0</td>\n",
       "      <td>26.0000</td>\n",
       "      <td>0</td>\n",
       "      <td>1</td>\n",
       "      <td>0</td>\n",
       "      <td>1</td>\n",
       "    </tr>\n",
       "    <tr>\n",
       "      <th>531</th>\n",
       "      <td>0</td>\n",
       "      <td>3</td>\n",
       "      <td>NaN</td>\n",
       "      <td>0</td>\n",
       "      <td>0</td>\n",
       "      <td>7.2292</td>\n",
       "      <td>1</td>\n",
       "      <td>1</td>\n",
       "      <td>0</td>\n",
       "      <td>0</td>\n",
       "    </tr>\n",
       "    <tr>\n",
       "      <th>...</th>\n",
       "      <td>...</td>\n",
       "      <td>...</td>\n",
       "      <td>...</td>\n",
       "      <td>...</td>\n",
       "      <td>...</td>\n",
       "      <td>...</td>\n",
       "      <td>...</td>\n",
       "      <td>...</td>\n",
       "      <td>...</td>\n",
       "      <td>...</td>\n",
       "    </tr>\n",
       "    <tr>\n",
       "      <th>596</th>\n",
       "      <td>1</td>\n",
       "      <td>2</td>\n",
       "      <td>NaN</td>\n",
       "      <td>0</td>\n",
       "      <td>0</td>\n",
       "      <td>33.0000</td>\n",
       "      <td>1</td>\n",
       "      <td>0</td>\n",
       "      <td>0</td>\n",
       "      <td>1</td>\n",
       "    </tr>\n",
       "    <tr>\n",
       "      <th>36</th>\n",
       "      <td>1</td>\n",
       "      <td>3</td>\n",
       "      <td>NaN</td>\n",
       "      <td>0</td>\n",
       "      <td>0</td>\n",
       "      <td>7.2292</td>\n",
       "      <td>1</td>\n",
       "      <td>1</td>\n",
       "      <td>0</td>\n",
       "      <td>0</td>\n",
       "    </tr>\n",
       "    <tr>\n",
       "      <th>556</th>\n",
       "      <td>1</td>\n",
       "      <td>1</td>\n",
       "      <td>48.0</td>\n",
       "      <td>1</td>\n",
       "      <td>0</td>\n",
       "      <td>39.6000</td>\n",
       "      <td>0</td>\n",
       "      <td>0</td>\n",
       "      <td>0</td>\n",
       "      <td>0</td>\n",
       "    </tr>\n",
       "    <tr>\n",
       "      <th>593</th>\n",
       "      <td>0</td>\n",
       "      <td>3</td>\n",
       "      <td>NaN</td>\n",
       "      <td>0</td>\n",
       "      <td>2</td>\n",
       "      <td>7.7500</td>\n",
       "      <td>0</td>\n",
       "      <td>0</td>\n",
       "      <td>1</td>\n",
       "      <td>0</td>\n",
       "    </tr>\n",
       "    <tr>\n",
       "      <th>289</th>\n",
       "      <td>1</td>\n",
       "      <td>3</td>\n",
       "      <td>22.0</td>\n",
       "      <td>0</td>\n",
       "      <td>0</td>\n",
       "      <td>7.7500</td>\n",
       "      <td>1</td>\n",
       "      <td>0</td>\n",
       "      <td>1</td>\n",
       "      <td>0</td>\n",
       "    </tr>\n",
       "  </tbody>\n",
       "</table>\n",
       "<p>498 rows × 10 columns</p>\n",
       "</div>"
      ],
      "text/plain": [
       "     survived  pclass   age  sibsp  parch      fare  alone  sex_male  \\\n",
       "789         0       1  46.0      0      0   79.2000      1         1   \n",
       "88          1       1  23.0      3      2  263.0000      0         0   \n",
       "830         1       3  15.0      1      0   14.4542      0         0   \n",
       "728         0       2  25.0      1      0   26.0000      0         1   \n",
       "531         0       3   NaN      0      0    7.2292      1         1   \n",
       "..        ...     ...   ...    ...    ...       ...    ...       ...   \n",
       "596         1       2   NaN      0      0   33.0000      1         0   \n",
       "36          1       3   NaN      0      0    7.2292      1         1   \n",
       "556         1       1  48.0      1      0   39.6000      0         0   \n",
       "593         0       3   NaN      0      2    7.7500      0         0   \n",
       "289         1       3  22.0      0      0    7.7500      1         0   \n",
       "\n",
       "     embark_town_Queenstown  embark_town_Southampton  \n",
       "789                       0                        0  \n",
       "88                        0                        1  \n",
       "830                       0                        0  \n",
       "728                       0                        1  \n",
       "531                       0                        0  \n",
       "..                      ...                      ...  \n",
       "596                       0                        1  \n",
       "36                        0                        0  \n",
       "556                       0                        0  \n",
       "593                       1                        0  \n",
       "289                       1                        0  \n",
       "\n",
       "[498 rows x 10 columns]"
      ]
     },
     "execution_count": 18,
     "metadata": {},
     "output_type": "execute_result"
    }
   ],
   "source": [
    "titanic_train"
   ]
  },
  {
   "cell_type": "markdown",
   "id": "abf7e157",
   "metadata": {},
   "source": [
    "#### univariate stats"
   ]
  },
  {
   "cell_type": "code",
   "execution_count": 39,
   "id": "f905a11b",
   "metadata": {},
   "outputs": [
    {
     "data": {
      "text/plain": [
       "0.38353413654618473"
      ]
     },
     "execution_count": 39,
     "metadata": {},
     "output_type": "execute_result"
    }
   ],
   "source": [
    "# get percent that survived\n",
    "titanic_train.survived.mean() #only 0.38 survived"
   ]
  },
  {
   "cell_type": "code",
   "execution_count": 42,
   "id": "8347cd35",
   "metadata": {},
   "outputs": [
    {
     "data": {
      "text/plain": [
       "3    273\n",
       "1    119\n",
       "2    106\n",
       "Name: pclass, dtype: int64"
      ]
     },
     "execution_count": 42,
     "metadata": {},
     "output_type": "execute_result"
    }
   ],
   "source": [
    "#get counts of the classes\n",
    "titanic_train.pclass.value_counts() # third class are over half the sample"
   ]
  },
  {
   "cell_type": "code",
   "execution_count": 72,
   "id": "f36458e2",
   "metadata": {},
   "outputs": [
    {
     "data": {
      "text/plain": [
       "1    75\n",
       "3    67\n",
       "2    49\n",
       "Name: pclass, dtype: int64"
      ]
     },
     "execution_count": 72,
     "metadata": {},
     "output_type": "execute_result"
    }
   ],
   "source": [
    "titanic_train[titanic_train.survived == 1].pclass.value_counts()"
   ]
  },
  {
   "cell_type": "code",
   "execution_count": 73,
   "id": "56fd26a3",
   "metadata": {},
   "outputs": [
    {
     "data": {
      "text/plain": [
       "3    206\n",
       "2     57\n",
       "1     44\n",
       "Name: pclass, dtype: int64"
      ]
     },
     "execution_count": 73,
     "metadata": {},
     "output_type": "execute_result"
    }
   ],
   "source": [
    "titanic_train[titanic_train.survived == 0].pclass.value_counts()"
   ]
  },
  {
   "cell_type": "markdown",
   "id": "a6e020df",
   "metadata": {},
   "source": [
    "first class are overrepresented in the survived group"
   ]
  },
  {
   "cell_type": "code",
   "execution_count": 74,
   "id": "98ac2dcc",
   "metadata": {},
   "outputs": [
    {
     "data": {
      "text/plain": [
       "<AxesSubplot:>"
      ]
     },
     "execution_count": 74,
     "metadata": {},
     "output_type": "execute_result"
    },
    {
     "data": {
      "image/png": "[encoded data removed]",
      "text/plain": [
       "<Figure size 432x288 with 1 Axes>"
      ]
     },
     "metadata": {
      "needs_background": "light"
     },
     "output_type": "display_data"
    }
   ],
   "source": [
    "titanic_train.age.hist() #looks normal"
   ]
  },
  {
   "cell_type": "code",
   "execution_count": 75,
   "id": "b1a000b9",
   "metadata": {},
   "outputs": [
    {
     "data": {
      "text/plain": [
       "<AxesSubplot:>"
      ]
     },
     "execution_count": 75,
     "metadata": {},
     "output_type": "execute_result"
    },
    {
     "data": {
      "image/png": "[encoded data removed]",
      "text/plain": [
       "<Figure size 432x288 with 1 Axes>"
      ]
     },
     "metadata": {
      "needs_background": "light"
     },
     "output_type": "display_data"
    }
   ],
   "source": [
    "titanic_train[titanic_train.survived == 0].age.hist() "
   ]
  },
  {
   "cell_type": "code",
   "execution_count": 76,
   "id": "f0e2e03d",
   "metadata": {
    "scrolled": true
   },
   "outputs": [
    {
     "data": {
      "text/plain": [
       "<AxesSubplot:>"
      ]
     },
     "execution_count": 76,
     "metadata": {},
     "output_type": "execute_result"
    },
    {
     "data": {
      "image/png": "[encoded data removed]",
      "text/plain": [
       "<Figure size 432x288 with 1 Axes>"
      ]
     },
     "metadata": {
      "needs_background": "light"
     },
     "output_type": "display_data"
    }
   ],
   "source": [
    "titanic_train[titanic_train.survived == 1].age.hist() "
   ]
  },
  {
   "cell_type": "markdown",
   "id": "ce32396c",
   "metadata": {},
   "source": [
    "age doesn't look that different across samples"
   ]
  },
  {
   "cell_type": "code",
   "execution_count": 19,
   "id": "da65c597",
   "metadata": {},
   "outputs": [
    {
     "data": {
      "text/plain": [
       "9.147508147127235e-13"
      ]
     },
     "execution_count": 19,
     "metadata": {},
     "output_type": "execute_result"
    }
   ],
   "source": [
    "# pclass is probably correlated with survival\n",
    "observed = pd.crosstab(titanic_train.pclass, titanic_train.survived)\n",
    "chi2, p, degf, expected = stats.chi2_contingency(observed)\n",
    "p #reject H_0 : pclass and survived are dependent"
   ]
  },
  {
   "cell_type": "code",
   "execution_count": 41,
   "id": "ab33fc5a",
   "metadata": {},
   "outputs": [
    {
     "data": {
      "text/plain": [
       "True"
      ]
     },
     "execution_count": 41,
     "metadata": {},
     "output_type": "execute_result"
    }
   ],
   "source": [
    "# fare for survived are probably different\n",
    "# use a ttest\n",
    "# samples are large enough\n",
    "titanic_train[titanic_train.survived == 1].shape[0]\n",
    "#survived vs not survived are independent\n",
    "# H_0 : the mean fare for survived is <= mean fare for not survived\n",
    "t, p = stats.mannwhitneyu(titanic_train[titanic_train.survived == 1].fare, \n",
    "                            titanic_train[titanic_train.survived == 0].fare,\n",
    "                         alternative='greater')\n",
    "p < 0.05"
   ]
  },
  {
   "cell_type": "code",
   "execution_count": 80,
   "id": "dd503151",
   "metadata": {},
   "outputs": [
    {
     "data": {
      "text/plain": [
       "1.1618818438544924e-31"
      ]
     },
     "execution_count": 80,
     "metadata": {},
     "output_type": "execute_result"
    }
   ],
   "source": [
    "# females might be more likely to survive\n",
    "# H_0 : gender and surival are not correlated\n",
    "observed = pd.crosstab(titanic_train.sex_male, titanic_train.survived)\n",
    "chi2, p, degf, expected = stats.chi2_contingency(observed)\n",
    "p # < 0.05 ; reject the null"
   ]
  },
  {
   "cell_type": "code",
   "execution_count": 82,
   "id": "e362d71e",
   "metadata": {},
   "outputs": [
    {
     "data": {
      "text/plain": [
       "<AxesSubplot:xlabel='pclass', ylabel='age'>"
      ]
     },
     "execution_count": 82,
     "metadata": {},
     "output_type": "execute_result"
    },
    {
     "data": {
      "image/png": "[encoded data removed]",
      "text/plain": [
       "<Figure size 432x288 with 1 Axes>"
      ]
     },
     "metadata": {
      "needs_background": "light"
     },
     "output_type": "display_data"
    }
   ],
   "source": [
    "#what is the distibution  of age and survivors/class\n",
    "sns.boxplot(x='pclass', y='age', data=titanic_train, hue = 'survived')"
   ]
  },
  {
   "cell_type": "code",
   "execution_count": 87,
   "id": "c75cd383",
   "metadata": {},
   "outputs": [
    {
     "data": {
      "text/plain": [
       "<AxesSubplot:xlabel='survived', ylabel='age'>"
      ]
     },
     "execution_count": 87,
     "metadata": {},
     "output_type": "execute_result"
    },
    {
     "data": {
      "image/png": "[encoded data removed]",
      "text/plain": [
       "<Figure size 432x288 with 1 Axes>"
      ]
     },
     "metadata": {
      "needs_background": "light"
     },
     "output_type": "display_data"
    }
   ],
   "source": [
    "sns.boxplot(x='survived', y='age', data=titanic_train)"
   ]
  },
  {
   "cell_type": "markdown",
   "id": "a015f1b3",
   "metadata": {},
   "source": [
    "Look like third class, females, and higher fares are more likely to survive.  Age was surprisingly not much of a factor when only considering survival."
   ]
  },
  {
   "cell_type": "markdown",
   "id": "c6fc603e",
   "metadata": {},
   "source": [
    "## telco_db"
   ]
  },
  {
   "cell_type": "code",
   "execution_count": 88,
   "id": "a514649b",
   "metadata": {},
   "outputs": [],
   "source": [
    "import prepare\n",
    "import acquire\n",
    "telco_df = acquire.get_telco_data()\n",
    "telco_train, validate, test = prepare.split_telco_data(telco_df)"
   ]
  },
  {
   "cell_type": "code",
   "execution_count": 209,
   "id": "ac573adc",
   "metadata": {
    "scrolled": true
   },
   "outputs": [
    {
     "data": {
      "text/html": [
       "<div>\n",
       "<style scoped>\n",
       "    .dataframe tbody tr th:only-of-type {\n",
       "        vertical-align: middle;\n",
       "    }\n",
       "\n",
       "    .dataframe tbody tr th {\n",
       "        vertical-align: top;\n",
       "    }\n",
       "\n",
       "    .dataframe thead th {\n",
       "        text-align: right;\n",
       "    }\n",
       "</style>\n",
       "<table border=\"1\" class=\"dataframe\">\n",
       "  <thead>\n",
       "    <tr style=\"text-align: right;\">\n",
       "      <th></th>\n",
       "      <th>customer_id</th>\n",
       "      <th>gender</th>\n",
       "      <th>senior_citizen</th>\n",
       "      <th>partner</th>\n",
       "      <th>dependents</th>\n",
       "      <th>tenure</th>\n",
       "      <th>phone_service</th>\n",
       "      <th>multiple_lines</th>\n",
       "      <th>online_security</th>\n",
       "      <th>online_backup</th>\n",
       "      <th>...</th>\n",
       "      <th>streaming_movies_Yes</th>\n",
       "      <th>paperless_billing_Yes</th>\n",
       "      <th>churn_Yes</th>\n",
       "      <th>contract_type_One year</th>\n",
       "      <th>contract_type_Two year</th>\n",
       "      <th>payment_type_Credit card (automatic)</th>\n",
       "      <th>payment_type_Electronic check</th>\n",
       "      <th>payment_type_Mailed check</th>\n",
       "      <th>internet_service_type_Fiber optic</th>\n",
       "      <th>internet_service_type_None</th>\n",
       "    </tr>\n",
       "  </thead>\n",
       "  <tbody>\n",
       "    <tr>\n",
       "      <th>3784</th>\n",
       "      <td>5322-TEUJK</td>\n",
       "      <td>Female</td>\n",
       "      <td>0</td>\n",
       "      <td>Yes</td>\n",
       "      <td>Yes</td>\n",
       "      <td>71</td>\n",
       "      <td>Yes</td>\n",
       "      <td>Yes</td>\n",
       "      <td>Yes</td>\n",
       "      <td>Yes</td>\n",
       "      <td>...</td>\n",
       "      <td>1</td>\n",
       "      <td>0</td>\n",
       "      <td>0</td>\n",
       "      <td>0</td>\n",
       "      <td>1</td>\n",
       "      <td>0</td>\n",
       "      <td>0</td>\n",
       "      <td>0</td>\n",
       "      <td>1</td>\n",
       "      <td>0</td>\n",
       "    </tr>\n",
       "    <tr>\n",
       "      <th>5137</th>\n",
       "      <td>7233-PAHHL</td>\n",
       "      <td>Male</td>\n",
       "      <td>0</td>\n",
       "      <td>Yes</td>\n",
       "      <td>Yes</td>\n",
       "      <td>66</td>\n",
       "      <td>Yes</td>\n",
       "      <td>Yes</td>\n",
       "      <td>Yes</td>\n",
       "      <td>No</td>\n",
       "      <td>...</td>\n",
       "      <td>1</td>\n",
       "      <td>1</td>\n",
       "      <td>0</td>\n",
       "      <td>0</td>\n",
       "      <td>1</td>\n",
       "      <td>0</td>\n",
       "      <td>0</td>\n",
       "      <td>1</td>\n",
       "      <td>0</td>\n",
       "      <td>0</td>\n",
       "    </tr>\n",
       "    <tr>\n",
       "      <th>6217</th>\n",
       "      <td>8785-EPNCG</td>\n",
       "      <td>Male</td>\n",
       "      <td>0</td>\n",
       "      <td>No</td>\n",
       "      <td>No</td>\n",
       "      <td>11</td>\n",
       "      <td>Yes</td>\n",
       "      <td>Yes</td>\n",
       "      <td>No internet service</td>\n",
       "      <td>No internet service</td>\n",
       "      <td>...</td>\n",
       "      <td>0</td>\n",
       "      <td>0</td>\n",
       "      <td>1</td>\n",
       "      <td>0</td>\n",
       "      <td>0</td>\n",
       "      <td>1</td>\n",
       "      <td>0</td>\n",
       "      <td>0</td>\n",
       "      <td>0</td>\n",
       "      <td>1</td>\n",
       "    </tr>\n",
       "    <tr>\n",
       "      <th>5820</th>\n",
       "      <td>8191-XWSZG</td>\n",
       "      <td>Female</td>\n",
       "      <td>0</td>\n",
       "      <td>No</td>\n",
       "      <td>No</td>\n",
       "      <td>52</td>\n",
       "      <td>Yes</td>\n",
       "      <td>No</td>\n",
       "      <td>No internet service</td>\n",
       "      <td>No internet service</td>\n",
       "      <td>...</td>\n",
       "      <td>0</td>\n",
       "      <td>0</td>\n",
       "      <td>0</td>\n",
       "      <td>1</td>\n",
       "      <td>0</td>\n",
       "      <td>0</td>\n",
       "      <td>0</td>\n",
       "      <td>1</td>\n",
       "      <td>0</td>\n",
       "      <td>1</td>\n",
       "    </tr>\n",
       "    <tr>\n",
       "      <th>373</th>\n",
       "      <td>0556-FJEGU</td>\n",
       "      <td>Male</td>\n",
       "      <td>0</td>\n",
       "      <td>No</td>\n",
       "      <td>No</td>\n",
       "      <td>58</td>\n",
       "      <td>Yes</td>\n",
       "      <td>No</td>\n",
       "      <td>No</td>\n",
       "      <td>Yes</td>\n",
       "      <td>...</td>\n",
       "      <td>0</td>\n",
       "      <td>0</td>\n",
       "      <td>0</td>\n",
       "      <td>0</td>\n",
       "      <td>1</td>\n",
       "      <td>0</td>\n",
       "      <td>0</td>\n",
       "      <td>0</td>\n",
       "      <td>0</td>\n",
       "      <td>0</td>\n",
       "    </tr>\n",
       "  </tbody>\n",
       "</table>\n",
       "<p>5 rows × 48 columns</p>\n",
       "</div>"
      ],
      "text/plain": [
       "     customer_id  gender  senior_citizen partner dependents  tenure  \\\n",
       "3784  5322-TEUJK  Female               0     Yes        Yes      71   \n",
       "5137  7233-PAHHL    Male               0     Yes        Yes      66   \n",
       "6217  8785-EPNCG    Male               0      No         No      11   \n",
       "5820  8191-XWSZG  Female               0      No         No      52   \n",
       "373   0556-FJEGU    Male               0      No         No      58   \n",
       "\n",
       "     phone_service multiple_lines      online_security        online_backup  \\\n",
       "3784           Yes            Yes                  Yes                  Yes   \n",
       "5137           Yes            Yes                  Yes                   No   \n",
       "6217           Yes            Yes  No internet service  No internet service   \n",
       "5820           Yes             No  No internet service  No internet service   \n",
       "373            Yes             No                   No                  Yes   \n",
       "\n",
       "      ... streaming_movies_Yes paperless_billing_Yes churn_Yes  \\\n",
       "3784  ...                    1                     0         0   \n",
       "5137  ...                    1                     1         0   \n",
       "6217  ...                    0                     0         1   \n",
       "5820  ...                    0                     0         0   \n",
       "373   ...                    0                     0         0   \n",
       "\n",
       "     contract_type_One year contract_type_Two year  \\\n",
       "3784                      0                      1   \n",
       "5137                      0                      1   \n",
       "6217                      0                      0   \n",
       "5820                      1                      0   \n",
       "373                       0                      1   \n",
       "\n",
       "      payment_type_Credit card (automatic)  payment_type_Electronic check  \\\n",
       "3784                                     0                              0   \n",
       "5137                                     0                              0   \n",
       "6217                                     1                              0   \n",
       "5820                                     0                              0   \n",
       "373                                      0                              0   \n",
       "\n",
       "     payment_type_Mailed check internet_service_type_Fiber optic  \\\n",
       "3784                         0                                 1   \n",
       "5137                         1                                 0   \n",
       "6217                         0                                 0   \n",
       "5820                         1                                 0   \n",
       "373                          0                                 0   \n",
       "\n",
       "     internet_service_type_None  \n",
       "3784                          0  \n",
       "5137                          0  \n",
       "6217                          1  \n",
       "5820                          1  \n",
       "373                           0  \n",
       "\n",
       "[5 rows x 48 columns]"
      ]
     },
     "execution_count": 209,
     "metadata": {},
     "output_type": "execute_result"
    }
   ],
   "source": [
    "telco_train.head()"
   ]
  },
  {
   "cell_type": "markdown",
   "id": "a3277a19",
   "metadata": {},
   "source": [
    "univariate stats"
   ]
  },
  {
   "cell_type": "code",
   "execution_count": 94,
   "id": "af196434",
   "metadata": {},
   "outputs": [
    {
     "data": {
      "text/plain": [
       "0.2656845313690627"
      ]
     },
     "execution_count": 94,
     "metadata": {},
     "output_type": "execute_result"
    }
   ],
   "source": [
    "(telco_train.churn == 'Yes').mean() #0.26 customers churned"
   ]
  },
  {
   "cell_type": "code",
   "execution_count": 279,
   "id": "88ce285b",
   "metadata": {},
   "outputs": [],
   "source": [
    "#get list of categorical data\n",
    "cat_var = telco_train.dtypes[telco_train.dtypes == 'object'].index.to_list()\n",
    "cat_var.remove('customer_id')\n",
    "cat_var.append('senior_citizen')\n",
    "\n",
    "conds = []\n",
    "props = []\n",
    "\n"
   ]
  },
  {
   "cell_type": "code",
   "execution_count": 96,
   "id": "6cdbb265",
   "metadata": {},
   "outputs": [
    {
     "data": {
      "text/html": [
       "<div>\n",
       "<style scoped>\n",
       "    .dataframe tbody tr th:only-of-type {\n",
       "        vertical-align: middle;\n",
       "    }\n",
       "\n",
       "    .dataframe tbody tr th {\n",
       "        vertical-align: top;\n",
       "    }\n",
       "\n",
       "    .dataframe thead th {\n",
       "        text-align: right;\n",
       "    }\n",
       "</style>\n",
       "<table border=\"1\" class=\"dataframe\">\n",
       "  <thead>\n",
       "    <tr style=\"text-align: right;\">\n",
       "      <th></th>\n",
       "      <th>senior_citizen</th>\n",
       "      <th>tenure</th>\n",
       "      <th>monthly_charges</th>\n",
       "    </tr>\n",
       "  </thead>\n",
       "  <tbody>\n",
       "    <tr>\n",
       "      <th>count</th>\n",
       "      <td>3937.000000</td>\n",
       "      <td>3937.000000</td>\n",
       "      <td>3937.000000</td>\n",
       "    </tr>\n",
       "    <tr>\n",
       "      <th>mean</th>\n",
       "      <td>0.160274</td>\n",
       "      <td>32.548133</td>\n",
       "      <td>64.707772</td>\n",
       "    </tr>\n",
       "    <tr>\n",
       "      <th>std</th>\n",
       "      <td>0.366907</td>\n",
       "      <td>24.650129</td>\n",
       "      <td>30.337173</td>\n",
       "    </tr>\n",
       "    <tr>\n",
       "      <th>min</th>\n",
       "      <td>0.000000</td>\n",
       "      <td>1.000000</td>\n",
       "      <td>18.250000</td>\n",
       "    </tr>\n",
       "    <tr>\n",
       "      <th>25%</th>\n",
       "      <td>0.000000</td>\n",
       "      <td>9.000000</td>\n",
       "      <td>35.000000</td>\n",
       "    </tr>\n",
       "    <tr>\n",
       "      <th>50%</th>\n",
       "      <td>0.000000</td>\n",
       "      <td>29.000000</td>\n",
       "      <td>70.400000</td>\n",
       "    </tr>\n",
       "    <tr>\n",
       "      <th>75%</th>\n",
       "      <td>0.000000</td>\n",
       "      <td>56.000000</td>\n",
       "      <td>89.900000</td>\n",
       "    </tr>\n",
       "    <tr>\n",
       "      <th>max</th>\n",
       "      <td>1.000000</td>\n",
       "      <td>72.000000</td>\n",
       "      <td>118.750000</td>\n",
       "    </tr>\n",
       "  </tbody>\n",
       "</table>\n",
       "</div>"
      ],
      "text/plain": [
       "       senior_citizen       tenure  monthly_charges\n",
       "count     3937.000000  3937.000000      3937.000000\n",
       "mean         0.160274    32.548133        64.707772\n",
       "std          0.366907    24.650129        30.337173\n",
       "min          0.000000     1.000000        18.250000\n",
       "25%          0.000000     9.000000        35.000000\n",
       "50%          0.000000    29.000000        70.400000\n",
       "75%          0.000000    56.000000        89.900000\n",
       "max          1.000000    72.000000       118.750000"
      ]
     },
     "execution_count": 96,
     "metadata": {},
     "output_type": "execute_result"
    }
   ],
   "source": [
    "telco_train.describe().iloc[:, 0:3]"
   ]
  },
  {
   "cell_type": "code",
   "execution_count": 97,
   "id": "e1c52b63",
   "metadata": {
    "scrolled": true
   },
   "outputs": [
    {
     "data": {
      "text/html": [
       "<div>\n",
       "<style scoped>\n",
       "    .dataframe tbody tr th:only-of-type {\n",
       "        vertical-align: middle;\n",
       "    }\n",
       "\n",
       "    .dataframe tbody tr th {\n",
       "        vertical-align: top;\n",
       "    }\n",
       "\n",
       "    .dataframe thead th {\n",
       "        text-align: right;\n",
       "    }\n",
       "</style>\n",
       "<table border=\"1\" class=\"dataframe\">\n",
       "  <thead>\n",
       "    <tr style=\"text-align: right;\">\n",
       "      <th></th>\n",
       "      <th>senior_citizen</th>\n",
       "      <th>tenure</th>\n",
       "      <th>monthly_charges</th>\n",
       "    </tr>\n",
       "  </thead>\n",
       "  <tbody>\n",
       "    <tr>\n",
       "      <th>count</th>\n",
       "      <td>1046.000000</td>\n",
       "      <td>1046.000000</td>\n",
       "      <td>1046.000000</td>\n",
       "    </tr>\n",
       "    <tr>\n",
       "      <th>mean</th>\n",
       "      <td>0.248566</td>\n",
       "      <td>18.365201</td>\n",
       "      <td>74.473136</td>\n",
       "    </tr>\n",
       "    <tr>\n",
       "      <th>std</th>\n",
       "      <td>0.432388</td>\n",
       "      <td>19.933826</td>\n",
       "      <td>25.046012</td>\n",
       "    </tr>\n",
       "    <tr>\n",
       "      <th>min</th>\n",
       "      <td>0.000000</td>\n",
       "      <td>1.000000</td>\n",
       "      <td>18.950000</td>\n",
       "    </tr>\n",
       "    <tr>\n",
       "      <th>25%</th>\n",
       "      <td>0.000000</td>\n",
       "      <td>2.000000</td>\n",
       "      <td>55.862500</td>\n",
       "    </tr>\n",
       "    <tr>\n",
       "      <th>50%</th>\n",
       "      <td>0.000000</td>\n",
       "      <td>10.000000</td>\n",
       "      <td>79.875000</td>\n",
       "    </tr>\n",
       "    <tr>\n",
       "      <th>75%</th>\n",
       "      <td>0.000000</td>\n",
       "      <td>29.000000</td>\n",
       "      <td>94.537500</td>\n",
       "    </tr>\n",
       "    <tr>\n",
       "      <th>max</th>\n",
       "      <td>1.000000</td>\n",
       "      <td>72.000000</td>\n",
       "      <td>118.350000</td>\n",
       "    </tr>\n",
       "  </tbody>\n",
       "</table>\n",
       "</div>"
      ],
      "text/plain": [
       "       senior_citizen       tenure  monthly_charges\n",
       "count     1046.000000  1046.000000      1046.000000\n",
       "mean         0.248566    18.365201        74.473136\n",
       "std          0.432388    19.933826        25.046012\n",
       "min          0.000000     1.000000        18.950000\n",
       "25%          0.000000     2.000000        55.862500\n",
       "50%          0.000000    10.000000        79.875000\n",
       "75%          0.000000    29.000000        94.537500\n",
       "max          1.000000    72.000000       118.350000"
      ]
     },
     "execution_count": 97,
     "metadata": {},
     "output_type": "execute_result"
    }
   ],
   "source": [
    "telco_train[telco_train.churn == 'Yes'].describe().iloc[:, 0:3]"
   ]
  },
  {
   "cell_type": "markdown",
   "id": "f15eedaa",
   "metadata": {},
   "source": [
    "the % of seniors is higher in churned customers, churned customers have a shorter tenure, and are probably paying about $10 more."
   ]
  },
  {
   "cell_type": "code",
   "execution_count": 199,
   "id": "68cb57c2",
   "metadata": {},
   "outputs": [
    {
     "name": "stdout",
     "output_type": "stream",
     "text": [
      "<class 'pandas.core.frame.DataFrame'>\n",
      "Int64Index: 3937 entries, 3784 to 817\n",
      "Data columns (total 48 columns):\n",
      " #   Column                                 Non-Null Count  Dtype  \n",
      "---  ------                                 --------------  -----  \n",
      " 0   customer_id                            3937 non-null   object \n",
      " 1   gender                                 3937 non-null   object \n",
      " 2   senior_citizen                         3937 non-null   int64  \n",
      " 3   partner                                3937 non-null   object \n",
      " 4   dependents                             3937 non-null   object \n",
      " 5   tenure                                 3937 non-null   int64  \n",
      " 6   phone_service                          3937 non-null   object \n",
      " 7   multiple_lines                         3937 non-null   object \n",
      " 8   online_security                        3937 non-null   object \n",
      " 9   online_backup                          3937 non-null   object \n",
      " 10  device_protection                      3937 non-null   object \n",
      " 11  tech_support                           3937 non-null   object \n",
      " 12  streaming_tv                           3937 non-null   object \n",
      " 13  streaming_movies                       3937 non-null   object \n",
      " 14  paperless_billing                      3937 non-null   object \n",
      " 15  monthly_charges                        3937 non-null   float64\n",
      " 16  total_charges                          3937 non-null   float64\n",
      " 17  churn                                  3937 non-null   object \n",
      " 18  contract_type                          3937 non-null   object \n",
      " 19  payment_type                           3937 non-null   object \n",
      " 20  internet_service_type                  3937 non-null   object \n",
      " 21  gender_Male                            3937 non-null   uint8  \n",
      " 22  partner_Yes                            3937 non-null   uint8  \n",
      " 23  dependents_Yes                         3937 non-null   uint8  \n",
      " 24  phone_service_Yes                      3937 non-null   uint8  \n",
      " 25  multiple_lines_No phone service        3937 non-null   uint8  \n",
      " 26  multiple_lines_Yes                     3937 non-null   uint8  \n",
      " 27  online_security_No internet service    3937 non-null   uint8  \n",
      " 28  online_security_Yes                    3937 non-null   uint8  \n",
      " 29  online_backup_No internet service      3937 non-null   uint8  \n",
      " 30  online_backup_Yes                      3937 non-null   uint8  \n",
      " 31  device_protection_No internet service  3937 non-null   uint8  \n",
      " 32  device_protection_Yes                  3937 non-null   uint8  \n",
      " 33  tech_support_No internet service       3937 non-null   uint8  \n",
      " 34  tech_support_Yes                       3937 non-null   uint8  \n",
      " 35  streaming_tv_No internet service       3937 non-null   uint8  \n",
      " 36  streaming_tv_Yes                       3937 non-null   uint8  \n",
      " 37  streaming_movies_No internet service   3937 non-null   uint8  \n",
      " 38  streaming_movies_Yes                   3937 non-null   uint8  \n",
      " 39  paperless_billing_Yes                  3937 non-null   uint8  \n",
      " 40  churn_Yes                              3937 non-null   uint8  \n",
      " 41  contract_type_One year                 3937 non-null   uint8  \n",
      " 42  contract_type_Two year                 3937 non-null   uint8  \n",
      " 43  payment_type_Credit card (automatic)   3937 non-null   uint8  \n",
      " 44  payment_type_Electronic check          3937 non-null   uint8  \n",
      " 45  payment_type_Mailed check              3937 non-null   uint8  \n",
      " 46  internet_service_type_Fiber optic      3937 non-null   uint8  \n",
      " 47  internet_service_type_None             3937 non-null   uint8  \n",
      "dtypes: float64(2), int64(2), object(17), uint8(27)\n",
      "memory usage: 780.5+ KB\n"
     ]
    }
   ],
   "source": [
    "telco_train.info()"
   ]
  },
  {
   "cell_type": "code",
   "execution_count": 200,
   "id": "b98228ad",
   "metadata": {
    "scrolled": false
   },
   "outputs": [
    {
     "data": {
      "text/html": [
       "<div>\n",
       "<style scoped>\n",
       "    .dataframe tbody tr th:only-of-type {\n",
       "        vertical-align: middle;\n",
       "    }\n",
       "\n",
       "    .dataframe tbody tr th {\n",
       "        vertical-align: top;\n",
       "    }\n",
       "\n",
       "    .dataframe thead th {\n",
       "        text-align: right;\n",
       "    }\n",
       "</style>\n",
       "<table border=\"1\" class=\"dataframe\">\n",
       "  <thead>\n",
       "    <tr style=\"text-align: right;\">\n",
       "      <th></th>\n",
       "      <th>comapring</th>\n",
       "      <th>reject?</th>\n",
       "      <th>p-value</th>\n",
       "    </tr>\n",
       "  </thead>\n",
       "  <tbody>\n",
       "    <tr>\n",
       "      <th>19</th>\n",
       "      <td>churn x churn_Yes</td>\n",
       "      <td>True</td>\n",
       "      <td>0.000000e+00</td>\n",
       "    </tr>\n",
       "    <tr>\n",
       "      <th>25</th>\n",
       "      <td>churn x internet_service_type_Fiber optic</td>\n",
       "      <td>True</td>\n",
       "      <td>2.077846e-80</td>\n",
       "    </tr>\n",
       "    <tr>\n",
       "      <th>21</th>\n",
       "      <td>churn x contract_type_Two year</td>\n",
       "      <td>True</td>\n",
       "      <td>6.112922e-77</td>\n",
       "    </tr>\n",
       "    <tr>\n",
       "      <th>23</th>\n",
       "      <td>churn x payment_type_Electronic check</td>\n",
       "      <td>True</td>\n",
       "      <td>9.749677e-71</td>\n",
       "    </tr>\n",
       "    <tr>\n",
       "      <th>26</th>\n",
       "      <td>churn x internet_service_type_None</td>\n",
       "      <td>True</td>\n",
       "      <td>3.234861e-45</td>\n",
       "    </tr>\n",
       "    <tr>\n",
       "      <th>6</th>\n",
       "      <td>churn x online_security_No internet service</td>\n",
       "      <td>True</td>\n",
       "      <td>3.234861e-45</td>\n",
       "    </tr>\n",
       "    <tr>\n",
       "      <th>8</th>\n",
       "      <td>churn x online_backup_No internet service</td>\n",
       "      <td>True</td>\n",
       "      <td>3.234861e-45</td>\n",
       "    </tr>\n",
       "    <tr>\n",
       "      <th>16</th>\n",
       "      <td>churn x streaming_movies_No internet service</td>\n",
       "      <td>True</td>\n",
       "      <td>3.234861e-45</td>\n",
       "    </tr>\n",
       "    <tr>\n",
       "      <th>10</th>\n",
       "      <td>churn x device_protection_No internet service</td>\n",
       "      <td>True</td>\n",
       "      <td>3.234861e-45</td>\n",
       "    </tr>\n",
       "    <tr>\n",
       "      <th>14</th>\n",
       "      <td>churn x streaming_tv_No internet service</td>\n",
       "      <td>True</td>\n",
       "      <td>3.234861e-45</td>\n",
       "    </tr>\n",
       "    <tr>\n",
       "      <th>12</th>\n",
       "      <td>churn x tech_support_No internet service</td>\n",
       "      <td>True</td>\n",
       "      <td>3.234861e-45</td>\n",
       "    </tr>\n",
       "    <tr>\n",
       "      <th>18</th>\n",
       "      <td>churn x paperless_billing_Yes</td>\n",
       "      <td>True</td>\n",
       "      <td>2.408029e-29</td>\n",
       "    </tr>\n",
       "    <tr>\n",
       "      <th>7</th>\n",
       "      <td>churn x online_security_Yes</td>\n",
       "      <td>True</td>\n",
       "      <td>7.797147e-28</td>\n",
       "    </tr>\n",
       "    <tr>\n",
       "      <th>20</th>\n",
       "      <td>churn x contract_type_One year</td>\n",
       "      <td>True</td>\n",
       "      <td>1.628508e-26</td>\n",
       "    </tr>\n",
       "    <tr>\n",
       "      <th>13</th>\n",
       "      <td>churn x tech_support_Yes</td>\n",
       "      <td>True</td>\n",
       "      <td>6.341856e-25</td>\n",
       "    </tr>\n",
       "    <tr>\n",
       "      <th>2</th>\n",
       "      <td>churn x dependents_Yes</td>\n",
       "      <td>True</td>\n",
       "      <td>2.347218e-21</td>\n",
       "    </tr>\n",
       "    <tr>\n",
       "      <th>1</th>\n",
       "      <td>churn x partner_Yes</td>\n",
       "      <td>True</td>\n",
       "      <td>3.495861e-18</td>\n",
       "    </tr>\n",
       "    <tr>\n",
       "      <th>22</th>\n",
       "      <td>churn x payment_type_Credit card (automatic)</td>\n",
       "      <td>True</td>\n",
       "      <td>7.591854e-17</td>\n",
       "    </tr>\n",
       "    <tr>\n",
       "      <th>24</th>\n",
       "      <td>churn x payment_type_Mailed check</td>\n",
       "      <td>True</td>\n",
       "      <td>7.314287e-08</td>\n",
       "    </tr>\n",
       "    <tr>\n",
       "      <th>9</th>\n",
       "      <td>churn x online_backup_Yes</td>\n",
       "      <td>True</td>\n",
       "      <td>1.365228e-06</td>\n",
       "    </tr>\n",
       "    <tr>\n",
       "      <th>17</th>\n",
       "      <td>churn x streaming_movies_Yes</td>\n",
       "      <td>True</td>\n",
       "      <td>3.488932e-05</td>\n",
       "    </tr>\n",
       "    <tr>\n",
       "      <th>15</th>\n",
       "      <td>churn x streaming_tv_Yes</td>\n",
       "      <td>True</td>\n",
       "      <td>3.817012e-05</td>\n",
       "    </tr>\n",
       "    <tr>\n",
       "      <th>11</th>\n",
       "      <td>churn x device_protection_Yes</td>\n",
       "      <td>True</td>\n",
       "      <td>3.558478e-04</td>\n",
       "    </tr>\n",
       "    <tr>\n",
       "      <th>5</th>\n",
       "      <td>churn x multiple_lines_Yes</td>\n",
       "      <td>True</td>\n",
       "      <td>1.369112e-03</td>\n",
       "    </tr>\n",
       "    <tr>\n",
       "      <th>4</th>\n",
       "      <td>churn x multiple_lines_No phone service</td>\n",
       "      <td>False</td>\n",
       "      <td>2.663752e-01</td>\n",
       "    </tr>\n",
       "    <tr>\n",
       "      <th>3</th>\n",
       "      <td>churn x phone_service_Yes</td>\n",
       "      <td>False</td>\n",
       "      <td>2.663752e-01</td>\n",
       "    </tr>\n",
       "    <tr>\n",
       "      <th>0</th>\n",
       "      <td>churn x gender_Male</td>\n",
       "      <td>False</td>\n",
       "      <td>7.518309e-01</td>\n",
       "    </tr>\n",
       "  </tbody>\n",
       "</table>\n",
       "</div>"
      ],
      "text/plain": [
       "                                        comapring  reject?       p-value\n",
       "19                              churn x churn_Yes     True  0.000000e+00\n",
       "25      churn x internet_service_type_Fiber optic     True  2.077846e-80\n",
       "21                 churn x contract_type_Two year     True  6.112922e-77\n",
       "23          churn x payment_type_Electronic check     True  9.749677e-71\n",
       "26             churn x internet_service_type_None     True  3.234861e-45\n",
       "6     churn x online_security_No internet service     True  3.234861e-45\n",
       "8       churn x online_backup_No internet service     True  3.234861e-45\n",
       "16   churn x streaming_movies_No internet service     True  3.234861e-45\n",
       "10  churn x device_protection_No internet service     True  3.234861e-45\n",
       "14       churn x streaming_tv_No internet service     True  3.234861e-45\n",
       "12       churn x tech_support_No internet service     True  3.234861e-45\n",
       "18                  churn x paperless_billing_Yes     True  2.408029e-29\n",
       "7                     churn x online_security_Yes     True  7.797147e-28\n",
       "20                 churn x contract_type_One year     True  1.628508e-26\n",
       "13                       churn x tech_support_Yes     True  6.341856e-25\n",
       "2                          churn x dependents_Yes     True  2.347218e-21\n",
       "1                             churn x partner_Yes     True  3.495861e-18\n",
       "22   churn x payment_type_Credit card (automatic)     True  7.591854e-17\n",
       "24              churn x payment_type_Mailed check     True  7.314287e-08\n",
       "9                       churn x online_backup_Yes     True  1.365228e-06\n",
       "17                   churn x streaming_movies_Yes     True  3.488932e-05\n",
       "15                       churn x streaming_tv_Yes     True  3.817012e-05\n",
       "11                  churn x device_protection_Yes     True  3.558478e-04\n",
       "5                      churn x multiple_lines_Yes     True  1.369112e-03\n",
       "4         churn x multiple_lines_No phone service    False  2.663752e-01\n",
       "3                       churn x phone_service_Yes    False  2.663752e-01\n",
       "0                             churn x gender_Male    False  7.518309e-01"
      ]
     },
     "execution_count": 200,
     "metadata": {},
     "output_type": "execute_result"
    }
   ],
   "source": [
    "#consider all the catagorical data and pair it with churn.  Do a χ^2 for each pair\n",
    "cat_not_churn = telco_train.dtypes[telco_train.dtypes == 'uint8'].index.to_list()\n",
    "# cat_not_churn.remove('churn')\n",
    "# cat_not_churn.remove('customer_id')\n",
    "# cat_not_churn.append('senior_citizen')\n",
    "\n",
    "alpha = 0.05\n",
    "cols =  []\n",
    "rej = []\n",
    "p_val = []\n",
    "\n",
    "for cat in cat_not_churn:\n",
    "    obs = pd.crosstab(telco_train.churn, telco_train[cat])\n",
    "    cols.append(f\"churn x {cat}\")\n",
    "    chi2, p, degf, expected = stats.chi2_contingency(obs)\n",
    "    rej.append(p < alpha)\n",
    "    p_val.append(p)\n",
    "\n",
    "ind_var = pd.DataFrame({\n",
    "    'comapring':cols,\n",
    "    'reject?':rej,\n",
    "    'p-value':p_val\n",
    "})\n",
    "ind_var[ind_var['reject?']==True].sort_values('p-value')\n",
    "ind_var.sort_values('p-value')"
   ]
  },
  {
   "cell_type": "markdown",
   "id": "2c2b1e4a",
   "metadata": {},
   "source": [
    "consider broader categories before specialized services"
   ]
  },
  {
   "cell_type": "code",
   "execution_count": 101,
   "id": "7156c85d",
   "metadata": {
    "scrolled": true
   },
   "outputs": [
    {
     "data": {
      "text/html": [
       "<div>\n",
       "<style scoped>\n",
       "    .dataframe tbody tr th:only-of-type {\n",
       "        vertical-align: middle;\n",
       "    }\n",
       "\n",
       "    .dataframe tbody tr th {\n",
       "        vertical-align: top;\n",
       "    }\n",
       "\n",
       "    .dataframe thead th {\n",
       "        text-align: right;\n",
       "    }\n",
       "</style>\n",
       "<table border=\"1\" class=\"dataframe\">\n",
       "  <thead>\n",
       "    <tr style=\"text-align: right;\">\n",
       "      <th>churn</th>\n",
       "      <th>No</th>\n",
       "      <th>Yes</th>\n",
       "    </tr>\n",
       "    <tr>\n",
       "      <th>contract_type</th>\n",
       "      <th></th>\n",
       "      <th></th>\n",
       "    </tr>\n",
       "  </thead>\n",
       "  <tbody>\n",
       "    <tr>\n",
       "      <th>Month-to-month</th>\n",
       "      <td>1270</td>\n",
       "      <td>922</td>\n",
       "    </tr>\n",
       "    <tr>\n",
       "      <th>One year</th>\n",
       "      <td>706</td>\n",
       "      <td>93</td>\n",
       "    </tr>\n",
       "    <tr>\n",
       "      <th>Two year</th>\n",
       "      <td>915</td>\n",
       "      <td>31</td>\n",
       "    </tr>\n",
       "  </tbody>\n",
       "</table>\n",
       "</div>"
      ],
      "text/plain": [
       "churn             No  Yes\n",
       "contract_type            \n",
       "Month-to-month  1270  922\n",
       "One year         706   93\n",
       "Two year         915   31"
      ]
     },
     "execution_count": 101,
     "metadata": {},
     "output_type": "execute_result"
    }
   ],
   "source": [
    "#investigate contract type\n",
    "pd.crosstab(telco_train.contract_type, telco_train.churn) #higher proportion of month-to-month contracts are churning"
   ]
  },
  {
   "cell_type": "code",
   "execution_count": 158,
   "id": "b8a23166",
   "metadata": {},
   "outputs": [
    {
     "data": {
      "text/plain": [
       "0.07106017191977078"
      ]
     },
     "execution_count": 158,
     "metadata": {},
     "output_type": "execute_result"
    }
   ],
   "source": [
    "telco_train_mm = telco_train[telco_train.contract_type == 'Month-to-month']\n",
    "(telco_train_mm.churn=='Yes').mean() #0.42\n",
    "telco_train_n_mm = telco_train[telco_train.contract_type != 'Month-to-month']\n",
    "(telco_train_n_mm.churn == 'Yes').mean() #0.07"
   ]
  },
  {
   "cell_type": "markdown",
   "id": "58cf38a2",
   "metadata": {},
   "source": [
    "churn among month to month customers is higher than among non-month-to-month"
   ]
  },
  {
   "cell_type": "code",
   "execution_count": 125,
   "id": "1341ef0b",
   "metadata": {},
   "outputs": [
    {
     "data": {
      "text/html": [
       "<div>\n",
       "<style scoped>\n",
       "    .dataframe tbody tr th:only-of-type {\n",
       "        vertical-align: middle;\n",
       "    }\n",
       "\n",
       "    .dataframe tbody tr th {\n",
       "        vertical-align: top;\n",
       "    }\n",
       "\n",
       "    .dataframe thead th {\n",
       "        text-align: right;\n",
       "    }\n",
       "</style>\n",
       "<table border=\"1\" class=\"dataframe\">\n",
       "  <thead>\n",
       "    <tr style=\"text-align: right;\">\n",
       "      <th>churn</th>\n",
       "      <th>No</th>\n",
       "      <th>Yes</th>\n",
       "      <th>All</th>\n",
       "    </tr>\n",
       "    <tr>\n",
       "      <th>internet_service_type</th>\n",
       "      <th></th>\n",
       "      <th></th>\n",
       "      <th></th>\n",
       "    </tr>\n",
       "  </thead>\n",
       "  <tbody>\n",
       "    <tr>\n",
       "      <th>DSL</th>\n",
       "      <td>1081</td>\n",
       "      <td>255</td>\n",
       "      <td>1336</td>\n",
       "    </tr>\n",
       "    <tr>\n",
       "      <th>Fiber optic</th>\n",
       "      <td>1018</td>\n",
       "      <td>725</td>\n",
       "      <td>1743</td>\n",
       "    </tr>\n",
       "    <tr>\n",
       "      <th>None</th>\n",
       "      <td>792</td>\n",
       "      <td>66</td>\n",
       "      <td>858</td>\n",
       "    </tr>\n",
       "    <tr>\n",
       "      <th>All</th>\n",
       "      <td>2891</td>\n",
       "      <td>1046</td>\n",
       "      <td>3937</td>\n",
       "    </tr>\n",
       "  </tbody>\n",
       "</table>\n",
       "</div>"
      ],
      "text/plain": [
       "churn                    No   Yes   All\n",
       "internet_service_type                  \n",
       "DSL                    1081   255  1336\n",
       "Fiber optic            1018   725  1743\n",
       "None                    792    66   858\n",
       "All                    2891  1046  3937"
      ]
     },
     "execution_count": 125,
     "metadata": {},
     "output_type": "execute_result"
    }
   ],
   "source": [
    "#investigate internet service\n",
    "pd.crosstab(telco_train.internet_service_type, telco_train.churn, margins=True)\n",
    "#suspect that fiber optic might be significant"
   ]
  },
  {
   "cell_type": "code",
   "execution_count": 176,
   "id": "40462398",
   "metadata": {},
   "outputs": [
    {
     "data": {
      "text/html": [
       "<div>\n",
       "<style scoped>\n",
       "    .dataframe tbody tr th:only-of-type {\n",
       "        vertical-align: middle;\n",
       "    }\n",
       "\n",
       "    .dataframe tbody tr th {\n",
       "        vertical-align: top;\n",
       "    }\n",
       "\n",
       "    .dataframe thead th {\n",
       "        text-align: right;\n",
       "    }\n",
       "</style>\n",
       "<table border=\"1\" class=\"dataframe\">\n",
       "  <thead>\n",
       "    <tr style=\"text-align: right;\">\n",
       "      <th></th>\n",
       "      <th>comapring</th>\n",
       "      <th>reject?</th>\n",
       "      <th>p-value</th>\n",
       "    </tr>\n",
       "  </thead>\n",
       "  <tbody>\n",
       "    <tr>\n",
       "      <th>0</th>\n",
       "      <td>churn x DSL</td>\n",
       "      <td>True</td>\n",
       "      <td>3.483452e-14</td>\n",
       "    </tr>\n",
       "    <tr>\n",
       "      <th>1</th>\n",
       "      <td>churn x Fiber optic</td>\n",
       "      <td>True</td>\n",
       "      <td>2.077846e-80</td>\n",
       "    </tr>\n",
       "    <tr>\n",
       "      <th>2</th>\n",
       "      <td>churn x None</td>\n",
       "      <td>True</td>\n",
       "      <td>3.234861e-45</td>\n",
       "    </tr>\n",
       "  </tbody>\n",
       "</table>\n",
       "</div>"
      ],
      "text/plain": [
       "             comapring  reject?       p-value\n",
       "0          churn x DSL     True  3.483452e-14\n",
       "1  churn x Fiber optic     True  2.077846e-80\n",
       "2         churn x None     True  3.234861e-45"
      ]
     },
     "execution_count": 176,
     "metadata": {},
     "output_type": "execute_result"
    }
   ],
   "source": [
    "# H_O : churn and fiber optic are independent\n",
    "internet_types = ['DSL', 'Fiber optic','None']\n",
    "\n",
    "cols = []\n",
    "rej = []\n",
    "p_val = []\n",
    "\n",
    "for int_type in internet_types:\n",
    "    cols.append(f\"churn x {int_type}\")\n",
    "    obs = pd.crosstab(telco_train.internet_service_type == int_type, telco_train.churn)\n",
    "    chi2, p, degf, expected = stats.chi2_contingency(obs)\n",
    "    rej.append(p < alpha)\n",
    "    p_val.append(p)\n",
    "    \n",
    "int_types = pd.DataFrame({\n",
    "    'comapring':cols,\n",
    "    'reject?':rej,\n",
    "    'p-value':p_val\n",
    "})\n",
    "int_types"
   ]
  },
  {
   "cell_type": "markdown",
   "id": "f595ba09",
   "metadata": {},
   "source": [
    "Contract type (month-to-month) is most likely a good indicator of churn.  All internet users are more likely to churn"
   ]
  },
  {
   "cell_type": "code",
   "execution_count": 144,
   "id": "53e67edb",
   "metadata": {},
   "outputs": [
    {
     "data": {
      "text/html": [
       "<div>\n",
       "<style scoped>\n",
       "    .dataframe tbody tr th:only-of-type {\n",
       "        vertical-align: middle;\n",
       "    }\n",
       "\n",
       "    .dataframe tbody tr th {\n",
       "        vertical-align: top;\n",
       "    }\n",
       "\n",
       "    .dataframe thead th {\n",
       "        text-align: right;\n",
       "    }\n",
       "</style>\n",
       "<table border=\"1\" class=\"dataframe\">\n",
       "  <thead>\n",
       "    <tr style=\"text-align: right;\">\n",
       "      <th></th>\n",
       "      <th>columns</th>\n",
       "      <th>reject?</th>\n",
       "      <th>p-value</th>\n",
       "    </tr>\n",
       "  </thead>\n",
       "  <tbody>\n",
       "    <tr>\n",
       "      <th>1</th>\n",
       "      <td>churn x monthly_charges</td>\n",
       "      <td>True</td>\n",
       "      <td>1.197223e-31</td>\n",
       "    </tr>\n",
       "  </tbody>\n",
       "</table>\n",
       "</div>"
      ],
      "text/plain": [
       "                   columns  reject?       p-value\n",
       "1  churn x monthly_charges     True  1.197223e-31"
      ]
     },
     "execution_count": 144,
     "metadata": {},
     "output_type": "execute_result"
    }
   ],
   "source": [
    "# now compare churn and non churn for numeric data\n",
    "# since there are only three, just directly calculate using \n",
    "#these will be two sample t-tests, one tail\n",
    "# H_0 : mu for churn@col <= mu for not churn@col\n",
    "num_col = ['tenure', 'monthly_charges', 'total_charges']\n",
    "\n",
    "telco_churn = telco_train[telco_train.churn == 'Yes']\n",
    "telco_nochurn = telco_train[telco_train.churn == 'No']\n",
    "\n",
    "cols = []\n",
    "rej = []\n",
    "p_val = []\n",
    "\n",
    "for col in num_col:\n",
    "    cols.append(f\"churn x {col}\")\n",
    "    #compare variance\n",
    "    churn_series = telco_churn[col]\n",
    "    nochurn_series = telco_nochurn[col]\n",
    "    #now do the mw test\n",
    "    t, p = stats.mannwhitneyu(churn_series, nochurn_series, alternative= 'greater')\n",
    "    reject = p/2 < alpha\n",
    "    rej.append(reject)\n",
    "    p_val.append(p)\n",
    "\n",
    "mannw_test = {\n",
    "    'columns': cols,\n",
    "    'reject?': rej,\n",
    "    'p-value':p_val\n",
    "}\n",
    "mannw_test = pd.DataFrame(mannw_test)\n",
    "mannw_test[mannw_test['reject?']==True].sort_values('p-value')"
   ]
  },
  {
   "cell_type": "code",
   "execution_count": 99,
   "id": "86c93d3f",
   "metadata": {},
   "outputs": [
    {
     "data": {
      "text/plain": [
       "(array([ 92.,  28.,  73.,  76.,  27., 192., 197., 178., 154.,  29.]),\n",
       " array([ 18.95,  28.89,  38.83,  48.77,  58.71,  68.65,  78.59,  88.53,\n",
       "         98.47, 108.41, 118.35]),\n",
       " <BarContainer object of 10 artists>)"
      ]
     },
     "execution_count": 99,
     "metadata": {},
     "output_type": "execute_result"
    },
    {
     "data": {
      "image/png": "[encoded data removed]",
      "text/plain": [
       "<Figure size 432x288 with 1 Axes>"
      ]
     },
     "metadata": {
      "needs_background": "light"
     },
     "output_type": "display_data"
    }
   ],
   "source": [
    "#monthly charges might be considered normal, do a t-test\n",
    "plt.hist(telco_churn.monthly_charges)"
   ]
  },
  {
   "cell_type": "code",
   "execution_count": 177,
   "id": "1e3fa534",
   "metadata": {},
   "outputs": [
    {
     "data": {
      "text/plain": [
       "(True, 2.856591485063621e-41)"
      ]
     },
     "execution_count": 177,
     "metadata": {},
     "output_type": "execute_result"
    }
   ],
   "source": [
    "\n",
    "churn_series = telco_churn['monthly_charges']\n",
    "nochurn_series = telco_nochurn['monthly_charges']\n",
    "l_t, l_p = stats.levene(churn_series, nochurn_series)\n",
    "levene_bool = not l_p < alpha\n",
    "    #now do the t test\n",
    "t, p = stats.ttest_ind(churn_series, nochurn_series, equal_var= levene_bool)\n",
    "p/2 < alpha, p"
   ]
  },
  {
   "cell_type": "markdown",
   "id": "87f0e99f",
   "metadata": {},
   "source": [
    "Monthly charges tend to be higher among churned customers"
   ]
  },
  {
   "cell_type": "code",
   "execution_count": null,
   "id": "70704c2b",
   "metadata": {},
   "outputs": [],
   "source": []
  }
 ],
 "metadata": {
  "kernelspec": {
   "display_name": "Python 3 (ipykernel)",
   "language": "python",
   "name": "python3"
  },
  "language_info": {
   "codemirror_mode": {
    "name": "ipython",
    "version": 3
   },
   "file_extension": ".py",
   "mimetype": "text/x-python",
   "name": "python",
   "nbconvert_exporter": "python",
   "pygments_lexer": "ipython3",
   "version": "3.9.7"
  }
 },
 "nbformat": 4,
 "nbformat_minor": 5
}
