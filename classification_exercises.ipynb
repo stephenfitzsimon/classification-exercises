{
 "cells": [
  {
   "cell_type": "code",
   "execution_count": 30,
   "id": "c0f940cd",
   "metadata": {},
   "outputs": [],
   "source": [
    "import pydataset\n",
    "import pandas as pd\n",
    "from scipy import stats\n",
    "import matplotlib.pyplot as plt\n",
    "import seaborn as sns\n",
    "\n",
    "# train test split from sklearn\n",
    "from sklearn.model_selection import train_test_split\n",
    "# imputer from sklearn\n",
    "from sklearn.impute import SimpleImputer"
   ]
  },
  {
   "cell_type": "markdown",
   "id": "b11e2f52",
   "metadata": {},
   "source": [
    "# data acquisition"
   ]
  },
  {
   "cell_type": "markdown",
   "id": "13ce8cd2",
   "metadata": {},
   "source": [
    "In a jupyter notebook, classification_exercises.ipynb, use a python module (pydata or seaborn datasets) containing datasets as a source from the iris data. Create a pandas dataframe, df_iris, from this data.\n",
    "\n",
    "- print the first 3 rows\n",
    "- print the number of rows and columns (shape)\n",
    "- print the column names\n",
    "- print the data type of each column\n",
    "- print the summary statistics for each of the numeric variables\n",
    "\n"
   ]
  },
  {
   "cell_type": "code",
   "execution_count": null,
   "id": "cfc66711",
   "metadata": {},
   "outputs": [],
   "source": [
    "df_iris = pydataset.data('iris')"
   ]
  },
  {
   "cell_type": "code",
   "execution_count": null,
   "id": "e502d855",
   "metadata": {},
   "outputs": [],
   "source": [
    "df_iris.head(3)"
   ]
  },
  {
   "cell_type": "code",
   "execution_count": null,
   "id": "281a4167",
   "metadata": {},
   "outputs": [],
   "source": [
    "df_iris.shape"
   ]
  },
  {
   "cell_type": "code",
   "execution_count": null,
   "id": "014ef1e4",
   "metadata": {},
   "outputs": [],
   "source": [
    "df_iris.columns"
   ]
  },
  {
   "cell_type": "code",
   "execution_count": null,
   "id": "24a1c309",
   "metadata": {},
   "outputs": [],
   "source": [
    "df_iris.dtypes"
   ]
  },
  {
   "cell_type": "code",
   "execution_count": null,
   "id": "55d951b0",
   "metadata": {},
   "outputs": [],
   "source": [
    "df_iris.describe()"
   ]
  },
  {
   "cell_type": "markdown",
   "id": "a092bc1f",
   "metadata": {},
   "source": [
    "\n",
    "\n",
    "Read the Table1_CustDetails table from your spreadsheet exercises google sheet into a dataframe named df_google_sheets.\n",
    "\n",
    "Make sure that the spreadsheet is publicly visible under your sharing settings.\n",
    "\n",
    "- assign the first 100 rows to a new dataframe, df_google_sheets_sample\n",
    "- print the number of rows of your original dataframe\n",
    "- print the column names that have a data type of object\n",
    "- compute the range for each of the numeric variables.\n",
    "\n"
   ]
  },
  {
   "cell_type": "code",
   "execution_count": null,
   "id": "f9f07b12",
   "metadata": {},
   "outputs": [],
   "source": [
    "sheet_url = 'https://docs.google.com/spreadsheets/d/10wggtv3PSKYyRMgvTOJ6d9ksuw-FguyU_7yfishNlgk/edit#gid=1023018493'\n",
    "export_sheet_url = sheet_url.replace('/edit#gid=', '/export?format=csv&gid=')\n",
    "df_google_sheet = pd.read_csv(export_sheet_url)\n",
    "df_google_sheet"
   ]
  },
  {
   "cell_type": "code",
   "execution_count": null,
   "id": "2ee0b885",
   "metadata": {},
   "outputs": [],
   "source": [
    "df_google_sheets_sample = df_google_sheet.head(100)"
   ]
  },
  {
   "cell_type": "code",
   "execution_count": null,
   "id": "81fff75b",
   "metadata": {},
   "outputs": [],
   "source": [
    "df_google_sheet.shape"
   ]
  },
  {
   "cell_type": "code",
   "execution_count": null,
   "id": "9a50ad56",
   "metadata": {},
   "outputs": [],
   "source": [
    "df_google_sheet.dtypes[df_google_sheet.dtypes=='object']\n",
    "#alt from class\n",
    "df_google_sheet.select_dtypes(include='object').columns"
   ]
  },
  {
   "cell_type": "code",
   "execution_count": null,
   "id": "36d7189e",
   "metadata": {},
   "outputs": [],
   "source": [
    "df_google_sheet.describe().loc[['max', 'min']]"
   ]
  },
  {
   "cell_type": "code",
   "execution_count": null,
   "id": "5bc434d0",
   "metadata": {},
   "outputs": [],
   "source": [
    "df_google_sheet.describe().loc['max'] - df_google_sheet.describe().loc['min']"
   ]
  },
  {
   "cell_type": "markdown",
   "id": "6d304858",
   "metadata": {},
   "source": [
    "\n",
    "\n",
    "Download your spreadsheet exercises google sheet as an excel file (File → Download → Microsoft Excel). Read the Table1_CustDetails worksheet into a dataframe named df_excel.\n",
    "\n",
    "- assign the first 100 rows to a new dataframe, df_excel_sample\n",
    "- print the number of rows of your original dataframe\n",
    "- print the first 5 column names\n",
    "- print the column names that have a data type of object\n",
    "- compute the range for each of the numeric variables.\n",
    "\n"
   ]
  },
  {
   "cell_type": "code",
   "execution_count": null,
   "id": "ec77add7",
   "metadata": {},
   "outputs": [],
   "source": [
    "df_excel = pd.read_excel('Table1_CustDetails.xlsx')"
   ]
  },
  {
   "cell_type": "code",
   "execution_count": null,
   "id": "f5accb0f",
   "metadata": {},
   "outputs": [],
   "source": [
    "df_excel_sample = df_excel.head(100)"
   ]
  },
  {
   "cell_type": "code",
   "execution_count": null,
   "id": "fd605937",
   "metadata": {},
   "outputs": [],
   "source": [
    "df_excel.shape"
   ]
  },
  {
   "cell_type": "code",
   "execution_count": null,
   "id": "a90c2bdf",
   "metadata": {},
   "outputs": [],
   "source": [
    "df_excel.columns[:5]"
   ]
  },
  {
   "cell_type": "code",
   "execution_count": null,
   "id": "fbba37eb",
   "metadata": {},
   "outputs": [],
   "source": [
    "df_excel.dtypes[df_excel.dtypes=='object']"
   ]
  },
  {
   "cell_type": "code",
   "execution_count": null,
   "id": "283752d0",
   "metadata": {},
   "outputs": [],
   "source": [
    "df_excel.describe().loc[['max', 'min']]"
   ]
  },
  {
   "cell_type": "code",
   "execution_count": null,
   "id": "47403298",
   "metadata": {},
   "outputs": [],
   "source": [
    "(df_excel.describe().loc['max'] - df_excel.describe().loc['min'])[['monthly_charges', 'total_charges', 'tenure']]"
   ]
  },
  {
   "cell_type": "code",
   "execution_count": null,
   "id": "23765c9c",
   "metadata": {},
   "outputs": [],
   "source": [
    "#alt from class: make a transposed data frame\n",
    "stats_excel = df_excel.describe().T\n",
    "stats_excel['range'] = stats_excel['max'] - stats_excel['min']\n",
    "stats_excel['range']"
   ]
  },
  {
   "cell_type": "markdown",
   "id": "7b944ce3",
   "metadata": {},
   "source": [
    "\n",
    "\n",
    "Read the data from this google sheet into a dataframe, df_google.\n",
    "\n",
    "- print the first 3 rows\n",
    "- print the number of rows and columns\n",
    "- print the column names\n",
    "- print the data type of each column\n",
    "- print the summary statistics for each of the numeric variables\n",
    "- print the unique values for each of your categorical variables\n",
    "\n"
   ]
  },
  {
   "cell_type": "code",
   "execution_count": null,
   "id": "10f3f90c",
   "metadata": {},
   "outputs": [],
   "source": [
    "sheet_url = 'https://docs.google.com/spreadsheets/d/1Uhtml8KY19LILuZsrDtlsHHDC9wuDGUSe8LTEwvdI5g/edit#gid=341089357'\n",
    "export_sheet_url = sheet_url.replace('/edit#gid=', '/export?format=csv&gid=')\n",
    "df_google = pd.read_csv(export_sheet_url)\n",
    "df_google"
   ]
  },
  {
   "cell_type": "code",
   "execution_count": null,
   "id": "a64b0677",
   "metadata": {},
   "outputs": [],
   "source": [
    "df_google.shape"
   ]
  },
  {
   "cell_type": "code",
   "execution_count": null,
   "id": "ca96cbbc",
   "metadata": {},
   "outputs": [],
   "source": [
    "df_google.columns"
   ]
  },
  {
   "cell_type": "code",
   "execution_count": null,
   "id": "efba39ab",
   "metadata": {},
   "outputs": [],
   "source": [
    "df_google.dtypes"
   ]
  },
  {
   "cell_type": "code",
   "execution_count": null,
   "id": "2266237b",
   "metadata": {},
   "outputs": [],
   "source": [
    "df_google.describe()"
   ]
  },
  {
   "cell_type": "code",
   "execution_count": null,
   "id": "d8ace736",
   "metadata": {},
   "outputs": [],
   "source": [
    "df_google[['Name', 'Sex', 'Ticket', 'Cabin', 'Embarked']].nunique()"
   ]
  },
  {
   "cell_type": "code",
   "execution_count": null,
   "id": "63330979",
   "metadata": {},
   "outputs": [],
   "source": [
    "df_google.select_dtypes('object')"
   ]
  },
  {
   "cell_type": "markdown",
   "id": "100a0bea",
   "metadata": {},
   "source": [
    "#### acquire file test"
   ]
  },
  {
   "cell_type": "code",
   "execution_count": null,
   "id": "7461cb83",
   "metadata": {},
   "outputs": [],
   "source": [
    "import acquire"
   ]
  },
  {
   "cell_type": "code",
   "execution_count": null,
   "id": "9aa849fe",
   "metadata": {},
   "outputs": [],
   "source": [
    "acquire.get_titanic_data()"
   ]
  },
  {
   "cell_type": "code",
   "execution_count": null,
   "id": "aa8ec057",
   "metadata": {},
   "outputs": [],
   "source": [
    "acquire.get_iris_data()"
   ]
  },
  {
   "cell_type": "code",
   "execution_count": null,
   "id": "a3aa895a",
   "metadata": {},
   "outputs": [],
   "source": [
    "acquire.get_telco_data()"
   ]
  },
  {
   "cell_type": "markdown",
   "id": "f38cf672",
   "metadata": {},
   "source": [
    "# data preperation"
   ]
  },
  {
   "cell_type": "markdown",
   "id": "f3f1f92d",
   "metadata": {},
   "source": [
    "### iris data\n",
    "\n",
    "1. Use the function defined in acquire.py to load the iris data. "
   ]
  },
  {
   "cell_type": "code",
   "execution_count": null,
   "id": "da8411e6",
   "metadata": {
    "scrolled": false
   },
   "outputs": [],
   "source": [
    "iris = acquire.get_iris_data()\n",
    "iris.head()"
   ]
  },
  {
   "cell_type": "markdown",
   "id": "13541b0c",
   "metadata": {},
   "source": [
    "2. Drop the species_id and measurement_id columns. "
   ]
  },
  {
   "cell_type": "code",
   "execution_count": null,
   "id": "b710bc79",
   "metadata": {},
   "outputs": [],
   "source": [
    "iris.drop(columns = ['species_id', 'measurement_id', 'Unnamed: 0'], inplace = True)"
   ]
  },
  {
   "cell_type": "markdown",
   "id": "d1e61aae",
   "metadata": {},
   "source": [
    "3. Rename the species_name column to just species. "
   ]
  },
  {
   "cell_type": "code",
   "execution_count": null,
   "id": "2d0ea778",
   "metadata": {},
   "outputs": [],
   "source": [
    "iris.rename(columns = {'species_name':'species'}, inplace=True)"
   ]
  },
  {
   "cell_type": "markdown",
   "id": "9dcf9229",
   "metadata": {},
   "source": [
    "4. Create dummy variables of the species name and concatenate onto the iris dataframe. (This is for practice, we don't always have to encode the target, but if we used species as a feature, we would need to encode it)."
   ]
  },
  {
   "cell_type": "code",
   "execution_count": null,
   "id": "895441c0",
   "metadata": {},
   "outputs": [],
   "source": [
    "dummy_df = pd.get_dummies(iris[['species']], dummy_na=False, drop_first=True)\n",
    "iris = pd.concat([iris, dummy_df], axis = 1)\n",
    "iris.head()"
   ]
  },
  {
   "cell_type": "markdown",
   "id": "1e02910d",
   "metadata": {},
   "source": [
    "5. Create a function named prep_iris that accepts the untransformed iris data, and returns the data with the transformations above applied."
   ]
  },
  {
   "cell_type": "code",
   "execution_count": null,
   "id": "95e2ad5b",
   "metadata": {},
   "outputs": [],
   "source": [
    "def prep_iris(df):\n",
    "    df.drop(columns = ['species_id', 'measurement_id', 'Unnamed: 0'], inplace = True)\n",
    "    df.rename(columns = {'species_name':'species'}, inplace=True)\n",
    "    dummy_df = pd.get_dummies(iris[['species']], dummy_na=False, drop_first=True)\n",
    "    df = pd.concat([df, dummy_df], axis = 1)\n",
    "    return df\n",
    "\n",
    "iris = prep_iris(acquire.get_iris_data())\n",
    "iris.head()"
   ]
  },
  {
   "cell_type": "markdown",
   "id": "afb643c9",
   "metadata": {},
   "source": [
    "### titanic dataset\n",
    "\n",
    "1. Use the function defined in acquire.py to load the Titanic data"
   ]
  },
  {
   "cell_type": "code",
   "execution_count": null,
   "id": "a5937220",
   "metadata": {},
   "outputs": [],
   "source": [
    "titanic = acquire.get_titanic_data()\n",
    "titanic.head()"
   ]
  },
  {
   "cell_type": "markdown",
   "id": "b6061f19",
   "metadata": {},
   "source": [
    "2. Drop any unnecessary, unhelpful, or duplicated columns."
   ]
  },
  {
   "cell_type": "code",
   "execution_count": null,
   "id": "2f27f04c",
   "metadata": {},
   "outputs": [],
   "source": [
    "titanic.drop(columns = ['Unnamed: 0', 'passenger_id', 'embarked', 'pclass', 'deck'], inplace= True)\n",
    "titanic.rename(columns = {'class': 'pclass'}, inplace = True)\n",
    "titanic.head()"
   ]
  },
  {
   "cell_type": "markdown",
   "id": "95f99317",
   "metadata": {},
   "source": [
    "3. Encode the categorical columns. Create dummy variables of the categorical columns and concatenate them onto the dataframe."
   ]
  },
  {
   "cell_type": "code",
   "execution_count": null,
   "id": "87b49ddb",
   "metadata": {},
   "outputs": [],
   "source": [
    "dummy_df = pd.get_dummies(titanic[['sex', 'embark_town']], dummy_na = False, drop_first = [True, True])\n",
    "titanic = pd.concat([titanic, dummy_df], axis = 1)\n",
    "titanic.head()"
   ]
  },
  {
   "cell_type": "markdown",
   "id": "afdf6703",
   "metadata": {},
   "source": [
    "4. Create a function named prep_titanic that accepts the raw titanic data, and returns the data with the transformations above applied."
   ]
  },
  {
   "cell_type": "code",
   "execution_count": null,
   "id": "25160bd4",
   "metadata": {},
   "outputs": [],
   "source": [
    "def prep_titanic(df):\n",
    "    '''\n",
    "    cleans the titanic data \n",
    "    '''\n",
    "    df.drop_duplicates(inplace=True)\n",
    "    col_to_drop = ['Unnamed: 0','embarked', 'class', 'passenger_id', 'deck']\n",
    "    df = df.drop(columns=col_to_drop)\n",
    "    df['embark_town'] = df.embark_town.fillna(value='Southampton')\n",
    "    dummy_df = pd.get_dummies(df[['sex', 'embark_town']], dummy_na = False, drop_first = [True, True])\n",
    "    df = pd.concat([df, dummy_df], axis = 1)\n",
    "    return df.drop(columns=['sex', 'embark_town'])\n",
    "\n",
    "prep_titanic(acquire.get_titanic_data()).head()"
   ]
  },
  {
   "cell_type": "markdown",
   "id": "3a78d61e",
   "metadata": {},
   "source": [
    "### telco dataset\n",
    "\n",
    "1. Use the function defined in acquire.py to load the Telco data. "
   ]
  },
  {
   "cell_type": "code",
   "execution_count": null,
   "id": "8ef8e017",
   "metadata": {},
   "outputs": [],
   "source": [
    "telco = acquire.get_telco_data()\n",
    "telco.head()"
   ]
  },
  {
   "cell_type": "markdown",
   "id": "50e5ac78",
   "metadata": {},
   "source": [
    "2. Drop any unnecessary, unhelpful, or duplicated columns. This could mean dropping foreign key columns but keeping the corresponding string values, for example."
   ]
  },
  {
   "cell_type": "code",
   "execution_count": null,
   "id": "32dff1be",
   "metadata": {},
   "outputs": [],
   "source": [
    "telco.info()"
   ]
  },
  {
   "cell_type": "code",
   "execution_count": null,
   "id": "70e54def",
   "metadata": {},
   "outputs": [],
   "source": [
    "telco.drop(columns = ['internet_service_type_id', 'contract_type_id', 'payment_type_id', 'Unnamed: 0'], inplace=True)"
   ]
  },
  {
   "cell_type": "markdown",
   "id": "74e60cd3",
   "metadata": {},
   "source": [
    "3. Encode the categorical columns. Create dummy variables of the categorical columns and concatenate them onto the dataframe."
   ]
  },
  {
   "cell_type": "code",
   "execution_count": null,
   "id": "2c073805",
   "metadata": {},
   "outputs": [],
   "source": [
    "# get a list of the object columns, exclude customer_id because it is the foreign key\n",
    "cat_cols = list(telco.select_dtypes('object').iloc[:,1:].columns)\n",
    "cat_cols.remove('total_charges') #this data column will need to be changed to float\n",
    "cat_cols"
   ]
  },
  {
   "cell_type": "code",
   "execution_count": null,
   "id": "24eb7537",
   "metadata": {},
   "outputs": [],
   "source": [
    "dummy_df = pd.get_dummies(telco[cat_cols], dummy_na = False, drop_first = True)\n",
    "telco = pd.concat([telco, dummy_df], axis = 1)\n",
    "telco.head()"
   ]
  },
  {
   "cell_type": "code",
   "execution_count": null,
   "id": "5a573d4e",
   "metadata": {},
   "outputs": [],
   "source": [
    "# replace the ' ' values in the total_charges series with 0.  these customers have a tenure of 0; therefore \n",
    "# monthly_charges * 0 = 0\n",
    "telco.total_charges[telco.total_charges == ' '] = telco.total_charges[telco.total_charges == ' '].replace(' ', 0, inplace=True)\n",
    "telco.total_charges[telco.total_charges == ' ']"
   ]
  },
  {
   "cell_type": "markdown",
   "id": "94a3c8b5",
   "metadata": {},
   "source": [
    "4. Create a function named prep_telco that accepts the raw telco data, and returns the data with the transformations above applied."
   ]
  },
  {
   "cell_type": "code",
   "execution_count": null,
   "id": "dbc585d7",
   "metadata": {
    "scrolled": true
   },
   "outputs": [],
   "source": [
    "def prep_telco(df):\n",
    "    df.drop(columns = ['internet_service_type_id', 'contract_type_id', 'payment_type_id', 'Unnamed: 0'], inplace=True)\n",
    "    cat_cols = list(df.select_dtypes('object').iloc[:,1:].columns)\n",
    "    cat_cols.remove('total_charges') #this data column will need to be changed to floatdummy_df = pd.get_dummies(telco[cat_cols], dummy_na = False, drop_first = True)\n",
    "    dummy_df = pd.get_dummies(df[cat_cols], dummy_na = False, drop_first = True)\n",
    "    df = pd.concat([df, dummy_df], axis = 1)\n",
    "    #drop the empty total_charges rows\n",
    "    df = df[df.total_charges != ' ']\n",
    "    df.total_charges = df.total_charges.astype(float)\n",
    "    return df\n",
    "\n",
    "preped_telco = prep_telco(acquire.get_telco_data())\n",
    "preped_telco.head().info()"
   ]
  },
  {
   "cell_type": "code",
   "execution_count": null,
   "id": "b9b136d4",
   "metadata": {},
   "outputs": [],
   "source": [
    "def split_telco_data(df):\n",
    "    df = prep_telco(df)\n",
    "    train, test = train_test_split(df, train_size = 0.8, stratify = df.churn)\n",
    "    train, validate = train_test_split(train, train_size = 0.7, stratify = train.churn)\n",
    "    return train, test, validate\n",
    "\n",
    "train, test, validate = split_telco_data(acquire.get_telco_data())\n",
    "train.head()"
   ]
  },
  {
   "cell_type": "code",
   "execution_count": null,
   "id": "0468b5a2",
   "metadata": {},
   "outputs": [],
   "source": [
    "import prepare\n",
    "import acquire\n",
    "telco_df = acquire.get_telco_data()\n",
    "train, validate, test = prepare.split_telco_data(telco_df)\n",
    "train.head()"
   ]
  },
  {
   "cell_type": "markdown",
   "id": "927820d2",
   "metadata": {},
   "source": [
    "# exploratory analysis\n",
    "\n",
    "## iris_db"
   ]
  },
  {
   "cell_type": "markdown",
   "id": "56cc1e7e",
   "metadata": {},
   "source": [
    "1. Acquire, prepare & split your data. "
   ]
  },
  {
   "cell_type": "code",
   "execution_count": 5,
   "id": "dec5b53a",
   "metadata": {
    "scrolled": false
   },
   "outputs": [
    {
     "data": {
      "text/html": [
       "<div>\n",
       "<style scoped>\n",
       "    .dataframe tbody tr th:only-of-type {\n",
       "        vertical-align: middle;\n",
       "    }\n",
       "\n",
       "    .dataframe tbody tr th {\n",
       "        vertical-align: top;\n",
       "    }\n",
       "\n",
       "    .dataframe thead th {\n",
       "        text-align: right;\n",
       "    }\n",
       "</style>\n",
       "<table border=\"1\" class=\"dataframe\">\n",
       "  <thead>\n",
       "    <tr style=\"text-align: right;\">\n",
       "      <th></th>\n",
       "      <th>sepal_length</th>\n",
       "      <th>sepal_width</th>\n",
       "      <th>petal_length</th>\n",
       "      <th>petal_width</th>\n",
       "      <th>species</th>\n",
       "      <th>species_versicolor</th>\n",
       "      <th>species_virginica</th>\n",
       "    </tr>\n",
       "  </thead>\n",
       "  <tbody>\n",
       "    <tr>\n",
       "      <th>59</th>\n",
       "      <td>5.2</td>\n",
       "      <td>2.7</td>\n",
       "      <td>3.9</td>\n",
       "      <td>1.4</td>\n",
       "      <td>versicolor</td>\n",
       "      <td>1</td>\n",
       "      <td>0</td>\n",
       "    </tr>\n",
       "    <tr>\n",
       "      <th>99</th>\n",
       "      <td>5.7</td>\n",
       "      <td>2.8</td>\n",
       "      <td>4.1</td>\n",
       "      <td>1.3</td>\n",
       "      <td>versicolor</td>\n",
       "      <td>1</td>\n",
       "      <td>0</td>\n",
       "    </tr>\n",
       "    <tr>\n",
       "      <th>94</th>\n",
       "      <td>5.6</td>\n",
       "      <td>2.7</td>\n",
       "      <td>4.2</td>\n",
       "      <td>1.3</td>\n",
       "      <td>versicolor</td>\n",
       "      <td>1</td>\n",
       "      <td>0</td>\n",
       "    </tr>\n",
       "    <tr>\n",
       "      <th>103</th>\n",
       "      <td>6.3</td>\n",
       "      <td>2.9</td>\n",
       "      <td>5.6</td>\n",
       "      <td>1.8</td>\n",
       "      <td>virginica</td>\n",
       "      <td>0</td>\n",
       "      <td>1</td>\n",
       "    </tr>\n",
       "    <tr>\n",
       "      <th>69</th>\n",
       "      <td>5.6</td>\n",
       "      <td>2.5</td>\n",
       "      <td>3.9</td>\n",
       "      <td>1.1</td>\n",
       "      <td>versicolor</td>\n",
       "      <td>1</td>\n",
       "      <td>0</td>\n",
       "    </tr>\n",
       "    <tr>\n",
       "      <th>...</th>\n",
       "      <td>...</td>\n",
       "      <td>...</td>\n",
       "      <td>...</td>\n",
       "      <td>...</td>\n",
       "      <td>...</td>\n",
       "      <td>...</td>\n",
       "      <td>...</td>\n",
       "    </tr>\n",
       "    <tr>\n",
       "      <th>58</th>\n",
       "      <td>6.6</td>\n",
       "      <td>2.9</td>\n",
       "      <td>4.6</td>\n",
       "      <td>1.3</td>\n",
       "      <td>versicolor</td>\n",
       "      <td>1</td>\n",
       "      <td>0</td>\n",
       "    </tr>\n",
       "    <tr>\n",
       "      <th>108</th>\n",
       "      <td>6.7</td>\n",
       "      <td>2.5</td>\n",
       "      <td>5.8</td>\n",
       "      <td>1.8</td>\n",
       "      <td>virginica</td>\n",
       "      <td>0</td>\n",
       "      <td>1</td>\n",
       "    </tr>\n",
       "    <tr>\n",
       "      <th>96</th>\n",
       "      <td>5.7</td>\n",
       "      <td>2.9</td>\n",
       "      <td>4.2</td>\n",
       "      <td>1.3</td>\n",
       "      <td>versicolor</td>\n",
       "      <td>1</td>\n",
       "      <td>0</td>\n",
       "    </tr>\n",
       "    <tr>\n",
       "      <th>139</th>\n",
       "      <td>6.9</td>\n",
       "      <td>3.1</td>\n",
       "      <td>5.4</td>\n",
       "      <td>2.1</td>\n",
       "      <td>virginica</td>\n",
       "      <td>0</td>\n",
       "      <td>1</td>\n",
       "    </tr>\n",
       "    <tr>\n",
       "      <th>137</th>\n",
       "      <td>6.4</td>\n",
       "      <td>3.1</td>\n",
       "      <td>5.5</td>\n",
       "      <td>1.8</td>\n",
       "      <td>virginica</td>\n",
       "      <td>0</td>\n",
       "      <td>1</td>\n",
       "    </tr>\n",
       "  </tbody>\n",
       "</table>\n",
       "<p>84 rows × 7 columns</p>\n",
       "</div>"
      ],
      "text/plain": [
       "     sepal_length  sepal_width  petal_length  petal_width     species  \\\n",
       "59            5.2          2.7           3.9          1.4  versicolor   \n",
       "99            5.7          2.8           4.1          1.3  versicolor   \n",
       "94            5.6          2.7           4.2          1.3  versicolor   \n",
       "103           6.3          2.9           5.6          1.8   virginica   \n",
       "69            5.6          2.5           3.9          1.1  versicolor   \n",
       "..            ...          ...           ...          ...         ...   \n",
       "58            6.6          2.9           4.6          1.3  versicolor   \n",
       "108           6.7          2.5           5.8          1.8   virginica   \n",
       "96            5.7          2.9           4.2          1.3  versicolor   \n",
       "139           6.9          3.1           5.4          2.1   virginica   \n",
       "137           6.4          3.1           5.5          1.8   virginica   \n",
       "\n",
       "     species_versicolor  species_virginica  \n",
       "59                    1                  0  \n",
       "99                    1                  0  \n",
       "94                    1                  0  \n",
       "103                   0                  1  \n",
       "69                    1                  0  \n",
       "..                  ...                ...  \n",
       "58                    1                  0  \n",
       "108                   0                  1  \n",
       "96                    1                  0  \n",
       "139                   0                  1  \n",
       "137                   0                  1  \n",
       "\n",
       "[84 rows x 7 columns]"
      ]
     },
     "execution_count": 5,
     "metadata": {},
     "output_type": "execute_result"
    }
   ],
   "source": [
    "import prepare\n",
    "import acquire\n",
    "i_train, i_validate, i_test = prepare.split_iris_data(acquire.get_iris_data())\n",
    "i_train"
   ]
  },
  {
   "cell_type": "markdown",
   "id": "c6dd2b69",
   "metadata": {},
   "source": [
    "2. Univariate Stats\n",
    "\n",
    "- For each measurement type (quantitative variable): create a histogram, boxplot, & compute descriptive statistics (using .describe()).\n",
    "- For each species (categorical variable): create a frequency table and a bar plot of those frequencies.\n",
    "- Document takeaways & any actions."
   ]
  },
  {
   "cell_type": "code",
   "execution_count": 10,
   "id": "54064bbb",
   "metadata": {},
   "outputs": [
    {
     "data": {
      "text/html": [
       "<div>\n",
       "<style scoped>\n",
       "    .dataframe tbody tr th:only-of-type {\n",
       "        vertical-align: middle;\n",
       "    }\n",
       "\n",
       "    .dataframe tbody tr th {\n",
       "        vertical-align: top;\n",
       "    }\n",
       "\n",
       "    .dataframe thead th {\n",
       "        text-align: right;\n",
       "    }\n",
       "</style>\n",
       "<table border=\"1\" class=\"dataframe\">\n",
       "  <thead>\n",
       "    <tr style=\"text-align: right;\">\n",
       "      <th></th>\n",
       "      <th>sepal_length</th>\n",
       "      <th>sepal_width</th>\n",
       "      <th>petal_length</th>\n",
       "      <th>petal_width</th>\n",
       "    </tr>\n",
       "  </thead>\n",
       "  <tbody>\n",
       "    <tr>\n",
       "      <th>count</th>\n",
       "      <td>84.000000</td>\n",
       "      <td>84.000000</td>\n",
       "      <td>84.000000</td>\n",
       "      <td>84.000000</td>\n",
       "    </tr>\n",
       "    <tr>\n",
       "      <th>mean</th>\n",
       "      <td>5.848810</td>\n",
       "      <td>3.045238</td>\n",
       "      <td>3.786905</td>\n",
       "      <td>1.180952</td>\n",
       "    </tr>\n",
       "    <tr>\n",
       "      <th>std</th>\n",
       "      <td>0.881058</td>\n",
       "      <td>0.390984</td>\n",
       "      <td>1.825903</td>\n",
       "      <td>0.766698</td>\n",
       "    </tr>\n",
       "    <tr>\n",
       "      <th>min</th>\n",
       "      <td>4.300000</td>\n",
       "      <td>2.300000</td>\n",
       "      <td>1.100000</td>\n",
       "      <td>0.100000</td>\n",
       "    </tr>\n",
       "    <tr>\n",
       "      <th>25%</th>\n",
       "      <td>5.100000</td>\n",
       "      <td>2.800000</td>\n",
       "      <td>1.500000</td>\n",
       "      <td>0.300000</td>\n",
       "    </tr>\n",
       "    <tr>\n",
       "      <th>50%</th>\n",
       "      <td>5.700000</td>\n",
       "      <td>3.000000</td>\n",
       "      <td>4.200000</td>\n",
       "      <td>1.300000</td>\n",
       "    </tr>\n",
       "    <tr>\n",
       "      <th>75%</th>\n",
       "      <td>6.425000</td>\n",
       "      <td>3.300000</td>\n",
       "      <td>5.400000</td>\n",
       "      <td>1.800000</td>\n",
       "    </tr>\n",
       "    <tr>\n",
       "      <th>max</th>\n",
       "      <td>7.700000</td>\n",
       "      <td>4.100000</td>\n",
       "      <td>6.900000</td>\n",
       "      <td>2.500000</td>\n",
       "    </tr>\n",
       "  </tbody>\n",
       "</table>\n",
       "</div>"
      ],
      "text/plain": [
       "       sepal_length  sepal_width  petal_length  petal_width\n",
       "count     84.000000    84.000000     84.000000    84.000000\n",
       "mean       5.848810     3.045238      3.786905     1.180952\n",
       "std        0.881058     0.390984      1.825903     0.766698\n",
       "min        4.300000     2.300000      1.100000     0.100000\n",
       "25%        5.100000     2.800000      1.500000     0.300000\n",
       "50%        5.700000     3.000000      4.200000     1.300000\n",
       "75%        6.425000     3.300000      5.400000     1.800000\n",
       "max        7.700000     4.100000      6.900000     2.500000"
      ]
     },
     "execution_count": 10,
     "metadata": {},
     "output_type": "execute_result"
    }
   ],
   "source": [
    "i_train.describe().iloc[:,0:4]"
   ]
  },
  {
   "cell_type": "code",
   "execution_count": 15,
   "id": "446dbe9d",
   "metadata": {
    "scrolled": true
   },
   "outputs": [
    {
     "data": {
      "text/plain": [
       "Text(0.5, 1.0, 'sepal_length')"
      ]
     },
     "execution_count": 15,
     "metadata": {},
     "output_type": "execute_result"
    },
    {
     "data": {
      "image/png": "[encoded data removed]",
      "text/plain": [
       "<Figure size 432x288 with 1 Axes>"
      ]
     },
     "metadata": {
      "needs_background": "light"
     },
     "output_type": "display_data"
    }
   ],
   "source": [
    "plt.hist(i_train.sepal_length)\n",
    "plt.title('sepal_length')"
   ]
  },
  {
   "cell_type": "code",
   "execution_count": 16,
   "id": "4193f47f",
   "metadata": {},
   "outputs": [
    {
     "data": {
      "text/plain": [
       "Text(0.5, 1.0, 'sepal_width')"
      ]
     },
     "execution_count": 16,
     "metadata": {},
     "output_type": "execute_result"
    },
    {
     "data": {
      "image/png": "[encoded data removed]",
      "text/plain": [
       "<Figure size 432x288 with 1 Axes>"
      ]
     },
     "metadata": {
      "needs_background": "light"
     },
     "output_type": "display_data"
    }
   ],
   "source": [
    "plt.hist(i_train.sepal_width)\n",
    "plt.title('sepal_width')"
   ]
  },
  {
   "cell_type": "code",
   "execution_count": 18,
   "id": "52033e28",
   "metadata": {},
   "outputs": [
    {
     "data": {
      "text/plain": [
       "Text(0.5, 1.0, 'petal_length')"
      ]
     },
     "execution_count": 18,
     "metadata": {},
     "output_type": "execute_result"
    },
    {
     "data": {
      "image/png": "[encoded data removed]",
      "text/plain": [
       "<Figure size 432x288 with 1 Axes>"
      ]
     },
     "metadata": {
      "needs_background": "light"
     },
     "output_type": "display_data"
    }
   ],
   "source": [
    "plt.hist(i_train.petal_length)\n",
    "plt.title('petal_length')"
   ]
  },
  {
   "cell_type": "code",
   "execution_count": 19,
   "id": "a6a3eda7",
   "metadata": {},
   "outputs": [
    {
     "data": {
      "text/plain": [
       "Text(0.5, 1.0, 'petal_width')"
      ]
     },
     "execution_count": 19,
     "metadata": {},
     "output_type": "execute_result"
    },
    {
     "data": {
      "image/png": "[encoded data removed]",
      "text/plain": [
       "<Figure size 432x288 with 1 Axes>"
      ]
     },
     "metadata": {
      "needs_background": "light"
     },
     "output_type": "display_data"
    }
   ],
   "source": [
    "plt.hist(i_train.petal_width)\n",
    "plt.title('petal_width')"
   ]
  },
  {
   "cell_type": "code",
   "execution_count": 83,
   "id": "3c2ba22a",
   "metadata": {},
   "outputs": [
    {
     "data": {
      "text/plain": [
       "<AxesSubplot:xlabel='species', ylabel='sepal_length'>"
      ]
     },
     "execution_count": 83,
     "metadata": {},
     "output_type": "execute_result"
    },
    {
     "data": {
      "image/png": "[encoded data removed]",
      "text/plain": [
       "<Figure size 432x288 with 1 Axes>"
      ]
     },
     "metadata": {
      "needs_background": "light"
     },
     "output_type": "display_data"
    }
   ],
   "source": [
    "sns.boxplot(data = i_train, y= 'sepal_length', x = 'species')"
   ]
  },
  {
   "cell_type": "code",
   "execution_count": 86,
   "id": "b52cbfba",
   "metadata": {},
   "outputs": [
    {
     "data": {
      "text/plain": [
       "<AxesSubplot:xlabel='species', ylabel='sepal_width'>"
      ]
     },
     "execution_count": 86,
     "metadata": {},
     "output_type": "execute_result"
    },
    {
     "data": {
      "image/png": "[encoded data removed]",
      "text/plain": [
       "<Figure size 432x288 with 1 Axes>"
      ]
     },
     "metadata": {
      "needs_background": "light"
     },
     "output_type": "display_data"
    }
   ],
   "source": [
    "sns.boxplot(data = i_train, y = 'sepal_width', x = 'species')"
   ]
  },
  {
   "cell_type": "code",
   "execution_count": 85,
   "id": "15b5482f",
   "metadata": {},
   "outputs": [
    {
     "data": {
      "text/plain": [
       "<AxesSubplot:xlabel='species', ylabel='petal_length'>"
      ]
     },
     "execution_count": 85,
     "metadata": {},
     "output_type": "execute_result"
    },
    {
     "data": {
      "image/png": "[encoded data removed]",
      "text/plain": [
       "<Figure size 432x288 with 1 Axes>"
      ]
     },
     "metadata": {
      "needs_background": "light"
     },
     "output_type": "display_data"
    }
   ],
   "source": [
    "sns.boxplot(data = i_train, y= 'petal_length', x = 'species')"
   ]
  },
  {
   "cell_type": "code",
   "execution_count": 84,
   "id": "78764d02",
   "metadata": {},
   "outputs": [
    {
     "data": {
      "text/plain": [
       "<AxesSubplot:xlabel='species', ylabel='petal_width'>"
      ]
     },
     "execution_count": 84,
     "metadata": {},
     "output_type": "execute_result"
    },
    {
     "data": {
      "image/png": "[encoded data removed]",
      "text/plain": [
       "<Figure size 432x288 with 1 Axes>"
      ]
     },
     "metadata": {
      "needs_background": "light"
     },
     "output_type": "display_data"
    }
   ],
   "source": [
    "sns.boxplot(data = i_train, y= 'petal_width', x = 'species')"
   ]
  },
  {
   "cell_type": "markdown",
   "id": "a295c5bb",
   "metadata": {},
   "source": [
    "- For each species (categorical variable): create a frequency table and a bar plot of those frequencies."
   ]
  },
  {
   "cell_type": "code",
   "execution_count": 52,
   "id": "71c1bad7",
   "metadata": {},
   "outputs": [
    {
     "data": {
      "text/plain": [
       "(versicolor    28\n",
       " virginica     28\n",
       " setosa        28\n",
       " Name: species, dtype: int64,\n",
       " versicolor    0.333333\n",
       " virginica     0.333333\n",
       " setosa        0.333333\n",
       " Name: species, dtype: float64)"
      ]
     },
     "execution_count": 52,
     "metadata": {},
     "output_type": "execute_result"
    }
   ],
   "source": [
    "i_train.species.value_counts(), i_train.species.value_counts('normalize')"
   ]
  },
  {
   "cell_type": "code",
   "execution_count": 67,
   "id": "f2de2bab",
   "metadata": {},
   "outputs": [
    {
     "data": {
      "text/plain": [
       "(array([28.,  0.,  0.,  0.,  0., 28.,  0.,  0.,  0., 28.]),\n",
       " array([0. , 0.2, 0.4, 0.6, 0.8, 1. , 1.2, 1.4, 1.6, 1.8, 2. ]),\n",
       " <BarContainer object of 10 artists>)"
      ]
     },
     "execution_count": 67,
     "metadata": {},
     "output_type": "execute_result"
    },
    {
     "data": {
      "image/png": "[encoded data removed]",
      "text/plain": [
       "<Figure size 432x288 with 1 Axes>"
      ]
     },
     "metadata": {
      "needs_background": "light"
     },
     "output_type": "display_data"
    }
   ],
   "source": [
    "plt.hist(i_train.species)"
   ]
  },
  {
   "cell_type": "markdown",
   "id": "cc23e013",
   "metadata": {},
   "source": [
    "sepal length and width are normal distributed\n",
    "\n",
    "petal width and length are skewed right"
   ]
  },
  {
   "cell_type": "markdown",
   "id": "00ab539f",
   "metadata": {},
   "source": [
    "3. Bivariate Stats\n",
    "\n",
    "- Visualize each measurement type (y-axis) with the species variable (x-axis) using barplots, adding a horizontal line showing the overall mean of the metric (y-axis).\n",
    "- For each measurement type, compute the descriptive statistics for each species.\n",
    "- For virginica & versicolor: Compare the mean petal_width using the Mann-Whitney test (scipy.stats.mannwhitneyu) to see if there is a significant difference between the two groups. Do the same for the other measurement types.\n",
    "- Document takeaways & any actions"
   ]
  },
  {
   "cell_type": "code",
   "execution_count": 69,
   "id": "79d54eee",
   "metadata": {},
   "outputs": [
    {
     "data": {
      "text/plain": [
       "<matplotlib.lines.Line2D at 0x7fa9202505e0>"
      ]
     },
     "execution_count": 69,
     "metadata": {},
     "output_type": "execute_result"
    },
    {
     "data": {
      "image/png": "[encoded data removed]",
      "text/plain": [
       "<Figure size 432x288 with 1 Axes>"
      ]
     },
     "metadata": {
      "needs_background": "light"
     },
     "output_type": "display_data"
    }
   ],
   "source": [
    "mean_val = i_train.sepal_length.mean()\n",
    "sns.barplot(data=i_train, y='sepal_length', x='species')\n",
    "plt.axhline(mean_val)"
   ]
  },
  {
   "cell_type": "code",
   "execution_count": 70,
   "id": "3fff7139",
   "metadata": {},
   "outputs": [
    {
     "data": {
      "text/plain": [
       "<matplotlib.lines.Line2D at 0x7fa91b098b20>"
      ]
     },
     "execution_count": 70,
     "metadata": {},
     "output_type": "execute_result"
    },
    {
     "data": {
      "image/png": "[encoded data removed]",
      "text/plain": [
       "<Figure size 432x288 with 1 Axes>"
      ]
     },
     "metadata": {
      "needs_background": "light"
     },
     "output_type": "display_data"
    }
   ],
   "source": [
    "mean_val = i_train.sepal_width.mean()\n",
    "sns.barplot(data=i_train, y='sepal_width', x='species')\n",
    "plt.axhline(mean_val)"
   ]
  },
  {
   "cell_type": "code",
   "execution_count": 71,
   "id": "96d72b2d",
   "metadata": {},
   "outputs": [
    {
     "data": {
      "text/plain": [
       "<matplotlib.lines.Line2D at 0x7fa92a798bb0>"
      ]
     },
     "execution_count": 71,
     "metadata": {},
     "output_type": "execute_result"
    },
    {
     "data": {
      "image/png": "[encoded data removed]",
      "text/plain": [
       "<Figure size 432x288 with 1 Axes>"
      ]
     },
     "metadata": {
      "needs_background": "light"
     },
     "output_type": "display_data"
    }
   ],
   "source": [
    "mean_val = i_train.petal_length.mean()\n",
    "sns.barplot(data=i_train, y='petal_length', x='species')\n",
    "plt.axhline(mean_val)"
   ]
  },
  {
   "cell_type": "code",
   "execution_count": 72,
   "id": "2dc2f6a4",
   "metadata": {},
   "outputs": [
    {
     "data": {
      "text/plain": [
       "<matplotlib.lines.Line2D at 0x7fa91b164130>"
      ]
     },
     "execution_count": 72,
     "metadata": {},
     "output_type": "execute_result"
    },
    {
     "data": {
      "image/png": "[encoded data removed]",
      "text/plain": [
       "<Figure size 432x288 with 1 Axes>"
      ]
     },
     "metadata": {
      "needs_background": "light"
     },
     "output_type": "display_data"
    }
   ],
   "source": [
    "mean_val = i_train.petal_width.mean()\n",
    "sns.barplot(data=i_train, y='petal_width', x='species')\n",
    "plt.axhline(mean_val)"
   ]
  },
  {
   "cell_type": "markdown",
   "id": "9ef7c0a9",
   "metadata": {},
   "source": [
    "- For each measurement type, compute the descriptive statistics for each species."
   ]
  },
  {
   "cell_type": "code",
   "execution_count": 75,
   "id": "1bc31eaa",
   "metadata": {},
   "outputs": [
    {
     "data": {
      "text/html": [
       "<div>\n",
       "<style scoped>\n",
       "    .dataframe tbody tr th:only-of-type {\n",
       "        vertical-align: middle;\n",
       "    }\n",
       "\n",
       "    .dataframe tbody tr th {\n",
       "        vertical-align: top;\n",
       "    }\n",
       "\n",
       "    .dataframe thead th {\n",
       "        text-align: right;\n",
       "    }\n",
       "</style>\n",
       "<table border=\"1\" class=\"dataframe\">\n",
       "  <thead>\n",
       "    <tr style=\"text-align: right;\">\n",
       "      <th></th>\n",
       "      <th>species</th>\n",
       "      <th>setosa</th>\n",
       "      <th>versicolor</th>\n",
       "      <th>virginica</th>\n",
       "    </tr>\n",
       "  </thead>\n",
       "  <tbody>\n",
       "    <tr>\n",
       "      <th rowspan=\"8\" valign=\"top\">sepal_length</th>\n",
       "      <th>count</th>\n",
       "      <td>28.000000</td>\n",
       "      <td>28.000000</td>\n",
       "      <td>28.000000</td>\n",
       "    </tr>\n",
       "    <tr>\n",
       "      <th>mean</th>\n",
       "      <td>4.975000</td>\n",
       "      <td>5.875000</td>\n",
       "      <td>6.696429</td>\n",
       "    </tr>\n",
       "    <tr>\n",
       "      <th>std</th>\n",
       "      <td>0.329562</td>\n",
       "      <td>0.550168</td>\n",
       "      <td>0.661358</td>\n",
       "    </tr>\n",
       "    <tr>\n",
       "      <th>min</th>\n",
       "      <td>4.300000</td>\n",
       "      <td>4.900000</td>\n",
       "      <td>4.900000</td>\n",
       "    </tr>\n",
       "    <tr>\n",
       "      <th>25%</th>\n",
       "      <td>4.800000</td>\n",
       "      <td>5.500000</td>\n",
       "      <td>6.300000</td>\n",
       "    </tr>\n",
       "    <tr>\n",
       "      <th>50%</th>\n",
       "      <td>5.000000</td>\n",
       "      <td>5.700000</td>\n",
       "      <td>6.600000</td>\n",
       "    </tr>\n",
       "    <tr>\n",
       "      <th>75%</th>\n",
       "      <td>5.200000</td>\n",
       "      <td>6.225000</td>\n",
       "      <td>7.200000</td>\n",
       "    </tr>\n",
       "    <tr>\n",
       "      <th>max</th>\n",
       "      <td>5.500000</td>\n",
       "      <td>7.000000</td>\n",
       "      <td>7.700000</td>\n",
       "    </tr>\n",
       "    <tr>\n",
       "      <th rowspan=\"8\" valign=\"top\">sepal_width</th>\n",
       "      <th>count</th>\n",
       "      <td>28.000000</td>\n",
       "      <td>28.000000</td>\n",
       "      <td>28.000000</td>\n",
       "    </tr>\n",
       "    <tr>\n",
       "      <th>mean</th>\n",
       "      <td>3.392857</td>\n",
       "      <td>2.767857</td>\n",
       "      <td>2.975000</td>\n",
       "    </tr>\n",
       "    <tr>\n",
       "      <th>std</th>\n",
       "      <td>0.320796</td>\n",
       "      <td>0.270875</td>\n",
       "      <td>0.288835</td>\n",
       "    </tr>\n",
       "    <tr>\n",
       "      <th>min</th>\n",
       "      <td>2.900000</td>\n",
       "      <td>2.300000</td>\n",
       "      <td>2.500000</td>\n",
       "    </tr>\n",
       "    <tr>\n",
       "      <th>25%</th>\n",
       "      <td>3.075000</td>\n",
       "      <td>2.575000</td>\n",
       "      <td>2.800000</td>\n",
       "    </tr>\n",
       "    <tr>\n",
       "      <th>50%</th>\n",
       "      <td>3.400000</td>\n",
       "      <td>2.800000</td>\n",
       "      <td>3.000000</td>\n",
       "    </tr>\n",
       "    <tr>\n",
       "      <th>75%</th>\n",
       "      <td>3.600000</td>\n",
       "      <td>3.000000</td>\n",
       "      <td>3.100000</td>\n",
       "    </tr>\n",
       "    <tr>\n",
       "      <th>max</th>\n",
       "      <td>4.100000</td>\n",
       "      <td>3.300000</td>\n",
       "      <td>3.800000</td>\n",
       "    </tr>\n",
       "    <tr>\n",
       "      <th rowspan=\"8\" valign=\"top\">petal_length</th>\n",
       "      <th>count</th>\n",
       "      <td>28.000000</td>\n",
       "      <td>28.000000</td>\n",
       "      <td>28.000000</td>\n",
       "    </tr>\n",
       "    <tr>\n",
       "      <th>mean</th>\n",
       "      <td>1.460714</td>\n",
       "      <td>4.171429</td>\n",
       "      <td>5.728571</td>\n",
       "    </tr>\n",
       "    <tr>\n",
       "      <th>std</th>\n",
       "      <td>0.157149</td>\n",
       "      <td>0.485232</td>\n",
       "      <td>0.560329</td>\n",
       "    </tr>\n",
       "    <tr>\n",
       "      <th>min</th>\n",
       "      <td>1.100000</td>\n",
       "      <td>3.000000</td>\n",
       "      <td>4.500000</td>\n",
       "    </tr>\n",
       "    <tr>\n",
       "      <th>25%</th>\n",
       "      <td>1.400000</td>\n",
       "      <td>3.900000</td>\n",
       "      <td>5.400000</td>\n",
       "    </tr>\n",
       "    <tr>\n",
       "      <th>50%</th>\n",
       "      <td>1.450000</td>\n",
       "      <td>4.200000</td>\n",
       "      <td>5.650000</td>\n",
       "    </tr>\n",
       "    <tr>\n",
       "      <th>75%</th>\n",
       "      <td>1.500000</td>\n",
       "      <td>4.525000</td>\n",
       "      <td>6.000000</td>\n",
       "    </tr>\n",
       "    <tr>\n",
       "      <th>max</th>\n",
       "      <td>1.900000</td>\n",
       "      <td>5.000000</td>\n",
       "      <td>6.900000</td>\n",
       "    </tr>\n",
       "    <tr>\n",
       "      <th rowspan=\"8\" valign=\"top\">petal_width</th>\n",
       "      <th>count</th>\n",
       "      <td>28.000000</td>\n",
       "      <td>28.000000</td>\n",
       "      <td>28.000000</td>\n",
       "    </tr>\n",
       "    <tr>\n",
       "      <th>mean</th>\n",
       "      <td>0.235714</td>\n",
       "      <td>1.282143</td>\n",
       "      <td>2.025000</td>\n",
       "    </tr>\n",
       "    <tr>\n",
       "      <th>std</th>\n",
       "      <td>0.102611</td>\n",
       "      <td>0.182683</td>\n",
       "      <td>0.295177</td>\n",
       "    </tr>\n",
       "    <tr>\n",
       "      <th>min</th>\n",
       "      <td>0.100000</td>\n",
       "      <td>1.000000</td>\n",
       "      <td>1.400000</td>\n",
       "    </tr>\n",
       "    <tr>\n",
       "      <th>25%</th>\n",
       "      <td>0.200000</td>\n",
       "      <td>1.175000</td>\n",
       "      <td>1.800000</td>\n",
       "    </tr>\n",
       "    <tr>\n",
       "      <th>50%</th>\n",
       "      <td>0.200000</td>\n",
       "      <td>1.300000</td>\n",
       "      <td>2.100000</td>\n",
       "    </tr>\n",
       "    <tr>\n",
       "      <th>75%</th>\n",
       "      <td>0.300000</td>\n",
       "      <td>1.400000</td>\n",
       "      <td>2.225000</td>\n",
       "    </tr>\n",
       "    <tr>\n",
       "      <th>max</th>\n",
       "      <td>0.500000</td>\n",
       "      <td>1.700000</td>\n",
       "      <td>2.500000</td>\n",
       "    </tr>\n",
       "  </tbody>\n",
       "</table>\n",
       "</div>"
      ],
      "text/plain": [
       "species                setosa  versicolor  virginica\n",
       "sepal_length count  28.000000   28.000000  28.000000\n",
       "             mean    4.975000    5.875000   6.696429\n",
       "             std     0.329562    0.550168   0.661358\n",
       "             min     4.300000    4.900000   4.900000\n",
       "             25%     4.800000    5.500000   6.300000\n",
       "             50%     5.000000    5.700000   6.600000\n",
       "             75%     5.200000    6.225000   7.200000\n",
       "             max     5.500000    7.000000   7.700000\n",
       "sepal_width  count  28.000000   28.000000  28.000000\n",
       "             mean    3.392857    2.767857   2.975000\n",
       "             std     0.320796    0.270875   0.288835\n",
       "             min     2.900000    2.300000   2.500000\n",
       "             25%     3.075000    2.575000   2.800000\n",
       "             50%     3.400000    2.800000   3.000000\n",
       "             75%     3.600000    3.000000   3.100000\n",
       "             max     4.100000    3.300000   3.800000\n",
       "petal_length count  28.000000   28.000000  28.000000\n",
       "             mean    1.460714    4.171429   5.728571\n",
       "             std     0.157149    0.485232   0.560329\n",
       "             min     1.100000    3.000000   4.500000\n",
       "             25%     1.400000    3.900000   5.400000\n",
       "             50%     1.450000    4.200000   5.650000\n",
       "             75%     1.500000    4.525000   6.000000\n",
       "             max     1.900000    5.000000   6.900000\n",
       "petal_width  count  28.000000   28.000000  28.000000\n",
       "             mean    0.235714    1.282143   2.025000\n",
       "             std     0.102611    0.182683   0.295177\n",
       "             min     0.100000    1.000000   1.400000\n",
       "             25%     0.200000    1.175000   1.800000\n",
       "             50%     0.200000    1.300000   2.100000\n",
       "             75%     0.300000    1.400000   2.225000\n",
       "             max     0.500000    1.700000   2.500000"
      ]
     },
     "execution_count": 75,
     "metadata": {},
     "output_type": "execute_result"
    }
   ],
   "source": [
    "i_train.groupby('species').describe().T.loc[:'petal_width']"
   ]
  },
  {
   "cell_type": "markdown",
   "id": "b5525f77",
   "metadata": {},
   "source": [
    "- For virginica & versicolor: Compare the mean petal_width using the Mann-Whitney test (scipy.stats.mannwhitneyu) to see if there is a significant difference between the two groups. Do the same for the other measurement types."
   ]
  },
  {
   "cell_type": "code",
   "execution_count": 82,
   "id": "fcda8e64",
   "metadata": {},
   "outputs": [
    {
     "data": {
      "text/plain": [
       "True"
      ]
     },
     "execution_count": 82,
     "metadata": {},
     "output_type": "execute_result"
    }
   ],
   "source": [
    "alpha = 0.5\n",
    "t, p = stats.mannwhitneyu(i_train[i_train.species == 'virginica'].petal_width, i_train[i_train.species == 'versicolor'].petal_width)\n",
    "p < alpha"
   ]
  },
  {
   "cell_type": "code",
   "execution_count": null,
   "id": "2b0ffc53",
   "metadata": {},
   "outputs": [],
   "source": []
  },
  {
   "cell_type": "code",
   "execution_count": null,
   "id": "63aeae44",
   "metadata": {},
   "outputs": [],
   "source": []
  },
  {
   "cell_type": "markdown",
   "id": "4603feb0",
   "metadata": {},
   "source": [
    "## telco_db"
   ]
  },
  {
   "cell_type": "code",
   "execution_count": null,
   "id": "61a20dfa",
   "metadata": {},
   "outputs": [],
   "source": [
    "import prepare\n",
    "import acquire\n",
    "telco_df = acquire.get_telco_data()\n",
    "telco_train, validate, test = prepare.split_telco_data(telco_df)"
   ]
  },
  {
   "cell_type": "code",
   "execution_count": null,
   "id": "ce5c593d",
   "metadata": {},
   "outputs": [],
   "source": [
    "telco_train.head()"
   ]
  },
  {
   "cell_type": "code",
   "execution_count": null,
   "id": "ff526cd8",
   "metadata": {
    "scrolled": false
   },
   "outputs": [],
   "source": [
    "#consider all the catagorical data and pair it with churn.  Do a χ^2 for each pair\n",
    "cat_not_churn = telco_train.dtypes[telco_train.dtypes == 'object'].index.to_list()\n",
    "cat_not_churn.remove('churn')\n",
    "cat_not_churn.remove('customer_id')\n",
    "cat_not_churn.append('senior_citizen')\n",
    "\n",
    "alpha = 0.05\n",
    "cols =  []\n",
    "rej = []\n",
    "p_val = []\n",
    "\n",
    "for cat in cat_not_churn:\n",
    "    obs = pd.crosstab(telco_train.churn, telco_train[cat])\n",
    "    cols.append(f\"churn x {cat}\")\n",
    "    chi2, p, degf, expected = stats.chi2_contingency(obs)\n",
    "    rej.append(p < alpha)\n",
    "    p_val.append(p)\n",
    "\n",
    "ind_var = pd.DataFrame({\n",
    "    'comapring':cols,\n",
    "    'reject?':rej,\n",
    "    'p-value':p_val\n",
    "})\n",
    "ind_var[ind_var['reject?']==True].sort_values('p-value')"
   ]
  },
  {
   "cell_type": "code",
   "execution_count": 76,
   "id": "bc167f46",
   "metadata": {},
   "outputs": [
    {
     "ename": "NameError",
     "evalue": "name 'telco_train' is not defined",
     "output_type": "error",
     "traceback": [
      "\u001b[0;31m---------------------------------------------------------------------------\u001b[0m",
      "\u001b[0;31mNameError\u001b[0m                                 Traceback (most recent call last)",
      "\u001b[0;32m/var/folders/lw/_43z7rb5635_x1dwsyzrnc_m0000gn/T/ipykernel_22034/363787432.py\u001b[0m in \u001b[0;36m<module>\u001b[0;34m\u001b[0m\n\u001b[1;32m      5\u001b[0m \u001b[0mnum_col\u001b[0m \u001b[0;34m=\u001b[0m \u001b[0;34m[\u001b[0m\u001b[0;34m'tenure'\u001b[0m\u001b[0;34m,\u001b[0m \u001b[0;34m'monthly_charges'\u001b[0m\u001b[0;34m,\u001b[0m \u001b[0;34m'total_charges'\u001b[0m\u001b[0;34m]\u001b[0m\u001b[0;34m\u001b[0m\u001b[0;34m\u001b[0m\u001b[0m\n\u001b[1;32m      6\u001b[0m \u001b[0;34m\u001b[0m\u001b[0m\n\u001b[0;32m----> 7\u001b[0;31m \u001b[0mtelco_churn\u001b[0m \u001b[0;34m=\u001b[0m \u001b[0mtelco_train\u001b[0m\u001b[0;34m[\u001b[0m\u001b[0mtelco_train\u001b[0m\u001b[0;34m.\u001b[0m\u001b[0mchurn\u001b[0m \u001b[0;34m==\u001b[0m \u001b[0;34m'Yes'\u001b[0m\u001b[0;34m]\u001b[0m\u001b[0;34m\u001b[0m\u001b[0;34m\u001b[0m\u001b[0m\n\u001b[0m\u001b[1;32m      8\u001b[0m \u001b[0mtelco_nochurn\u001b[0m \u001b[0;34m=\u001b[0m \u001b[0mtelco_train\u001b[0m\u001b[0;34m[\u001b[0m\u001b[0mtelco_train\u001b[0m\u001b[0;34m.\u001b[0m\u001b[0mchurn\u001b[0m \u001b[0;34m==\u001b[0m \u001b[0;34m'No'\u001b[0m\u001b[0;34m]\u001b[0m\u001b[0;34m\u001b[0m\u001b[0;34m\u001b[0m\u001b[0m\n\u001b[1;32m      9\u001b[0m \u001b[0;34m\u001b[0m\u001b[0m\n",
      "\u001b[0;31mNameError\u001b[0m: name 'telco_train' is not defined"
     ]
    }
   ],
   "source": [
    "# now compare churn and non churn for numeric data\n",
    "# since there are only three, just directly calculate using \n",
    "#these will be two sample t-tests, one tail\n",
    "# H_0 : mu for churn@col <= mu for not churn@col\n",
    "num_col = ['tenure', 'monthly_charges', 'total_charges']\n",
    "\n",
    "telco_churn = telco_train[telco_train.churn == 'Yes']\n",
    "telco_nochurn = telco_train[telco_train.churn == 'No']\n",
    "\n",
    "cols = []\n",
    "rej = []\n",
    "p_val = []\n",
    "\n",
    "for col in num_col:\n",
    "    cols.append(f\"churn x {col}\")\n",
    "    #compare variance\n",
    "    churn_series = telco_churn[col]\n",
    "    nochurn_series = telco_nochurn[col]\n",
    "    #now do the mw test\n",
    "    t, p = stats.mannwhitneyu(churn_series, nochurn_series, alternative= 'greater')\n",
    "    reject = p/2 < alpha\n",
    "    rej.append(reject)\n",
    "    p_val.append(p)\n",
    "\n",
    "mannw_test = {\n",
    "    'columns': cols,\n",
    "    'reject?': rej,\n",
    "    'p-value':p_val\n",
    "}\n",
    "mannw_test = pd.DataFrame(t_var)\n",
    "mannw_test[mannw_test['reject?']==True].sort_values('p-value')"
   ]
  },
  {
   "cell_type": "code",
   "execution_count": null,
   "id": "b5fafaf8",
   "metadata": {},
   "outputs": [],
   "source": [
    "#monthly charges might be considered normal, do a t-test\n",
    "plt.hist(telco_churn.monthly_charges)"
   ]
  },
  {
   "cell_type": "code",
   "execution_count": null,
   "id": "6faa0f6c",
   "metadata": {},
   "outputs": [],
   "source": [
    "\n",
    "churn_series = telco_churn['monthly_charges']\n",
    "nochurn_series = telco_nochurn['monthly_charges']\n",
    "l_t, l_p = stats.levene(churn_series, nochurn_series)\n",
    "levene_bool = not l_p < alpha\n",
    "    #now do the t test\n",
    "t, p = stats.ttest_ind(churn_series, nochurn_series, equal_var= levene_bool)\n",
    "p/2 < alpha, p"
   ]
  },
  {
   "cell_type": "code",
   "execution_count": null,
   "id": "15afcb21",
   "metadata": {},
   "outputs": [],
   "source": []
  }
 ],
 "metadata": {
  "kernelspec": {
   "display_name": "Python 3 (ipykernel)",
   "language": "python",
   "name": "python3"
  },
  "language_info": {
   "codemirror_mode": {
    "name": "ipython",
    "version": 3
   },
   "file_extension": ".py",
   "mimetype": "text/x-python",
   "name": "python",
   "nbconvert_exporter": "python",
   "pygments_lexer": "ipython3",
   "version": "3.9.7"
  }
 },
 "nbformat": 4,
 "nbformat_minor": 5
}
