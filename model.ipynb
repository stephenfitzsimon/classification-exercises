{
 "cells": [
  {
   "cell_type": "code",
   "execution_count": 1,
   "id": "3b3c015c",
   "metadata": {},
   "outputs": [],
   "source": [
    "import pandas as pd\n",
    "from sklearn import metrics\n",
    "from sklearn.tree import DecisionTreeClassifier, plot_tree\n",
    "import matplotlib.pyplot as plt\n",
    "import numpy as np\n",
    "\n",
    "import acquire as a\n",
    "import prepare as p"
   ]
  },
  {
   "cell_type": "code",
   "execution_count": 2,
   "id": "72cf0d3a",
   "metadata": {},
   "outputs": [
    {
     "data": {
      "text/html": [
       "<div>\n",
       "<style scoped>\n",
       "    .dataframe tbody tr th:only-of-type {\n",
       "        vertical-align: middle;\n",
       "    }\n",
       "\n",
       "    .dataframe tbody tr th {\n",
       "        vertical-align: top;\n",
       "    }\n",
       "\n",
       "    .dataframe thead th {\n",
       "        text-align: right;\n",
       "    }\n",
       "</style>\n",
       "<table border=\"1\" class=\"dataframe\">\n",
       "  <thead>\n",
       "    <tr style=\"text-align: right;\">\n",
       "      <th></th>\n",
       "      <th>survived</th>\n",
       "      <th>pclass</th>\n",
       "      <th>age</th>\n",
       "      <th>sibsp</th>\n",
       "      <th>parch</th>\n",
       "      <th>fare</th>\n",
       "      <th>alone</th>\n",
       "      <th>sex_male</th>\n",
       "      <th>embark_town_Queenstown</th>\n",
       "      <th>embark_town_Southampton</th>\n",
       "    </tr>\n",
       "  </thead>\n",
       "  <tbody>\n",
       "    <tr>\n",
       "      <th>153</th>\n",
       "      <td>0</td>\n",
       "      <td>3</td>\n",
       "      <td>40.5</td>\n",
       "      <td>0</td>\n",
       "      <td>2</td>\n",
       "      <td>14.5000</td>\n",
       "      <td>0</td>\n",
       "      <td>1</td>\n",
       "      <td>0</td>\n",
       "      <td>1</td>\n",
       "    </tr>\n",
       "    <tr>\n",
       "      <th>147</th>\n",
       "      <td>0</td>\n",
       "      <td>3</td>\n",
       "      <td>9.0</td>\n",
       "      <td>2</td>\n",
       "      <td>2</td>\n",
       "      <td>34.3750</td>\n",
       "      <td>0</td>\n",
       "      <td>0</td>\n",
       "      <td>0</td>\n",
       "      <td>1</td>\n",
       "    </tr>\n",
       "    <tr>\n",
       "      <th>854</th>\n",
       "      <td>0</td>\n",
       "      <td>2</td>\n",
       "      <td>44.0</td>\n",
       "      <td>1</td>\n",
       "      <td>0</td>\n",
       "      <td>26.0000</td>\n",
       "      <td>0</td>\n",
       "      <td>0</td>\n",
       "      <td>0</td>\n",
       "      <td>1</td>\n",
       "    </tr>\n",
       "    <tr>\n",
       "      <th>1</th>\n",
       "      <td>1</td>\n",
       "      <td>1</td>\n",
       "      <td>38.0</td>\n",
       "      <td>1</td>\n",
       "      <td>0</td>\n",
       "      <td>71.2833</td>\n",
       "      <td>0</td>\n",
       "      <td>0</td>\n",
       "      <td>0</td>\n",
       "      <td>0</td>\n",
       "    </tr>\n",
       "    <tr>\n",
       "      <th>322</th>\n",
       "      <td>1</td>\n",
       "      <td>2</td>\n",
       "      <td>30.0</td>\n",
       "      <td>0</td>\n",
       "      <td>0</td>\n",
       "      <td>12.3500</td>\n",
       "      <td>1</td>\n",
       "      <td>0</td>\n",
       "      <td>1</td>\n",
       "      <td>0</td>\n",
       "    </tr>\n",
       "    <tr>\n",
       "      <th>...</th>\n",
       "      <td>...</td>\n",
       "      <td>...</td>\n",
       "      <td>...</td>\n",
       "      <td>...</td>\n",
       "      <td>...</td>\n",
       "      <td>...</td>\n",
       "      <td>...</td>\n",
       "      <td>...</td>\n",
       "      <td>...</td>\n",
       "      <td>...</td>\n",
       "    </tr>\n",
       "    <tr>\n",
       "      <th>281</th>\n",
       "      <td>0</td>\n",
       "      <td>3</td>\n",
       "      <td>28.0</td>\n",
       "      <td>0</td>\n",
       "      <td>0</td>\n",
       "      <td>7.8542</td>\n",
       "      <td>1</td>\n",
       "      <td>1</td>\n",
       "      <td>0</td>\n",
       "      <td>1</td>\n",
       "    </tr>\n",
       "    <tr>\n",
       "      <th>111</th>\n",
       "      <td>0</td>\n",
       "      <td>3</td>\n",
       "      <td>14.5</td>\n",
       "      <td>1</td>\n",
       "      <td>0</td>\n",
       "      <td>14.4542</td>\n",
       "      <td>0</td>\n",
       "      <td>0</td>\n",
       "      <td>0</td>\n",
       "      <td>0</td>\n",
       "    </tr>\n",
       "    <tr>\n",
       "      <th>885</th>\n",
       "      <td>0</td>\n",
       "      <td>3</td>\n",
       "      <td>39.0</td>\n",
       "      <td>0</td>\n",
       "      <td>5</td>\n",
       "      <td>29.1250</td>\n",
       "      <td>0</td>\n",
       "      <td>0</td>\n",
       "      <td>1</td>\n",
       "      <td>0</td>\n",
       "    </tr>\n",
       "    <tr>\n",
       "      <th>786</th>\n",
       "      <td>1</td>\n",
       "      <td>3</td>\n",
       "      <td>18.0</td>\n",
       "      <td>0</td>\n",
       "      <td>0</td>\n",
       "      <td>7.4958</td>\n",
       "      <td>1</td>\n",
       "      <td>0</td>\n",
       "      <td>0</td>\n",
       "      <td>1</td>\n",
       "    </tr>\n",
       "    <tr>\n",
       "      <th>744</th>\n",
       "      <td>1</td>\n",
       "      <td>3</td>\n",
       "      <td>31.0</td>\n",
       "      <td>0</td>\n",
       "      <td>0</td>\n",
       "      <td>7.9250</td>\n",
       "      <td>1</td>\n",
       "      <td>1</td>\n",
       "      <td>0</td>\n",
       "      <td>1</td>\n",
       "    </tr>\n",
       "  </tbody>\n",
       "</table>\n",
       "<p>399 rows × 10 columns</p>\n",
       "</div>"
      ],
      "text/plain": [
       "     survived  pclass   age  sibsp  parch     fare  alone  sex_male  \\\n",
       "153         0       3  40.5      0      2  14.5000      0         1   \n",
       "147         0       3   9.0      2      2  34.3750      0         0   \n",
       "854         0       2  44.0      1      0  26.0000      0         0   \n",
       "1           1       1  38.0      1      0  71.2833      0         0   \n",
       "322         1       2  30.0      0      0  12.3500      1         0   \n",
       "..        ...     ...   ...    ...    ...      ...    ...       ...   \n",
       "281         0       3  28.0      0      0   7.8542      1         1   \n",
       "111         0       3  14.5      1      0  14.4542      0         0   \n",
       "885         0       3  39.0      0      5  29.1250      0         0   \n",
       "786         1       3  18.0      0      0   7.4958      1         0   \n",
       "744         1       3  31.0      0      0   7.9250      1         1   \n",
       "\n",
       "     embark_town_Queenstown  embark_town_Southampton  \n",
       "153                       0                        1  \n",
       "147                       0                        1  \n",
       "854                       0                        1  \n",
       "1                         0                        0  \n",
       "322                       1                        0  \n",
       "..                      ...                      ...  \n",
       "281                       0                        1  \n",
       "111                       0                        0  \n",
       "885                       1                        0  \n",
       "786                       0                        1  \n",
       "744                       0                        1  \n",
       "\n",
       "[399 rows x 10 columns]"
      ]
     },
     "execution_count": 2,
     "metadata": {},
     "output_type": "execute_result"
    }
   ],
   "source": [
    "df = a.get_titanic_data()\n",
    "df_train, validate, test = p.split_titanic_data(df)\n",
    "df_train"
   ]
  },
  {
   "cell_type": "code",
   "execution_count": 3,
   "id": "d8a52fbf",
   "metadata": {},
   "outputs": [
    {
     "data": {
      "text/plain": [
       "0    237\n",
       "1    162\n",
       "Name: survived, dtype: int64"
      ]
     },
     "execution_count": 3,
     "metadata": {},
     "output_type": "execute_result"
    }
   ],
   "source": [
    "df_train.survived.value_counts()"
   ]
  },
  {
   "cell_type": "markdown",
   "id": "4e9c399e",
   "metadata": {},
   "source": [
    "##### Using the titanic data, in your classification-exercises repository, create a notebook, model.ipynb where you will do the following:\n",
    "\n",
    "1. \n",
    "\n",
    "What is your baseline prediction? What is your baseline accuracy? remember: your baseline prediction for a classification problem is predicting the most prevelant class in the training dataset (the mode). When you make those predictions, what is your accuracy? This is your baseline accuracy.\n"
   ]
  },
  {
   "cell_type": "code",
   "execution_count": 4,
   "id": "36ed21ec",
   "metadata": {},
   "outputs": [
    {
     "data": {
      "text/plain": [
       "0      0\n",
       "1      0\n",
       "2      0\n",
       "3      0\n",
       "4      0\n",
       "      ..\n",
       "394    0\n",
       "395    0\n",
       "396    0\n",
       "397    0\n",
       "398    0\n",
       "Length: 399, dtype: int64"
      ]
     },
     "execution_count": 4,
     "metadata": {},
     "output_type": "execute_result"
    }
   ],
   "source": [
    "# get the most common value in survived\n",
    "baseline_prediction = df_train.survived.value_counts().idxmax()\n",
    "baseline_model = pd.Series([baseline_prediction for x in range(df_train.shape[0])])\n",
    "baseline_model"
   ]
  },
  {
   "cell_type": "code",
   "execution_count": 5,
   "id": "4f4ce759",
   "metadata": {},
   "outputs": [
    {
     "name": "stderr",
     "output_type": "stream",
     "text": [
      "/opt/homebrew/anaconda3/lib/python3.9/site-packages/sklearn/metrics/_classification.py:1248: UndefinedMetricWarning: Precision and F-score are ill-defined and being set to 0.0 in labels with no predicted samples. Use `zero_division` parameter to control this behavior.\n",
      "  _warn_prf(average, modifier, msg_start, len(result))\n",
      "/opt/homebrew/anaconda3/lib/python3.9/site-packages/sklearn/metrics/_classification.py:1248: UndefinedMetricWarning: Precision and F-score are ill-defined and being set to 0.0 in labels with no predicted samples. Use `zero_division` parameter to control this behavior.\n",
      "  _warn_prf(average, modifier, msg_start, len(result))\n",
      "/opt/homebrew/anaconda3/lib/python3.9/site-packages/sklearn/metrics/_classification.py:1248: UndefinedMetricWarning: Precision and F-score are ill-defined and being set to 0.0 in labels with no predicted samples. Use `zero_division` parameter to control this behavior.\n",
      "  _warn_prf(average, modifier, msg_start, len(result))\n"
     ]
    },
    {
     "data": {
      "text/html": [
       "<div>\n",
       "<style scoped>\n",
       "    .dataframe tbody tr th:only-of-type {\n",
       "        vertical-align: middle;\n",
       "    }\n",
       "\n",
       "    .dataframe tbody tr th {\n",
       "        vertical-align: top;\n",
       "    }\n",
       "\n",
       "    .dataframe thead th {\n",
       "        text-align: right;\n",
       "    }\n",
       "</style>\n",
       "<table border=\"1\" class=\"dataframe\">\n",
       "  <thead>\n",
       "    <tr style=\"text-align: right;\">\n",
       "      <th></th>\n",
       "      <th>precision</th>\n",
       "      <th>recall</th>\n",
       "      <th>f1-score</th>\n",
       "      <th>support</th>\n",
       "    </tr>\n",
       "  </thead>\n",
       "  <tbody>\n",
       "    <tr>\n",
       "      <th>0</th>\n",
       "      <td>0.593985</td>\n",
       "      <td>1.000000</td>\n",
       "      <td>0.745283</td>\n",
       "      <td>237.000000</td>\n",
       "    </tr>\n",
       "    <tr>\n",
       "      <th>1</th>\n",
       "      <td>0.000000</td>\n",
       "      <td>0.000000</td>\n",
       "      <td>0.000000</td>\n",
       "      <td>162.000000</td>\n",
       "    </tr>\n",
       "    <tr>\n",
       "      <th>accuracy</th>\n",
       "      <td>0.593985</td>\n",
       "      <td>0.593985</td>\n",
       "      <td>0.593985</td>\n",
       "      <td>0.593985</td>\n",
       "    </tr>\n",
       "    <tr>\n",
       "      <th>macro avg</th>\n",
       "      <td>0.296992</td>\n",
       "      <td>0.500000</td>\n",
       "      <td>0.372642</td>\n",
       "      <td>399.000000</td>\n",
       "    </tr>\n",
       "    <tr>\n",
       "      <th>weighted avg</th>\n",
       "      <td>0.352818</td>\n",
       "      <td>0.593985</td>\n",
       "      <td>0.442687</td>\n",
       "      <td>399.000000</td>\n",
       "    </tr>\n",
       "  </tbody>\n",
       "</table>\n",
       "</div>"
      ],
      "text/plain": [
       "              precision    recall  f1-score     support\n",
       "0              0.593985  1.000000  0.745283  237.000000\n",
       "1              0.000000  0.000000  0.000000  162.000000\n",
       "accuracy       0.593985  0.593985  0.593985    0.593985\n",
       "macro avg      0.296992  0.500000  0.372642  399.000000\n",
       "weighted avg   0.352818  0.593985  0.442687  399.000000"
      ]
     },
     "execution_count": 5,
     "metadata": {},
     "output_type": "execute_result"
    }
   ],
   "source": [
    "pd.DataFrame(metrics.classification_report(df_train.survived, baseline_model, labels = [0, 1], output_dict=True)).T"
   ]
  },
  {
   "cell_type": "markdown",
   "id": "a15ae366",
   "metadata": {},
   "source": [
    "baseline accuracy is ~[0.59, 0.62]"
   ]
  },
  {
   "cell_type": "markdown",
   "id": "6b75c9d2",
   "metadata": {},
   "source": [
    "2.\n",
    "\n",
    "Fit the decision tree classifier to your training sample and transform (i.e. make predictions on the training sample)"
   ]
  },
  {
   "cell_type": "code",
   "execution_count": 6,
   "id": "1557fe51",
   "metadata": {},
   "outputs": [],
   "source": [
    "# split the train data into X and y sets\n",
    "\n",
    "X_train = df_train.drop(columns = ['survived'])\n",
    "y_train = df_train.survived"
   ]
  },
  {
   "cell_type": "code",
   "execution_count": 7,
   "id": "6ab87a6b",
   "metadata": {},
   "outputs": [],
   "source": [
    "#make the model object\n",
    "clf = DecisionTreeClassifier(max_depth = 3, random_state=123)"
   ]
  },
  {
   "cell_type": "code",
   "execution_count": 8,
   "id": "71702b79",
   "metadata": {},
   "outputs": [
    {
     "data": {
      "text/plain": [
       "DecisionTreeClassifier(max_depth=3, random_state=123)"
      ]
     },
     "execution_count": 8,
     "metadata": {},
     "output_type": "execute_result"
    }
   ],
   "source": [
    "#train the model\n",
    "\n",
    "clf.fit(X_train, y_train)"
   ]
  },
  {
   "cell_type": "code",
   "execution_count": 9,
   "id": "c5afe83b",
   "metadata": {
    "scrolled": false
   },
   "outputs": [
    {
     "data": {
      "text/plain": [
       "[Text(392.92499999999995, 618.3449999999999, 'sex_male <= 0.5\\ngini = 0.482\\nsamples = 399\\nvalue = [237, 162]\\nclass = perished'),\n",
       " Text(241.79999999999998, 441.67499999999995, 'pclass <= 2.5\\ngini = 0.378\\nsamples = 146\\nvalue = [37, 109]\\nclass = survived'),\n",
       " Text(120.89999999999999, 265.005, 'age <= 24.5\\ngini = 0.124\\nsamples = 90\\nvalue = [6, 84]\\nclass = survived'),\n",
       " Text(60.449999999999996, 88.33500000000004, 'gini = 0.0\\nsamples = 32\\nvalue = [0, 32]\\nclass = survived'),\n",
       " Text(181.35, 88.33500000000004, 'gini = 0.185\\nsamples = 58\\nvalue = [6, 52]\\nclass = survived'),\n",
       " Text(362.7, 265.005, 'age <= 38.5\\ngini = 0.494\\nsamples = 56\\nvalue = [31, 25]\\nclass = perished'),\n",
       " Text(302.25, 88.33500000000004, 'gini = 0.5\\nsamples = 49\\nvalue = [24, 25]\\nclass = survived'),\n",
       " Text(423.15, 88.33500000000004, 'gini = 0.0\\nsamples = 7\\nvalue = [7, 0]\\nclass = perished'),\n",
       " Text(544.05, 441.67499999999995, 'age <= 0.96\\ngini = 0.331\\nsamples = 253\\nvalue = [200, 53]\\nclass = perished'),\n",
       " Text(483.59999999999997, 265.005, 'gini = 0.0\\nsamples = 5\\nvalue = [0, 5]\\nclass = survived'),\n",
       " Text(604.5, 265.005, 'pclass <= 1.5\\ngini = 0.312\\nsamples = 248\\nvalue = [200, 48]\\nclass = perished'),\n",
       " Text(544.05, 88.33500000000004, 'gini = 0.471\\nsamples = 58\\nvalue = [36, 22]\\nclass = perished'),\n",
       " Text(664.9499999999999, 88.33500000000004, 'gini = 0.236\\nsamples = 190\\nvalue = [164, 26]\\nclass = perished')]"
      ]
     },
     "execution_count": 9,
     "metadata": {},
     "output_type": "execute_result"
    },
    {
     "data": {
      "image/png": "[encoded data removed]",
      "text/plain": [
       "<Figure size 936x936 with 1 Axes>"
      ]
     },
     "metadata": {
      "needs_background": "light"
     },
     "output_type": "display_data"
    }
   ],
   "source": [
    "plt.figure(figsize=(13, 13))\n",
    "plot_tree(clf, feature_names = X_train.columns, class_names = np.array(['perished', 'survived']), rounded=True)"
   ]
  },
  {
   "cell_type": "code",
   "execution_count": 10,
   "id": "e620654d",
   "metadata": {},
   "outputs": [
    {
     "data": {
      "text/plain": [
       "array([0, 1, 1, 1, 1])"
      ]
     },
     "execution_count": 10,
     "metadata": {},
     "output_type": "execute_result"
    }
   ],
   "source": [
    "# make predictions using the training data\n",
    "y_pred = clf.predict(X_train)\n",
    "y_pred[0:5]"
   ]
  },
  {
   "cell_type": "code",
   "execution_count": 11,
   "id": "1bab15f4",
   "metadata": {},
   "outputs": [
    {
     "data": {
      "text/plain": [
       "array([[0.86315789, 0.13684211],\n",
       "       [0.48979592, 0.51020408],\n",
       "       [0.10344828, 0.89655172],\n",
       "       [0.10344828, 0.89655172],\n",
       "       [0.10344828, 0.89655172]])"
      ]
     },
     "execution_count": 11,
     "metadata": {},
     "output_type": "execute_result"
    }
   ],
   "source": [
    "y_pred_prob = clf.predict_proba(X_train)\n",
    "y_pred_prob[0:5]"
   ]
  },
  {
   "cell_type": "markdown",
   "id": "d5942377",
   "metadata": {},
   "source": [
    "3. \n",
    "\n",
    "\n",
    "Evaluate your in-sample results using the model score, confusion matrix, and classification report."
   ]
  },
  {
   "cell_type": "code",
   "execution_count": 12,
   "id": "4c0adb62",
   "metadata": {},
   "outputs": [
    {
     "data": {
      "text/plain": [
       "'Accuracy on train data is 0.8045112781954887'"
      ]
     },
     "execution_count": 12,
     "metadata": {},
     "output_type": "execute_result"
    }
   ],
   "source": [
    "f\"Accuracy on train data is {clf.score(X_train, y_train)}\""
   ]
  },
  {
   "cell_type": "code",
   "execution_count": 13,
   "id": "7dce602d",
   "metadata": {},
   "outputs": [
    {
     "data": {
      "text/html": [
       "<div>\n",
       "<style scoped>\n",
       "    .dataframe tbody tr th:only-of-type {\n",
       "        vertical-align: middle;\n",
       "    }\n",
       "\n",
       "    .dataframe tbody tr th {\n",
       "        vertical-align: top;\n",
       "    }\n",
       "\n",
       "    .dataframe thead th {\n",
       "        text-align: right;\n",
       "    }\n",
       "</style>\n",
       "<table border=\"1\" class=\"dataframe\">\n",
       "  <thead>\n",
       "    <tr style=\"text-align: right;\">\n",
       "      <th></th>\n",
       "      <th>0</th>\n",
       "      <th>1</th>\n",
       "    </tr>\n",
       "  </thead>\n",
       "  <tbody>\n",
       "    <tr>\n",
       "      <th>0</th>\n",
       "      <td>207</td>\n",
       "      <td>30</td>\n",
       "    </tr>\n",
       "    <tr>\n",
       "      <th>1</th>\n",
       "      <td>48</td>\n",
       "      <td>114</td>\n",
       "    </tr>\n",
       "  </tbody>\n",
       "</table>\n",
       "</div>"
      ],
      "text/plain": [
       "     0    1\n",
       "0  207   30\n",
       "1   48  114"
      ]
     },
     "execution_count": 13,
     "metadata": {},
     "output_type": "execute_result"
    }
   ],
   "source": [
    "#make a confusion matrix\n",
    "pd.DataFrame(metrics.confusion_matrix(y_train, y_pred))"
   ]
  },
  {
   "cell_type": "code",
   "execution_count": 14,
   "id": "e9552851",
   "metadata": {},
   "outputs": [
    {
     "name": "stdout",
     "output_type": "stream",
     "text": [
      "              precision    recall  f1-score   support\n",
      "\n",
      "           0       0.81      0.87      0.84       237\n",
      "           1       0.79      0.70      0.75       162\n",
      "\n",
      "    accuracy                           0.80       399\n",
      "   macro avg       0.80      0.79      0.79       399\n",
      "weighted avg       0.80      0.80      0.80       399\n",
      "\n"
     ]
    }
   ],
   "source": [
    "print(metrics.classification_report(y_train, y_pred))"
   ]
  },
  {
   "cell_type": "markdown",
   "id": "75fa81e2",
   "metadata": {},
   "source": [
    "4.\n",
    "\n",
    "Compute: Accuracy, true positive rate, false positive rate, true negative rate, false negative rate, precision, recall, f1-score, and support."
   ]
  },
  {
   "cell_type": "code",
   "execution_count": 15,
   "id": "a54e5d93",
   "metadata": {},
   "outputs": [
    {
     "data": {
      "text/plain": [
       "(207, 30, 48, 114)"
      ]
     },
     "execution_count": 15,
     "metadata": {},
     "output_type": "execute_result"
    }
   ],
   "source": [
    "tn, fp, fn, tp = metrics.confusion_matrix(y_train, y_pred).ravel()\n",
    "tn, fp, fn, tp"
   ]
  },
  {
   "cell_type": "code",
   "execution_count": 16,
   "id": "ce6de163",
   "metadata": {},
   "outputs": [
    {
     "data": {
      "text/plain": [
       "0.7037037037037037"
      ]
     },
     "execution_count": 16,
     "metadata": {},
     "output_type": "execute_result"
    }
   ],
   "source": [
    "#true positive rate\n",
    "\n",
    "tp/(tp+fn)"
   ]
  },
  {
   "cell_type": "code",
   "execution_count": 17,
   "id": "86352c0a",
   "metadata": {},
   "outputs": [
    {
     "data": {
      "text/plain": [
       "0.20833333333333334"
      ]
     },
     "execution_count": 17,
     "metadata": {},
     "output_type": "execute_result"
    }
   ],
   "source": [
    "# false positive rate\n",
    "\n",
    "fp/(fp+tp)"
   ]
  },
  {
   "cell_type": "code",
   "execution_count": 18,
   "id": "c39e274b",
   "metadata": {},
   "outputs": [
    {
     "data": {
      "text/plain": [
       "0.8734177215189873"
      ]
     },
     "execution_count": 18,
     "metadata": {},
     "output_type": "execute_result"
    }
   ],
   "source": [
    "# true negative rate\n",
    "\n",
    "tn/(tn+fp)"
   ]
  },
  {
   "cell_type": "code",
   "execution_count": 19,
   "id": "5b40b2fa",
   "metadata": {},
   "outputs": [
    {
     "data": {
      "text/plain": [
       "0.2962962962962963"
      ]
     },
     "execution_count": 19,
     "metadata": {},
     "output_type": "execute_result"
    }
   ],
   "source": [
    "# false negative rate\n",
    "\n",
    "fn/(fn+tp)"
   ]
  },
  {
   "cell_type": "code",
   "execution_count": 20,
   "id": "3ecdd24d",
   "metadata": {},
   "outputs": [
    {
     "data": {
      "text/plain": [
       "0.8045112781954887"
      ]
     },
     "execution_count": 20,
     "metadata": {},
     "output_type": "execute_result"
    }
   ],
   "source": [
    "# accuracy\n",
    "\n",
    "(tp+tn)/(tn + fp + fn + tp)"
   ]
  },
  {
   "cell_type": "code",
   "execution_count": 21,
   "id": "ccdfc8e8",
   "metadata": {},
   "outputs": [
    {
     "name": "stdout",
     "output_type": "stream",
     "text": [
      "              precision    recall  f1-score   support\n",
      "\n",
      "           0       0.81      0.87      0.84       237\n",
      "           1       0.79      0.70      0.75       162\n",
      "\n",
      "    accuracy                           0.80       399\n",
      "   macro avg       0.80      0.79      0.79       399\n",
      "weighted avg       0.80      0.80      0.80       399\n",
      "\n"
     ]
    }
   ],
   "source": [
    "print(metrics.classification_report(y_train, y_pred))"
   ]
  },
  {
   "cell_type": "markdown",
   "id": "492eff72",
   "metadata": {},
   "source": [
    "5.\n",
    "\n",
    "Run through steps 2-4 using a different max_depth value."
   ]
  },
  {
   "cell_type": "code",
   "execution_count": 22,
   "id": "a06d7392",
   "metadata": {},
   "outputs": [
    {
     "data": {
      "text/plain": [
       "[Text(362.7, 588.9, 'sex_male <= 0.5\\ngini = 0.482\\nsamples = 399\\nvalue = [237, 162]\\nclass = perished'),\n",
       " Text(181.35, 353.34, 'pclass <= 2.5\\ngini = 0.378\\nsamples = 146\\nvalue = [37, 109]\\nclass = survived'),\n",
       " Text(90.675, 117.77999999999997, 'gini = 0.124\\nsamples = 90\\nvalue = [6, 84]\\nclass = survived'),\n",
       " Text(272.025, 117.77999999999997, 'gini = 0.494\\nsamples = 56\\nvalue = [31, 25]\\nclass = perished'),\n",
       " Text(544.05, 353.34, 'age <= 0.96\\ngini = 0.331\\nsamples = 253\\nvalue = [200, 53]\\nclass = perished'),\n",
       " Text(453.375, 117.77999999999997, 'gini = 0.0\\nsamples = 5\\nvalue = [0, 5]\\nclass = survived'),\n",
       " Text(634.725, 117.77999999999997, 'gini = 0.312\\nsamples = 248\\nvalue = [200, 48]\\nclass = perished')]"
      ]
     },
     "execution_count": 22,
     "metadata": {},
     "output_type": "execute_result"
    },
    {
     "data": {
      "image/png": "[encoded data removed]",
      "text/plain": [
       "<Figure size 936x936 with 1 Axes>"
      ]
     },
     "metadata": {
      "needs_background": "light"
     },
     "output_type": "display_data"
    }
   ],
   "source": [
    "clf2 = DecisionTreeClassifier(max_depth = 2, random_state=123)\n",
    "clf2 = clf2.fit(X_train, y_train)\n",
    "plt.figure(figsize=(13, 13))\n",
    "plot_tree(clf2, feature_names = X_train.columns, class_names = np.array(['perished', 'survived']), rounded=True)"
   ]
  },
  {
   "cell_type": "code",
   "execution_count": 23,
   "id": "8b582199",
   "metadata": {},
   "outputs": [
    {
     "data": {
      "text/plain": [
       "array([0, 0, 1, 1, 1])"
      ]
     },
     "execution_count": 23,
     "metadata": {},
     "output_type": "execute_result"
    }
   ],
   "source": [
    "# make predictions using the training data\n",
    "y_pred2 = clf2.predict(X_train)\n",
    "y_pred2[0:5]"
   ]
  },
  {
   "cell_type": "code",
   "execution_count": 24,
   "id": "2975196b",
   "metadata": {},
   "outputs": [
    {
     "data": {
      "text/plain": [
       "array([[0.86315789, 0.13684211],\n",
       "       [0.48979592, 0.51020408],\n",
       "       [0.10344828, 0.89655172],\n",
       "       [0.10344828, 0.89655172],\n",
       "       [0.10344828, 0.89655172]])"
      ]
     },
     "execution_count": 24,
     "metadata": {},
     "output_type": "execute_result"
    }
   ],
   "source": [
    "y_pred_prob2 = clf.predict_proba(X_train)\n",
    "y_pred_prob2[0:5]"
   ]
  },
  {
   "cell_type": "code",
   "execution_count": 25,
   "id": "c850771c",
   "metadata": {},
   "outputs": [
    {
     "data": {
      "text/plain": [
       "'Accuracy on train data is 0.8020050125313283'"
      ]
     },
     "execution_count": 25,
     "metadata": {},
     "output_type": "execute_result"
    }
   ],
   "source": [
    "f\"Accuracy on train data is {clf2.score(X_train, y_train)}\""
   ]
  },
  {
   "cell_type": "code",
   "execution_count": 26,
   "id": "c89a2b6f",
   "metadata": {},
   "outputs": [
    {
     "data": {
      "text/html": [
       "<div>\n",
       "<style scoped>\n",
       "    .dataframe tbody tr th:only-of-type {\n",
       "        vertical-align: middle;\n",
       "    }\n",
       "\n",
       "    .dataframe tbody tr th {\n",
       "        vertical-align: top;\n",
       "    }\n",
       "\n",
       "    .dataframe thead th {\n",
       "        text-align: right;\n",
       "    }\n",
       "</style>\n",
       "<table border=\"1\" class=\"dataframe\">\n",
       "  <thead>\n",
       "    <tr style=\"text-align: right;\">\n",
       "      <th></th>\n",
       "      <th>0</th>\n",
       "      <th>1</th>\n",
       "    </tr>\n",
       "  </thead>\n",
       "  <tbody>\n",
       "    <tr>\n",
       "      <th>0</th>\n",
       "      <td>231</td>\n",
       "      <td>6</td>\n",
       "    </tr>\n",
       "    <tr>\n",
       "      <th>1</th>\n",
       "      <td>73</td>\n",
       "      <td>89</td>\n",
       "    </tr>\n",
       "  </tbody>\n",
       "</table>\n",
       "</div>"
      ],
      "text/plain": [
       "     0   1\n",
       "0  231   6\n",
       "1   73  89"
      ]
     },
     "execution_count": 26,
     "metadata": {},
     "output_type": "execute_result"
    }
   ],
   "source": [
    "pd.DataFrame(metrics.confusion_matrix(y_train, y_pred2))"
   ]
  },
  {
   "cell_type": "code",
   "execution_count": 27,
   "id": "a4c74f06",
   "metadata": {
    "scrolled": true
   },
   "outputs": [
    {
     "name": "stdout",
     "output_type": "stream",
     "text": [
      "              precision    recall  f1-score   support\n",
      "\n",
      "           0       0.76      0.97      0.85       237\n",
      "           1       0.94      0.55      0.69       162\n",
      "\n",
      "    accuracy                           0.80       399\n",
      "   macro avg       0.85      0.76      0.77       399\n",
      "weighted avg       0.83      0.80      0.79       399\n",
      "\n"
     ]
    }
   ],
   "source": [
    "print(metrics.classification_report(y_train, y_pred2))"
   ]
  },
  {
   "cell_type": "code",
   "execution_count": 28,
   "id": "eb6adfdb",
   "metadata": {},
   "outputs": [
    {
     "data": {
      "text/plain": [
       "(231, 6, 73, 89)"
      ]
     },
     "execution_count": 28,
     "metadata": {},
     "output_type": "execute_result"
    }
   ],
   "source": [
    "tn, fp, fn, tp = metrics.confusion_matrix(y_train, y_pred2).ravel()\n",
    "tn, fp, fn, tp"
   ]
  },
  {
   "cell_type": "code",
   "execution_count": 29,
   "id": "8cad2795",
   "metadata": {},
   "outputs": [
    {
     "data": {
      "text/plain": [
       "0.5493827160493827"
      ]
     },
     "execution_count": 29,
     "metadata": {},
     "output_type": "execute_result"
    }
   ],
   "source": [
    "#true positive rate\n",
    "\n",
    "tp/(tp+fn)"
   ]
  },
  {
   "cell_type": "code",
   "execution_count": 30,
   "id": "4f5fc35f",
   "metadata": {},
   "outputs": [
    {
     "data": {
      "text/plain": [
       "0.06315789473684211"
      ]
     },
     "execution_count": 30,
     "metadata": {},
     "output_type": "execute_result"
    }
   ],
   "source": [
    "# false positive rate\n",
    "\n",
    "fp/(fp+tp)"
   ]
  },
  {
   "cell_type": "code",
   "execution_count": 31,
   "id": "48570acb",
   "metadata": {},
   "outputs": [
    {
     "data": {
      "text/plain": [
       "0.9746835443037974"
      ]
     },
     "execution_count": 31,
     "metadata": {},
     "output_type": "execute_result"
    }
   ],
   "source": [
    "# true negative rate\n",
    "\n",
    "tn/(tn+fp)"
   ]
  },
  {
   "cell_type": "code",
   "execution_count": 32,
   "id": "b73cadcb",
   "metadata": {},
   "outputs": [
    {
     "data": {
      "text/plain": [
       "0.4506172839506173"
      ]
     },
     "execution_count": 32,
     "metadata": {},
     "output_type": "execute_result"
    }
   ],
   "source": [
    "# false negative rate\n",
    "\n",
    "fn/(fn+tp)"
   ]
  },
  {
   "cell_type": "code",
   "execution_count": 33,
   "id": "24cccd17",
   "metadata": {},
   "outputs": [
    {
     "data": {
      "text/plain": [
       "0.8020050125313283"
      ]
     },
     "execution_count": 33,
     "metadata": {},
     "output_type": "execute_result"
    }
   ],
   "source": [
    "# accuracy\n",
    "\n",
    "(tp+tn)/(tn + fp + fn + tp)"
   ]
  },
  {
   "cell_type": "code",
   "execution_count": 34,
   "id": "bb2b60ce",
   "metadata": {},
   "outputs": [
    {
     "name": "stdout",
     "output_type": "stream",
     "text": [
      "              precision    recall  f1-score   support\n",
      "\n",
      "           0       0.76      0.97      0.85       237\n",
      "           1       0.94      0.55      0.69       162\n",
      "\n",
      "    accuracy                           0.80       399\n",
      "   macro avg       0.85      0.76      0.77       399\n",
      "weighted avg       0.83      0.80      0.79       399\n",
      "\n"
     ]
    }
   ],
   "source": [
    "print(metrics.classification_report(y_train, y_pred2))"
   ]
  },
  {
   "cell_type": "markdown",
   "id": "5c5ae683",
   "metadata": {},
   "source": [
    "6.\n",
    "\n",
    "Which model performs better on your in-sample data?\n",
    "\n",
    "\n",
    "- Since there is not a high cost to false positive/negative, we can use the f1-score to evaluate the models.  THis means that the first model with a depth of 3 is better at the in-sample data"
   ]
  },
  {
   "cell_type": "markdown",
   "id": "aade64b0",
   "metadata": {},
   "source": [
    "7.\n",
    "\n",
    "Which model performs best on your out-of-sample data, the validate set?"
   ]
  },
  {
   "cell_type": "code",
   "execution_count": 35,
   "id": "ed5eb305",
   "metadata": {},
   "outputs": [],
   "source": [
    "X_validate = validate.drop(columns=['survived'])\n",
    "y_validate = validate.survived"
   ]
  },
  {
   "cell_type": "markdown",
   "id": "35f10873",
   "metadata": {},
   "source": [
    "- model 1"
   ]
  },
  {
   "cell_type": "code",
   "execution_count": 36,
   "id": "083b12c7",
   "metadata": {},
   "outputs": [
    {
     "name": "stdout",
     "output_type": "stream",
     "text": [
      "Accuracy of Decision Tree classifier on validate set: 0.76\n"
     ]
    }
   ],
   "source": [
    "print('Accuracy of Decision Tree classifier on validate set: {:.2f}'\n",
    "     .format(clf.score(X_validate, y_validate)))\n"
   ]
  },
  {
   "cell_type": "code",
   "execution_count": 37,
   "id": "9e9abacb",
   "metadata": {},
   "outputs": [
    {
     "name": "stdout",
     "output_type": "stream",
     "text": [
      "              precision    recall  f1-score   support\n",
      "\n",
      "           0       0.75      0.89      0.81        85\n",
      "           1       0.78      0.55      0.65        58\n",
      "\n",
      "    accuracy                           0.76       143\n",
      "   macro avg       0.76      0.72      0.73       143\n",
      "weighted avg       0.76      0.76      0.75       143\n",
      "\n"
     ]
    }
   ],
   "source": [
    "y_pred = clf.predict(X_validate)\n",
    "\n",
    "print(metrics.classification_report(y_validate, y_pred))"
   ]
  },
  {
   "cell_type": "markdown",
   "id": "f427be11",
   "metadata": {},
   "source": [
    "- model 2"
   ]
  },
  {
   "cell_type": "code",
   "execution_count": 38,
   "id": "c1fff487",
   "metadata": {},
   "outputs": [
    {
     "name": "stdout",
     "output_type": "stream",
     "text": [
      "Accuracy of Decision Tree classifier on validate set: 0.77\n"
     ]
    }
   ],
   "source": [
    "print('Accuracy of Decision Tree classifier on validate set: {:.2f}'\n",
    "     .format(clf2.score(X_validate, y_validate)))\n"
   ]
  },
  {
   "cell_type": "code",
   "execution_count": 39,
   "id": "a3ee4de5",
   "metadata": {},
   "outputs": [
    {
     "name": "stdout",
     "output_type": "stream",
     "text": [
      "              precision    recall  f1-score   support\n",
      "\n",
      "           0       0.72      0.99      0.84        85\n",
      "           1       0.96      0.45      0.61        58\n",
      "\n",
      "    accuracy                           0.77       143\n",
      "   macro avg       0.84      0.72      0.72       143\n",
      "weighted avg       0.82      0.77      0.74       143\n",
      "\n"
     ]
    }
   ],
   "source": [
    "y_pred2 = clf2.predict(X_validate)\n",
    "\n",
    "print(metrics.classification_report(y_validate, y_pred2))"
   ]
  },
  {
   "cell_type": "markdown",
   "id": "f04270a3",
   "metadata": {},
   "source": [
    "Both seem pretty similar. model2 seems like a more precise model when predicting survival, so it would be preferred.  In addition, it's overall f1-score is higher, so it might be an overall good middle ground."
   ]
  },
  {
   "cell_type": "markdown",
   "id": "8b6ff72d",
   "metadata": {},
   "source": [
    "### telco data set"
   ]
  },
  {
   "cell_type": "code",
   "execution_count": 40,
   "id": "15a7fa67",
   "metadata": {},
   "outputs": [],
   "source": [
    "df_telco = a.get_telco_data()\n",
    "telco_train, t_validate, t_test = p.split_telco_data(df_telco)"
   ]
  },
  {
   "cell_type": "code",
   "execution_count": 41,
   "id": "527a173a",
   "metadata": {},
   "outputs": [
    {
     "name": "stdout",
     "output_type": "stream",
     "text": [
      "<class 'pandas.core.frame.DataFrame'>\n",
      "Int64Index: 3937 entries, 858 to 3756\n",
      "Data columns (total 48 columns):\n",
      " #   Column                                 Non-Null Count  Dtype  \n",
      "---  ------                                 --------------  -----  \n",
      " 0   customer_id                            3937 non-null   object \n",
      " 1   gender                                 3937 non-null   object \n",
      " 2   senior_citizen                         3937 non-null   int64  \n",
      " 3   partner                                3937 non-null   object \n",
      " 4   dependents                             3937 non-null   object \n",
      " 5   tenure                                 3937 non-null   int64  \n",
      " 6   phone_service                          3937 non-null   object \n",
      " 7   multiple_lines                         3937 non-null   object \n",
      " 8   online_security                        3937 non-null   object \n",
      " 9   online_backup                          3937 non-null   object \n",
      " 10  device_protection                      3937 non-null   object \n",
      " 11  tech_support                           3937 non-null   object \n",
      " 12  streaming_tv                           3937 non-null   object \n",
      " 13  streaming_movies                       3937 non-null   object \n",
      " 14  paperless_billing                      3937 non-null   object \n",
      " 15  monthly_charges                        3937 non-null   float64\n",
      " 16  total_charges                          3937 non-null   float64\n",
      " 17  churn                                  3937 non-null   object \n",
      " 18  contract_type                          3937 non-null   object \n",
      " 19  payment_type                           3937 non-null   object \n",
      " 20  internet_service_type                  3937 non-null   object \n",
      " 21  gender_Male                            3937 non-null   uint8  \n",
      " 22  partner_Yes                            3937 non-null   uint8  \n",
      " 23  dependents_Yes                         3937 non-null   uint8  \n",
      " 24  phone_service_Yes                      3937 non-null   uint8  \n",
      " 25  multiple_lines_No phone service        3937 non-null   uint8  \n",
      " 26  multiple_lines_Yes                     3937 non-null   uint8  \n",
      " 27  online_security_No internet service    3937 non-null   uint8  \n",
      " 28  online_security_Yes                    3937 non-null   uint8  \n",
      " 29  online_backup_No internet service      3937 non-null   uint8  \n",
      " 30  online_backup_Yes                      3937 non-null   uint8  \n",
      " 31  device_protection_No internet service  3937 non-null   uint8  \n",
      " 32  device_protection_Yes                  3937 non-null   uint8  \n",
      " 33  tech_support_No internet service       3937 non-null   uint8  \n",
      " 34  tech_support_Yes                       3937 non-null   uint8  \n",
      " 35  streaming_tv_No internet service       3937 non-null   uint8  \n",
      " 36  streaming_tv_Yes                       3937 non-null   uint8  \n",
      " 37  streaming_movies_No internet service   3937 non-null   uint8  \n",
      " 38  streaming_movies_Yes                   3937 non-null   uint8  \n",
      " 39  paperless_billing_Yes                  3937 non-null   uint8  \n",
      " 40  churn_Yes                              3937 non-null   uint8  \n",
      " 41  contract_type_One year                 3937 non-null   uint8  \n",
      " 42  contract_type_Two year                 3937 non-null   uint8  \n",
      " 43  payment_type_Credit card (automatic)   3937 non-null   uint8  \n",
      " 44  payment_type_Electronic check          3937 non-null   uint8  \n",
      " 45  payment_type_Mailed check              3937 non-null   uint8  \n",
      " 46  internet_service_type_Fiber optic      3937 non-null   uint8  \n",
      " 47  internet_service_type_None             3937 non-null   uint8  \n",
      "dtypes: float64(2), int64(2), object(17), uint8(27)\n",
      "memory usage: 780.5+ KB\n"
     ]
    }
   ],
   "source": [
    "telco_train.info()"
   ]
  },
  {
   "cell_type": "markdown",
   "id": "cd6e0386",
   "metadata": {},
   "source": [
    "make a baseline model"
   ]
  },
  {
   "cell_type": "code",
   "execution_count": 42,
   "id": "d4512dfa",
   "metadata": {},
   "outputs": [
    {
     "data": {
      "text/plain": [
       "0.2656845313690627"
      ]
     },
     "execution_count": 42,
     "metadata": {},
     "output_type": "execute_result"
    }
   ],
   "source": [
    "(telco_train.churn == 'Yes').mean()"
   ]
  },
  {
   "cell_type": "code",
   "execution_count": 43,
   "id": "7391d501",
   "metadata": {},
   "outputs": [
    {
     "data": {
      "text/plain": [
       "0       0\n",
       "1       0\n",
       "2       0\n",
       "3       0\n",
       "4       0\n",
       "       ..\n",
       "3932    0\n",
       "3933    0\n",
       "3934    0\n",
       "3935    0\n",
       "3936    0\n",
       "Length: 3937, dtype: int64"
      ]
     },
     "execution_count": 43,
     "metadata": {},
     "output_type": "execute_result"
    }
   ],
   "source": [
    "#most of the customers do not churn. baseline model is no one churns\n",
    "baseline_prediction = telco_train.churn_Yes.value_counts().idxmax()\n",
    "baseline_model = pd.Series([baseline_prediction for x in range(telco_train.shape[0])])\n",
    "baseline_model"
   ]
  },
  {
   "cell_type": "markdown",
   "id": "067229da",
   "metadata": {},
   "source": [
    "baseline prediction is a customer does not churn"
   ]
  },
  {
   "cell_type": "code",
   "execution_count": 44,
   "id": "f4cf3c82",
   "metadata": {},
   "outputs": [
    {
     "name": "stderr",
     "output_type": "stream",
     "text": [
      "/opt/homebrew/anaconda3/lib/python3.9/site-packages/sklearn/metrics/_classification.py:1248: UndefinedMetricWarning: Precision and F-score are ill-defined and being set to 0.0 in labels with no predicted samples. Use `zero_division` parameter to control this behavior.\n",
      "  _warn_prf(average, modifier, msg_start, len(result))\n",
      "/opt/homebrew/anaconda3/lib/python3.9/site-packages/sklearn/metrics/_classification.py:1248: UndefinedMetricWarning: Precision and F-score are ill-defined and being set to 0.0 in labels with no predicted samples. Use `zero_division` parameter to control this behavior.\n",
      "  _warn_prf(average, modifier, msg_start, len(result))\n",
      "/opt/homebrew/anaconda3/lib/python3.9/site-packages/sklearn/metrics/_classification.py:1248: UndefinedMetricWarning: Precision and F-score are ill-defined and being set to 0.0 in labels with no predicted samples. Use `zero_division` parameter to control this behavior.\n",
      "  _warn_prf(average, modifier, msg_start, len(result))\n"
     ]
    },
    {
     "data": {
      "text/html": [
       "<div>\n",
       "<style scoped>\n",
       "    .dataframe tbody tr th:only-of-type {\n",
       "        vertical-align: middle;\n",
       "    }\n",
       "\n",
       "    .dataframe tbody tr th {\n",
       "        vertical-align: top;\n",
       "    }\n",
       "\n",
       "    .dataframe thead th {\n",
       "        text-align: right;\n",
       "    }\n",
       "</style>\n",
       "<table border=\"1\" class=\"dataframe\">\n",
       "  <thead>\n",
       "    <tr style=\"text-align: right;\">\n",
       "      <th></th>\n",
       "      <th>precision</th>\n",
       "      <th>recall</th>\n",
       "      <th>f1-score</th>\n",
       "      <th>support</th>\n",
       "    </tr>\n",
       "  </thead>\n",
       "  <tbody>\n",
       "    <tr>\n",
       "      <th>0</th>\n",
       "      <td>0.734315</td>\n",
       "      <td>1.000000</td>\n",
       "      <td>0.846807</td>\n",
       "      <td>2891.000000</td>\n",
       "    </tr>\n",
       "    <tr>\n",
       "      <th>1</th>\n",
       "      <td>0.000000</td>\n",
       "      <td>0.000000</td>\n",
       "      <td>0.000000</td>\n",
       "      <td>1046.000000</td>\n",
       "    </tr>\n",
       "    <tr>\n",
       "      <th>accuracy</th>\n",
       "      <td>0.734315</td>\n",
       "      <td>0.734315</td>\n",
       "      <td>0.734315</td>\n",
       "      <td>0.734315</td>\n",
       "    </tr>\n",
       "    <tr>\n",
       "      <th>macro avg</th>\n",
       "      <td>0.367158</td>\n",
       "      <td>0.500000</td>\n",
       "      <td>0.423404</td>\n",
       "      <td>3937.000000</td>\n",
       "    </tr>\n",
       "    <tr>\n",
       "      <th>weighted avg</th>\n",
       "      <td>0.539219</td>\n",
       "      <td>0.734315</td>\n",
       "      <td>0.621824</td>\n",
       "      <td>3937.000000</td>\n",
       "    </tr>\n",
       "  </tbody>\n",
       "</table>\n",
       "</div>"
      ],
      "text/plain": [
       "              precision    recall  f1-score      support\n",
       "0              0.734315  1.000000  0.846807  2891.000000\n",
       "1              0.000000  0.000000  0.000000  1046.000000\n",
       "accuracy       0.734315  0.734315  0.734315     0.734315\n",
       "macro avg      0.367158  0.500000  0.423404  3937.000000\n",
       "weighted avg   0.539219  0.734315  0.621824  3937.000000"
      ]
     },
     "execution_count": 44,
     "metadata": {},
     "output_type": "execute_result"
    }
   ],
   "source": [
    "pd.DataFrame(metrics.classification_report(telco_train.churn_Yes, baseline_model, labels = [0, 1], output_dict=True)).T\n"
   ]
  },
  {
   "cell_type": "markdown",
   "id": "a81f6fd0",
   "metadata": {},
   "source": [
    "baseline accuracy is about 0.73"
   ]
  },
  {
   "cell_type": "markdown",
   "id": "7d316fce",
   "metadata": {},
   "source": [
    "make a model and fit it to the data\n"
   ]
  },
  {
   "cell_type": "code",
   "execution_count": 45,
   "id": "61276ad9",
   "metadata": {},
   "outputs": [],
   "source": [
    "X_telco_train = telco_train.select_dtypes(exclude = 'object').drop(columns = 'churn_Yes')\n",
    "y_telco_train = telco_train.churn_Yes\n",
    "\n",
    "clf_telco = DecisionTreeClassifier(max_depth = 2, random_state = 321)\n",
    "\n",
    "cfl_telco = clf_telco.fit(X_telco_train, y_telco_train)"
   ]
  },
  {
   "cell_type": "code",
   "execution_count": 46,
   "id": "06396eb0",
   "metadata": {},
   "outputs": [
    {
     "data": {
      "text/plain": [
       "[Text(418.5, 679.5, 'tenure <= 17.5\\ngini = 0.39\\nsamples = 3937\\nvalue = [2891, 1046]\\nclass = no churn'),\n",
       " Text(209.25, 407.69999999999993, 'internet_service_type_Fiber optic <= 0.5\\ngini = 0.496\\nsamples = 1446\\nvalue = [787, 659]\\nclass = no churn'),\n",
       " Text(104.625, 135.89999999999998, 'gini = 0.395\\nsamples = 801\\nvalue = [584, 217]\\nclass = no churn'),\n",
       " Text(313.875, 135.89999999999998, 'gini = 0.431\\nsamples = 645\\nvalue = [203, 442]\\nclass = churn'),\n",
       " Text(627.75, 407.69999999999993, 'internet_service_type_Fiber optic <= 0.5\\ngini = 0.262\\nsamples = 2491\\nvalue = [2104, 387]\\nclass = no churn'),\n",
       " Text(523.125, 135.89999999999998, 'gini = 0.115\\nsamples = 1368\\nvalue = [1284, 84]\\nclass = no churn'),\n",
       " Text(732.375, 135.89999999999998, 'gini = 0.394\\nsamples = 1123\\nvalue = [820, 303]\\nclass = no churn')]"
      ]
     },
     "execution_count": 46,
     "metadata": {},
     "output_type": "execute_result"
    },
    {
     "data": {
      "image/png": "[encoded data removed]",
      "text/plain": [
       "<Figure size 1080x1080 with 1 Axes>"
      ]
     },
     "metadata": {
      "needs_background": "light"
     },
     "output_type": "display_data"
    }
   ],
   "source": [
    "plt.figure(figsize=(15, 15))\n",
    "plot_tree(clf_telco, feature_names = X_telco_train.columns, class_names = np.array(['no churn', 'churn']), rounded=True)"
   ]
  },
  {
   "cell_type": "code",
   "execution_count": 47,
   "id": "b97ec48d",
   "metadata": {},
   "outputs": [
    {
     "data": {
      "text/plain": [
       "array([0, 0, 1, 0, 0], dtype=uint8)"
      ]
     },
     "execution_count": 47,
     "metadata": {},
     "output_type": "execute_result"
    }
   ],
   "source": [
    "#predict using the training set\n",
    "# make predictions using the training data\n",
    "y_pred_telco = clf_telco.predict(X_telco_train)\n",
    "y_pred_telco[0:5]"
   ]
  },
  {
   "cell_type": "code",
   "execution_count": 48,
   "id": "04cb8ed3",
   "metadata": {},
   "outputs": [
    {
     "data": {
      "text/plain": [
       "array([[0.72908864, 0.27091136],\n",
       "       [0.93859649, 0.06140351],\n",
       "       [0.31472868, 0.68527132],\n",
       "       [0.93859649, 0.06140351],\n",
       "       [0.730187  , 0.269813  ]])"
      ]
     },
     "execution_count": 48,
     "metadata": {},
     "output_type": "execute_result"
    }
   ],
   "source": [
    "y_pred_prob_telco = clf_telco.predict_proba(X_telco_train)\n",
    "y_pred_prob_telco[0:5]"
   ]
  },
  {
   "cell_type": "code",
   "execution_count": 49,
   "id": "a352053a",
   "metadata": {},
   "outputs": [
    {
     "data": {
      "text/html": [
       "<div>\n",
       "<style scoped>\n",
       "    .dataframe tbody tr th:only-of-type {\n",
       "        vertical-align: middle;\n",
       "    }\n",
       "\n",
       "    .dataframe tbody tr th {\n",
       "        vertical-align: top;\n",
       "    }\n",
       "\n",
       "    .dataframe thead th {\n",
       "        text-align: right;\n",
       "    }\n",
       "</style>\n",
       "<table border=\"1\" class=\"dataframe\">\n",
       "  <thead>\n",
       "    <tr style=\"text-align: right;\">\n",
       "      <th></th>\n",
       "      <th>0</th>\n",
       "      <th>1</th>\n",
       "    </tr>\n",
       "  </thead>\n",
       "  <tbody>\n",
       "    <tr>\n",
       "      <th>0</th>\n",
       "      <td>2688</td>\n",
       "      <td>203</td>\n",
       "    </tr>\n",
       "    <tr>\n",
       "      <th>1</th>\n",
       "      <td>604</td>\n",
       "      <td>442</td>\n",
       "    </tr>\n",
       "  </tbody>\n",
       "</table>\n",
       "</div>"
      ],
      "text/plain": [
       "      0    1\n",
       "0  2688  203\n",
       "1   604  442"
      ]
     },
     "execution_count": 49,
     "metadata": {},
     "output_type": "execute_result"
    }
   ],
   "source": [
    "#confusion matrix\n",
    "pd.DataFrame(metrics.confusion_matrix(y_telco_train, y_pred_telco))"
   ]
  },
  {
   "cell_type": "code",
   "execution_count": 50,
   "id": "ad89a86a",
   "metadata": {
    "scrolled": true
   },
   "outputs": [
    {
     "data": {
      "text/plain": [
       "0    2891\n",
       "1    1046\n",
       "Name: churn_Yes, dtype: int64"
      ]
     },
     "execution_count": 50,
     "metadata": {},
     "output_type": "execute_result"
    }
   ],
   "source": [
    "y_telco_train.value_counts()"
   ]
  },
  {
   "cell_type": "code",
   "execution_count": 51,
   "id": "4979f055",
   "metadata": {},
   "outputs": [
    {
     "name": "stdout",
     "output_type": "stream",
     "text": [
      "tp_rate = 0.4225621414913958\n",
      "tn_rate = 0.9297820823244553\n",
      "fp_rate = 0.3147286821705426\n",
      "fn_rate = 0.18347509113001215\n",
      "acc = 0.7950215900431801\n"
     ]
    }
   ],
   "source": [
    "tn, fp, fn, tp = metrics.confusion_matrix(y_telco_train, y_pred_telco).ravel()\n",
    "\n",
    "tp_rate = tp/(fn+tp)\n",
    "tn_rate = tn/(fp+tn)\n",
    "fp_rate = fp/(fp+tp)\n",
    "fn_rate = fn/(fn+tn)\n",
    "accuracy = (tp+tn)/(tp+tn+fn+fp)\n",
    "\n",
    "print(f\"tp_rate = {tp_rate}\\ntn_rate = {tn_rate}\\nfp_rate = {fp_rate}\\nfn_rate = {fn_rate}\\nacc = {accuracy}\")"
   ]
  },
  {
   "cell_type": "code",
   "execution_count": 52,
   "id": "c70ae3bc",
   "metadata": {},
   "outputs": [
    {
     "name": "stdout",
     "output_type": "stream",
     "text": [
      "              precision    recall  f1-score   support\n",
      "\n",
      "           0       0.82      0.93      0.87      2891\n",
      "           1       0.69      0.42      0.52      1046\n",
      "\n",
      "    accuracy                           0.80      3937\n",
      "   macro avg       0.75      0.68      0.70      3937\n",
      "weighted avg       0.78      0.80      0.78      3937\n",
      "\n"
     ]
    }
   ],
   "source": [
    "print(metrics.classification_report(y_telco_train, y_pred_telco))"
   ]
  },
  {
   "cell_type": "code",
   "execution_count": 53,
   "id": "fd3e5307",
   "metadata": {},
   "outputs": [
    {
     "data": {
      "text/plain": [
       "'Accuracy of Decision Tree Classifier on train set: 0.7950215900431801'"
      ]
     },
     "execution_count": 53,
     "metadata": {},
     "output_type": "execute_result"
    }
   ],
   "source": [
    "f\"Accuracy of Decision Tree Classifier on train set: {clf_telco.score(X_telco_train, y_telco_train)}\""
   ]
  },
  {
   "cell_type": "markdown",
   "id": "5f7d8a31",
   "metadata": {},
   "source": [
    "make a second model with more depth.  maybe this won't overfit because there are so many variables"
   ]
  },
  {
   "cell_type": "code",
   "execution_count": 54,
   "id": "8a18025b",
   "metadata": {
    "scrolled": false
   },
   "outputs": [
    {
     "data": {
      "text/plain": [
       "[Text(583.155737704918, 996.6, 'tenure <= 17.5\\ngini = 0.39\\nsamples = 3937\\nvalue = [2891, 1046]\\nclass = no churn'),\n",
       " Text(292.72131147540983, 815.4000000000001, 'internet_service_type_Fiber optic <= 0.5\\ngini = 0.496\\nsamples = 1446\\nvalue = [787, 659]\\nclass = no churn'),\n",
       " Text(146.36065573770492, 634.2, 'tenure <= 3.5\\ngini = 0.395\\nsamples = 801\\nvalue = [584, 217]\\nclass = no churn'),\n",
       " Text(73.18032786885246, 453.0, 'online_backup_No internet service <= 0.5\\ngini = 0.481\\nsamples = 325\\nvalue = [194, 131]\\nclass = no churn'),\n",
       " Text(36.59016393442623, 271.79999999999995, 'total_charges <= 193.5\\ngini = 0.497\\nsamples = 183\\nvalue = [85, 98]\\nclass = churn'),\n",
       " Text(18.295081967213115, 90.59999999999991, 'gini = 0.494\\nsamples = 177\\nvalue = [79, 98]\\nclass = churn'),\n",
       " Text(54.885245901639344, 90.59999999999991, 'gini = 0.0\\nsamples = 6\\nvalue = [6, 0]\\nclass = no churn'),\n",
       " Text(109.77049180327869, 271.79999999999995, 'total_charges <= 20.175\\ngini = 0.357\\nsamples = 142\\nvalue = [109, 33]\\nclass = no churn'),\n",
       " Text(91.47540983606558, 90.59999999999991, 'gini = 0.462\\nsamples = 58\\nvalue = [37, 21]\\nclass = no churn'),\n",
       " Text(128.0655737704918, 90.59999999999991, 'gini = 0.245\\nsamples = 84\\nvalue = [72, 12]\\nclass = no churn'),\n",
       " Text(219.54098360655738, 453.0, 'internet_service_type_None <= 0.5\\ngini = 0.296\\nsamples = 476\\nvalue = [390, 86]\\nclass = no churn'),\n",
       " Text(182.95081967213116, 271.79999999999995, 'total_charges <= 311.825\\ngini = 0.367\\nsamples = 281\\nvalue = [213, 68]\\nclass = no churn'),\n",
       " Text(164.65573770491804, 90.59999999999991, 'gini = 0.463\\nsamples = 77\\nvalue = [49, 28]\\nclass = no churn'),\n",
       " Text(201.24590163934425, 90.59999999999991, 'gini = 0.315\\nsamples = 204\\nvalue = [164, 40]\\nclass = no churn'),\n",
       " Text(256.1311475409836, 271.79999999999995, 'monthly_charges <= 25.8\\ngini = 0.168\\nsamples = 195\\nvalue = [177, 18]\\nclass = no churn'),\n",
       " Text(237.8360655737705, 90.59999999999991, 'gini = 0.16\\nsamples = 194\\nvalue = [177, 17]\\nclass = no churn'),\n",
       " Text(274.42622950819674, 90.59999999999991, 'gini = 0.0\\nsamples = 1\\nvalue = [0, 1]\\nclass = churn'),\n",
       " Text(439.08196721311475, 634.2, 'total_charges <= 121.775\\ngini = 0.431\\nsamples = 645\\nvalue = [203, 442]\\nclass = churn'),\n",
       " Text(365.9016393442623, 453.0, 'total_charges <= 75.2\\ngini = 0.211\\nsamples = 142\\nvalue = [17, 125]\\nclass = churn'),\n",
       " Text(329.3114754098361, 271.79999999999995, 'monthly_charges <= 69.925\\ngini = 0.306\\nsamples = 69\\nvalue = [13, 56]\\nclass = churn'),\n",
       " Text(311.0163934426229, 90.59999999999991, 'gini = 0.0\\nsamples = 23\\nvalue = [0, 23]\\nclass = churn'),\n",
       " Text(347.60655737704917, 90.59999999999991, 'gini = 0.405\\nsamples = 46\\nvalue = [13, 33]\\nclass = churn'),\n",
       " Text(402.4918032786885, 271.79999999999995, 'tech_support_Yes <= 0.5\\ngini = 0.104\\nsamples = 73\\nvalue = [4, 69]\\nclass = churn'),\n",
       " Text(384.1967213114754, 90.59999999999991, 'gini = 0.082\\nsamples = 70\\nvalue = [3, 67]\\nclass = churn'),\n",
       " Text(420.78688524590166, 90.59999999999991, 'gini = 0.444\\nsamples = 3\\nvalue = [1, 2]\\nclass = churn'),\n",
       " Text(512.2622950819672, 453.0, 'monthly_charges <= 71.625\\ngini = 0.466\\nsamples = 503\\nvalue = [186, 317]\\nclass = churn'),\n",
       " Text(475.672131147541, 271.79999999999995, 'gender_Male <= 0.5\\ngini = 0.481\\nsamples = 57\\nvalue = [34, 23]\\nclass = no churn'),\n",
       " Text(457.37704918032784, 90.59999999999991, 'gini = 0.499\\nsamples = 27\\nvalue = [13, 14]\\nclass = churn'),\n",
       " Text(493.9672131147541, 90.59999999999991, 'gini = 0.42\\nsamples = 30\\nvalue = [21, 9]\\nclass = no churn'),\n",
       " Text(548.8524590163935, 271.79999999999995, 'total_charges <= 1595.45\\ngini = 0.449\\nsamples = 446\\nvalue = [152, 294]\\nclass = churn'),\n",
       " Text(530.5573770491803, 90.59999999999991, 'gini = 0.443\\nsamples = 437\\nvalue = [145, 292]\\nclass = churn'),\n",
       " Text(567.1475409836065, 90.59999999999991, 'gini = 0.346\\nsamples = 9\\nvalue = [7, 2]\\nclass = no churn'),\n",
       " Text(873.5901639344262, 815.4000000000001, 'internet_service_type_Fiber optic <= 0.5\\ngini = 0.262\\nsamples = 2491\\nvalue = [2104, 387]\\nclass = no churn'),\n",
       " Text(731.8032786885246, 634.2, 'contract_type_Two year <= 0.5\\ngini = 0.115\\nsamples = 1368\\nvalue = [1284, 84]\\nclass = no churn'),\n",
       " Text(658.6229508196722, 453.0, 'internet_service_type_None <= 0.5\\ngini = 0.182\\nsamples = 722\\nvalue = [649, 73]\\nclass = no churn'),\n",
       " Text(622.0327868852459, 271.79999999999995, 'total_charges <= 1241.35\\ngini = 0.226\\nsamples = 538\\nvalue = [468, 70]\\nclass = no churn'),\n",
       " Text(603.7377049180328, 90.59999999999991, 'gini = 0.378\\nsamples = 95\\nvalue = [71, 24]\\nclass = no churn'),\n",
       " Text(640.327868852459, 90.59999999999991, 'gini = 0.186\\nsamples = 443\\nvalue = [397, 46]\\nclass = no churn'),\n",
       " Text(695.2131147540983, 271.79999999999995, 'tenure <= 55.5\\ngini = 0.032\\nsamples = 184\\nvalue = [181, 3]\\nclass = no churn'),\n",
       " Text(676.9180327868852, 90.59999999999991, 'gini = 0.012\\nsamples = 159\\nvalue = [158, 1]\\nclass = no churn'),\n",
       " Text(713.5081967213115, 90.59999999999991, 'gini = 0.147\\nsamples = 25\\nvalue = [23, 2]\\nclass = no churn'),\n",
       " Text(804.983606557377, 453.0, 'senior_citizen <= 0.5\\ngini = 0.033\\nsamples = 646\\nvalue = [635, 11]\\nclass = no churn'),\n",
       " Text(768.3934426229508, 271.79999999999995, 'payment_type_Electronic check <= 0.5\\ngini = 0.026\\nsamples = 613\\nvalue = [605, 8]\\nclass = no churn'),\n",
       " Text(750.0983606557377, 90.59999999999991, 'gini = 0.017\\nsamples = 568\\nvalue = [563, 5]\\nclass = no churn'),\n",
       " Text(786.688524590164, 90.59999999999991, 'gini = 0.124\\nsamples = 45\\nvalue = [42, 3]\\nclass = no churn'),\n",
       " Text(841.5737704918033, 271.79999999999995, 'monthly_charges <= 91.3\\ngini = 0.165\\nsamples = 33\\nvalue = [30, 3]\\nclass = no churn'),\n",
       " Text(823.2786885245902, 90.59999999999991, 'gini = 0.117\\nsamples = 32\\nvalue = [30, 2]\\nclass = no churn'),\n",
       " Text(859.8688524590164, 90.59999999999991, 'gini = 0.0\\nsamples = 1\\nvalue = [0, 1]\\nclass = churn'),\n",
       " Text(1015.3770491803278, 634.2, 'contract_type_Two year <= 0.5\\ngini = 0.394\\nsamples = 1123\\nvalue = [820, 303]\\nclass = no churn'),\n",
       " Text(951.344262295082, 453.0, 'contract_type_One year <= 0.5\\ngini = 0.444\\nsamples = 867\\nvalue = [578, 289]\\nclass = no churn'),\n",
       " Text(914.7540983606557, 271.79999999999995, 'monthly_charges <= 94.025\\ngini = 0.479\\nsamples = 587\\nvalue = [353, 234]\\nclass = no churn'),\n",
       " Text(896.4590163934427, 90.59999999999991, 'gini = 0.433\\nsamples = 312\\nvalue = [213, 99]\\nclass = no churn'),\n",
       " Text(933.0491803278688, 90.59999999999991, 'gini = 0.5\\nsamples = 275\\nvalue = [140, 135]\\nclass = no churn'),\n",
       " Text(987.9344262295082, 271.79999999999995, 'monthly_charges <= 99.175\\ngini = 0.316\\nsamples = 280\\nvalue = [225, 55]\\nclass = no churn'),\n",
       " Text(969.639344262295, 90.59999999999991, 'gini = 0.163\\nsamples = 123\\nvalue = [112, 11]\\nclass = no churn'),\n",
       " Text(1006.2295081967213, 90.59999999999991, 'gini = 0.403\\nsamples = 157\\nvalue = [113, 44]\\nclass = no churn'),\n",
       " Text(1079.4098360655737, 453.0, 'total_charges <= 7725.025\\ngini = 0.103\\nsamples = 256\\nvalue = [242, 14]\\nclass = no churn'),\n",
       " Text(1061.1147540983607, 271.79999999999995, 'total_charges <= 7674.125\\ngini = 0.142\\nsamples = 182\\nvalue = [168, 14]\\nclass = no churn'),\n",
       " Text(1042.8196721311476, 90.59999999999991, 'gini = 0.118\\nsamples = 175\\nvalue = [164, 11]\\nclass = no churn'),\n",
       " Text(1079.4098360655737, 90.59999999999991, 'gini = 0.49\\nsamples = 7\\nvalue = [4, 3]\\nclass = no churn'),\n",
       " Text(1097.704918032787, 271.79999999999995, 'gini = 0.0\\nsamples = 74\\nvalue = [74, 0]\\nclass = no churn')]"
      ]
     },
     "execution_count": 54,
     "metadata": {},
     "output_type": "execute_result"
    },
    {
     "data": {
      "image/png": "[encoded data removed]",
      "text/plain": [
       "<Figure size 1440x1440 with 1 Axes>"
      ]
     },
     "metadata": {
      "needs_background": "light"
     },
     "output_type": "display_data"
    }
   ],
   "source": [
    "clf_telco2 = DecisionTreeClassifier(max_depth = 5, random_state=321)\n",
    "\n",
    "clf_telco2 = clf_telco2.fit(X_telco_train, y_telco_train)\n",
    "\n",
    "plt.figure(figsize=(20,20))\n",
    "plot_tree(clf_telco2, feature_names = X_telco_train.columns, class_names = np.array(['no churn', 'churn']), rounded=True)"
   ]
  },
  {
   "cell_type": "code",
   "execution_count": 55,
   "id": "4ebbcac1",
   "metadata": {},
   "outputs": [
    {
     "data": {
      "text/plain": [
       "0       0\n",
       "1       0\n",
       "2       1\n",
       "3       0\n",
       "4       0\n",
       "       ..\n",
       "3932    0\n",
       "3933    0\n",
       "3934    0\n",
       "3935    1\n",
       "3936    0\n",
       "Length: 3937, dtype: uint8"
      ]
     },
     "execution_count": 55,
     "metadata": {},
     "output_type": "execute_result"
    }
   ],
   "source": [
    "#now evaluate the model over the train set\n",
    "y_pred_telco2 = clf_telco2.predict(X_telco_train)\n",
    "pd.Series(y_pred_telco2)"
   ]
  },
  {
   "cell_type": "code",
   "execution_count": 56,
   "id": "168b78ac",
   "metadata": {},
   "outputs": [
    {
     "data": {
      "text/plain": [
       "array([[0.91237113, 0.08762887],\n",
       "       [0.99119718, 0.00880282],\n",
       "       [0.33180778, 0.66819222],\n",
       "       [0.99119718, 0.00880282],\n",
       "       [0.71974522, 0.28025478]])"
      ]
     },
     "execution_count": 56,
     "metadata": {},
     "output_type": "execute_result"
    }
   ],
   "source": [
    "y_pred_prob_telco2 = clf_telco2.predict_proba(X_telco_train)\n",
    "y_pred_prob_telco2[0:5]"
   ]
  },
  {
   "cell_type": "code",
   "execution_count": 57,
   "id": "938874d1",
   "metadata": {},
   "outputs": [
    {
     "data": {
      "text/html": [
       "<div>\n",
       "<style scoped>\n",
       "    .dataframe tbody tr th:only-of-type {\n",
       "        vertical-align: middle;\n",
       "    }\n",
       "\n",
       "    .dataframe tbody tr th {\n",
       "        vertical-align: top;\n",
       "    }\n",
       "\n",
       "    .dataframe thead th {\n",
       "        text-align: right;\n",
       "    }\n",
       "</style>\n",
       "<table border=\"1\" class=\"dataframe\">\n",
       "  <thead>\n",
       "    <tr style=\"text-align: right;\">\n",
       "      <th></th>\n",
       "      <th>0</th>\n",
       "      <th>1</th>\n",
       "    </tr>\n",
       "  </thead>\n",
       "  <tbody>\n",
       "    <tr>\n",
       "      <th>0</th>\n",
       "      <td>2637</td>\n",
       "      <td>254</td>\n",
       "    </tr>\n",
       "    <tr>\n",
       "      <th>1</th>\n",
       "      <td>515</td>\n",
       "      <td>531</td>\n",
       "    </tr>\n",
       "  </tbody>\n",
       "</table>\n",
       "</div>"
      ],
      "text/plain": [
       "      0    1\n",
       "0  2637  254\n",
       "1   515  531"
      ]
     },
     "execution_count": 57,
     "metadata": {},
     "output_type": "execute_result"
    }
   ],
   "source": [
    "pd.DataFrame(metrics.confusion_matrix(y_telco_train, y_pred_telco2))"
   ]
  },
  {
   "cell_type": "code",
   "execution_count": 58,
   "id": "8582ee62",
   "metadata": {},
   "outputs": [
    {
     "name": "stdout",
     "output_type": "stream",
     "text": [
      "tp_rate = 0.5076481835564054\n",
      "tn_rate = 0.9121411276374957\n",
      "fp_rate = 0.3235668789808917\n",
      "fn_rate = 0.16338832487309646\n",
      "acc = 0.8046736093472187\n"
     ]
    }
   ],
   "source": [
    "tn, fp, fn, tp = metrics.confusion_matrix(y_telco_train, y_pred_telco2).ravel()\n",
    "\n",
    "tp_rate = tp/(fn+tp)\n",
    "tn_rate = tn/(fp+tn)\n",
    "fp_rate = fp/(fp+tp)\n",
    "fn_rate = fn/(fn+tn)\n",
    "accuracy = (tp+tn)/(tp+tn+fn+fp)\n",
    "\n",
    "print(f\"tp_rate = {tp_rate}\\ntn_rate = {tn_rate}\\nfp_rate = {fp_rate}\\nfn_rate = {fn_rate}\\nacc = {accuracy}\")"
   ]
  },
  {
   "cell_type": "code",
   "execution_count": 59,
   "id": "f3c8b453",
   "metadata": {},
   "outputs": [
    {
     "data": {
      "text/plain": [
       "'Accuracy of Decision Tree Model 2: 0.8046736093472187'"
      ]
     },
     "execution_count": 59,
     "metadata": {},
     "output_type": "execute_result"
    }
   ],
   "source": [
    "f\"Accuracy of Decision Tree Model 2: {clf_telco2.score(X_telco_train, y_telco_train)}\""
   ]
  },
  {
   "cell_type": "code",
   "execution_count": 60,
   "id": "ade1a198",
   "metadata": {},
   "outputs": [
    {
     "name": "stdout",
     "output_type": "stream",
     "text": [
      "              precision    recall  f1-score   support\n",
      "\n",
      "           0       0.84      0.91      0.87      2891\n",
      "           1       0.68      0.51      0.58      1046\n",
      "\n",
      "    accuracy                           0.80      3937\n",
      "   macro avg       0.76      0.71      0.73      3937\n",
      "weighted avg       0.79      0.80      0.79      3937\n",
      "\n"
     ]
    }
   ],
   "source": [
    "print(metrics.classification_report(y_telco_train, y_pred_telco2))"
   ]
  },
  {
   "cell_type": "markdown",
   "id": "a1521caf",
   "metadata": {},
   "source": [
    "now make predictions with validate data"
   ]
  },
  {
   "cell_type": "code",
   "execution_count": 61,
   "id": "b1df3602",
   "metadata": {},
   "outputs": [],
   "source": [
    "#make a validate set\n",
    "\n",
    "X_telco_val = t_validate.select_dtypes(exclude= 'object').drop(columns='churn_Yes')\n",
    "y_telco_val = t_validate.churn_Yes"
   ]
  },
  {
   "cell_type": "code",
   "execution_count": 62,
   "id": "da906de9",
   "metadata": {},
   "outputs": [
    {
     "name": "stdout",
     "output_type": "stream",
     "text": [
      "===========================================================\n",
      "model 1\n",
      "Accuracy of decision tree 1 on validate: 0.7839374555792467\n",
      "              precision    recall  f1-score   support\n",
      "\n",
      "           0       0.80      0.93      0.86      1033\n",
      "           1       0.67      0.37      0.48       374\n",
      "\n",
      "    accuracy                           0.78      1407\n",
      "   macro avg       0.74      0.65      0.67      1407\n",
      "weighted avg       0.77      0.78      0.76      1407\n",
      "\n",
      "===========================================================\n",
      "model 2\n",
      "Accuracy of decision tree 2 on validate: 0.7917555081734187\n",
      "              precision    recall  f1-score   support\n",
      "\n",
      "           0       0.82      0.91      0.87      1033\n",
      "           1       0.66      0.46      0.54       374\n",
      "\n",
      "    accuracy                           0.79      1407\n",
      "   macro avg       0.74      0.69      0.70      1407\n",
      "weighted avg       0.78      0.79      0.78      1407\n",
      "\n"
     ]
    }
   ],
   "source": [
    "#make predictions and spit out the accuracy and classification report\n",
    "\n",
    "models = [clf_telco, clf_telco2]\n",
    "for i, model in enumerate(models):\n",
    "    print(\"===========================================================\")\n",
    "    print(f\"model {i+1}\")\n",
    "    print(f\"Accuracy of decision tree {i+1} on validate: {model.score(X_telco_val, y_telco_val)}\")\n",
    "    y_pred = model.predict(X_telco_val)\n",
    "    print(metrics.classification_report(y_telco_val, y_pred))\n",
    "    "
   ]
  },
  {
   "cell_type": "markdown",
   "id": "97e56c27",
   "metadata": {},
   "source": [
    "We probably want to optimize recall on using churn as the positive case (since churn is so costly, it makes sense to try to keep as many customers as possible).  In this, the second model is better."
   ]
  },
  {
   "cell_type": "markdown",
   "id": "8c4b56bd",
   "metadata": {},
   "source": [
    "## random forest exs\n",
    "\n",
    "with titanic data set"
   ]
  },
  {
   "cell_type": "code",
   "execution_count": 63,
   "id": "a7cfdd37",
   "metadata": {},
   "outputs": [],
   "source": [
    "from sklearn.ensemble import RandomForestClassifier"
   ]
  },
  {
   "cell_type": "code",
   "execution_count": 64,
   "id": "d9ea2790",
   "metadata": {},
   "outputs": [
    {
     "data": {
      "text/html": [
       "<div>\n",
       "<style scoped>\n",
       "    .dataframe tbody tr th:only-of-type {\n",
       "        vertical-align: middle;\n",
       "    }\n",
       "\n",
       "    .dataframe tbody tr th {\n",
       "        vertical-align: top;\n",
       "    }\n",
       "\n",
       "    .dataframe thead th {\n",
       "        text-align: right;\n",
       "    }\n",
       "</style>\n",
       "<table border=\"1\" class=\"dataframe\">\n",
       "  <thead>\n",
       "    <tr style=\"text-align: right;\">\n",
       "      <th></th>\n",
       "      <th>survived</th>\n",
       "      <th>pclass</th>\n",
       "      <th>age</th>\n",
       "      <th>sibsp</th>\n",
       "      <th>parch</th>\n",
       "      <th>fare</th>\n",
       "      <th>alone</th>\n",
       "      <th>sex_male</th>\n",
       "      <th>embark_town_Queenstown</th>\n",
       "      <th>embark_town_Southampton</th>\n",
       "    </tr>\n",
       "  </thead>\n",
       "  <tbody>\n",
       "    <tr>\n",
       "      <th>316</th>\n",
       "      <td>1</td>\n",
       "      <td>2</td>\n",
       "      <td>24.0</td>\n",
       "      <td>1</td>\n",
       "      <td>0</td>\n",
       "      <td>26.0000</td>\n",
       "      <td>0</td>\n",
       "      <td>0</td>\n",
       "      <td>0</td>\n",
       "      <td>1</td>\n",
       "    </tr>\n",
       "    <tr>\n",
       "      <th>329</th>\n",
       "      <td>1</td>\n",
       "      <td>1</td>\n",
       "      <td>16.0</td>\n",
       "      <td>0</td>\n",
       "      <td>1</td>\n",
       "      <td>57.9792</td>\n",
       "      <td>0</td>\n",
       "      <td>0</td>\n",
       "      <td>0</td>\n",
       "      <td>0</td>\n",
       "    </tr>\n",
       "    <tr>\n",
       "      <th>550</th>\n",
       "      <td>1</td>\n",
       "      <td>1</td>\n",
       "      <td>17.0</td>\n",
       "      <td>0</td>\n",
       "      <td>2</td>\n",
       "      <td>110.8833</td>\n",
       "      <td>0</td>\n",
       "      <td>1</td>\n",
       "      <td>0</td>\n",
       "      <td>0</td>\n",
       "    </tr>\n",
       "    <tr>\n",
       "      <th>363</th>\n",
       "      <td>0</td>\n",
       "      <td>3</td>\n",
       "      <td>35.0</td>\n",
       "      <td>0</td>\n",
       "      <td>0</td>\n",
       "      <td>7.0500</td>\n",
       "      <td>1</td>\n",
       "      <td>1</td>\n",
       "      <td>0</td>\n",
       "      <td>1</td>\n",
       "    </tr>\n",
       "    <tr>\n",
       "      <th>477</th>\n",
       "      <td>0</td>\n",
       "      <td>3</td>\n",
       "      <td>29.0</td>\n",
       "      <td>1</td>\n",
       "      <td>0</td>\n",
       "      <td>7.0458</td>\n",
       "      <td>0</td>\n",
       "      <td>1</td>\n",
       "      <td>0</td>\n",
       "      <td>1</td>\n",
       "    </tr>\n",
       "    <tr>\n",
       "      <th>...</th>\n",
       "      <td>...</td>\n",
       "      <td>...</td>\n",
       "      <td>...</td>\n",
       "      <td>...</td>\n",
       "      <td>...</td>\n",
       "      <td>...</td>\n",
       "      <td>...</td>\n",
       "      <td>...</td>\n",
       "      <td>...</td>\n",
       "      <td>...</td>\n",
       "    </tr>\n",
       "    <tr>\n",
       "      <th>788</th>\n",
       "      <td>1</td>\n",
       "      <td>3</td>\n",
       "      <td>1.0</td>\n",
       "      <td>1</td>\n",
       "      <td>2</td>\n",
       "      <td>20.5750</td>\n",
       "      <td>0</td>\n",
       "      <td>1</td>\n",
       "      <td>0</td>\n",
       "      <td>1</td>\n",
       "    </tr>\n",
       "    <tr>\n",
       "      <th>326</th>\n",
       "      <td>0</td>\n",
       "      <td>3</td>\n",
       "      <td>61.0</td>\n",
       "      <td>0</td>\n",
       "      <td>0</td>\n",
       "      <td>6.2375</td>\n",
       "      <td>1</td>\n",
       "      <td>1</td>\n",
       "      <td>0</td>\n",
       "      <td>1</td>\n",
       "    </tr>\n",
       "    <tr>\n",
       "      <th>288</th>\n",
       "      <td>1</td>\n",
       "      <td>2</td>\n",
       "      <td>42.0</td>\n",
       "      <td>0</td>\n",
       "      <td>0</td>\n",
       "      <td>13.0000</td>\n",
       "      <td>1</td>\n",
       "      <td>1</td>\n",
       "      <td>0</td>\n",
       "      <td>1</td>\n",
       "    </tr>\n",
       "    <tr>\n",
       "      <th>403</th>\n",
       "      <td>0</td>\n",
       "      <td>3</td>\n",
       "      <td>28.0</td>\n",
       "      <td>1</td>\n",
       "      <td>0</td>\n",
       "      <td>15.8500</td>\n",
       "      <td>0</td>\n",
       "      <td>1</td>\n",
       "      <td>0</td>\n",
       "      <td>1</td>\n",
       "    </tr>\n",
       "    <tr>\n",
       "      <th>105</th>\n",
       "      <td>0</td>\n",
       "      <td>3</td>\n",
       "      <td>28.0</td>\n",
       "      <td>0</td>\n",
       "      <td>0</td>\n",
       "      <td>7.8958</td>\n",
       "      <td>1</td>\n",
       "      <td>1</td>\n",
       "      <td>0</td>\n",
       "      <td>1</td>\n",
       "    </tr>\n",
       "  </tbody>\n",
       "</table>\n",
       "<p>399 rows × 10 columns</p>\n",
       "</div>"
      ],
      "text/plain": [
       "     survived  pclass   age  sibsp  parch      fare  alone  sex_male  \\\n",
       "316         1       2  24.0      1      0   26.0000      0         0   \n",
       "329         1       1  16.0      0      1   57.9792      0         0   \n",
       "550         1       1  17.0      0      2  110.8833      0         1   \n",
       "363         0       3  35.0      0      0    7.0500      1         1   \n",
       "477         0       3  29.0      1      0    7.0458      0         1   \n",
       "..        ...     ...   ...    ...    ...       ...    ...       ...   \n",
       "788         1       3   1.0      1      2   20.5750      0         1   \n",
       "326         0       3  61.0      0      0    6.2375      1         1   \n",
       "288         1       2  42.0      0      0   13.0000      1         1   \n",
       "403         0       3  28.0      1      0   15.8500      0         1   \n",
       "105         0       3  28.0      0      0    7.8958      1         1   \n",
       "\n",
       "     embark_town_Queenstown  embark_town_Southampton  \n",
       "316                       0                        1  \n",
       "329                       0                        0  \n",
       "550                       0                        0  \n",
       "363                       0                        1  \n",
       "477                       0                        1  \n",
       "..                      ...                      ...  \n",
       "788                       0                        1  \n",
       "326                       0                        1  \n",
       "288                       0                        1  \n",
       "403                       0                        1  \n",
       "105                       0                        1  \n",
       "\n",
       "[399 rows x 10 columns]"
      ]
     },
     "execution_count": 64,
     "metadata": {},
     "output_type": "execute_result"
    }
   ],
   "source": [
    "t_train, t_validate, t_test = p.split_titanic_data(a.get_titanic_data())\n",
    "t_train"
   ]
  },
  {
   "cell_type": "markdown",
   "id": "4d4741ff",
   "metadata": {},
   "source": [
    "1.\n",
    "\n",
    "\n",
    "Fit the Random Forest classifier to your training sample and transform (i.e. make predictions on the training sample) setting the random_state accordingly and setting min_samples_leaf = 1 and max_depth = 10."
   ]
  },
  {
   "cell_type": "code",
   "execution_count": 65,
   "id": "fa5a15f3",
   "metadata": {},
   "outputs": [],
   "source": [
    "# seperate out target variable\n",
    "X_titanic_train = t_train.drop(columns=['survived'])\n",
    "y_titanic_train = t_train.survived\n",
    "\n",
    "X_validate = t_validate.drop(columns=['survived'])\n",
    "y_validate = t_validate.survived\n",
    "\n",
    "X_test = t_test.drop(columns=['survived'])\n",
    "y_test = t_test.survived"
   ]
  },
  {
   "cell_type": "code",
   "execution_count": 66,
   "id": "9cfe3b7d",
   "metadata": {},
   "outputs": [
    {
     "data": {
      "text/plain": [
       "0    0\n",
       "dtype: int64"
      ]
     },
     "execution_count": 66,
     "metadata": {},
     "output_type": "execute_result"
    }
   ],
   "source": [
    "baseline = y_titanic_train.mode()\n",
    "baseline"
   ]
  },
  {
   "cell_type": "code",
   "execution_count": 67,
   "id": "20e53936",
   "metadata": {},
   "outputs": [
    {
     "data": {
      "text/plain": [
       "RandomForestClassifier(max_depth=10, random_state=135)"
      ]
     },
     "execution_count": 67,
     "metadata": {},
     "output_type": "execute_result"
    }
   ],
   "source": [
    "# train the model\n",
    "rf = RandomForestClassifier(min_samples_leaf = 1, max_depth=10, random_state=135)\n",
    "rf = rf.fit(X_titanic_train, y_titanic_train)\n",
    "rf"
   ]
  },
  {
   "cell_type": "code",
   "execution_count": 68,
   "id": "1bc9699e",
   "metadata": {},
   "outputs": [
    {
     "data": {
      "text/plain": [
       "array([1, 1, 1, 0, 0, 1, 0, 0, 0, 0])"
      ]
     },
     "execution_count": 68,
     "metadata": {},
     "output_type": "execute_result"
    }
   ],
   "source": [
    "# make predictions\n",
    "y_pred = rf.predict(X_titanic_train)\n",
    "y_pred[0:10]"
   ]
  },
  {
   "cell_type": "code",
   "execution_count": 69,
   "id": "37e4828f",
   "metadata": {},
   "outputs": [
    {
     "data": {
      "text/plain": [
       "array([[0.13644877, 0.86355123],\n",
       "       [0.03666667, 0.96333333],\n",
       "       [0.28878571, 0.71121429],\n",
       "       [0.9704651 , 0.0295349 ],\n",
       "       [0.95970713, 0.04029287],\n",
       "       [0.0118638 , 0.9881362 ],\n",
       "       [0.90092676, 0.09907324],\n",
       "       [0.88238068, 0.11761932],\n",
       "       [0.987     , 0.013     ],\n",
       "       [0.71864299, 0.28135701]])"
      ]
     },
     "execution_count": 69,
     "metadata": {},
     "output_type": "execute_result"
    }
   ],
   "source": [
    "y_pred_proba = rf.predict_proba(X_titanic_train)\n",
    "y_pred_proba[0:10]"
   ]
  },
  {
   "cell_type": "markdown",
   "id": "59e32bfb",
   "metadata": {},
   "source": [
    "2.\n",
    "\n",
    "Evaluate your results using the model score, confusion matrix, and classification report."
   ]
  },
  {
   "cell_type": "code",
   "execution_count": 70,
   "id": "c2b5f780",
   "metadata": {},
   "outputs": [
    {
     "name": "stdout",
     "output_type": "stream",
     "text": [
      "accuracy of random forest model: 0.9649122807017544\n"
     ]
    }
   ],
   "source": [
    "print(f\"accuracy of random forest model: {rf.score(X_titanic_train, y_titanic_train)}\")"
   ]
  },
  {
   "cell_type": "code",
   "execution_count": 71,
   "id": "35fb9651",
   "metadata": {},
   "outputs": [
    {
     "data": {
      "text/html": [
       "<div>\n",
       "<style scoped>\n",
       "    .dataframe tbody tr th:only-of-type {\n",
       "        vertical-align: middle;\n",
       "    }\n",
       "\n",
       "    .dataframe tbody tr th {\n",
       "        vertical-align: top;\n",
       "    }\n",
       "\n",
       "    .dataframe thead th {\n",
       "        text-align: right;\n",
       "    }\n",
       "</style>\n",
       "<table border=\"1\" class=\"dataframe\">\n",
       "  <thead>\n",
       "    <tr style=\"text-align: right;\">\n",
       "      <th></th>\n",
       "      <th>0</th>\n",
       "      <th>1</th>\n",
       "    </tr>\n",
       "  </thead>\n",
       "  <tbody>\n",
       "    <tr>\n",
       "      <th>0</th>\n",
       "      <td>237</td>\n",
       "      <td>0</td>\n",
       "    </tr>\n",
       "    <tr>\n",
       "      <th>1</th>\n",
       "      <td>14</td>\n",
       "      <td>148</td>\n",
       "    </tr>\n",
       "  </tbody>\n",
       "</table>\n",
       "</div>"
      ],
      "text/plain": [
       "     0    1\n",
       "0  237    0\n",
       "1   14  148"
      ]
     },
     "execution_count": 71,
     "metadata": {},
     "output_type": "execute_result"
    }
   ],
   "source": [
    "# confusion matrix\n",
    "pd.DataFrame(metrics.confusion_matrix(y_titanic_train, y_pred))"
   ]
  },
  {
   "cell_type": "code",
   "execution_count": 72,
   "id": "06253b30",
   "metadata": {},
   "outputs": [
    {
     "data": {
      "text/html": [
       "<div>\n",
       "<style scoped>\n",
       "    .dataframe tbody tr th:only-of-type {\n",
       "        vertical-align: middle;\n",
       "    }\n",
       "\n",
       "    .dataframe tbody tr th {\n",
       "        vertical-align: top;\n",
       "    }\n",
       "\n",
       "    .dataframe thead th {\n",
       "        text-align: right;\n",
       "    }\n",
       "</style>\n",
       "<table border=\"1\" class=\"dataframe\">\n",
       "  <thead>\n",
       "    <tr style=\"text-align: right;\">\n",
       "      <th></th>\n",
       "      <th>precision</th>\n",
       "      <th>recall</th>\n",
       "      <th>f1-score</th>\n",
       "      <th>support</th>\n",
       "    </tr>\n",
       "  </thead>\n",
       "  <tbody>\n",
       "    <tr>\n",
       "      <th>0</th>\n",
       "      <td>0.944223</td>\n",
       "      <td>1.000000</td>\n",
       "      <td>0.971311</td>\n",
       "      <td>237.000000</td>\n",
       "    </tr>\n",
       "    <tr>\n",
       "      <th>1</th>\n",
       "      <td>1.000000</td>\n",
       "      <td>0.913580</td>\n",
       "      <td>0.954839</td>\n",
       "      <td>162.000000</td>\n",
       "    </tr>\n",
       "    <tr>\n",
       "      <th>accuracy</th>\n",
       "      <td>0.964912</td>\n",
       "      <td>0.964912</td>\n",
       "      <td>0.964912</td>\n",
       "      <td>0.964912</td>\n",
       "    </tr>\n",
       "    <tr>\n",
       "      <th>macro avg</th>\n",
       "      <td>0.972112</td>\n",
       "      <td>0.956790</td>\n",
       "      <td>0.963075</td>\n",
       "      <td>399.000000</td>\n",
       "    </tr>\n",
       "    <tr>\n",
       "      <th>weighted avg</th>\n",
       "      <td>0.966869</td>\n",
       "      <td>0.964912</td>\n",
       "      <td>0.964623</td>\n",
       "      <td>399.000000</td>\n",
       "    </tr>\n",
       "  </tbody>\n",
       "</table>\n",
       "</div>"
      ],
      "text/plain": [
       "              precision    recall  f1-score     support\n",
       "0              0.944223  1.000000  0.971311  237.000000\n",
       "1              1.000000  0.913580  0.954839  162.000000\n",
       "accuracy       0.964912  0.964912  0.964912    0.964912\n",
       "macro avg      0.972112  0.956790  0.963075  399.000000\n",
       "weighted avg   0.966869  0.964912  0.964623  399.000000"
      ]
     },
     "execution_count": 72,
     "metadata": {},
     "output_type": "execute_result"
    }
   ],
   "source": [
    "#classification report\n",
    "pd.DataFrame(metrics.classification_report(y_titanic_train, y_pred, output_dict=True)).T"
   ]
  },
  {
   "cell_type": "markdown",
   "id": "283af2d0",
   "metadata": {},
   "source": [
    "3.\n",
    "\n",
    "Print and clearly label the following: Accuracy, true positive rate, false positive rate, true negative rate, false negative rate, precision, recall, f1-score, and support."
   ]
  },
  {
   "cell_type": "code",
   "execution_count": 73,
   "id": "673ac9a7",
   "metadata": {},
   "outputs": [
    {
     "name": "stdout",
     "output_type": "stream",
     "text": [
      "tp_rate = 0.9135802469135802\n",
      "tn_rate = 1.0\n",
      "fp_rate = 0.0\n",
      "fn_rate = 0.055776892430278883\n",
      "acc = 0.9649122807017544\n"
     ]
    }
   ],
   "source": [
    "tn, fp, fn, tp = metrics.confusion_matrix(y_titanic_train, y_pred).ravel()\n",
    "\n",
    "tp_rate = tp/(fn+tp)\n",
    "tn_rate = tn/(fp+tn)\n",
    "fp_rate = fp/(fp+tp)\n",
    "fn_rate = fn/(fn+tn)\n",
    "accuracy = (tp+tn)/(tp+tn+fn+fp)\n",
    "\n",
    "print(f\"tp_rate = {tp_rate}\\ntn_rate = {tn_rate}\\nfp_rate = {fp_rate}\\nfn_rate = {fn_rate}\\nacc = {accuracy}\")"
   ]
  },
  {
   "cell_type": "code",
   "execution_count": 74,
   "id": "96ccd748",
   "metadata": {},
   "outputs": [
    {
     "data": {
      "text/html": [
       "<div>\n",
       "<style scoped>\n",
       "    .dataframe tbody tr th:only-of-type {\n",
       "        vertical-align: middle;\n",
       "    }\n",
       "\n",
       "    .dataframe tbody tr th {\n",
       "        vertical-align: top;\n",
       "    }\n",
       "\n",
       "    .dataframe thead th {\n",
       "        text-align: right;\n",
       "    }\n",
       "</style>\n",
       "<table border=\"1\" class=\"dataframe\">\n",
       "  <thead>\n",
       "    <tr style=\"text-align: right;\">\n",
       "      <th></th>\n",
       "      <th>f1-score</th>\n",
       "    </tr>\n",
       "  </thead>\n",
       "  <tbody>\n",
       "    <tr>\n",
       "      <th>0</th>\n",
       "      <td>0.971311</td>\n",
       "    </tr>\n",
       "    <tr>\n",
       "      <th>1</th>\n",
       "      <td>0.954839</td>\n",
       "    </tr>\n",
       "    <tr>\n",
       "      <th>accuracy</th>\n",
       "      <td>0.964912</td>\n",
       "    </tr>\n",
       "    <tr>\n",
       "      <th>macro avg</th>\n",
       "      <td>0.963075</td>\n",
       "    </tr>\n",
       "    <tr>\n",
       "      <th>weighted avg</th>\n",
       "      <td>0.964623</td>\n",
       "    </tr>\n",
       "  </tbody>\n",
       "</table>\n",
       "</div>"
      ],
      "text/plain": [
       "              f1-score\n",
       "0             0.971311\n",
       "1             0.954839\n",
       "accuracy      0.964912\n",
       "macro avg     0.963075\n",
       "weighted avg  0.964623"
      ]
     },
     "execution_count": 74,
     "metadata": {},
     "output_type": "execute_result"
    }
   ],
   "source": [
    "pd.DataFrame(metrics.classification_report(y_titanic_train, y_pred, output_dict=True)).T[['f1-score']]"
   ]
  },
  {
   "cell_type": "code",
   "execution_count": 75,
   "id": "622f795a",
   "metadata": {},
   "outputs": [
    {
     "data": {
      "text/html": [
       "<div>\n",
       "<style scoped>\n",
       "    .dataframe tbody tr th:only-of-type {\n",
       "        vertical-align: middle;\n",
       "    }\n",
       "\n",
       "    .dataframe tbody tr th {\n",
       "        vertical-align: top;\n",
       "    }\n",
       "\n",
       "    .dataframe thead th {\n",
       "        text-align: right;\n",
       "    }\n",
       "</style>\n",
       "<table border=\"1\" class=\"dataframe\">\n",
       "  <thead>\n",
       "    <tr style=\"text-align: right;\">\n",
       "      <th></th>\n",
       "      <th>support</th>\n",
       "    </tr>\n",
       "  </thead>\n",
       "  <tbody>\n",
       "    <tr>\n",
       "      <th>0</th>\n",
       "      <td>237.000000</td>\n",
       "    </tr>\n",
       "    <tr>\n",
       "      <th>1</th>\n",
       "      <td>162.000000</td>\n",
       "    </tr>\n",
       "    <tr>\n",
       "      <th>accuracy</th>\n",
       "      <td>0.964912</td>\n",
       "    </tr>\n",
       "    <tr>\n",
       "      <th>macro avg</th>\n",
       "      <td>399.000000</td>\n",
       "    </tr>\n",
       "    <tr>\n",
       "      <th>weighted avg</th>\n",
       "      <td>399.000000</td>\n",
       "    </tr>\n",
       "  </tbody>\n",
       "</table>\n",
       "</div>"
      ],
      "text/plain": [
       "                 support\n",
       "0             237.000000\n",
       "1             162.000000\n",
       "accuracy        0.964912\n",
       "macro avg     399.000000\n",
       "weighted avg  399.000000"
      ]
     },
     "execution_count": 75,
     "metadata": {},
     "output_type": "execute_result"
    }
   ],
   "source": [
    "pd.DataFrame(metrics.classification_report(y_titanic_train, y_pred, output_dict=True)).T[['support']]"
   ]
  },
  {
   "cell_type": "markdown",
   "id": "9df25049",
   "metadata": {},
   "source": [
    "4.\n",
    "\n",
    "Run through steps increasing your min_samples_leaf and decreasing your max_depth. "
   ]
  },
  {
   "cell_type": "code",
   "execution_count": 93,
   "id": "39e073c6",
   "metadata": {
    "scrolled": false
   },
   "outputs": [
    {
     "name": "stdout",
     "output_type": "stream",
     "text": [
      "=====model0=====\n",
      "min_samples_leaf = 10 : max_depth = 1\n",
      "tp_rate = 0.6481481481481481\n",
      "tn_rate = 0.8776371308016878\n",
      "fp_rate = 0.21641791044776118\n",
      "fn_rate = 0.21509433962264152\n",
      "acc = 0.7844611528822055\n",
      "accuracy of random forest model: 0.7844611528822055\n",
      "              precision    recall  f1-score     support\n",
      "0              0.784906  0.877637  0.828685  237.000000\n",
      "1              0.783582  0.648148  0.709459  162.000000\n",
      "accuracy       0.784461  0.784461  0.784461    0.784461\n",
      "macro avg      0.784244  0.762893  0.769072  399.000000\n",
      "weighted avg   0.784368  0.784461  0.780278  399.000000\n",
      "\n",
      "=====model1=====\n",
      "min_samples_leaf = 9 : max_depth = 2\n",
      "tp_rate = 0.6234567901234568\n",
      "tn_rate = 0.9071729957805907\n",
      "fp_rate = 0.17886178861788618\n",
      "fn_rate = 0.2210144927536232\n",
      "acc = 0.7919799498746867\n",
      "accuracy of random forest model: 0.7919799498746867\n",
      "              precision    recall  f1-score    support\n",
      "0              0.778986  0.907173  0.838207  237.00000\n",
      "1              0.821138  0.623457  0.708772  162.00000\n",
      "accuracy       0.791980  0.791980  0.791980    0.79198\n",
      "macro avg      0.800062  0.765315  0.773489  399.00000\n",
      "weighted avg   0.796100  0.791980  0.785654  399.00000\n",
      "\n",
      "=====model2=====\n",
      "min_samples_leaf = 8 : max_depth = 3\n",
      "tp_rate = 0.654320987654321\n",
      "tn_rate = 0.9282700421940928\n",
      "fp_rate = 0.13821138211382114\n",
      "fn_rate = 0.2028985507246377\n",
      "acc = 0.8170426065162907\n",
      "accuracy of random forest model: 0.8170426065162907\n",
      "              precision    recall  f1-score     support\n",
      "0              0.797101  0.928270  0.857700  237.000000\n",
      "1              0.861789  0.654321  0.743860  162.000000\n",
      "accuracy       0.817043  0.817043  0.817043    0.817043\n",
      "macro avg      0.829445  0.791296  0.800780  399.000000\n",
      "weighted avg   0.823365  0.817043  0.811479  399.000000\n",
      "\n",
      "=====model3=====\n",
      "min_samples_leaf = 7 : max_depth = 4\n",
      "tp_rate = 0.7222222222222222\n",
      "tn_rate = 0.9324894514767933\n",
      "fp_rate = 0.12030075187969924\n",
      "fn_rate = 0.16917293233082706\n",
      "acc = 0.8471177944862155\n",
      "accuracy of random forest model: 0.8471177944862155\n",
      "              precision    recall  f1-score     support\n",
      "0              0.830827  0.932489  0.878728  237.000000\n",
      "1              0.879699  0.722222  0.793220  162.000000\n",
      "accuracy       0.847118  0.847118  0.847118    0.847118\n",
      "macro avg      0.855263  0.827356  0.835974  399.000000\n",
      "weighted avg   0.850670  0.847118  0.844010  399.000000\n",
      "\n",
      "=====model4=====\n",
      "min_samples_leaf = 6 : max_depth = 5\n",
      "tp_rate = 0.7283950617283951\n",
      "tn_rate = 0.9324894514767933\n",
      "fp_rate = 0.11940298507462686\n",
      "fn_rate = 0.1660377358490566\n",
      "acc = 0.849624060150376\n",
      "accuracy of random forest model: 0.849624060150376\n",
      "              precision    recall  f1-score     support\n",
      "0              0.833962  0.932489  0.880478  237.000000\n",
      "1              0.880597  0.728395  0.797297  162.000000\n",
      "accuracy       0.849624  0.849624  0.849624    0.849624\n",
      "macro avg      0.857280  0.830442  0.838888  399.000000\n",
      "weighted avg   0.852897  0.849624  0.846705  399.000000\n",
      "\n",
      "=====model5=====\n",
      "min_samples_leaf = 5 : max_depth = 6\n",
      "tp_rate = 0.7592592592592593\n",
      "tn_rate = 0.9409282700421941\n",
      "fp_rate = 0.10218978102189781\n",
      "fn_rate = 0.14885496183206107\n",
      "acc = 0.8671679197994987\n",
      "accuracy of random forest model: 0.8671679197994987\n",
      "              precision    recall  f1-score     support\n",
      "0              0.851145  0.940928  0.893788  237.000000\n",
      "1              0.897810  0.759259  0.822742  162.000000\n",
      "accuracy       0.867168  0.867168  0.867168    0.867168\n",
      "macro avg      0.874478  0.850094  0.858265  399.000000\n",
      "weighted avg   0.870092  0.867168  0.864942  399.000000\n",
      "\n",
      "=====model6=====\n",
      "min_samples_leaf = 4 : max_depth = 7\n",
      "tp_rate = 0.7777777777777778\n",
      "tn_rate = 0.9535864978902954\n",
      "fp_rate = 0.08029197080291971\n",
      "fn_rate = 0.13740458015267176\n",
      "acc = 0.8822055137844611\n",
      "accuracy of random forest model: 0.8822055137844611\n",
      "              precision    recall  f1-score     support\n",
      "0              0.862595  0.953586  0.905812  237.000000\n",
      "1              0.919708  0.777778  0.842809  162.000000\n",
      "accuracy       0.882206  0.882206  0.882206    0.882206\n",
      "macro avg      0.891152  0.865682  0.874310  399.000000\n",
      "weighted avg   0.885784  0.882206  0.880232  399.000000\n",
      "\n",
      "=====model7=====\n",
      "min_samples_leaf = 3 : max_depth = 8\n",
      "tp_rate = 0.7901234567901234\n",
      "tn_rate = 0.9578059071729957\n",
      "fp_rate = 0.07246376811594203\n",
      "fn_rate = 0.13026819923371646\n",
      "acc = 0.8897243107769424\n",
      "accuracy of random forest model: 0.8897243107769424\n",
      "              precision    recall  f1-score     support\n",
      "0              0.869732  0.957806  0.911647  237.000000\n",
      "1              0.927536  0.790123  0.853333  162.000000\n",
      "accuracy       0.889724  0.889724  0.889724    0.889724\n",
      "macro avg      0.898634  0.873965  0.882490  399.000000\n",
      "weighted avg   0.893201  0.889724  0.887971  399.000000\n",
      "\n",
      "=====model8=====\n",
      "min_samples_leaf = 2 : max_depth = 9\n",
      "tp_rate = 0.8333333333333334\n",
      "tn_rate = 0.9662447257383966\n",
      "fp_rate = 0.055944055944055944\n",
      "fn_rate = 0.10546875\n",
      "acc = 0.9122807017543859\n",
      "accuracy of random forest model: 0.9122807017543859\n",
      "              precision    recall  f1-score     support\n",
      "0              0.894531  0.966245  0.929006  237.000000\n",
      "1              0.944056  0.833333  0.885246  162.000000\n",
      "accuracy       0.912281  0.912281  0.912281    0.912281\n",
      "macro avg      0.919294  0.899789  0.907126  399.000000\n",
      "weighted avg   0.914639  0.912281  0.911239  399.000000\n",
      "\n",
      "=====model9=====\n",
      "min_samples_leaf = 1 : max_depth = 10\n",
      "tp_rate = 0.9135802469135802\n",
      "tn_rate = 1.0\n",
      "fp_rate = 0.0\n",
      "fn_rate = 0.055776892430278883\n",
      "acc = 0.9649122807017544\n",
      "accuracy of random forest model: 0.9649122807017544\n",
      "              precision    recall  f1-score     support\n",
      "0              0.944223  1.000000  0.971311  237.000000\n",
      "1              1.000000  0.913580  0.954839  162.000000\n",
      "accuracy       0.964912  0.964912  0.964912    0.964912\n",
      "macro avg      0.972112  0.956790  0.963075  399.000000\n",
      "weighted avg   0.966869  0.964912  0.964623  399.000000\n",
      "\n"
     ]
    }
   ],
   "source": [
    "depths = list(range(1, 11))\n",
    "leafs = list(reversed(depths))\n",
    "values = {'depths':depths, 'leafs':leafs}\n",
    "for i in range(len(depths)):\n",
    "    print(f\"=====model{i}=====\")\n",
    "    print(f\"min_samples_leaf = {values['leafs'][i]} : max_depth = {values['depths'][i]}\")\n",
    "    rf = RandomForestClassifier(min_samples_leaf = values['leafs'][i], max_depth=values['depths'][i], random_state=135)\n",
    "    rf = rf.fit(X_titanic_train, y_titanic_train)\n",
    "    y_pred = rf.predict(X_titanic_train)\n",
    "    tn, fp, fn, tp = metrics.confusion_matrix(y_titanic_train, y_pred).ravel()\n",
    "    tp_rate = tp/(fn+tp)\n",
    "    tn_rate = tn/(fp+tn)\n",
    "    fp_rate = fp/(fp+tp)\n",
    "    fn_rate = fn/(fn+tn)\n",
    "    accuracy = (tp+tn)/(tp+tn+fn+fp)\n",
    "    print(f\"tp_rate = {tp_rate}\\ntn_rate = {tn_rate}\\nfp_rate = {fp_rate}\\nfn_rate = {fn_rate}\\nacc = {accuracy}\")\n",
    "    print(f\"accuracy of random forest model: {rf.score(X_titanic_train, y_titanic_train)}\")\n",
    "    print(pd.DataFrame(metrics.classification_report(y_titanic_train, y_pred, output_dict=True)).T)\n",
    "    print()"
   ]
  },
  {
   "cell_type": "code",
   "execution_count": 77,
   "id": "5d015643",
   "metadata": {},
   "outputs": [
    {
     "data": {
      "text/plain": [
       "{'0': {'precision': 0.9442231075697212,\n",
       "  'recall': 1.0,\n",
       "  'f1-score': 0.9713114754098361,\n",
       "  'support': 237},\n",
       " '1': {'precision': 1.0,\n",
       "  'recall': 0.9135802469135802,\n",
       "  'f1-score': 0.9548387096774192,\n",
       "  'support': 162},\n",
       " 'accuracy': 0.9649122807017544,\n",
       " 'macro avg': {'precision': 0.9721115537848606,\n",
       "  'recall': 0.9567901234567902,\n",
       "  'f1-score': 0.9630750925436277,\n",
       "  'support': 399},\n",
       " 'weighted avg': {'precision': 0.9668693646466765,\n",
       "  'recall': 0.9649122807017544,\n",
       "  'f1-score': 0.9646232848117119,\n",
       "  'support': 399}}"
      ]
     },
     "execution_count": 77,
     "metadata": {},
     "output_type": "execute_result"
    }
   ],
   "source": [
    "metrics.classification_report(y_titanic_train, y_pred, output_dict=True)"
   ]
  },
  {
   "cell_type": "markdown",
   "id": "65a271ab",
   "metadata": {},
   "source": [
    "5.\n",
    "\n",
    "What are the differences in the evaluation metrics? Which performs better on your in-sample data? Why?"
   ]
  },
  {
   "cell_type": "code",
   "execution_count": 78,
   "id": "4973d9e3",
   "metadata": {},
   "outputs": [],
   "source": [
    "#assume that survive is the positive case\n",
    "depths = list(range(1, 11)) + list(range(1, 11))\n",
    "leafs = list(range(10, 0, -1)) + list(range(1, 11))\n",
    "values = {'depths':depths, 'leafs':leafs}\n",
    "outputs = []\n",
    "for i in range(len(depths)):\n",
    "    rf = RandomForestClassifier(min_samples_leaf = values['leafs'][i], max_depth=values['depths'][i], random_state=135)\n",
    "    rf = rf.fit(X_titanic_train, y_titanic_train)\n",
    "    y_pred = rf.predict(X_titanic_train)\n",
    "    metrics_dict = metrics.classification_report(y_titanic_train, y_pred, output_dict=True)\n",
    "    output = {\n",
    "        'min_samples_leaf':values['leafs'][i],\n",
    "        'max_depth':values['depths'][i],\n",
    "        'accuracy':rf.score(X_titanic_train, y_titanic_train),\n",
    "        'precision':metrics_dict['1']['precision'],\n",
    "        'recall':metrics_dict['1']['recall']\n",
    "    }\n",
    "    outputs.append(output)"
   ]
  },
  {
   "cell_type": "code",
   "execution_count": 79,
   "id": "28ff6a47",
   "metadata": {},
   "outputs": [
    {
     "data": {
      "text/plain": [
       "5"
      ]
     },
     "execution_count": 79,
     "metadata": {},
     "output_type": "execute_result"
    }
   ],
   "source": [
    "leafs[5]"
   ]
  },
  {
   "cell_type": "code",
   "execution_count": 80,
   "id": "2a76c445",
   "metadata": {
    "scrolled": false
   },
   "outputs": [
    {
     "data": {
      "text/html": [
       "<div>\n",
       "<style scoped>\n",
       "    .dataframe tbody tr th:only-of-type {\n",
       "        vertical-align: middle;\n",
       "    }\n",
       "\n",
       "    .dataframe tbody tr th {\n",
       "        vertical-align: top;\n",
       "    }\n",
       "\n",
       "    .dataframe thead th {\n",
       "        text-align: right;\n",
       "    }\n",
       "</style>\n",
       "<table border=\"1\" class=\"dataframe\">\n",
       "  <thead>\n",
       "    <tr style=\"text-align: right;\">\n",
       "      <th></th>\n",
       "      <th>min_samples_leaf</th>\n",
       "      <th>max_depth</th>\n",
       "      <th>accuracy</th>\n",
       "      <th>precision</th>\n",
       "      <th>recall</th>\n",
       "    </tr>\n",
       "  </thead>\n",
       "  <tbody>\n",
       "    <tr>\n",
       "      <th>0</th>\n",
       "      <td>10</td>\n",
       "      <td>1</td>\n",
       "      <td>0.784461</td>\n",
       "      <td>0.783582</td>\n",
       "      <td>0.648148</td>\n",
       "    </tr>\n",
       "    <tr>\n",
       "      <th>1</th>\n",
       "      <td>9</td>\n",
       "      <td>2</td>\n",
       "      <td>0.791980</td>\n",
       "      <td>0.821138</td>\n",
       "      <td>0.623457</td>\n",
       "    </tr>\n",
       "    <tr>\n",
       "      <th>2</th>\n",
       "      <td>8</td>\n",
       "      <td>3</td>\n",
       "      <td>0.817043</td>\n",
       "      <td>0.861789</td>\n",
       "      <td>0.654321</td>\n",
       "    </tr>\n",
       "    <tr>\n",
       "      <th>3</th>\n",
       "      <td>7</td>\n",
       "      <td>4</td>\n",
       "      <td>0.847118</td>\n",
       "      <td>0.879699</td>\n",
       "      <td>0.722222</td>\n",
       "    </tr>\n",
       "    <tr>\n",
       "      <th>4</th>\n",
       "      <td>6</td>\n",
       "      <td>5</td>\n",
       "      <td>0.849624</td>\n",
       "      <td>0.880597</td>\n",
       "      <td>0.728395</td>\n",
       "    </tr>\n",
       "    <tr>\n",
       "      <th>5</th>\n",
       "      <td>5</td>\n",
       "      <td>6</td>\n",
       "      <td>0.867168</td>\n",
       "      <td>0.897810</td>\n",
       "      <td>0.759259</td>\n",
       "    </tr>\n",
       "    <tr>\n",
       "      <th>6</th>\n",
       "      <td>4</td>\n",
       "      <td>7</td>\n",
       "      <td>0.882206</td>\n",
       "      <td>0.919708</td>\n",
       "      <td>0.777778</td>\n",
       "    </tr>\n",
       "    <tr>\n",
       "      <th>7</th>\n",
       "      <td>3</td>\n",
       "      <td>8</td>\n",
       "      <td>0.889724</td>\n",
       "      <td>0.927536</td>\n",
       "      <td>0.790123</td>\n",
       "    </tr>\n",
       "    <tr>\n",
       "      <th>8</th>\n",
       "      <td>2</td>\n",
       "      <td>9</td>\n",
       "      <td>0.912281</td>\n",
       "      <td>0.944056</td>\n",
       "      <td>0.833333</td>\n",
       "    </tr>\n",
       "    <tr>\n",
       "      <th>9</th>\n",
       "      <td>1</td>\n",
       "      <td>10</td>\n",
       "      <td>0.964912</td>\n",
       "      <td>1.000000</td>\n",
       "      <td>0.913580</td>\n",
       "    </tr>\n",
       "    <tr>\n",
       "      <th>10</th>\n",
       "      <td>1</td>\n",
       "      <td>1</td>\n",
       "      <td>0.789474</td>\n",
       "      <td>0.786765</td>\n",
       "      <td>0.660494</td>\n",
       "    </tr>\n",
       "    <tr>\n",
       "      <th>11</th>\n",
       "      <td>2</td>\n",
       "      <td>2</td>\n",
       "      <td>0.786967</td>\n",
       "      <td>0.793893</td>\n",
       "      <td>0.641975</td>\n",
       "    </tr>\n",
       "    <tr>\n",
       "      <th>12</th>\n",
       "      <td>3</td>\n",
       "      <td>3</td>\n",
       "      <td>0.837093</td>\n",
       "      <td>0.888000</td>\n",
       "      <td>0.685185</td>\n",
       "    </tr>\n",
       "    <tr>\n",
       "      <th>13</th>\n",
       "      <td>4</td>\n",
       "      <td>4</td>\n",
       "      <td>0.849624</td>\n",
       "      <td>0.875000</td>\n",
       "      <td>0.734568</td>\n",
       "    </tr>\n",
       "    <tr>\n",
       "      <th>14</th>\n",
       "      <td>5</td>\n",
       "      <td>5</td>\n",
       "      <td>0.852130</td>\n",
       "      <td>0.893130</td>\n",
       "      <td>0.722222</td>\n",
       "    </tr>\n",
       "    <tr>\n",
       "      <th>15</th>\n",
       "      <td>6</td>\n",
       "      <td>6</td>\n",
       "      <td>0.862155</td>\n",
       "      <td>0.884892</td>\n",
       "      <td>0.759259</td>\n",
       "    </tr>\n",
       "    <tr>\n",
       "      <th>16</th>\n",
       "      <td>7</td>\n",
       "      <td>7</td>\n",
       "      <td>0.864662</td>\n",
       "      <td>0.891304</td>\n",
       "      <td>0.759259</td>\n",
       "    </tr>\n",
       "    <tr>\n",
       "      <th>17</th>\n",
       "      <td>8</td>\n",
       "      <td>8</td>\n",
       "      <td>0.852130</td>\n",
       "      <td>0.899225</td>\n",
       "      <td>0.716049</td>\n",
       "    </tr>\n",
       "    <tr>\n",
       "      <th>18</th>\n",
       "      <td>9</td>\n",
       "      <td>9</td>\n",
       "      <td>0.849624</td>\n",
       "      <td>0.898438</td>\n",
       "      <td>0.709877</td>\n",
       "    </tr>\n",
       "    <tr>\n",
       "      <th>19</th>\n",
       "      <td>10</td>\n",
       "      <td>10</td>\n",
       "      <td>0.839599</td>\n",
       "      <td>0.871212</td>\n",
       "      <td>0.709877</td>\n",
       "    </tr>\n",
       "  </tbody>\n",
       "</table>\n",
       "</div>"
      ],
      "text/plain": [
       "    min_samples_leaf  max_depth  accuracy  precision    recall\n",
       "0                 10          1  0.784461   0.783582  0.648148\n",
       "1                  9          2  0.791980   0.821138  0.623457\n",
       "2                  8          3  0.817043   0.861789  0.654321\n",
       "3                  7          4  0.847118   0.879699  0.722222\n",
       "4                  6          5  0.849624   0.880597  0.728395\n",
       "5                  5          6  0.867168   0.897810  0.759259\n",
       "6                  4          7  0.882206   0.919708  0.777778\n",
       "7                  3          8  0.889724   0.927536  0.790123\n",
       "8                  2          9  0.912281   0.944056  0.833333\n",
       "9                  1         10  0.964912   1.000000  0.913580\n",
       "10                 1          1  0.789474   0.786765  0.660494\n",
       "11                 2          2  0.786967   0.793893  0.641975\n",
       "12                 3          3  0.837093   0.888000  0.685185\n",
       "13                 4          4  0.849624   0.875000  0.734568\n",
       "14                 5          5  0.852130   0.893130  0.722222\n",
       "15                 6          6  0.862155   0.884892  0.759259\n",
       "16                 7          7  0.864662   0.891304  0.759259\n",
       "17                 8          8  0.852130   0.899225  0.716049\n",
       "18                 9          9  0.849624   0.898438  0.709877\n",
       "19                10         10  0.839599   0.871212  0.709877"
      ]
     },
     "execution_count": 80,
     "metadata": {},
     "output_type": "execute_result"
    }
   ],
   "source": [
    "modeltrain_df = pd.DataFrame(outputs)\n",
    "modeltrain_df"
   ]
  },
  {
   "cell_type": "code",
   "execution_count": null,
   "id": "3a0e4dc2",
   "metadata": {},
   "outputs": [],
   "source": []
  },
  {
   "cell_type": "markdown",
   "id": "4b39f038",
   "metadata": {},
   "source": [
    "After making a few models, which one has the best performance (or closest metrics) on both train and validate?"
   ]
  },
  {
   "cell_type": "code",
   "execution_count": 81,
   "id": "ab2ad743",
   "metadata": {},
   "outputs": [],
   "source": [
    "#now evaluate on validate:\n",
    "#assume that survive is the positive case\n",
    "depths = list(range(1, 11)) + list(range(1, 11))\n",
    "leafs = list(range(10, 0, -1)) + list(range(1, 11))\n",
    "values = {'depths':depths, 'leafs':leafs}\n",
    "outputs = []\n",
    "for i in range(len(depths)):\n",
    "    rf = RandomForestClassifier(min_samples_leaf = values['leafs'][i], max_depth=values['depths'][i], random_state=135)\n",
    "    rf = rf.fit(X_titanic_train, y_titanic_train)\n",
    "    y_pred = rf.predict(X_validate)\n",
    "    metrics_dict = metrics.classification_report(y_validate, y_pred, output_dict=True)\n",
    "    output = {\n",
    "        'min_samples_leaf':values['leafs'][i],\n",
    "        'max_depth':values['depths'][i],\n",
    "        'accuracy':rf.score(X_validate, y_validate),\n",
    "        'precision':metrics_dict['1']['precision'],\n",
    "        'recall':metrics_dict['1']['recall']\n",
    "    }\n",
    "    outputs.append(output)"
   ]
  },
  {
   "cell_type": "code",
   "execution_count": 82,
   "id": "8765e811",
   "metadata": {},
   "outputs": [
    {
     "data": {
      "text/html": [
       "<div>\n",
       "<style scoped>\n",
       "    .dataframe tbody tr th:only-of-type {\n",
       "        vertical-align: middle;\n",
       "    }\n",
       "\n",
       "    .dataframe tbody tr th {\n",
       "        vertical-align: top;\n",
       "    }\n",
       "\n",
       "    .dataframe thead th {\n",
       "        text-align: right;\n",
       "    }\n",
       "</style>\n",
       "<table border=\"1\" class=\"dataframe\">\n",
       "  <thead>\n",
       "    <tr style=\"text-align: right;\">\n",
       "      <th></th>\n",
       "      <th>min_samples_leaf</th>\n",
       "      <th>max_depth</th>\n",
       "      <th>accuracy</th>\n",
       "      <th>precision</th>\n",
       "      <th>recall</th>\n",
       "    </tr>\n",
       "  </thead>\n",
       "  <tbody>\n",
       "    <tr>\n",
       "      <th>0</th>\n",
       "      <td>10</td>\n",
       "      <td>1</td>\n",
       "      <td>0.741259</td>\n",
       "      <td>0.733333</td>\n",
       "      <td>0.568966</td>\n",
       "    </tr>\n",
       "    <tr>\n",
       "      <th>1</th>\n",
       "      <td>9</td>\n",
       "      <td>2</td>\n",
       "      <td>0.755245</td>\n",
       "      <td>0.767442</td>\n",
       "      <td>0.568966</td>\n",
       "    </tr>\n",
       "    <tr>\n",
       "      <th>2</th>\n",
       "      <td>8</td>\n",
       "      <td>3</td>\n",
       "      <td>0.762238</td>\n",
       "      <td>0.785714</td>\n",
       "      <td>0.568966</td>\n",
       "    </tr>\n",
       "    <tr>\n",
       "      <th>3</th>\n",
       "      <td>7</td>\n",
       "      <td>4</td>\n",
       "      <td>0.790210</td>\n",
       "      <td>0.769231</td>\n",
       "      <td>0.689655</td>\n",
       "    </tr>\n",
       "    <tr>\n",
       "      <th>4</th>\n",
       "      <td>6</td>\n",
       "      <td>5</td>\n",
       "      <td>0.783217</td>\n",
       "      <td>0.754717</td>\n",
       "      <td>0.689655</td>\n",
       "    </tr>\n",
       "    <tr>\n",
       "      <th>5</th>\n",
       "      <td>5</td>\n",
       "      <td>6</td>\n",
       "      <td>0.790210</td>\n",
       "      <td>0.769231</td>\n",
       "      <td>0.689655</td>\n",
       "    </tr>\n",
       "    <tr>\n",
       "      <th>6</th>\n",
       "      <td>4</td>\n",
       "      <td>7</td>\n",
       "      <td>0.804196</td>\n",
       "      <td>0.800000</td>\n",
       "      <td>0.689655</td>\n",
       "    </tr>\n",
       "    <tr>\n",
       "      <th>7</th>\n",
       "      <td>3</td>\n",
       "      <td>8</td>\n",
       "      <td>0.797203</td>\n",
       "      <td>0.784314</td>\n",
       "      <td>0.689655</td>\n",
       "    </tr>\n",
       "    <tr>\n",
       "      <th>8</th>\n",
       "      <td>2</td>\n",
       "      <td>9</td>\n",
       "      <td>0.797203</td>\n",
       "      <td>0.773585</td>\n",
       "      <td>0.706897</td>\n",
       "    </tr>\n",
       "    <tr>\n",
       "      <th>9</th>\n",
       "      <td>1</td>\n",
       "      <td>10</td>\n",
       "      <td>0.804196</td>\n",
       "      <td>0.777778</td>\n",
       "      <td>0.724138</td>\n",
       "    </tr>\n",
       "    <tr>\n",
       "      <th>10</th>\n",
       "      <td>1</td>\n",
       "      <td>1</td>\n",
       "      <td>0.748252</td>\n",
       "      <td>0.739130</td>\n",
       "      <td>0.586207</td>\n",
       "    </tr>\n",
       "    <tr>\n",
       "      <th>11</th>\n",
       "      <td>2</td>\n",
       "      <td>2</td>\n",
       "      <td>0.741259</td>\n",
       "      <td>0.733333</td>\n",
       "      <td>0.568966</td>\n",
       "    </tr>\n",
       "    <tr>\n",
       "      <th>12</th>\n",
       "      <td>3</td>\n",
       "      <td>3</td>\n",
       "      <td>0.790210</td>\n",
       "      <td>0.818182</td>\n",
       "      <td>0.620690</td>\n",
       "    </tr>\n",
       "    <tr>\n",
       "      <th>13</th>\n",
       "      <td>4</td>\n",
       "      <td>4</td>\n",
       "      <td>0.783217</td>\n",
       "      <td>0.754717</td>\n",
       "      <td>0.689655</td>\n",
       "    </tr>\n",
       "    <tr>\n",
       "      <th>14</th>\n",
       "      <td>5</td>\n",
       "      <td>5</td>\n",
       "      <td>0.790210</td>\n",
       "      <td>0.769231</td>\n",
       "      <td>0.689655</td>\n",
       "    </tr>\n",
       "    <tr>\n",
       "      <th>15</th>\n",
       "      <td>6</td>\n",
       "      <td>6</td>\n",
       "      <td>0.783217</td>\n",
       "      <td>0.754717</td>\n",
       "      <td>0.689655</td>\n",
       "    </tr>\n",
       "    <tr>\n",
       "      <th>16</th>\n",
       "      <td>7</td>\n",
       "      <td>7</td>\n",
       "      <td>0.783217</td>\n",
       "      <td>0.754717</td>\n",
       "      <td>0.689655</td>\n",
       "    </tr>\n",
       "    <tr>\n",
       "      <th>17</th>\n",
       "      <td>8</td>\n",
       "      <td>8</td>\n",
       "      <td>0.790210</td>\n",
       "      <td>0.791667</td>\n",
       "      <td>0.655172</td>\n",
       "    </tr>\n",
       "    <tr>\n",
       "      <th>18</th>\n",
       "      <td>9</td>\n",
       "      <td>9</td>\n",
       "      <td>0.797203</td>\n",
       "      <td>0.808511</td>\n",
       "      <td>0.655172</td>\n",
       "    </tr>\n",
       "    <tr>\n",
       "      <th>19</th>\n",
       "      <td>10</td>\n",
       "      <td>10</td>\n",
       "      <td>0.769231</td>\n",
       "      <td>0.755102</td>\n",
       "      <td>0.637931</td>\n",
       "    </tr>\n",
       "  </tbody>\n",
       "</table>\n",
       "</div>"
      ],
      "text/plain": [
       "    min_samples_leaf  max_depth  accuracy  precision    recall\n",
       "0                 10          1  0.741259   0.733333  0.568966\n",
       "1                  9          2  0.755245   0.767442  0.568966\n",
       "2                  8          3  0.762238   0.785714  0.568966\n",
       "3                  7          4  0.790210   0.769231  0.689655\n",
       "4                  6          5  0.783217   0.754717  0.689655\n",
       "5                  5          6  0.790210   0.769231  0.689655\n",
       "6                  4          7  0.804196   0.800000  0.689655\n",
       "7                  3          8  0.797203   0.784314  0.689655\n",
       "8                  2          9  0.797203   0.773585  0.706897\n",
       "9                  1         10  0.804196   0.777778  0.724138\n",
       "10                 1          1  0.748252   0.739130  0.586207\n",
       "11                 2          2  0.741259   0.733333  0.568966\n",
       "12                 3          3  0.790210   0.818182  0.620690\n",
       "13                 4          4  0.783217   0.754717  0.689655\n",
       "14                 5          5  0.790210   0.769231  0.689655\n",
       "15                 6          6  0.783217   0.754717  0.689655\n",
       "16                 7          7  0.783217   0.754717  0.689655\n",
       "17                 8          8  0.790210   0.791667  0.655172\n",
       "18                 9          9  0.797203   0.808511  0.655172\n",
       "19                10         10  0.769231   0.755102  0.637931"
      ]
     },
     "execution_count": 82,
     "metadata": {},
     "output_type": "execute_result"
    }
   ],
   "source": [
    "modelvalidate_df = pd.DataFrame(outputs)\n",
    "modelvalidate_df"
   ]
  },
  {
   "cell_type": "code",
   "execution_count": 83,
   "id": "59f6719d",
   "metadata": {},
   "outputs": [
    {
     "name": "stderr",
     "output_type": "stream",
     "text": [
      "/var/folders/lw/_43z7rb5635_x1dwsyzrnc_m0000gn/T/ipykernel_32056/3307010481.py:3: SettingWithCopyWarning: \n",
      "A value is trying to be set on a copy of a slice from a DataFrame.\n",
      "Try using .loc[row_indexer,col_indexer] = value instead\n",
      "\n",
      "See the caveats in the documentation: https://pandas.pydata.org/pandas-docs/stable/user_guide/indexing.html#returning-a-view-versus-a-copy\n",
      "  comparemodel_df['validate_acc'] = modelvalidate_df[['accuracy']]\n",
      "/var/folders/lw/_43z7rb5635_x1dwsyzrnc_m0000gn/T/ipykernel_32056/3307010481.py:4: SettingWithCopyWarning: \n",
      "A value is trying to be set on a copy of a slice from a DataFrame.\n",
      "Try using .loc[row_indexer,col_indexer] = value instead\n",
      "\n",
      "See the caveats in the documentation: https://pandas.pydata.org/pandas-docs/stable/user_guide/indexing.html#returning-a-view-versus-a-copy\n",
      "  comparemodel_df['train_acc'] = modeltrain_df[['accuracy']]\n"
     ]
    },
    {
     "data": {
      "text/html": [
       "<div>\n",
       "<style scoped>\n",
       "    .dataframe tbody tr th:only-of-type {\n",
       "        vertical-align: middle;\n",
       "    }\n",
       "\n",
       "    .dataframe tbody tr th {\n",
       "        vertical-align: top;\n",
       "    }\n",
       "\n",
       "    .dataframe thead th {\n",
       "        text-align: right;\n",
       "    }\n",
       "</style>\n",
       "<table border=\"1\" class=\"dataframe\">\n",
       "  <thead>\n",
       "    <tr style=\"text-align: right;\">\n",
       "      <th></th>\n",
       "      <th>min_samples_leaf</th>\n",
       "      <th>max_depth</th>\n",
       "      <th>validate_acc</th>\n",
       "      <th>train_acc</th>\n",
       "      <th>difference</th>\n",
       "    </tr>\n",
       "  </thead>\n",
       "  <tbody>\n",
       "    <tr>\n",
       "      <th>0</th>\n",
       "      <td>10</td>\n",
       "      <td>1</td>\n",
       "      <td>0.741259</td>\n",
       "      <td>0.784461</td>\n",
       "      <td>0.043202</td>\n",
       "    </tr>\n",
       "    <tr>\n",
       "      <th>1</th>\n",
       "      <td>9</td>\n",
       "      <td>2</td>\n",
       "      <td>0.755245</td>\n",
       "      <td>0.791980</td>\n",
       "      <td>0.036735</td>\n",
       "    </tr>\n",
       "    <tr>\n",
       "      <th>2</th>\n",
       "      <td>8</td>\n",
       "      <td>3</td>\n",
       "      <td>0.762238</td>\n",
       "      <td>0.817043</td>\n",
       "      <td>0.054805</td>\n",
       "    </tr>\n",
       "    <tr>\n",
       "      <th>3</th>\n",
       "      <td>7</td>\n",
       "      <td>4</td>\n",
       "      <td>0.790210</td>\n",
       "      <td>0.847118</td>\n",
       "      <td>0.056908</td>\n",
       "    </tr>\n",
       "    <tr>\n",
       "      <th>4</th>\n",
       "      <td>6</td>\n",
       "      <td>5</td>\n",
       "      <td>0.783217</td>\n",
       "      <td>0.849624</td>\n",
       "      <td>0.066407</td>\n",
       "    </tr>\n",
       "    <tr>\n",
       "      <th>5</th>\n",
       "      <td>5</td>\n",
       "      <td>6</td>\n",
       "      <td>0.790210</td>\n",
       "      <td>0.867168</td>\n",
       "      <td>0.076958</td>\n",
       "    </tr>\n",
       "    <tr>\n",
       "      <th>6</th>\n",
       "      <td>4</td>\n",
       "      <td>7</td>\n",
       "      <td>0.804196</td>\n",
       "      <td>0.882206</td>\n",
       "      <td>0.078010</td>\n",
       "    </tr>\n",
       "    <tr>\n",
       "      <th>7</th>\n",
       "      <td>3</td>\n",
       "      <td>8</td>\n",
       "      <td>0.797203</td>\n",
       "      <td>0.889724</td>\n",
       "      <td>0.092522</td>\n",
       "    </tr>\n",
       "    <tr>\n",
       "      <th>8</th>\n",
       "      <td>2</td>\n",
       "      <td>9</td>\n",
       "      <td>0.797203</td>\n",
       "      <td>0.912281</td>\n",
       "      <td>0.115078</td>\n",
       "    </tr>\n",
       "    <tr>\n",
       "      <th>9</th>\n",
       "      <td>1</td>\n",
       "      <td>10</td>\n",
       "      <td>0.804196</td>\n",
       "      <td>0.964912</td>\n",
       "      <td>0.160716</td>\n",
       "    </tr>\n",
       "    <tr>\n",
       "      <th>10</th>\n",
       "      <td>1</td>\n",
       "      <td>1</td>\n",
       "      <td>0.748252</td>\n",
       "      <td>0.789474</td>\n",
       "      <td>0.041222</td>\n",
       "    </tr>\n",
       "    <tr>\n",
       "      <th>11</th>\n",
       "      <td>2</td>\n",
       "      <td>2</td>\n",
       "      <td>0.741259</td>\n",
       "      <td>0.786967</td>\n",
       "      <td>0.045709</td>\n",
       "    </tr>\n",
       "    <tr>\n",
       "      <th>12</th>\n",
       "      <td>3</td>\n",
       "      <td>3</td>\n",
       "      <td>0.790210</td>\n",
       "      <td>0.837093</td>\n",
       "      <td>0.046883</td>\n",
       "    </tr>\n",
       "    <tr>\n",
       "      <th>13</th>\n",
       "      <td>4</td>\n",
       "      <td>4</td>\n",
       "      <td>0.783217</td>\n",
       "      <td>0.849624</td>\n",
       "      <td>0.066407</td>\n",
       "    </tr>\n",
       "    <tr>\n",
       "      <th>14</th>\n",
       "      <td>5</td>\n",
       "      <td>5</td>\n",
       "      <td>0.790210</td>\n",
       "      <td>0.852130</td>\n",
       "      <td>0.061921</td>\n",
       "    </tr>\n",
       "    <tr>\n",
       "      <th>15</th>\n",
       "      <td>6</td>\n",
       "      <td>6</td>\n",
       "      <td>0.783217</td>\n",
       "      <td>0.862155</td>\n",
       "      <td>0.078939</td>\n",
       "    </tr>\n",
       "    <tr>\n",
       "      <th>16</th>\n",
       "      <td>7</td>\n",
       "      <td>7</td>\n",
       "      <td>0.783217</td>\n",
       "      <td>0.864662</td>\n",
       "      <td>0.081445</td>\n",
       "    </tr>\n",
       "    <tr>\n",
       "      <th>17</th>\n",
       "      <td>8</td>\n",
       "      <td>8</td>\n",
       "      <td>0.790210</td>\n",
       "      <td>0.852130</td>\n",
       "      <td>0.061921</td>\n",
       "    </tr>\n",
       "    <tr>\n",
       "      <th>18</th>\n",
       "      <td>9</td>\n",
       "      <td>9</td>\n",
       "      <td>0.797203</td>\n",
       "      <td>0.849624</td>\n",
       "      <td>0.052421</td>\n",
       "    </tr>\n",
       "    <tr>\n",
       "      <th>19</th>\n",
       "      <td>10</td>\n",
       "      <td>10</td>\n",
       "      <td>0.769231</td>\n",
       "      <td>0.839599</td>\n",
       "      <td>0.070368</td>\n",
       "    </tr>\n",
       "  </tbody>\n",
       "</table>\n",
       "</div>"
      ],
      "text/plain": [
       "    min_samples_leaf  max_depth  validate_acc  train_acc  difference\n",
       "0                 10          1      0.741259   0.784461    0.043202\n",
       "1                  9          2      0.755245   0.791980    0.036735\n",
       "2                  8          3      0.762238   0.817043    0.054805\n",
       "3                  7          4      0.790210   0.847118    0.056908\n",
       "4                  6          5      0.783217   0.849624    0.066407\n",
       "5                  5          6      0.790210   0.867168    0.076958\n",
       "6                  4          7      0.804196   0.882206    0.078010\n",
       "7                  3          8      0.797203   0.889724    0.092522\n",
       "8                  2          9      0.797203   0.912281    0.115078\n",
       "9                  1         10      0.804196   0.964912    0.160716\n",
       "10                 1          1      0.748252   0.789474    0.041222\n",
       "11                 2          2      0.741259   0.786967    0.045709\n",
       "12                 3          3      0.790210   0.837093    0.046883\n",
       "13                 4          4      0.783217   0.849624    0.066407\n",
       "14                 5          5      0.790210   0.852130    0.061921\n",
       "15                 6          6      0.783217   0.862155    0.078939\n",
       "16                 7          7      0.783217   0.864662    0.081445\n",
       "17                 8          8      0.790210   0.852130    0.061921\n",
       "18                 9          9      0.797203   0.849624    0.052421\n",
       "19                10         10      0.769231   0.839599    0.070368"
      ]
     },
     "execution_count": 83,
     "metadata": {},
     "output_type": "execute_result"
    }
   ],
   "source": [
    "#consider the difference in accuracy between train and validate for each model\n",
    "comparemodel_df = modelvalidate_df[['min_samples_leaf', 'max_depth']]\n",
    "comparemodel_df['validate_acc'] = modelvalidate_df[['accuracy']]\n",
    "comparemodel_df['train_acc'] = modeltrain_df[['accuracy']]\n",
    "comparemodel_df['difference'] = comparemodel_df['train_acc'] - comparemodel_df['validate_acc']\n",
    "comparemodel_df"
   ]
  },
  {
   "cell_type": "markdown",
   "id": "22af2e6e",
   "metadata": {},
   "source": [
    "It looks like model 13, with min_samples_leaf = 4 and max_depth = 4, but all beat a baseline of ~0.5."
   ]
  },
  {
   "cell_type": "markdown",
   "id": "fe296313",
   "metadata": {},
   "source": [
    "## make one for telco data\n"
   ]
  },
  {
   "cell_type": "code",
   "execution_count": 84,
   "id": "a4ad68ef",
   "metadata": {
    "scrolled": false
   },
   "outputs": [
    {
     "name": "stdout",
     "output_type": "stream",
     "text": [
      "<class 'pandas.core.frame.DataFrame'>\n",
      "Int64Index: 3937 entries, 2044 to 4965\n",
      "Data columns (total 48 columns):\n",
      " #   Column                                 Non-Null Count  Dtype  \n",
      "---  ------                                 --------------  -----  \n",
      " 0   customer_id                            3937 non-null   object \n",
      " 1   gender                                 3937 non-null   object \n",
      " 2   senior_citizen                         3937 non-null   int64  \n",
      " 3   partner                                3937 non-null   object \n",
      " 4   dependents                             3937 non-null   object \n",
      " 5   tenure                                 3937 non-null   int64  \n",
      " 6   phone_service                          3937 non-null   object \n",
      " 7   multiple_lines                         3937 non-null   object \n",
      " 8   online_security                        3937 non-null   object \n",
      " 9   online_backup                          3937 non-null   object \n",
      " 10  device_protection                      3937 non-null   object \n",
      " 11  tech_support                           3937 non-null   object \n",
      " 12  streaming_tv                           3937 non-null   object \n",
      " 13  streaming_movies                       3937 non-null   object \n",
      " 14  paperless_billing                      3937 non-null   object \n",
      " 15  monthly_charges                        3937 non-null   float64\n",
      " 16  total_charges                          3937 non-null   float64\n",
      " 17  churn                                  3937 non-null   object \n",
      " 18  contract_type                          3937 non-null   object \n",
      " 19  payment_type                           3937 non-null   object \n",
      " 20  internet_service_type                  3937 non-null   object \n",
      " 21  gender_Male                            3937 non-null   uint8  \n",
      " 22  partner_Yes                            3937 non-null   uint8  \n",
      " 23  dependents_Yes                         3937 non-null   uint8  \n",
      " 24  phone_service_Yes                      3937 non-null   uint8  \n",
      " 25  multiple_lines_No phone service        3937 non-null   uint8  \n",
      " 26  multiple_lines_Yes                     3937 non-null   uint8  \n",
      " 27  online_security_No internet service    3937 non-null   uint8  \n",
      " 28  online_security_Yes                    3937 non-null   uint8  \n",
      " 29  online_backup_No internet service      3937 non-null   uint8  \n",
      " 30  online_backup_Yes                      3937 non-null   uint8  \n",
      " 31  device_protection_No internet service  3937 non-null   uint8  \n",
      " 32  device_protection_Yes                  3937 non-null   uint8  \n",
      " 33  tech_support_No internet service       3937 non-null   uint8  \n",
      " 34  tech_support_Yes                       3937 non-null   uint8  \n",
      " 35  streaming_tv_No internet service       3937 non-null   uint8  \n",
      " 36  streaming_tv_Yes                       3937 non-null   uint8  \n",
      " 37  streaming_movies_No internet service   3937 non-null   uint8  \n",
      " 38  streaming_movies_Yes                   3937 non-null   uint8  \n",
      " 39  paperless_billing_Yes                  3937 non-null   uint8  \n",
      " 40  churn_Yes                              3937 non-null   uint8  \n",
      " 41  contract_type_One year                 3937 non-null   uint8  \n",
      " 42  contract_type_Two year                 3937 non-null   uint8  \n",
      " 43  payment_type_Credit card (automatic)   3937 non-null   uint8  \n",
      " 44  payment_type_Electronic check          3937 non-null   uint8  \n",
      " 45  payment_type_Mailed check              3937 non-null   uint8  \n",
      " 46  internet_service_type_Fiber optic      3937 non-null   uint8  \n",
      " 47  internet_service_type_None             3937 non-null   uint8  \n",
      "dtypes: float64(2), int64(2), object(17), uint8(27)\n",
      "memory usage: 780.5+ KB\n"
     ]
    }
   ],
   "source": [
    "df_telco = a.get_telco_data()\n",
    "telco_train, t_validate, t_test = p.split_telco_data(df_telco)\n",
    "\n",
    "telco_train.info()"
   ]
  },
  {
   "cell_type": "code",
   "execution_count": 98,
   "id": "9aea7dea",
   "metadata": {},
   "outputs": [],
   "source": [
    "X_telco_train = telco_train.select_dtypes(exclude= 'object').drop(columns=['churn_Yes'])\n",
    "y_telco_train = telco_train['churn_Yes']\n",
    "\n",
    "X_telco_val = t_validate.select_dtypes(exclude= 'object').drop(columns=['churn_Yes'])\n",
    "y_telco_val = t_validate.churn_Yes"
   ]
  },
  {
   "cell_type": "code",
   "execution_count": 103,
   "id": "fad0095f",
   "metadata": {},
   "outputs": [],
   "source": [
    "#assume that churn is the positive case\n",
    "#doesn't like max_depth = 1; need to use zero_division=True for classification_report\n",
    "depths = list(range(2, 6)) + list(range(2, 6))\n",
    "leafs = list(range(5, 1, -1)) + list(range(2, 6))\n",
    "values = {'depths':depths, 'leafs':leafs}\n",
    "outputs = []\n",
    "for i in range(len(depths)):\n",
    "    rf = RandomForestClassifier(min_samples_leaf = values['leafs'][i], max_depth=values['depths'][i], random_state=135)\n",
    "    rf = rf.fit(X_telco_train, y_telco_train)\n",
    "    y_pred = rf.predict(X_telco_train)\n",
    "    metrics_dict = metrics.classification_report(y_telco_train, y_pred, output_dict=True, zero_division=False)\n",
    "    output = {\n",
    "        'min_samples_leaf':values['leafs'][i],\n",
    "        'max_depth':values['depths'][i],\n",
    "        'accuracy':rf.score(X_telco_train, y_telco_train),\n",
    "        'precision':metrics_dict['1']['precision'],\n",
    "        'recall':metrics_dict['1']['recall']\n",
    "    }\n",
    "    outputs.append(output)"
   ]
  },
  {
   "cell_type": "code",
   "execution_count": 104,
   "id": "c34460f1",
   "metadata": {},
   "outputs": [
    {
     "data": {
      "text/html": [
       "<div>\n",
       "<style scoped>\n",
       "    .dataframe tbody tr th:only-of-type {\n",
       "        vertical-align: middle;\n",
       "    }\n",
       "\n",
       "    .dataframe tbody tr th {\n",
       "        vertical-align: top;\n",
       "    }\n",
       "\n",
       "    .dataframe thead th {\n",
       "        text-align: right;\n",
       "    }\n",
       "</style>\n",
       "<table border=\"1\" class=\"dataframe\">\n",
       "  <thead>\n",
       "    <tr style=\"text-align: right;\">\n",
       "      <th></th>\n",
       "      <th>min_samples_leaf</th>\n",
       "      <th>max_depth</th>\n",
       "      <th>accuracy</th>\n",
       "      <th>precision</th>\n",
       "      <th>recall</th>\n",
       "    </tr>\n",
       "  </thead>\n",
       "  <tbody>\n",
       "    <tr>\n",
       "      <th>0</th>\n",
       "      <td>5</td>\n",
       "      <td>2</td>\n",
       "      <td>0.735585</td>\n",
       "      <td>0.692308</td>\n",
       "      <td>0.008604</td>\n",
       "    </tr>\n",
       "    <tr>\n",
       "      <th>1</th>\n",
       "      <td>4</td>\n",
       "      <td>3</td>\n",
       "      <td>0.783084</td>\n",
       "      <td>0.747423</td>\n",
       "      <td>0.277247</td>\n",
       "    </tr>\n",
       "    <tr>\n",
       "      <th>2</th>\n",
       "      <td>3</td>\n",
       "      <td>4</td>\n",
       "      <td>0.792736</td>\n",
       "      <td>0.680251</td>\n",
       "      <td>0.414914</td>\n",
       "    </tr>\n",
       "    <tr>\n",
       "      <th>3</th>\n",
       "      <td>2</td>\n",
       "      <td>5</td>\n",
       "      <td>0.800864</td>\n",
       "      <td>0.687679</td>\n",
       "      <td>0.458891</td>\n",
       "    </tr>\n",
       "    <tr>\n",
       "      <th>4</th>\n",
       "      <td>2</td>\n",
       "      <td>2</td>\n",
       "      <td>0.735585</td>\n",
       "      <td>0.692308</td>\n",
       "      <td>0.008604</td>\n",
       "    </tr>\n",
       "    <tr>\n",
       "      <th>5</th>\n",
       "      <td>3</td>\n",
       "      <td>3</td>\n",
       "      <td>0.783084</td>\n",
       "      <td>0.747423</td>\n",
       "      <td>0.277247</td>\n",
       "    </tr>\n",
       "    <tr>\n",
       "      <th>6</th>\n",
       "      <td>4</td>\n",
       "      <td>4</td>\n",
       "      <td>0.792736</td>\n",
       "      <td>0.680818</td>\n",
       "      <td>0.413958</td>\n",
       "    </tr>\n",
       "    <tr>\n",
       "      <th>7</th>\n",
       "      <td>5</td>\n",
       "      <td>5</td>\n",
       "      <td>0.801118</td>\n",
       "      <td>0.686525</td>\n",
       "      <td>0.462715</td>\n",
       "    </tr>\n",
       "  </tbody>\n",
       "</table>\n",
       "</div>"
      ],
      "text/plain": [
       "   min_samples_leaf  max_depth  accuracy  precision    recall\n",
       "0                 5          2  0.735585   0.692308  0.008604\n",
       "1                 4          3  0.783084   0.747423  0.277247\n",
       "2                 3          4  0.792736   0.680251  0.414914\n",
       "3                 2          5  0.800864   0.687679  0.458891\n",
       "4                 2          2  0.735585   0.692308  0.008604\n",
       "5                 3          3  0.783084   0.747423  0.277247\n",
       "6                 4          4  0.792736   0.680818  0.413958\n",
       "7                 5          5  0.801118   0.686525  0.462715"
      ]
     },
     "execution_count": 104,
     "metadata": {},
     "output_type": "execute_result"
    }
   ],
   "source": [
    "pd.DataFrame(outputs)"
   ]
  },
  {
   "cell_type": "markdown",
   "id": "aaca05ee",
   "metadata": {},
   "source": [
    "## KNN algorithm"
   ]
  },
  {
   "cell_type": "code",
   "execution_count": 110,
   "id": "58b2690f",
   "metadata": {},
   "outputs": [],
   "source": [
    "from sklearn.neighbors import KNeighborsClassifier"
   ]
  },
  {
   "cell_type": "code",
   "execution_count": 111,
   "id": "7c9c7593",
   "metadata": {
    "scrolled": true
   },
   "outputs": [
    {
     "data": {
      "text/html": [
       "<div>\n",
       "<style scoped>\n",
       "    .dataframe tbody tr th:only-of-type {\n",
       "        vertical-align: middle;\n",
       "    }\n",
       "\n",
       "    .dataframe tbody tr th {\n",
       "        vertical-align: top;\n",
       "    }\n",
       "\n",
       "    .dataframe thead th {\n",
       "        text-align: right;\n",
       "    }\n",
       "</style>\n",
       "<table border=\"1\" class=\"dataframe\">\n",
       "  <thead>\n",
       "    <tr style=\"text-align: right;\">\n",
       "      <th></th>\n",
       "      <th>survived</th>\n",
       "      <th>pclass</th>\n",
       "      <th>age</th>\n",
       "      <th>sibsp</th>\n",
       "      <th>parch</th>\n",
       "      <th>fare</th>\n",
       "      <th>alone</th>\n",
       "      <th>sex_male</th>\n",
       "      <th>embark_town_Queenstown</th>\n",
       "      <th>embark_town_Southampton</th>\n",
       "    </tr>\n",
       "  </thead>\n",
       "  <tbody>\n",
       "    <tr>\n",
       "      <th>135</th>\n",
       "      <td>0</td>\n",
       "      <td>2</td>\n",
       "      <td>23.0</td>\n",
       "      <td>0</td>\n",
       "      <td>0</td>\n",
       "      <td>15.0458</td>\n",
       "      <td>1</td>\n",
       "      <td>1</td>\n",
       "      <td>0</td>\n",
       "      <td>0</td>\n",
       "    </tr>\n",
       "    <tr>\n",
       "      <th>452</th>\n",
       "      <td>0</td>\n",
       "      <td>1</td>\n",
       "      <td>30.0</td>\n",
       "      <td>0</td>\n",
       "      <td>0</td>\n",
       "      <td>27.7500</td>\n",
       "      <td>1</td>\n",
       "      <td>1</td>\n",
       "      <td>0</td>\n",
       "      <td>0</td>\n",
       "    </tr>\n",
       "    <tr>\n",
       "      <th>713</th>\n",
       "      <td>0</td>\n",
       "      <td>3</td>\n",
       "      <td>29.0</td>\n",
       "      <td>0</td>\n",
       "      <td>0</td>\n",
       "      <td>9.4833</td>\n",
       "      <td>1</td>\n",
       "      <td>1</td>\n",
       "      <td>0</td>\n",
       "      <td>1</td>\n",
       "    </tr>\n",
       "    <tr>\n",
       "      <th>239</th>\n",
       "      <td>0</td>\n",
       "      <td>2</td>\n",
       "      <td>33.0</td>\n",
       "      <td>0</td>\n",
       "      <td>0</td>\n",
       "      <td>12.2750</td>\n",
       "      <td>1</td>\n",
       "      <td>1</td>\n",
       "      <td>0</td>\n",
       "      <td>1</td>\n",
       "    </tr>\n",
       "    <tr>\n",
       "      <th>278</th>\n",
       "      <td>0</td>\n",
       "      <td>3</td>\n",
       "      <td>7.0</td>\n",
       "      <td>4</td>\n",
       "      <td>1</td>\n",
       "      <td>29.1250</td>\n",
       "      <td>0</td>\n",
       "      <td>1</td>\n",
       "      <td>1</td>\n",
       "      <td>0</td>\n",
       "    </tr>\n",
       "  </tbody>\n",
       "</table>\n",
       "</div>"
      ],
      "text/plain": [
       "     survived  pclass   age  sibsp  parch     fare  alone  sex_male  \\\n",
       "135         0       2  23.0      0      0  15.0458      1         1   \n",
       "452         0       1  30.0      0      0  27.7500      1         1   \n",
       "713         0       3  29.0      0      0   9.4833      1         1   \n",
       "239         0       2  33.0      0      0  12.2750      1         1   \n",
       "278         0       3   7.0      4      1  29.1250      0         1   \n",
       "\n",
       "     embark_town_Queenstown  embark_town_Southampton  \n",
       "135                       0                        0  \n",
       "452                       0                        0  \n",
       "713                       0                        1  \n",
       "239                       0                        1  \n",
       "278                       1                        0  "
      ]
     },
     "execution_count": 111,
     "metadata": {},
     "output_type": "execute_result"
    }
   ],
   "source": [
    "t_train, t_validate, t_test = p.split_titanic_data(a.get_titanic_data())\n",
    "t_train.sample(5)"
   ]
  },
  {
   "cell_type": "code",
   "execution_count": 112,
   "id": "f6265c56",
   "metadata": {},
   "outputs": [],
   "source": [
    "X_train = t_train.drop(columns='survived')\n",
    "y_train = t_train.survived"
   ]
  },
  {
   "cell_type": "markdown",
   "id": "319ff4db",
   "metadata": {},
   "source": [
    "1.\n",
    "\n",
    "\n",
    "Fit a K-Nearest Neighbors classifier to your training sample and transform (i.e. make predictions on the training sample)"
   ]
  },
  {
   "cell_type": "code",
   "execution_count": 113,
   "id": "d9c37c53",
   "metadata": {},
   "outputs": [
    {
     "data": {
      "text/plain": [
       "KNeighborsClassifier()"
      ]
     },
     "execution_count": 113,
     "metadata": {},
     "output_type": "execute_result"
    }
   ],
   "source": [
    "knn = KNeighborsClassifier(n_neighbors = 5)\n",
    "knn = knn.fit(X_train, y_train)\n",
    "knn"
   ]
  },
  {
   "cell_type": "code",
   "execution_count": 115,
   "id": "e6995c2c",
   "metadata": {},
   "outputs": [
    {
     "data": {
      "text/plain": [
       "array([0, 1, 1, 0, 0, 1, 0, 1, 0, 1])"
      ]
     },
     "execution_count": 115,
     "metadata": {},
     "output_type": "execute_result"
    }
   ],
   "source": [
    "y_pred = knn.predict(X_train)\n",
    "y_pred[0:10]"
   ]
  },
  {
   "cell_type": "markdown",
   "id": "824674cf",
   "metadata": {},
   "source": [
    "2.\n",
    "\n",
    "Evaluate your results using the model score, confusion matrix, and classification report."
   ]
  },
  {
   "cell_type": "code",
   "execution_count": 117,
   "id": "45e77766",
   "metadata": {},
   "outputs": [
    {
     "data": {
      "text/plain": [
       "'Accuracy of model with k = 5 : 0.7744360902255639'"
      ]
     },
     "execution_count": 117,
     "metadata": {},
     "output_type": "execute_result"
    }
   ],
   "source": [
    "f\"Accuracy of model with k = 5 : {knn.score(X_train, y_train)}\""
   ]
  },
  {
   "cell_type": "code",
   "execution_count": 118,
   "id": "2909d1c9",
   "metadata": {},
   "outputs": [
    {
     "data": {
      "text/html": [
       "<div>\n",
       "<style scoped>\n",
       "    .dataframe tbody tr th:only-of-type {\n",
       "        vertical-align: middle;\n",
       "    }\n",
       "\n",
       "    .dataframe tbody tr th {\n",
       "        vertical-align: top;\n",
       "    }\n",
       "\n",
       "    .dataframe thead th {\n",
       "        text-align: right;\n",
       "    }\n",
       "</style>\n",
       "<table border=\"1\" class=\"dataframe\">\n",
       "  <thead>\n",
       "    <tr style=\"text-align: right;\">\n",
       "      <th></th>\n",
       "      <th>0</th>\n",
       "      <th>1</th>\n",
       "    </tr>\n",
       "  </thead>\n",
       "  <tbody>\n",
       "    <tr>\n",
       "      <th>0</th>\n",
       "      <td>199</td>\n",
       "      <td>38</td>\n",
       "    </tr>\n",
       "    <tr>\n",
       "      <th>1</th>\n",
       "      <td>52</td>\n",
       "      <td>110</td>\n",
       "    </tr>\n",
       "  </tbody>\n",
       "</table>\n",
       "</div>"
      ],
      "text/plain": [
       "     0    1\n",
       "0  199   38\n",
       "1   52  110"
      ]
     },
     "execution_count": 118,
     "metadata": {},
     "output_type": "execute_result"
    }
   ],
   "source": [
    "pd.DataFrame(metrics.confusion_matrix(y_train, y_pred))"
   ]
  },
  {
   "cell_type": "code",
   "execution_count": 121,
   "id": "0725be36",
   "metadata": {},
   "outputs": [
    {
     "data": {
      "text/html": [
       "<div>\n",
       "<style scoped>\n",
       "    .dataframe tbody tr th:only-of-type {\n",
       "        vertical-align: middle;\n",
       "    }\n",
       "\n",
       "    .dataframe tbody tr th {\n",
       "        vertical-align: top;\n",
       "    }\n",
       "\n",
       "    .dataframe thead th {\n",
       "        text-align: right;\n",
       "    }\n",
       "</style>\n",
       "<table border=\"1\" class=\"dataframe\">\n",
       "  <thead>\n",
       "    <tr style=\"text-align: right;\">\n",
       "      <th></th>\n",
       "      <th>precision</th>\n",
       "      <th>recall</th>\n",
       "      <th>f1-score</th>\n",
       "      <th>support</th>\n",
       "    </tr>\n",
       "  </thead>\n",
       "  <tbody>\n",
       "    <tr>\n",
       "      <th>0</th>\n",
       "      <td>0.792829</td>\n",
       "      <td>0.839662</td>\n",
       "      <td>0.815574</td>\n",
       "      <td>237.000000</td>\n",
       "    </tr>\n",
       "    <tr>\n",
       "      <th>1</th>\n",
       "      <td>0.743243</td>\n",
       "      <td>0.679012</td>\n",
       "      <td>0.709677</td>\n",
       "      <td>162.000000</td>\n",
       "    </tr>\n",
       "    <tr>\n",
       "      <th>accuracy</th>\n",
       "      <td>0.774436</td>\n",
       "      <td>0.774436</td>\n",
       "      <td>0.774436</td>\n",
       "      <td>0.774436</td>\n",
       "    </tr>\n",
       "    <tr>\n",
       "      <th>macro avg</th>\n",
       "      <td>0.768036</td>\n",
       "      <td>0.759337</td>\n",
       "      <td>0.762626</td>\n",
       "      <td>399.000000</td>\n",
       "    </tr>\n",
       "    <tr>\n",
       "      <th>weighted avg</th>\n",
       "      <td>0.772696</td>\n",
       "      <td>0.774436</td>\n",
       "      <td>0.772578</td>\n",
       "      <td>399.000000</td>\n",
       "    </tr>\n",
       "  </tbody>\n",
       "</table>\n",
       "</div>"
      ],
      "text/plain": [
       "              precision    recall  f1-score     support\n",
       "0              0.792829  0.839662  0.815574  237.000000\n",
       "1              0.743243  0.679012  0.709677  162.000000\n",
       "accuracy       0.774436  0.774436  0.774436    0.774436\n",
       "macro avg      0.768036  0.759337  0.762626  399.000000\n",
       "weighted avg   0.772696  0.774436  0.772578  399.000000"
      ]
     },
     "execution_count": 121,
     "metadata": {},
     "output_type": "execute_result"
    }
   ],
   "source": [
    "pd.DataFrame(metrics.classification_report(y_train, y_pred, output_dict=True)).T"
   ]
  },
  {
   "cell_type": "markdown",
   "id": "7f431b78",
   "metadata": {},
   "source": [
    "3.\n",
    "\n",
    "Print and clearly label the following: Accuracy, true positive rate, false positive rate, true negative rate, false negative rate, precision, recall, f1-score, and support."
   ]
  },
  {
   "cell_type": "code",
   "execution_count": 122,
   "id": "e5cf2635",
   "metadata": {},
   "outputs": [
    {
     "name": "stdout",
     "output_type": "stream",
     "text": [
      "tp_rate = 0.6790123456790124\n",
      "tn_rate = 0.8396624472573839\n",
      "fp_rate = 0.25675675675675674\n",
      "fn_rate = 0.20717131474103587\n",
      "acc = 0.7744360902255639\n"
     ]
    }
   ],
   "source": [
    "tn, fp, fn, tp = metrics.confusion_matrix(y_train, y_pred).ravel()\n",
    "\n",
    "tp_rate = tp/(fn+tp)\n",
    "tn_rate = tn/(fp+tn)\n",
    "fp_rate = fp/(fp+tp)\n",
    "fn_rate = fn/(fn+tn)\n",
    "accuracy = (tp+tn)/(tp+tn+fn+fp)\n",
    "\n",
    "print(f\"tp_rate = {tp_rate}\\ntn_rate = {tn_rate}\\nfp_rate = {fp_rate}\\nfn_rate = {fn_rate}\\nacc = {accuracy}\")"
   ]
  },
  {
   "cell_type": "code",
   "execution_count": 128,
   "id": "29e8a4c6",
   "metadata": {},
   "outputs": [
    {
     "data": {
      "text/html": [
       "<div>\n",
       "<style scoped>\n",
       "    .dataframe tbody tr th:only-of-type {\n",
       "        vertical-align: middle;\n",
       "    }\n",
       "\n",
       "    .dataframe tbody tr th {\n",
       "        vertical-align: top;\n",
       "    }\n",
       "\n",
       "    .dataframe thead th {\n",
       "        text-align: right;\n",
       "    }\n",
       "</style>\n",
       "<table border=\"1\" class=\"dataframe\">\n",
       "  <thead>\n",
       "    <tr style=\"text-align: right;\">\n",
       "      <th></th>\n",
       "      <th>precision</th>\n",
       "    </tr>\n",
       "  </thead>\n",
       "  <tbody>\n",
       "    <tr>\n",
       "      <th>0</th>\n",
       "      <td>0.792829</td>\n",
       "    </tr>\n",
       "    <tr>\n",
       "      <th>1</th>\n",
       "      <td>0.743243</td>\n",
       "    </tr>\n",
       "    <tr>\n",
       "      <th>accuracy</th>\n",
       "      <td>0.774436</td>\n",
       "    </tr>\n",
       "    <tr>\n",
       "      <th>macro avg</th>\n",
       "      <td>0.768036</td>\n",
       "    </tr>\n",
       "    <tr>\n",
       "      <th>weighted avg</th>\n",
       "      <td>0.772696</td>\n",
       "    </tr>\n",
       "  </tbody>\n",
       "</table>\n",
       "</div>"
      ],
      "text/plain": [
       "              precision\n",
       "0              0.792829\n",
       "1              0.743243\n",
       "accuracy       0.774436\n",
       "macro avg      0.768036\n",
       "weighted avg   0.772696"
      ]
     },
     "execution_count": 128,
     "metadata": {},
     "output_type": "execute_result"
    }
   ],
   "source": [
    "class_report = pd.DataFrame(metrics.classification_report(y_train, y_pred, output_dict=True)).T\n",
    "class_report[['precision']]"
   ]
  },
  {
   "cell_type": "code",
   "execution_count": 129,
   "id": "276a1100",
   "metadata": {},
   "outputs": [
    {
     "data": {
      "text/html": [
       "<div>\n",
       "<style scoped>\n",
       "    .dataframe tbody tr th:only-of-type {\n",
       "        vertical-align: middle;\n",
       "    }\n",
       "\n",
       "    .dataframe tbody tr th {\n",
       "        vertical-align: top;\n",
       "    }\n",
       "\n",
       "    .dataframe thead th {\n",
       "        text-align: right;\n",
       "    }\n",
       "</style>\n",
       "<table border=\"1\" class=\"dataframe\">\n",
       "  <thead>\n",
       "    <tr style=\"text-align: right;\">\n",
       "      <th></th>\n",
       "      <th>recall</th>\n",
       "    </tr>\n",
       "  </thead>\n",
       "  <tbody>\n",
       "    <tr>\n",
       "      <th>0</th>\n",
       "      <td>0.839662</td>\n",
       "    </tr>\n",
       "    <tr>\n",
       "      <th>1</th>\n",
       "      <td>0.679012</td>\n",
       "    </tr>\n",
       "    <tr>\n",
       "      <th>accuracy</th>\n",
       "      <td>0.774436</td>\n",
       "    </tr>\n",
       "    <tr>\n",
       "      <th>macro avg</th>\n",
       "      <td>0.759337</td>\n",
       "    </tr>\n",
       "    <tr>\n",
       "      <th>weighted avg</th>\n",
       "      <td>0.774436</td>\n",
       "    </tr>\n",
       "  </tbody>\n",
       "</table>\n",
       "</div>"
      ],
      "text/plain": [
       "                recall\n",
       "0             0.839662\n",
       "1             0.679012\n",
       "accuracy      0.774436\n",
       "macro avg     0.759337\n",
       "weighted avg  0.774436"
      ]
     },
     "execution_count": 129,
     "metadata": {},
     "output_type": "execute_result"
    }
   ],
   "source": [
    "class_report[['recall']]"
   ]
  },
  {
   "cell_type": "code",
   "execution_count": 130,
   "id": "9007ecc7",
   "metadata": {},
   "outputs": [
    {
     "data": {
      "text/html": [
       "<div>\n",
       "<style scoped>\n",
       "    .dataframe tbody tr th:only-of-type {\n",
       "        vertical-align: middle;\n",
       "    }\n",
       "\n",
       "    .dataframe tbody tr th {\n",
       "        vertical-align: top;\n",
       "    }\n",
       "\n",
       "    .dataframe thead th {\n",
       "        text-align: right;\n",
       "    }\n",
       "</style>\n",
       "<table border=\"1\" class=\"dataframe\">\n",
       "  <thead>\n",
       "    <tr style=\"text-align: right;\">\n",
       "      <th></th>\n",
       "      <th>f1-score</th>\n",
       "    </tr>\n",
       "  </thead>\n",
       "  <tbody>\n",
       "    <tr>\n",
       "      <th>0</th>\n",
       "      <td>0.815574</td>\n",
       "    </tr>\n",
       "    <tr>\n",
       "      <th>1</th>\n",
       "      <td>0.709677</td>\n",
       "    </tr>\n",
       "    <tr>\n",
       "      <th>accuracy</th>\n",
       "      <td>0.774436</td>\n",
       "    </tr>\n",
       "    <tr>\n",
       "      <th>macro avg</th>\n",
       "      <td>0.762626</td>\n",
       "    </tr>\n",
       "    <tr>\n",
       "      <th>weighted avg</th>\n",
       "      <td>0.772578</td>\n",
       "    </tr>\n",
       "  </tbody>\n",
       "</table>\n",
       "</div>"
      ],
      "text/plain": [
       "              f1-score\n",
       "0             0.815574\n",
       "1             0.709677\n",
       "accuracy      0.774436\n",
       "macro avg     0.762626\n",
       "weighted avg  0.772578"
      ]
     },
     "execution_count": 130,
     "metadata": {},
     "output_type": "execute_result"
    }
   ],
   "source": [
    "class_report[['f1-score']]"
   ]
  },
  {
   "cell_type": "code",
   "execution_count": 131,
   "id": "29e08da4",
   "metadata": {},
   "outputs": [
    {
     "data": {
      "text/html": [
       "<div>\n",
       "<style scoped>\n",
       "    .dataframe tbody tr th:only-of-type {\n",
       "        vertical-align: middle;\n",
       "    }\n",
       "\n",
       "    .dataframe tbody tr th {\n",
       "        vertical-align: top;\n",
       "    }\n",
       "\n",
       "    .dataframe thead th {\n",
       "        text-align: right;\n",
       "    }\n",
       "</style>\n",
       "<table border=\"1\" class=\"dataframe\">\n",
       "  <thead>\n",
       "    <tr style=\"text-align: right;\">\n",
       "      <th></th>\n",
       "      <th>support</th>\n",
       "    </tr>\n",
       "  </thead>\n",
       "  <tbody>\n",
       "    <tr>\n",
       "      <th>0</th>\n",
       "      <td>237.000000</td>\n",
       "    </tr>\n",
       "    <tr>\n",
       "      <th>1</th>\n",
       "      <td>162.000000</td>\n",
       "    </tr>\n",
       "    <tr>\n",
       "      <th>accuracy</th>\n",
       "      <td>0.774436</td>\n",
       "    </tr>\n",
       "    <tr>\n",
       "      <th>macro avg</th>\n",
       "      <td>399.000000</td>\n",
       "    </tr>\n",
       "    <tr>\n",
       "      <th>weighted avg</th>\n",
       "      <td>399.000000</td>\n",
       "    </tr>\n",
       "  </tbody>\n",
       "</table>\n",
       "</div>"
      ],
      "text/plain": [
       "                 support\n",
       "0             237.000000\n",
       "1             162.000000\n",
       "accuracy        0.774436\n",
       "macro avg     399.000000\n",
       "weighted avg  399.000000"
      ]
     },
     "execution_count": 131,
     "metadata": {},
     "output_type": "execute_result"
    }
   ],
   "source": [
    "class_report[['support']]"
   ]
  },
  {
   "cell_type": "markdown",
   "id": "be619861",
   "metadata": {},
   "source": [
    "4.\n",
    "\n",
    "Run through steps 2-4 setting k to 10\n",
    "\n",
    "5.\n",
    "\n",
    "Run through setps 2-4 setting k to 20"
   ]
  },
  {
   "cell_type": "code",
   "execution_count": 133,
   "id": "87abc11e",
   "metadata": {},
   "outputs": [
    {
     "data": {
      "text/plain": [
       "{'0': {'precision': 0.7333333333333333,\n",
       "  'recall': 0.8818565400843882,\n",
       "  'f1-score': 0.8007662835249042,\n",
       "  'support': 237},\n",
       " '1': {'precision': 0.7543859649122807,\n",
       "  'recall': 0.5308641975308642,\n",
       "  'f1-score': 0.6231884057971014,\n",
       "  'support': 162},\n",
       " 'accuracy': 0.7393483709273183,\n",
       " 'macro avg': {'precision': 0.743859649122807,\n",
       "  'recall': 0.7063603688076262,\n",
       "  'f1-score': 0.7119773446610028,\n",
       "  'support': 399},\n",
       " 'weighted avg': {'precision': 0.7418810183353118,\n",
       "  'recall': 0.7393483709273183,\n",
       "  'f1-score': 0.7286669948233903,\n",
       "  'support': 399}}"
      ]
     },
     "execution_count": 133,
     "metadata": {},
     "output_type": "execute_result"
    }
   ],
   "source": [
    "metrics.classification_report(y_train, y_pred, output_dict=True)"
   ]
  },
  {
   "cell_type": "code",
   "execution_count": 148,
   "id": "a4d7932b",
   "metadata": {},
   "outputs": [],
   "source": [
    "#assume the survival is the positive case\n",
    "outputs = []\n",
    "for k in range(2, 22, 2):\n",
    "    knn = KNeighborsClassifier(n_neighbors=k)\n",
    "    knn = knn.fit(X_train, y_train)\n",
    "    y_pred = knn.predict(X_train)\n",
    "    metrics_dict = metrics.classification_report(y_train, y_pred, output_dict=True)\n",
    "    output = {\n",
    "        'k':k,\n",
    "        'accuracy':knn.score(X_train, y_train),\n",
    "        'recall': metrics_dict['1']['recall'],\n",
    "        'precision': metrics_dict['1']['precision']\n",
    "    }\n",
    "    outputs.append(output)"
   ]
  },
  {
   "cell_type": "code",
   "execution_count": 149,
   "id": "1b97d6c4",
   "metadata": {},
   "outputs": [
    {
     "data": {
      "text/html": [
       "<div>\n",
       "<style scoped>\n",
       "    .dataframe tbody tr th:only-of-type {\n",
       "        vertical-align: middle;\n",
       "    }\n",
       "\n",
       "    .dataframe tbody tr th {\n",
       "        vertical-align: top;\n",
       "    }\n",
       "\n",
       "    .dataframe thead th {\n",
       "        text-align: right;\n",
       "    }\n",
       "</style>\n",
       "<table border=\"1\" class=\"dataframe\">\n",
       "  <thead>\n",
       "    <tr style=\"text-align: right;\">\n",
       "      <th></th>\n",
       "      <th>k</th>\n",
       "      <th>accuracy</th>\n",
       "      <th>recall</th>\n",
       "      <th>precision</th>\n",
       "    </tr>\n",
       "  </thead>\n",
       "  <tbody>\n",
       "    <tr>\n",
       "      <th>0</th>\n",
       "      <td>2</td>\n",
       "      <td>0.832080</td>\n",
       "      <td>0.586420</td>\n",
       "      <td>1.000000</td>\n",
       "    </tr>\n",
       "    <tr>\n",
       "      <th>1</th>\n",
       "      <td>4</td>\n",
       "      <td>0.791980</td>\n",
       "      <td>0.586420</td>\n",
       "      <td>0.855856</td>\n",
       "    </tr>\n",
       "    <tr>\n",
       "      <th>2</th>\n",
       "      <td>6</td>\n",
       "      <td>0.759398</td>\n",
       "      <td>0.561728</td>\n",
       "      <td>0.784483</td>\n",
       "    </tr>\n",
       "    <tr>\n",
       "      <th>3</th>\n",
       "      <td>8</td>\n",
       "      <td>0.759398</td>\n",
       "      <td>0.561728</td>\n",
       "      <td>0.784483</td>\n",
       "    </tr>\n",
       "    <tr>\n",
       "      <th>4</th>\n",
       "      <td>10</td>\n",
       "      <td>0.751880</td>\n",
       "      <td>0.543210</td>\n",
       "      <td>0.778761</td>\n",
       "    </tr>\n",
       "    <tr>\n",
       "      <th>5</th>\n",
       "      <td>12</td>\n",
       "      <td>0.749373</td>\n",
       "      <td>0.543210</td>\n",
       "      <td>0.771930</td>\n",
       "    </tr>\n",
       "    <tr>\n",
       "      <th>6</th>\n",
       "      <td>14</td>\n",
       "      <td>0.759398</td>\n",
       "      <td>0.555556</td>\n",
       "      <td>0.789474</td>\n",
       "    </tr>\n",
       "    <tr>\n",
       "      <th>7</th>\n",
       "      <td>16</td>\n",
       "      <td>0.744361</td>\n",
       "      <td>0.524691</td>\n",
       "      <td>0.772727</td>\n",
       "    </tr>\n",
       "    <tr>\n",
       "      <th>8</th>\n",
       "      <td>18</td>\n",
       "      <td>0.739348</td>\n",
       "      <td>0.530864</td>\n",
       "      <td>0.754386</td>\n",
       "    </tr>\n",
       "    <tr>\n",
       "      <th>9</th>\n",
       "      <td>20</td>\n",
       "      <td>0.731830</td>\n",
       "      <td>0.543210</td>\n",
       "      <td>0.727273</td>\n",
       "    </tr>\n",
       "  </tbody>\n",
       "</table>\n",
       "</div>"
      ],
      "text/plain": [
       "    k  accuracy    recall  precision\n",
       "0   2  0.832080  0.586420   1.000000\n",
       "1   4  0.791980  0.586420   0.855856\n",
       "2   6  0.759398  0.561728   0.784483\n",
       "3   8  0.759398  0.561728   0.784483\n",
       "4  10  0.751880  0.543210   0.778761\n",
       "5  12  0.749373  0.543210   0.771930\n",
       "6  14  0.759398  0.555556   0.789474\n",
       "7  16  0.744361  0.524691   0.772727\n",
       "8  18  0.739348  0.530864   0.754386\n",
       "9  20  0.731830  0.543210   0.727273"
      ]
     },
     "execution_count": 149,
     "metadata": {},
     "output_type": "execute_result"
    }
   ],
   "source": [
    "pd.DataFrame(outputs)"
   ]
  },
  {
   "cell_type": "markdown",
   "id": "ae65337e",
   "metadata": {},
   "source": [
    "6.\n",
    "\n",
    "What are the differences in the evaluation metrics? Which performs better on your in-sample data? Why?"
   ]
  },
  {
   "cell_type": "code",
   "execution_count": null,
   "id": "bcfc130e",
   "metadata": {},
   "outputs": [],
   "source": []
  }
 ],
 "metadata": {
  "kernelspec": {
   "display_name": "Python 3 (ipykernel)",
   "language": "python",
   "name": "python3"
  },
  "language_info": {
   "codemirror_mode": {
    "name": "ipython",
    "version": 3
   },
   "file_extension": ".py",
   "mimetype": "text/x-python",
   "name": "python",
   "nbconvert_exporter": "python",
   "pygments_lexer": "ipython3",
   "version": "3.9.7"
  }
 },
 "nbformat": 4,
 "nbformat_minor": 5
}
