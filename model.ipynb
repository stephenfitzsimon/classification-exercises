{
 "cells": [
  {
   "cell_type": "code",
   "execution_count": 129,
   "id": "3b3c015c",
   "metadata": {},
   "outputs": [],
   "source": [
    "import pandas as pd\n",
    "from sklearn import metrics\n",
    "from sklearn.tree import DecisionTreeClassifier, plot_tree\n",
    "import matplotlib.pyplot as plt\n",
    "import numpy as np\n",
    "\n",
    "import acquire as a\n",
    "import prepare as p"
   ]
  },
  {
   "cell_type": "code",
   "execution_count": 2,
   "id": "72cf0d3a",
   "metadata": {},
   "outputs": [
    {
     "data": {
      "text/html": [
       "<div>\n",
       "<style scoped>\n",
       "    .dataframe tbody tr th:only-of-type {\n",
       "        vertical-align: middle;\n",
       "    }\n",
       "\n",
       "    .dataframe tbody tr th {\n",
       "        vertical-align: top;\n",
       "    }\n",
       "\n",
       "    .dataframe thead th {\n",
       "        text-align: right;\n",
       "    }\n",
       "</style>\n",
       "<table border=\"1\" class=\"dataframe\">\n",
       "  <thead>\n",
       "    <tr style=\"text-align: right;\">\n",
       "      <th></th>\n",
       "      <th>survived</th>\n",
       "      <th>pclass</th>\n",
       "      <th>age</th>\n",
       "      <th>sibsp</th>\n",
       "      <th>parch</th>\n",
       "      <th>fare</th>\n",
       "      <th>alone</th>\n",
       "      <th>sex_male</th>\n",
       "      <th>embark_town_Queenstown</th>\n",
       "      <th>embark_town_Southampton</th>\n",
       "    </tr>\n",
       "  </thead>\n",
       "  <tbody>\n",
       "    <tr>\n",
       "      <th>115</th>\n",
       "      <td>0</td>\n",
       "      <td>3</td>\n",
       "      <td>21.0</td>\n",
       "      <td>0</td>\n",
       "      <td>0</td>\n",
       "      <td>7.9250</td>\n",
       "      <td>1</td>\n",
       "      <td>1</td>\n",
       "      <td>0</td>\n",
       "      <td>1</td>\n",
       "    </tr>\n",
       "    <tr>\n",
       "      <th>322</th>\n",
       "      <td>1</td>\n",
       "      <td>2</td>\n",
       "      <td>30.0</td>\n",
       "      <td>0</td>\n",
       "      <td>0</td>\n",
       "      <td>12.3500</td>\n",
       "      <td>1</td>\n",
       "      <td>0</td>\n",
       "      <td>1</td>\n",
       "      <td>0</td>\n",
       "    </tr>\n",
       "    <tr>\n",
       "      <th>762</th>\n",
       "      <td>1</td>\n",
       "      <td>3</td>\n",
       "      <td>20.0</td>\n",
       "      <td>0</td>\n",
       "      <td>0</td>\n",
       "      <td>7.2292</td>\n",
       "      <td>1</td>\n",
       "      <td>1</td>\n",
       "      <td>0</td>\n",
       "      <td>0</td>\n",
       "    </tr>\n",
       "    <tr>\n",
       "      <th>281</th>\n",
       "      <td>0</td>\n",
       "      <td>3</td>\n",
       "      <td>28.0</td>\n",
       "      <td>0</td>\n",
       "      <td>0</td>\n",
       "      <td>7.8542</td>\n",
       "      <td>1</td>\n",
       "      <td>1</td>\n",
       "      <td>0</td>\n",
       "      <td>1</td>\n",
       "    </tr>\n",
       "    <tr>\n",
       "      <th>628</th>\n",
       "      <td>0</td>\n",
       "      <td>3</td>\n",
       "      <td>26.0</td>\n",
       "      <td>0</td>\n",
       "      <td>0</td>\n",
       "      <td>7.8958</td>\n",
       "      <td>1</td>\n",
       "      <td>1</td>\n",
       "      <td>0</td>\n",
       "      <td>1</td>\n",
       "    </tr>\n",
       "    <tr>\n",
       "      <th>...</th>\n",
       "      <td>...</td>\n",
       "      <td>...</td>\n",
       "      <td>...</td>\n",
       "      <td>...</td>\n",
       "      <td>...</td>\n",
       "      <td>...</td>\n",
       "      <td>...</td>\n",
       "      <td>...</td>\n",
       "      <td>...</td>\n",
       "      <td>...</td>\n",
       "    </tr>\n",
       "    <tr>\n",
       "      <th>0</th>\n",
       "      <td>0</td>\n",
       "      <td>3</td>\n",
       "      <td>22.0</td>\n",
       "      <td>1</td>\n",
       "      <td>0</td>\n",
       "      <td>7.2500</td>\n",
       "      <td>0</td>\n",
       "      <td>1</td>\n",
       "      <td>0</td>\n",
       "      <td>1</td>\n",
       "    </tr>\n",
       "    <tr>\n",
       "      <th>885</th>\n",
       "      <td>0</td>\n",
       "      <td>3</td>\n",
       "      <td>39.0</td>\n",
       "      <td>0</td>\n",
       "      <td>5</td>\n",
       "      <td>29.1250</td>\n",
       "      <td>0</td>\n",
       "      <td>0</td>\n",
       "      <td>1</td>\n",
       "      <td>0</td>\n",
       "    </tr>\n",
       "    <tr>\n",
       "      <th>646</th>\n",
       "      <td>0</td>\n",
       "      <td>3</td>\n",
       "      <td>19.0</td>\n",
       "      <td>0</td>\n",
       "      <td>0</td>\n",
       "      <td>7.8958</td>\n",
       "      <td>1</td>\n",
       "      <td>1</td>\n",
       "      <td>0</td>\n",
       "      <td>1</td>\n",
       "    </tr>\n",
       "    <tr>\n",
       "      <th>432</th>\n",
       "      <td>1</td>\n",
       "      <td>2</td>\n",
       "      <td>42.0</td>\n",
       "      <td>1</td>\n",
       "      <td>0</td>\n",
       "      <td>26.0000</td>\n",
       "      <td>0</td>\n",
       "      <td>0</td>\n",
       "      <td>0</td>\n",
       "      <td>1</td>\n",
       "    </tr>\n",
       "    <tr>\n",
       "      <th>320</th>\n",
       "      <td>0</td>\n",
       "      <td>3</td>\n",
       "      <td>22.0</td>\n",
       "      <td>0</td>\n",
       "      <td>0</td>\n",
       "      <td>7.2500</td>\n",
       "      <td>1</td>\n",
       "      <td>1</td>\n",
       "      <td>0</td>\n",
       "      <td>1</td>\n",
       "    </tr>\n",
       "  </tbody>\n",
       "</table>\n",
       "<p>399 rows × 10 columns</p>\n",
       "</div>"
      ],
      "text/plain": [
       "     survived  pclass   age  sibsp  parch     fare  alone  sex_male  \\\n",
       "115         0       3  21.0      0      0   7.9250      1         1   \n",
       "322         1       2  30.0      0      0  12.3500      1         0   \n",
       "762         1       3  20.0      0      0   7.2292      1         1   \n",
       "281         0       3  28.0      0      0   7.8542      1         1   \n",
       "628         0       3  26.0      0      0   7.8958      1         1   \n",
       "..        ...     ...   ...    ...    ...      ...    ...       ...   \n",
       "0           0       3  22.0      1      0   7.2500      0         1   \n",
       "885         0       3  39.0      0      5  29.1250      0         0   \n",
       "646         0       3  19.0      0      0   7.8958      1         1   \n",
       "432         1       2  42.0      1      0  26.0000      0         0   \n",
       "320         0       3  22.0      0      0   7.2500      1         1   \n",
       "\n",
       "     embark_town_Queenstown  embark_town_Southampton  \n",
       "115                       0                        1  \n",
       "322                       1                        0  \n",
       "762                       0                        0  \n",
       "281                       0                        1  \n",
       "628                       0                        1  \n",
       "..                      ...                      ...  \n",
       "0                         0                        1  \n",
       "885                       1                        0  \n",
       "646                       0                        1  \n",
       "432                       0                        1  \n",
       "320                       0                        1  \n",
       "\n",
       "[399 rows x 10 columns]"
      ]
     },
     "execution_count": 2,
     "metadata": {},
     "output_type": "execute_result"
    }
   ],
   "source": [
    "df = a.get_titanic_data()\n",
    "df_train, validate, test = p.split_titanic_data(df)\n",
    "df_train"
   ]
  },
  {
   "cell_type": "code",
   "execution_count": 30,
   "id": "d8a52fbf",
   "metadata": {},
   "outputs": [
    {
     "data": {
      "text/plain": [
       "0    237\n",
       "1    162\n",
       "Name: survived, dtype: int64"
      ]
     },
     "execution_count": 30,
     "metadata": {},
     "output_type": "execute_result"
    }
   ],
   "source": [
    "df_train.survived.value_counts()"
   ]
  },
  {
   "cell_type": "markdown",
   "id": "4e9c399e",
   "metadata": {},
   "source": [
    "##### Using the titanic data, in your classification-exercises repository, create a notebook, model.ipynb where you will do the following:\n",
    "\n",
    "1. \n",
    "\n",
    "What is your baseline prediction? What is your baseline accuracy? remember: your baseline prediction for a classification problem is predicting the most prevelant class in the training dataset (the mode). When you make those predictions, what is your accuracy? This is your baseline accuracy.\n"
   ]
  },
  {
   "cell_type": "code",
   "execution_count": 4,
   "id": "36ed21ec",
   "metadata": {},
   "outputs": [
    {
     "data": {
      "text/plain": [
       "0      0\n",
       "1      0\n",
       "2      0\n",
       "3      0\n",
       "4      0\n",
       "      ..\n",
       "394    0\n",
       "395    0\n",
       "396    0\n",
       "397    0\n",
       "398    0\n",
       "Length: 399, dtype: int64"
      ]
     },
     "execution_count": 4,
     "metadata": {},
     "output_type": "execute_result"
    }
   ],
   "source": [
    "# get the most common value in survived\n",
    "baseline_prediction = df_train.survived.value_counts().idxmax()\n",
    "baseline_model = pd.Series([baseline_prediction for x in range(df_train.shape[0])])\n",
    "baseline_model"
   ]
  },
  {
   "cell_type": "code",
   "execution_count": 5,
   "id": "4f4ce759",
   "metadata": {},
   "outputs": [
    {
     "name": "stderr",
     "output_type": "stream",
     "text": [
      "/opt/homebrew/anaconda3/lib/python3.9/site-packages/sklearn/metrics/_classification.py:1248: UndefinedMetricWarning: Precision and F-score are ill-defined and being set to 0.0 in labels with no predicted samples. Use `zero_division` parameter to control this behavior.\n",
      "  _warn_prf(average, modifier, msg_start, len(result))\n",
      "/opt/homebrew/anaconda3/lib/python3.9/site-packages/sklearn/metrics/_classification.py:1248: UndefinedMetricWarning: Precision and F-score are ill-defined and being set to 0.0 in labels with no predicted samples. Use `zero_division` parameter to control this behavior.\n",
      "  _warn_prf(average, modifier, msg_start, len(result))\n",
      "/opt/homebrew/anaconda3/lib/python3.9/site-packages/sklearn/metrics/_classification.py:1248: UndefinedMetricWarning: Precision and F-score are ill-defined and being set to 0.0 in labels with no predicted samples. Use `zero_division` parameter to control this behavior.\n",
      "  _warn_prf(average, modifier, msg_start, len(result))\n"
     ]
    },
    {
     "data": {
      "text/html": [
       "<div>\n",
       "<style scoped>\n",
       "    .dataframe tbody tr th:only-of-type {\n",
       "        vertical-align: middle;\n",
       "    }\n",
       "\n",
       "    .dataframe tbody tr th {\n",
       "        vertical-align: top;\n",
       "    }\n",
       "\n",
       "    .dataframe thead th {\n",
       "        text-align: right;\n",
       "    }\n",
       "</style>\n",
       "<table border=\"1\" class=\"dataframe\">\n",
       "  <thead>\n",
       "    <tr style=\"text-align: right;\">\n",
       "      <th></th>\n",
       "      <th>precision</th>\n",
       "      <th>recall</th>\n",
       "      <th>f1-score</th>\n",
       "      <th>support</th>\n",
       "    </tr>\n",
       "  </thead>\n",
       "  <tbody>\n",
       "    <tr>\n",
       "      <th>0</th>\n",
       "      <td>0.593985</td>\n",
       "      <td>1.000000</td>\n",
       "      <td>0.745283</td>\n",
       "      <td>237.000000</td>\n",
       "    </tr>\n",
       "    <tr>\n",
       "      <th>1</th>\n",
       "      <td>0.000000</td>\n",
       "      <td>0.000000</td>\n",
       "      <td>0.000000</td>\n",
       "      <td>162.000000</td>\n",
       "    </tr>\n",
       "    <tr>\n",
       "      <th>accuracy</th>\n",
       "      <td>0.593985</td>\n",
       "      <td>0.593985</td>\n",
       "      <td>0.593985</td>\n",
       "      <td>0.593985</td>\n",
       "    </tr>\n",
       "    <tr>\n",
       "      <th>macro avg</th>\n",
       "      <td>0.296992</td>\n",
       "      <td>0.500000</td>\n",
       "      <td>0.372642</td>\n",
       "      <td>399.000000</td>\n",
       "    </tr>\n",
       "    <tr>\n",
       "      <th>weighted avg</th>\n",
       "      <td>0.352818</td>\n",
       "      <td>0.593985</td>\n",
       "      <td>0.442687</td>\n",
       "      <td>399.000000</td>\n",
       "    </tr>\n",
       "  </tbody>\n",
       "</table>\n",
       "</div>"
      ],
      "text/plain": [
       "              precision    recall  f1-score     support\n",
       "0              0.593985  1.000000  0.745283  237.000000\n",
       "1              0.000000  0.000000  0.000000  162.000000\n",
       "accuracy       0.593985  0.593985  0.593985    0.593985\n",
       "macro avg      0.296992  0.500000  0.372642  399.000000\n",
       "weighted avg   0.352818  0.593985  0.442687  399.000000"
      ]
     },
     "execution_count": 5,
     "metadata": {},
     "output_type": "execute_result"
    }
   ],
   "source": [
    "pd.DataFrame(metrics.classification_report(df_train.survived, baseline_model, labels = [0, 1], output_dict=True)).T"
   ]
  },
  {
   "cell_type": "markdown",
   "id": "a15ae366",
   "metadata": {},
   "source": [
    "baseline accuracy is 0.62"
   ]
  },
  {
   "cell_type": "markdown",
   "id": "6b75c9d2",
   "metadata": {},
   "source": [
    "2.\n",
    "\n",
    "Fit the decision tree classifier to your training sample and transform (i.e. make predictions on the training sample)"
   ]
  },
  {
   "cell_type": "code",
   "execution_count": 6,
   "id": "1557fe51",
   "metadata": {},
   "outputs": [],
   "source": [
    "# split the train data into X and y sets\n",
    "\n",
    "X_train = df_train.drop(columns = ['survived'])\n",
    "y_train = df_train.survived"
   ]
  },
  {
   "cell_type": "code",
   "execution_count": 31,
   "id": "6ab87a6b",
   "metadata": {},
   "outputs": [],
   "source": [
    "#make the model object\n",
    "clf = DecisionTreeClassifier(max_depth = 3, random_state=123)"
   ]
  },
  {
   "cell_type": "code",
   "execution_count": 32,
   "id": "71702b79",
   "metadata": {},
   "outputs": [
    {
     "data": {
      "text/plain": [
       "DecisionTreeClassifier(max_depth=3, random_state=123)"
      ]
     },
     "execution_count": 32,
     "metadata": {},
     "output_type": "execute_result"
    }
   ],
   "source": [
    "#train the model\n",
    "\n",
    "clf.fit(X_train, y_train)"
   ]
  },
  {
   "cell_type": "code",
   "execution_count": 33,
   "id": "c5afe83b",
   "metadata": {
    "scrolled": false
   },
   "outputs": [
    {
     "data": {
      "text/plain": [
       "[Text(362.7, 618.3449999999999, 'sex_male <= 0.5\\ngini = 0.482\\nsamples = 399\\nvalue = [237, 162]\\nclass = perished'),\n",
       " Text(181.35, 441.67499999999995, 'pclass <= 2.5\\ngini = 0.365\\nsamples = 154\\nvalue = [37, 117]\\nclass = survived'),\n",
       " Text(90.675, 265.005, 'age <= 2.5\\ngini = 0.096\\nsamples = 99\\nvalue = [5, 94]\\nclass = survived'),\n",
       " Text(45.3375, 88.33500000000004, 'gini = 0.5\\nsamples = 2\\nvalue = [1, 1]\\nclass = perished'),\n",
       " Text(136.0125, 88.33500000000004, 'gini = 0.079\\nsamples = 97\\nvalue = [4, 93]\\nclass = survived'),\n",
       " Text(272.025, 265.005, 'fare <= 23.087\\ngini = 0.487\\nsamples = 55\\nvalue = [32, 23]\\nclass = perished'),\n",
       " Text(226.6875, 88.33500000000004, 'gini = 0.497\\nsamples = 41\\nvalue = [19, 22]\\nclass = survived'),\n",
       " Text(317.3625, 88.33500000000004, 'gini = 0.133\\nsamples = 14\\nvalue = [13, 1]\\nclass = perished'),\n",
       " Text(544.05, 441.67499999999995, 'fare <= 56.198\\ngini = 0.3\\nsamples = 245\\nvalue = [200, 45]\\nclass = perished'),\n",
       " Text(453.375, 265.005, 'age <= 3.5\\ngini = 0.25\\nsamples = 218\\nvalue = [186, 32]\\nclass = perished'),\n",
       " Text(408.03749999999997, 88.33500000000004, 'gini = 0.469\\nsamples = 8\\nvalue = [3, 5]\\nclass = survived'),\n",
       " Text(498.7125, 88.33500000000004, 'gini = 0.224\\nsamples = 210\\nvalue = [183, 27]\\nclass = perished'),\n",
       " Text(634.725, 265.005, 'fare <= 64.979\\ngini = 0.499\\nsamples = 27\\nvalue = [14, 13]\\nclass = perished'),\n",
       " Text(589.3874999999999, 88.33500000000004, 'gini = 0.0\\nsamples = 3\\nvalue = [0, 3]\\nclass = survived'),\n",
       " Text(680.0625, 88.33500000000004, 'gini = 0.486\\nsamples = 24\\nvalue = [14, 10]\\nclass = perished')]"
      ]
     },
     "execution_count": 33,
     "metadata": {},
     "output_type": "execute_result"
    },
    {
     "data": {
      "image/png": "[encoded data removed]",
      "text/plain": [
       "<Figure size 936x936 with 1 Axes>"
      ]
     },
     "metadata": {
      "needs_background": "light"
     },
     "output_type": "display_data"
    }
   ],
   "source": [
    "plt.figure(figsize=(13, 13))\n",
    "plot_tree(clf, feature_names = X_train.columns, class_names = np.array(['perished', 'survived']), rounded=True)"
   ]
  },
  {
   "cell_type": "code",
   "execution_count": 37,
   "id": "e620654d",
   "metadata": {},
   "outputs": [
    {
     "data": {
      "text/plain": [
       "array([0, 1, 0, 0, 0])"
      ]
     },
     "execution_count": 37,
     "metadata": {},
     "output_type": "execute_result"
    }
   ],
   "source": [
    "# make predictions using the training data\n",
    "y_pred = clf.predict(X_train)\n",
    "y_pred[0:5]"
   ]
  },
  {
   "cell_type": "code",
   "execution_count": 38,
   "id": "1bab15f4",
   "metadata": {},
   "outputs": [
    {
     "data": {
      "text/plain": [
       "array([[0.87142857, 0.12857143],\n",
       "       [0.04123711, 0.95876289],\n",
       "       [0.87142857, 0.12857143],\n",
       "       [0.87142857, 0.12857143],\n",
       "       [0.87142857, 0.12857143]])"
      ]
     },
     "execution_count": 38,
     "metadata": {},
     "output_type": "execute_result"
    }
   ],
   "source": [
    "y_pred_prob = clf.predict_proba(X_train)\n",
    "y_pred_prob[0:5]"
   ]
  },
  {
   "cell_type": "markdown",
   "id": "d5942377",
   "metadata": {},
   "source": [
    "3. \n",
    "\n",
    "\n",
    "Evaluate your in-sample results using the model score, confusion matrix, and classification report."
   ]
  },
  {
   "cell_type": "code",
   "execution_count": 35,
   "id": "4c0adb62",
   "metadata": {},
   "outputs": [
    {
     "data": {
      "text/plain": [
       "'Accuracy on train data is 0.8370927318295739'"
      ]
     },
     "execution_count": 35,
     "metadata": {},
     "output_type": "execute_result"
    }
   ],
   "source": [
    "f\"Accuracy on train data is {clf.score(X_train, y_train)}\""
   ]
  },
  {
   "cell_type": "code",
   "execution_count": 43,
   "id": "7dce602d",
   "metadata": {},
   "outputs": [
    {
     "data": {
      "text/html": [
       "<div>\n",
       "<style scoped>\n",
       "    .dataframe tbody tr th:only-of-type {\n",
       "        vertical-align: middle;\n",
       "    }\n",
       "\n",
       "    .dataframe tbody tr th {\n",
       "        vertical-align: top;\n",
       "    }\n",
       "\n",
       "    .dataframe thead th {\n",
       "        text-align: right;\n",
       "    }\n",
       "</style>\n",
       "<table border=\"1\" class=\"dataframe\">\n",
       "  <thead>\n",
       "    <tr style=\"text-align: right;\">\n",
       "      <th></th>\n",
       "      <th>0</th>\n",
       "      <th>1</th>\n",
       "    </tr>\n",
       "  </thead>\n",
       "  <tbody>\n",
       "    <tr>\n",
       "      <th>0</th>\n",
       "      <td>211</td>\n",
       "      <td>26</td>\n",
       "    </tr>\n",
       "    <tr>\n",
       "      <th>1</th>\n",
       "      <td>39</td>\n",
       "      <td>123</td>\n",
       "    </tr>\n",
       "  </tbody>\n",
       "</table>\n",
       "</div>"
      ],
      "text/plain": [
       "     0    1\n",
       "0  211   26\n",
       "1   39  123"
      ]
     },
     "execution_count": 43,
     "metadata": {},
     "output_type": "execute_result"
    }
   ],
   "source": [
    "#make a confusion matrix\n",
    "pd.DataFrame(metrics.confusion_matrix(y_train, y_pred))"
   ]
  },
  {
   "cell_type": "code",
   "execution_count": 46,
   "id": "e9552851",
   "metadata": {},
   "outputs": [
    {
     "name": "stdout",
     "output_type": "stream",
     "text": [
      "              precision    recall  f1-score   support\n",
      "\n",
      "           0       0.84      0.89      0.87       237\n",
      "           1       0.83      0.76      0.79       162\n",
      "\n",
      "    accuracy                           0.84       399\n",
      "   macro avg       0.83      0.82      0.83       399\n",
      "weighted avg       0.84      0.84      0.84       399\n",
      "\n"
     ]
    }
   ],
   "source": [
    "print(metrics.classification_report(y_train, y_pred))"
   ]
  },
  {
   "cell_type": "markdown",
   "id": "75fa81e2",
   "metadata": {},
   "source": [
    "4.\n",
    "\n",
    "Compute: Accuracy, true positive rate, false positive rate, true negative rate, false negative rate, precision, recall, f1-score, and support."
   ]
  },
  {
   "cell_type": "code",
   "execution_count": 101,
   "id": "a54e5d93",
   "metadata": {},
   "outputs": [
    {
     "data": {
      "text/plain": [
       "(211, 26, 39, 123)"
      ]
     },
     "execution_count": 101,
     "metadata": {},
     "output_type": "execute_result"
    }
   ],
   "source": [
    "tn, fp, fn, tp = metrics.confusion_matrix(y_train, y_pred).ravel()\n",
    "tn, fp, fn, tp"
   ]
  },
  {
   "cell_type": "code",
   "execution_count": 102,
   "id": "ce6de163",
   "metadata": {},
   "outputs": [
    {
     "data": {
      "text/plain": [
       "0.7592592592592593"
      ]
     },
     "execution_count": 102,
     "metadata": {},
     "output_type": "execute_result"
    }
   ],
   "source": [
    "#true positive rate\n",
    "\n",
    "tp/(tp+fn)"
   ]
  },
  {
   "cell_type": "code",
   "execution_count": 103,
   "id": "86352c0a",
   "metadata": {},
   "outputs": [
    {
     "data": {
      "text/plain": [
       "0.174496644295302"
      ]
     },
     "execution_count": 103,
     "metadata": {},
     "output_type": "execute_result"
    }
   ],
   "source": [
    "# false positive rate\n",
    "\n",
    "fp/(fp+tp)"
   ]
  },
  {
   "cell_type": "code",
   "execution_count": 104,
   "id": "c39e274b",
   "metadata": {},
   "outputs": [
    {
     "data": {
      "text/plain": [
       "0.890295358649789"
      ]
     },
     "execution_count": 104,
     "metadata": {},
     "output_type": "execute_result"
    }
   ],
   "source": [
    "# true negative rate\n",
    "\n",
    "tn/(tn+fp)"
   ]
  },
  {
   "cell_type": "code",
   "execution_count": 105,
   "id": "5b40b2fa",
   "metadata": {},
   "outputs": [
    {
     "data": {
      "text/plain": [
       "0.24074074074074073"
      ]
     },
     "execution_count": 105,
     "metadata": {},
     "output_type": "execute_result"
    }
   ],
   "source": [
    "# false negative rate\n",
    "\n",
    "fn/(fn+tp)"
   ]
  },
  {
   "cell_type": "code",
   "execution_count": 106,
   "id": "3ecdd24d",
   "metadata": {},
   "outputs": [
    {
     "data": {
      "text/plain": [
       "0.8370927318295739"
      ]
     },
     "execution_count": 106,
     "metadata": {},
     "output_type": "execute_result"
    }
   ],
   "source": [
    "# accuracy\n",
    "\n",
    "(tp+tn)/(tn + fp + fn + tp)"
   ]
  },
  {
   "cell_type": "code",
   "execution_count": 107,
   "id": "ccdfc8e8",
   "metadata": {},
   "outputs": [
    {
     "name": "stdout",
     "output_type": "stream",
     "text": [
      "              precision    recall  f1-score   support\n",
      "\n",
      "           0       0.84      0.89      0.87       237\n",
      "           1       0.83      0.76      0.79       162\n",
      "\n",
      "    accuracy                           0.84       399\n",
      "   macro avg       0.83      0.82      0.83       399\n",
      "weighted avg       0.84      0.84      0.84       399\n",
      "\n"
     ]
    }
   ],
   "source": [
    "print(metrics.classification_report(y_train, y_pred))"
   ]
  },
  {
   "cell_type": "markdown",
   "id": "492eff72",
   "metadata": {},
   "source": [
    "5.\n",
    "\n",
    "Run through steps 2-4 using a different max_depth value."
   ]
  },
  {
   "cell_type": "code",
   "execution_count": 108,
   "id": "a06d7392",
   "metadata": {},
   "outputs": [
    {
     "data": {
      "text/plain": [
       "[Text(362.7, 588.9, 'sex_male <= 0.5\\ngini = 0.482\\nsamples = 399\\nvalue = [237, 162]\\nclass = perished'),\n",
       " Text(181.35, 353.34, 'pclass <= 2.5\\ngini = 0.365\\nsamples = 154\\nvalue = [37, 117]\\nclass = survived'),\n",
       " Text(90.675, 117.77999999999997, 'gini = 0.096\\nsamples = 99\\nvalue = [5, 94]\\nclass = survived'),\n",
       " Text(272.025, 117.77999999999997, 'gini = 0.487\\nsamples = 55\\nvalue = [32, 23]\\nclass = perished'),\n",
       " Text(544.05, 353.34, 'fare <= 56.198\\ngini = 0.3\\nsamples = 245\\nvalue = [200, 45]\\nclass = perished'),\n",
       " Text(453.375, 117.77999999999997, 'gini = 0.25\\nsamples = 218\\nvalue = [186, 32]\\nclass = perished'),\n",
       " Text(634.725, 117.77999999999997, 'gini = 0.499\\nsamples = 27\\nvalue = [14, 13]\\nclass = perished')]"
      ]
     },
     "execution_count": 108,
     "metadata": {},
     "output_type": "execute_result"
    },
    {
     "data": {
      "image/png": "[encoded data removed]",
      "text/plain": [
       "<Figure size 936x936 with 1 Axes>"
      ]
     },
     "metadata": {
      "needs_background": "light"
     },
     "output_type": "display_data"
    }
   ],
   "source": [
    "clf2 = DecisionTreeClassifier(max_depth = 2, random_state=123)\n",
    "clf2 = clf2.fit(X_train, y_train)\n",
    "plt.figure(figsize=(13, 13))\n",
    "plot_tree(clf2, feature_names = X_train.columns, class_names = np.array(['perished', 'survived']), rounded=True)"
   ]
  },
  {
   "cell_type": "code",
   "execution_count": 109,
   "id": "8b582199",
   "metadata": {},
   "outputs": [
    {
     "data": {
      "text/plain": [
       "array([0, 1, 0, 0, 0])"
      ]
     },
     "execution_count": 109,
     "metadata": {},
     "output_type": "execute_result"
    }
   ],
   "source": [
    "# make predictions using the training data\n",
    "y_pred2 = clf2.predict(X_train)\n",
    "y_pred2[0:5]"
   ]
  },
  {
   "cell_type": "code",
   "execution_count": 110,
   "id": "2975196b",
   "metadata": {},
   "outputs": [
    {
     "data": {
      "text/plain": [
       "array([[0.87142857, 0.12857143],\n",
       "       [0.04123711, 0.95876289],\n",
       "       [0.87142857, 0.12857143],\n",
       "       [0.87142857, 0.12857143],\n",
       "       [0.87142857, 0.12857143]])"
      ]
     },
     "execution_count": 110,
     "metadata": {},
     "output_type": "execute_result"
    }
   ],
   "source": [
    "y_pred_prob2 = clf.predict_proba(X_train)\n",
    "y_pred_prob2[0:5]"
   ]
  },
  {
   "cell_type": "code",
   "execution_count": 111,
   "id": "c850771c",
   "metadata": {},
   "outputs": [
    {
     "data": {
      "text/plain": [
       "'Accuracy on train data is 0.8170426065162907'"
      ]
     },
     "execution_count": 111,
     "metadata": {},
     "output_type": "execute_result"
    }
   ],
   "source": [
    "f\"Accuracy on train data is {clf2.score(X_train, y_train)}\""
   ]
  },
  {
   "cell_type": "code",
   "execution_count": 112,
   "id": "c89a2b6f",
   "metadata": {},
   "outputs": [
    {
     "data": {
      "text/html": [
       "<div>\n",
       "<style scoped>\n",
       "    .dataframe tbody tr th:only-of-type {\n",
       "        vertical-align: middle;\n",
       "    }\n",
       "\n",
       "    .dataframe tbody tr th {\n",
       "        vertical-align: top;\n",
       "    }\n",
       "\n",
       "    .dataframe thead th {\n",
       "        text-align: right;\n",
       "    }\n",
       "</style>\n",
       "<table border=\"1\" class=\"dataframe\">\n",
       "  <thead>\n",
       "    <tr style=\"text-align: right;\">\n",
       "      <th></th>\n",
       "      <th>0</th>\n",
       "      <th>1</th>\n",
       "    </tr>\n",
       "  </thead>\n",
       "  <tbody>\n",
       "    <tr>\n",
       "      <th>0</th>\n",
       "      <td>232</td>\n",
       "      <td>5</td>\n",
       "    </tr>\n",
       "    <tr>\n",
       "      <th>1</th>\n",
       "      <td>68</td>\n",
       "      <td>94</td>\n",
       "    </tr>\n",
       "  </tbody>\n",
       "</table>\n",
       "</div>"
      ],
      "text/plain": [
       "     0   1\n",
       "0  232   5\n",
       "1   68  94"
      ]
     },
     "execution_count": 112,
     "metadata": {},
     "output_type": "execute_result"
    }
   ],
   "source": [
    "pd.DataFrame(metrics.confusion_matrix(y_train, y_pred2))"
   ]
  },
  {
   "cell_type": "code",
   "execution_count": 113,
   "id": "a4c74f06",
   "metadata": {
    "scrolled": true
   },
   "outputs": [
    {
     "name": "stdout",
     "output_type": "stream",
     "text": [
      "              precision    recall  f1-score   support\n",
      "\n",
      "           0       0.77      0.98      0.86       237\n",
      "           1       0.95      0.58      0.72       162\n",
      "\n",
      "    accuracy                           0.82       399\n",
      "   macro avg       0.86      0.78      0.79       399\n",
      "weighted avg       0.84      0.82      0.81       399\n",
      "\n"
     ]
    }
   ],
   "source": [
    "print(metrics.classification_report(y_train, y_pred2))"
   ]
  },
  {
   "cell_type": "code",
   "execution_count": 114,
   "id": "eb6adfdb",
   "metadata": {},
   "outputs": [
    {
     "data": {
      "text/plain": [
       "(232, 5, 68, 94)"
      ]
     },
     "execution_count": 114,
     "metadata": {},
     "output_type": "execute_result"
    }
   ],
   "source": [
    "tn, fp, fn, tp = metrics.confusion_matrix(y_train, y_pred2).ravel()\n",
    "tn, fp, fn, tp"
   ]
  },
  {
   "cell_type": "code",
   "execution_count": 115,
   "id": "8cad2795",
   "metadata": {},
   "outputs": [
    {
     "data": {
      "text/plain": [
       "0.5802469135802469"
      ]
     },
     "execution_count": 115,
     "metadata": {},
     "output_type": "execute_result"
    }
   ],
   "source": [
    "#true positive rate\n",
    "\n",
    "tp/(tp+fn)"
   ]
  },
  {
   "cell_type": "code",
   "execution_count": 116,
   "id": "4f5fc35f",
   "metadata": {},
   "outputs": [
    {
     "data": {
      "text/plain": [
       "0.050505050505050504"
      ]
     },
     "execution_count": 116,
     "metadata": {},
     "output_type": "execute_result"
    }
   ],
   "source": [
    "# false positive rate\n",
    "\n",
    "fp/(fp+tp)"
   ]
  },
  {
   "cell_type": "code",
   "execution_count": 117,
   "id": "48570acb",
   "metadata": {},
   "outputs": [
    {
     "data": {
      "text/plain": [
       "0.9789029535864979"
      ]
     },
     "execution_count": 117,
     "metadata": {},
     "output_type": "execute_result"
    }
   ],
   "source": [
    "# true negative rate\n",
    "\n",
    "tn/(tn+fp)"
   ]
  },
  {
   "cell_type": "code",
   "execution_count": 118,
   "id": "b73cadcb",
   "metadata": {},
   "outputs": [
    {
     "data": {
      "text/plain": [
       "0.41975308641975306"
      ]
     },
     "execution_count": 118,
     "metadata": {},
     "output_type": "execute_result"
    }
   ],
   "source": [
    "# false negative rate\n",
    "\n",
    "fn/(fn+tp)"
   ]
  },
  {
   "cell_type": "code",
   "execution_count": 119,
   "id": "24cccd17",
   "metadata": {},
   "outputs": [
    {
     "data": {
      "text/plain": [
       "0.8170426065162907"
      ]
     },
     "execution_count": 119,
     "metadata": {},
     "output_type": "execute_result"
    }
   ],
   "source": [
    "# accuracy\n",
    "\n",
    "(tp+tn)/(tn + fp + fn + tp)"
   ]
  },
  {
   "cell_type": "code",
   "execution_count": 120,
   "id": "bb2b60ce",
   "metadata": {},
   "outputs": [
    {
     "name": "stdout",
     "output_type": "stream",
     "text": [
      "              precision    recall  f1-score   support\n",
      "\n",
      "           0       0.77      0.98      0.86       237\n",
      "           1       0.95      0.58      0.72       162\n",
      "\n",
      "    accuracy                           0.82       399\n",
      "   macro avg       0.86      0.78      0.79       399\n",
      "weighted avg       0.84      0.82      0.81       399\n",
      "\n"
     ]
    }
   ],
   "source": [
    "print(metrics.classification_report(y_train, y_pred2))"
   ]
  },
  {
   "cell_type": "markdown",
   "id": "5c5ae683",
   "metadata": {},
   "source": [
    "6.\n",
    "\n",
    "Which model performs better on your in-sample data?\n",
    "\n",
    "\n",
    "- Since there is not a high cost to false positive/negative, we can use the f1-score to evaluate the models.  THis means that the first model with a depth of 3 is better at the in-sample data"
   ]
  },
  {
   "cell_type": "markdown",
   "id": "aade64b0",
   "metadata": {},
   "source": [
    "7.\n",
    "\n",
    "Which model performs best on your out-of-sample data, the validate set?"
   ]
  },
  {
   "cell_type": "code",
   "execution_count": 122,
   "id": "ed5eb305",
   "metadata": {},
   "outputs": [],
   "source": [
    "X_validate = validate.drop(columns=['survived'])\n",
    "y_validate = validate.survived"
   ]
  },
  {
   "cell_type": "markdown",
   "id": "35f10873",
   "metadata": {},
   "source": [
    "- model 1"
   ]
  },
  {
   "cell_type": "code",
   "execution_count": 123,
   "id": "083b12c7",
   "metadata": {},
   "outputs": [
    {
     "name": "stdout",
     "output_type": "stream",
     "text": [
      "Accuracy of Decision Tree classifier on validate set: 0.76\n"
     ]
    }
   ],
   "source": [
    "print('Accuracy of Decision Tree classifier on validate set: {:.2f}'\n",
    "     .format(clf.score(X_validate, y_validate)))\n"
   ]
  },
  {
   "cell_type": "code",
   "execution_count": 125,
   "id": "9e9abacb",
   "metadata": {},
   "outputs": [
    {
     "name": "stdout",
     "output_type": "stream",
     "text": [
      "              precision    recall  f1-score   support\n",
      "\n",
      "           0       0.78      0.82      0.80        85\n",
      "           1       0.72      0.66      0.68        58\n",
      "\n",
      "    accuracy                           0.76       143\n",
      "   macro avg       0.75      0.74      0.74       143\n",
      "weighted avg       0.75      0.76      0.75       143\n",
      "\n"
     ]
    }
   ],
   "source": [
    "y_pred = clf.predict(X_validate)\n",
    "\n",
    "print(metrics.classification_report(y_validate, y_pred))"
   ]
  },
  {
   "cell_type": "markdown",
   "id": "f427be11",
   "metadata": {},
   "source": [
    "- model 2"
   ]
  },
  {
   "cell_type": "code",
   "execution_count": 126,
   "id": "c1fff487",
   "metadata": {},
   "outputs": [
    {
     "name": "stdout",
     "output_type": "stream",
     "text": [
      "Accuracy of Decision Tree classifier on validate set: 0.78\n"
     ]
    }
   ],
   "source": [
    "print('Accuracy of Decision Tree classifier on validate set: {:.2f}'\n",
    "     .format(clf2.score(X_validate, y_validate)))\n"
   ]
  },
  {
   "cell_type": "code",
   "execution_count": 127,
   "id": "a3ee4de5",
   "metadata": {},
   "outputs": [
    {
     "name": "stdout",
     "output_type": "stream",
     "text": [
      "              precision    recall  f1-score   support\n",
      "\n",
      "           0       0.73      0.98      0.84        85\n",
      "           1       0.93      0.48      0.64        58\n",
      "\n",
      "    accuracy                           0.78       143\n",
      "   macro avg       0.83      0.73      0.74       143\n",
      "weighted avg       0.82      0.78      0.76       143\n",
      "\n"
     ]
    }
   ],
   "source": [
    "y_pred2 = clf2.predict(X_validate)\n",
    "\n",
    "print(metrics.classification_report(y_validate, y_pred2))"
   ]
  },
  {
   "cell_type": "markdown",
   "id": "f04270a3",
   "metadata": {},
   "source": [
    "Both seem pretty similar. model2 seems like a more precise model when predicting survival, so it would be preferred.  In addition, it's overall f1-score is higher, so it might be an overall good middle ground."
   ]
  },
  {
   "cell_type": "markdown",
   "id": "8b6ff72d",
   "metadata": {},
   "source": [
    "### telco data set"
   ]
  },
  {
   "cell_type": "code",
   "execution_count": 134,
   "id": "15a7fa67",
   "metadata": {},
   "outputs": [],
   "source": [
    "df_telco = a.get_telco_data()\n",
    "telco_train, t_validate, t_test = p.split_telco_data(df_telco)"
   ]
  },
  {
   "cell_type": "code",
   "execution_count": 143,
   "id": "527a173a",
   "metadata": {},
   "outputs": [
    {
     "name": "stdout",
     "output_type": "stream",
     "text": [
      "<class 'pandas.core.frame.DataFrame'>\n",
      "Int64Index: 3937 entries, 2115 to 5182\n",
      "Data columns (total 48 columns):\n",
      " #   Column                                 Non-Null Count  Dtype  \n",
      "---  ------                                 --------------  -----  \n",
      " 0   customer_id                            3937 non-null   object \n",
      " 1   gender                                 3937 non-null   object \n",
      " 2   senior_citizen                         3937 non-null   int64  \n",
      " 3   partner                                3937 non-null   object \n",
      " 4   dependents                             3937 non-null   object \n",
      " 5   tenure                                 3937 non-null   int64  \n",
      " 6   phone_service                          3937 non-null   object \n",
      " 7   multiple_lines                         3937 non-null   object \n",
      " 8   online_security                        3937 non-null   object \n",
      " 9   online_backup                          3937 non-null   object \n",
      " 10  device_protection                      3937 non-null   object \n",
      " 11  tech_support                           3937 non-null   object \n",
      " 12  streaming_tv                           3937 non-null   object \n",
      " 13  streaming_movies                       3937 non-null   object \n",
      " 14  paperless_billing                      3937 non-null   object \n",
      " 15  monthly_charges                        3937 non-null   float64\n",
      " 16  total_charges                          3937 non-null   float64\n",
      " 17  churn                                  3937 non-null   object \n",
      " 18  contract_type                          3937 non-null   object \n",
      " 19  payment_type                           3937 non-null   object \n",
      " 20  internet_service_type                  3937 non-null   object \n",
      " 21  gender_Male                            3937 non-null   uint8  \n",
      " 22  partner_Yes                            3937 non-null   uint8  \n",
      " 23  dependents_Yes                         3937 non-null   uint8  \n",
      " 24  phone_service_Yes                      3937 non-null   uint8  \n",
      " 25  multiple_lines_No phone service        3937 non-null   uint8  \n",
      " 26  multiple_lines_Yes                     3937 non-null   uint8  \n",
      " 27  online_security_No internet service    3937 non-null   uint8  \n",
      " 28  online_security_Yes                    3937 non-null   uint8  \n",
      " 29  online_backup_No internet service      3937 non-null   uint8  \n",
      " 30  online_backup_Yes                      3937 non-null   uint8  \n",
      " 31  device_protection_No internet service  3937 non-null   uint8  \n",
      " 32  device_protection_Yes                  3937 non-null   uint8  \n",
      " 33  tech_support_No internet service       3937 non-null   uint8  \n",
      " 34  tech_support_Yes                       3937 non-null   uint8  \n",
      " 35  streaming_tv_No internet service       3937 non-null   uint8  \n",
      " 36  streaming_tv_Yes                       3937 non-null   uint8  \n",
      " 37  streaming_movies_No internet service   3937 non-null   uint8  \n",
      " 38  streaming_movies_Yes                   3937 non-null   uint8  \n",
      " 39  paperless_billing_Yes                  3937 non-null   uint8  \n",
      " 40  churn_Yes                              3937 non-null   uint8  \n",
      " 41  contract_type_One year                 3937 non-null   uint8  \n",
      " 42  contract_type_Two year                 3937 non-null   uint8  \n",
      " 43  payment_type_Credit card (automatic)   3937 non-null   uint8  \n",
      " 44  payment_type_Electronic check          3937 non-null   uint8  \n",
      " 45  payment_type_Mailed check              3937 non-null   uint8  \n",
      " 46  internet_service_type_Fiber optic      3937 non-null   uint8  \n",
      " 47  internet_service_type_None             3937 non-null   uint8  \n",
      "dtypes: float64(2), int64(2), object(17), uint8(27)\n",
      "memory usage: 780.5+ KB\n"
     ]
    }
   ],
   "source": [
    "telco_train.info()"
   ]
  },
  {
   "cell_type": "markdown",
   "id": "cd6e0386",
   "metadata": {},
   "source": [
    "make a baseline model"
   ]
  },
  {
   "cell_type": "code",
   "execution_count": 136,
   "id": "d4512dfa",
   "metadata": {},
   "outputs": [
    {
     "data": {
      "text/plain": [
       "0.2656845313690627"
      ]
     },
     "execution_count": 136,
     "metadata": {},
     "output_type": "execute_result"
    }
   ],
   "source": [
    "(telco_train.churn == 'Yes').mean()"
   ]
  },
  {
   "cell_type": "code",
   "execution_count": 147,
   "id": "7391d501",
   "metadata": {},
   "outputs": [
    {
     "data": {
      "text/plain": [
       "0       0\n",
       "1       0\n",
       "2       0\n",
       "3       0\n",
       "4       0\n",
       "       ..\n",
       "3932    0\n",
       "3933    0\n",
       "3934    0\n",
       "3935    0\n",
       "3936    0\n",
       "Length: 3937, dtype: int64"
      ]
     },
     "execution_count": 147,
     "metadata": {},
     "output_type": "execute_result"
    }
   ],
   "source": [
    "#most of the customers do not churn. baseline model is no one churns\n",
    "baseline_prediction = telco_train.churn_Yes.value_counts().idxmax()\n",
    "baseline_model = pd.Series([baseline_prediction for x in range(telco_train.shape[0])])\n",
    "baseline_model"
   ]
  },
  {
   "cell_type": "markdown",
   "id": "067229da",
   "metadata": {},
   "source": [
    "baseline prediction is a customer does not churn"
   ]
  },
  {
   "cell_type": "code",
   "execution_count": 149,
   "id": "f4cf3c82",
   "metadata": {},
   "outputs": [
    {
     "name": "stderr",
     "output_type": "stream",
     "text": [
      "/opt/homebrew/anaconda3/lib/python3.9/site-packages/sklearn/metrics/_classification.py:1248: UndefinedMetricWarning: Precision and F-score are ill-defined and being set to 0.0 in labels with no predicted samples. Use `zero_division` parameter to control this behavior.\n",
      "  _warn_prf(average, modifier, msg_start, len(result))\n",
      "/opt/homebrew/anaconda3/lib/python3.9/site-packages/sklearn/metrics/_classification.py:1248: UndefinedMetricWarning: Precision and F-score are ill-defined and being set to 0.0 in labels with no predicted samples. Use `zero_division` parameter to control this behavior.\n",
      "  _warn_prf(average, modifier, msg_start, len(result))\n",
      "/opt/homebrew/anaconda3/lib/python3.9/site-packages/sklearn/metrics/_classification.py:1248: UndefinedMetricWarning: Precision and F-score are ill-defined and being set to 0.0 in labels with no predicted samples. Use `zero_division` parameter to control this behavior.\n",
      "  _warn_prf(average, modifier, msg_start, len(result))\n"
     ]
    },
    {
     "data": {
      "text/html": [
       "<div>\n",
       "<style scoped>\n",
       "    .dataframe tbody tr th:only-of-type {\n",
       "        vertical-align: middle;\n",
       "    }\n",
       "\n",
       "    .dataframe tbody tr th {\n",
       "        vertical-align: top;\n",
       "    }\n",
       "\n",
       "    .dataframe thead th {\n",
       "        text-align: right;\n",
       "    }\n",
       "</style>\n",
       "<table border=\"1\" class=\"dataframe\">\n",
       "  <thead>\n",
       "    <tr style=\"text-align: right;\">\n",
       "      <th></th>\n",
       "      <th>precision</th>\n",
       "      <th>recall</th>\n",
       "      <th>f1-score</th>\n",
       "      <th>support</th>\n",
       "    </tr>\n",
       "  </thead>\n",
       "  <tbody>\n",
       "    <tr>\n",
       "      <th>0</th>\n",
       "      <td>0.734315</td>\n",
       "      <td>1.000000</td>\n",
       "      <td>0.846807</td>\n",
       "      <td>2891.000000</td>\n",
       "    </tr>\n",
       "    <tr>\n",
       "      <th>1</th>\n",
       "      <td>0.000000</td>\n",
       "      <td>0.000000</td>\n",
       "      <td>0.000000</td>\n",
       "      <td>1046.000000</td>\n",
       "    </tr>\n",
       "    <tr>\n",
       "      <th>accuracy</th>\n",
       "      <td>0.734315</td>\n",
       "      <td>0.734315</td>\n",
       "      <td>0.734315</td>\n",
       "      <td>0.734315</td>\n",
       "    </tr>\n",
       "    <tr>\n",
       "      <th>macro avg</th>\n",
       "      <td>0.367158</td>\n",
       "      <td>0.500000</td>\n",
       "      <td>0.423404</td>\n",
       "      <td>3937.000000</td>\n",
       "    </tr>\n",
       "    <tr>\n",
       "      <th>weighted avg</th>\n",
       "      <td>0.539219</td>\n",
       "      <td>0.734315</td>\n",
       "      <td>0.621824</td>\n",
       "      <td>3937.000000</td>\n",
       "    </tr>\n",
       "  </tbody>\n",
       "</table>\n",
       "</div>"
      ],
      "text/plain": [
       "              precision    recall  f1-score      support\n",
       "0              0.734315  1.000000  0.846807  2891.000000\n",
       "1              0.000000  0.000000  0.000000  1046.000000\n",
       "accuracy       0.734315  0.734315  0.734315     0.734315\n",
       "macro avg      0.367158  0.500000  0.423404  3937.000000\n",
       "weighted avg   0.539219  0.734315  0.621824  3937.000000"
      ]
     },
     "execution_count": 149,
     "metadata": {},
     "output_type": "execute_result"
    }
   ],
   "source": [
    "pd.DataFrame(metrics.classification_report(telco_train.churn_Yes, baseline_model, labels = [0, 1], output_dict=True)).T\n"
   ]
  },
  {
   "cell_type": "markdown",
   "id": "a81f6fd0",
   "metadata": {},
   "source": [
    "baseline accuracy is about 0.73"
   ]
  },
  {
   "cell_type": "markdown",
   "id": "7d316fce",
   "metadata": {},
   "source": [
    "make a model and fit it to the data\n"
   ]
  },
  {
   "cell_type": "code",
   "execution_count": 163,
   "id": "61276ad9",
   "metadata": {},
   "outputs": [],
   "source": [
    "X_telco_train = telco_train.select_dtypes(exclude = 'object').drop(columns = 'churn_Yes')\n",
    "y_telco_train = telco_train.churn_Yes\n",
    "\n",
    "clf_telco = DecisionTreeClassifier(max_depth = 2, random_state = 321)\n",
    "\n",
    "cfl_telco = clf_telco.fit(X_telco_train, y_telco_train)"
   ]
  },
  {
   "cell_type": "code",
   "execution_count": 164,
   "id": "06396eb0",
   "metadata": {},
   "outputs": [
    {
     "data": {
      "text/plain": [
       "[Text(418.5, 679.5, 'tenure <= 17.5\\ngini = 0.39\\nsamples = 3937\\nvalue = [2891, 1046]\\nclass = no churn'),\n",
       " Text(209.25, 407.69999999999993, 'internet_service_type_Fiber optic <= 0.5\\ngini = 0.494\\nsamples = 1471\\nvalue = [815, 656]\\nclass = no churn'),\n",
       " Text(104.625, 135.89999999999998, 'gini = 0.419\\nsamples = 883\\nvalue = [619, 264]\\nclass = no churn'),\n",
       " Text(313.875, 135.89999999999998, 'gini = 0.444\\nsamples = 588\\nvalue = [196, 392]\\nclass = churn'),\n",
       " Text(627.75, 407.69999999999993, 'internet_service_type_Fiber optic <= 0.5\\ngini = 0.266\\nsamples = 2466\\nvalue = [2076, 390]\\nclass = no churn'),\n",
       " Text(523.125, 135.89999999999998, 'gini = 0.101\\nsamples = 1381\\nvalue = [1307, 74]\\nclass = no churn'),\n",
       " Text(732.375, 135.89999999999998, 'gini = 0.413\\nsamples = 1085\\nvalue = [769, 316]\\nclass = no churn')]"
      ]
     },
     "execution_count": 164,
     "metadata": {},
     "output_type": "execute_result"
    },
    {
     "data": {
      "image/png": "[encoded data removed]",
      "text/plain": [
       "<Figure size 1080x1080 with 1 Axes>"
      ]
     },
     "metadata": {
      "needs_background": "light"
     },
     "output_type": "display_data"
    }
   ],
   "source": [
    "plt.figure(figsize=(15, 15))\n",
    "plot_tree(clf_telco, feature_names = X_telco_train.columns, class_names = np.array(['no churn', 'churn']), rounded=True)"
   ]
  },
  {
   "cell_type": "code",
   "execution_count": null,
   "id": "b97ec48d",
   "metadata": {},
   "outputs": [],
   "source": [
    "#predict "
   ]
  },
  {
   "cell_type": "code",
   "execution_count": null,
   "id": "04cb8ed3",
   "metadata": {},
   "outputs": [],
   "source": []
  }
 ],
 "metadata": {
  "kernelspec": {
   "display_name": "Python 3 (ipykernel)",
   "language": "python",
   "name": "python3"
  },
  "language_info": {
   "codemirror_mode": {
    "name": "ipython",
    "version": 3
   },
   "file_extension": ".py",
   "mimetype": "text/x-python",
   "name": "python",
   "nbconvert_exporter": "python",
   "pygments_lexer": "ipython3",
   "version": "3.9.7"
  }
 },
 "nbformat": 4,
 "nbformat_minor": 5
}
